{
 "cells": [
  {
   "cell_type": "markdown",
   "metadata": {},
   "source": [
    "![imagen](./img/ejercicios.png)\n",
    "\n",
    "# Ejercicios Clases y Objetos"
   ]
  },
  {
   "attachments": {},
   "cell_type": "markdown",
   "metadata": {},
   "source": [
    "## Ejercicio 1\n",
    "Somos una empresa que tiene varias tiendas de electrodomésticos. Necesitamos un programa para manejar las tiendas, ver las ventas que han tenido, cuántos empleados hay, etc... Para ello vamos a modelizar la tienda en una clase, que tendrá las siguientes características:\n",
    "* Nombre clase: \"Tienda\"\n",
    "* Atributos comunes:\n",
    "    * Tipo: \"Electrodomésticos\"\n",
    "    * Abierta: True\n",
    "* Atributos propios de cada tienda:\n",
    "    * Nombre - String\n",
    "    * Dirección - String\n",
    "    * Número de empleados - int\n",
    "    * Ventas últimos 3 meses - Lista de 3 numeros\n",
    "* Método para calcular las ventas de todos los meses, que devuelva un número con todas las ventas.\n",
    "* Método que calcula la media de ventas de los últimos meses, por empleado\n",
    "* Método que devuelve en un string el nombre de la tienda, junto con su dirección.\n",
    "* Método que obtiene las ventas del último mes.\n",
    "* Método para dar una proyección de las ventas en caso de haber invertido X dinero en marketing en esa tienda. Siendo X el parámetro de entrada. Si X es menor de 1000, las ventas de los ultimos 3 meses hubiesen sido de (1.2 x ventas), si es mayor o igual de 1000, las ventas hubiesen sido de (1.5 x venta). El método reescribe el atributo de ventas en los últimos 3 meses, y además devuelve las ventas con el aumento.\n",
    "\n",
    "Se pide:\n",
    "1. Implementar la clase \"Tienda\"\n",
    "2. Crear tres tiendas con datos inventados\n",
    "3. Comprueba en al menos una de ellas, todo lo implementado en la clase tienda (sus atributos, media de ventas, ventas/empleado...)\n",
    "3. Calcular las ventas del último mes de todas las tiendas. Para ello usa el bucle `for`\n",
    "4. Imprime por pantalla los nombres de las tiendas cuya dirección lleve el string \"Avenida\"\n",
    "5. Seguro que ya has hecho este apartado... Documenta la clase :)"
   ]
  },
  {
   "cell_type": "markdown",
   "metadata": {},
   "source": [
    "## Valoración\n",
    "\n",
    "El código es muy limpio y está muy bien documentado.\n",
    "\n",
    "Es funcional y ejecuta todas las instrucciones que solicita el enunciado acompañado de una representación visual muy limpia, especificando por pantalla qué acción está realizando en qué momento, seguido del resultado.\n",
    "\n",
    "### Algunos comentarios\n",
    "\n",
    "```py\n",
    "def __init__(self, nombre: str, direccion: str, plantilla: int, ventas_3m: list):\n",
    "        self.nombre = nombre # Nombre de la tienda\n",
    "        self.direccion = direccion # Dirección de la tienda\n",
    "        self.plantilla = plantilla # Número de trabajadores en la tienda\n",
    "        self.ventas_3m = ventas_3m # Lista con la suma de las ventas de los tres últimos meses\n",
    "        self.ventas_originales = self.ventas_3m.copy() # Copia de la lista anterior, para poder actuar en ella sin modificar la original. \n",
    "        # Llamada a métodos\n",
    "        self.suma_ventas_meses()\n",
    "        self.media_v_plantilla()\n",
    "        self.nombre_direccion()\n",
    "        self.ventas_mes_3()\n",
    "```\n",
    "Cuando se inicializa una clase, no es necesario llamar a los métodos de la misma (creo).\n",
    "\n",
    "\n",
    "```py\n",
    "def ventas_mes_3(self):\n",
    "        return self.ventas_3m[2]\n",
    "```\n",
    "En ventas_mes_3 una posible mejora sería acceder al último elemento mediante ventas_3m[-1] ya que si por el motivo que fuera modificamos la longitud de la lista, no accederíamos a la información solicitada o incluso estaríamos accediendo a una posición de la lista inexistente\n",
    "\n",
    "\n",
    "```py\n",
    "def ventas_proyeccion(self, X:float):\n",
    "        if X < 1000:\n",
    "            multiplicador = 1.2\n",
    "        else:\n",
    "            multiplicador = 1.5\n",
    "        self.ventas_originales = [venta * multiplicador for venta in self.ventas_originales]\n",
    "        return self.ventas_originales\n",
    "```\n",
    "En ventas_proyección, el enunciado pide que se sobreescriba la lista inicial, por lo que no es necesario crear una copia. Aunque lo considero una buena práctica dependiendo del contexto para no corromper información.\n",
    "\n",
    "# Valoración final: 10/10\n"
   ]
  },
  {
   "cell_type": "code",
   "execution_count": 1,
   "metadata": {},
   "outputs": [],
   "source": [
    "class Tienda:\n",
    "    tipo = \"Electrodomésticos\"\n",
    "    abierta = True\n",
    "    def __init__(self, nombre: str, direccion: str, plantilla: int, ventas_3m: list):\n",
    "        self.nombre = nombre # Nombre de la tienda\n",
    "        self.direccion = direccion # Dirección de la tienda\n",
    "        self.plantilla = plantilla # Número de trabajadores en la tienda\n",
    "        self.ventas_3m = ventas_3m # Lista con la suma de las ventas de los tres últimos meses\n",
    "        self.ventas_originales = self.ventas_3m.copy() # Copia de la lista anterior, para poder actuar en ella sin modificar la original. \n",
    "        # Llamada a métodos\n",
    "        self.suma_ventas_meses()\n",
    "        self.media_v_plantilla()\n",
    "        self.nombre_direccion()\n",
    "        self.ventas_mes_3()\n",
    "\n",
    "    # Calcular venta de todos los meses:\n",
    "    def suma_ventas_meses(self):\n",
    "        return sum(self.ventas_3m)\n",
    "    \n",
    "    # Calcular media de ventas de los últimos meses por empleado:\n",
    "    def media_v_plantilla(self):\n",
    "        return (sum(self.ventas_3m)/len(self.ventas_3m))/self.plantilla\n",
    "    \n",
    "    # Método que devuelve en un string el nombre de la tienda, junto con su dirección.\n",
    "    def nombre_direccion(self):\n",
    "        return self.nombre+\" - \"+self.direccion\n",
    "    \n",
    "    # Método que obtiene las ventas del último mes.\n",
    "    def ventas_mes_3(self):\n",
    "        return self.ventas_3m[2]\n",
    "    \n",
    "    # Método que obtiene la proyección de las ventas en el caso de haber invertido X dinero.\n",
    "    def ventas_proyeccion(self, X:float):\n",
    "        if X < 1000:\n",
    "            multiplicador = 1.2\n",
    "        else:\n",
    "            multiplicador = 1.5\n",
    "        self.ventas_originales = [venta * multiplicador for venta in self.ventas_originales]\n",
    "        return self.ventas_originales\n",
    "\n",
    "tienda1 = Tienda(\"Suministros Flórez\", \"Calle Falsa 123\", 7, [26, 45, 30])\n",
    "tienda2 = Tienda(\"Electrotecnia Esteban\", \"Avenida Falsa 321\", 5, [20, 10, 15])\n",
    "tienda3 = Tienda(\"Todoa100 Narciso\", \"Calle Real 26\", 3, [46, 34, 48])\n",
    "    \n"
   ]
  },
  {
   "cell_type": "code",
   "execution_count": 2,
   "metadata": {},
   "outputs": [
    {
     "name": "stdout",
     "output_type": "stream",
     "text": [
      "Calcular la venta de todos los meses de cada una de las tiendas:\n",
      "La tienda Suministros Flórez ha tenido unas ventas de 101 electrodomésticos en los últimos 3 meses\n",
      "La tienda Electrotecnia Esteban ha tenido unas ventas de 45 electrodomésticos en los últimos 3 meses\n",
      "La tienda Todoa100 Narciso ha tenido unas ventas de 128 electrodomésticos en los últimos 3 meses\n"
     ]
    }
   ],
   "source": [
    "print(\"Calcular la venta de todos los meses de cada una de las tiendas:\")\n",
    "print(f\"La tienda {tienda1.nombre} ha tenido unas ventas de {tienda1.suma_ventas_meses()} {tienda1.tipo.lower()} en los últimos 3 meses\")\n",
    "print(f\"La tienda {tienda2.nombre} ha tenido unas ventas de {tienda2.suma_ventas_meses()} {tienda2.tipo.lower()} en los últimos 3 meses\")\n",
    "print(f\"La tienda {tienda3.nombre} ha tenido unas ventas de {tienda3.suma_ventas_meses()} {tienda3.tipo.lower()} en los últimos 3 meses\")"
   ]
  },
  {
   "cell_type": "code",
   "execution_count": 3,
   "metadata": {},
   "outputs": [
    {
     "name": "stdout",
     "output_type": "stream",
     "text": [
      "Calcular media de ventas de los últimos meses por empleado:\n",
      "La tienda Suministros Flórez tiene una media de 4.81 ventas por empleado, que tiene 7, en los últimos 3 meses\n",
      "La tienda Electrotecnia Esteban tiene una media de 3.0 ventas por empleado, que tiene 5, en los últimos 3 meses\n",
      "La tienda Todoa100 Narciso tiene una media de 14.22 ventas por empleado, que tiene 3, en los últimos 3 meses\n"
     ]
    }
   ],
   "source": [
    "print(\"Calcular media de ventas de los últimos meses por empleado:\")\n",
    "print(f\"La tienda {tienda1.nombre} tiene una media de {round(tienda1.media_v_plantilla(),2)} ventas por empleado, que tiene {tienda1.plantilla}, en los últimos 3 meses\")\n",
    "print(f\"La tienda {tienda2.nombre} tiene una media de {round(tienda2.media_v_plantilla(),2)} ventas por empleado, que tiene {tienda2.plantilla}, en los últimos 3 meses\")\n",
    "print(f\"La tienda {tienda3.nombre} tiene una media de {round(tienda3.media_v_plantilla(),2)} ventas por empleado, que tiene {tienda3.plantilla}, en los últimos 3 meses\")"
   ]
  },
  {
   "cell_type": "code",
   "execution_count": 4,
   "metadata": {},
   "outputs": [
    {
     "name": "stdout",
     "output_type": "stream",
     "text": [
      "Devolver en un string el nombre de la tienda, junto con su dirección:\n",
      "Suministros Flórez - Calle Falsa 123\n",
      "Electrotecnia Esteban - Avenida Falsa 321\n",
      "Todoa100 Narciso - Calle Real 26\n"
     ]
    }
   ],
   "source": [
    "print(\"Devolver en un string el nombre de la tienda, junto con su dirección:\")\n",
    "print(tienda1.nombre_direccion())\n",
    "print(tienda2.nombre_direccion())\n",
    "print(tienda3.nombre_direccion())\n"
   ]
  },
  {
   "cell_type": "code",
   "execution_count": 5,
   "metadata": {},
   "outputs": [
    {
     "name": "stdout",
     "output_type": "stream",
     "text": [
      "Obtener ventas del tercer mes:\n",
      "En el tercer mes la tiendas Suministros Flórez tuvo unas ventas de 30 electrodomésticos\n",
      "En el tercer mes la tiendas Electrotecnia Esteban tuvo unas ventas de 15 electrodomésticos\n",
      "En el tercer mes la tiendas Todoa100 Narciso tuvo unas ventas de 48 electrodomésticos\n"
     ]
    }
   ],
   "source": [
    "print(\"Obtener ventas del tercer mes:\")\n",
    "print(f\"En el tercer mes la tiendas {tienda1.nombre} tuvo unas ventas de {tienda1.ventas_mes_3()} {tienda1.tipo.lower()}\")\n",
    "print(f\"En el tercer mes la tiendas {tienda2.nombre} tuvo unas ventas de {tienda2.ventas_mes_3()} {tienda2.tipo.lower()}\")\n",
    "print(f\"En el tercer mes la tiendas {tienda3.nombre} tuvo unas ventas de {tienda3.ventas_mes_3()} {tienda3.tipo.lower()}\")"
   ]
  },
  {
   "cell_type": "code",
   "execution_count": 6,
   "metadata": {},
   "outputs": [
    {
     "name": "stdout",
     "output_type": "stream",
     "text": [
      "Devuelve la proyección de ventas con X inversión en marketing:\n",
      "Con una inversión de 1200 la proyección de ventas por mes habría sido:\n",
      "\n",
      "Suministros Flórez\n",
      "[39.0, 67.5, 45.0]\n",
      "Un total proyectado de 227.25 en los tres meses.\n",
      "\n",
      "Electrotecnia Esteban\n",
      "[30.0, 15.0, 22.5]\n",
      "Un total proyectado de 101.25 en los tres meses.\n",
      "\n",
      "Todoa100 Narciso\n",
      "[69.0, 51.0, 72.0]\n",
      "Un total proyectado de 288.0 en los tres meses.\n",
      "\n"
     ]
    }
   ],
   "source": [
    "print(\"Devuelve la proyección de ventas con X inversión en marketing:\")\n",
    "X = 1200\n",
    "print(f\"Con una inversión de {X} la proyección de ventas por mes habría sido:\")\n",
    "print()\n",
    "print(f\"{tienda1.nombre}\\n{tienda1.ventas_proyeccion(X)}\\nUn total proyectado de {sum(tienda1.ventas_proyeccion(X))} en los tres meses.\\n\")\n",
    "print(f\"{tienda2.nombre}\\n{tienda2.ventas_proyeccion(X)}\\nUn total proyectado de {sum(tienda2.ventas_proyeccion(X))} en los tres meses.\\n\")\n",
    "print(f\"{tienda3.nombre}\\n{tienda3.ventas_proyeccion(X)}\\nUn total proyectado de {sum(tienda3.ventas_proyeccion(X))} en los tres meses.\\n\")"
   ]
  },
  {
   "cell_type": "code",
   "execution_count": 7,
   "metadata": {},
   "outputs": [
    {
     "name": "stdout",
     "output_type": "stream",
     "text": [
      "Muestra las ventas de todas las tiendas en el último mes:\n",
      "\n",
      "Ventas del último mes en todas las tiendas: 93\n"
     ]
    }
   ],
   "source": [
    "print(\"Muestra las ventas de todas las tiendas en el último mes:\\n\")\n",
    "# Hay que unir las listas en una.\n",
    "tiendas = [tienda1, tienda2, tienda3]\n",
    "ventas_ultimo_mes_tiendas = []\n",
    "\n",
    "for tienda in tiendas:\n",
    "    ventas_ultimo_mes = tienda.ventas_3m[-1]\n",
    "    ventas_ultimo_mes_tiendas.append(ventas_ultimo_mes)\n",
    "print(f\"Ventas del último mes en todas las tiendas: {sum(ventas_ultimo_mes_tiendas)}\")"
   ]
  },
  {
   "cell_type": "code",
   "execution_count": 8,
   "metadata": {},
   "outputs": [
    {
     "name": "stdout",
     "output_type": "stream",
     "text": [
      "Imprime por pantalla los nombres de las tiendas cuya dirección lleve el string 'Avenida'\n",
      "\n",
      "Electrotecnia Esteban está en Avenida Falsa 321\n"
     ]
    }
   ],
   "source": [
    "print(\"Imprime por pantalla los nombres de las tiendas cuya dirección lleve el string 'Avenida'\\n\")\n",
    "\n",
    "for tienda in tiendas:\n",
    "    if \"avenida\" in tienda.direccion.lower():\n",
    "        print(tienda.nombre,\"está en\",tienda.direccion)"
   ]
  },
  {
   "cell_type": "code",
   "execution_count": 9,
   "metadata": {},
   "outputs": [
    {
     "name": "stdout",
     "output_type": "stream",
     "text": [
      "None\n"
     ]
    }
   ],
   "source": [
    "print(Tienda.__doc__)"
   ]
  },
  {
   "cell_type": "markdown",
   "metadata": {},
   "source": [
    "## Ejercicio 2\n",
    "En este ejercicio vamos a implementar una clase *Perro* en Python. La clase tiene las siguientes características:\n",
    "* Cosas que sabemos seguro que tiene un perro\n",
    "    * Tiene 4 patas\n",
    "    * 2 orejas\n",
    "    * 2 ojos\n",
    "    * Una velocidad de 0. Por defecto, el perro está parado\n",
    "* Cuando se inicialice:\n",
    "    * El perro será de una determinada raza\n",
    "    * Por defecto tendrá pelo \"Marrón\", a no ser que se diga lo contrario.\n",
    "    * Por defecto no tendrá dueño, a no ser que se diga lo contrario.\n",
    "    \n",
    "* Dispondrá también de un método llamado andar, que tiene un argumento de entrada (aumento_velocidad). Este valor se le sumará a la velocidad que ya llevaba el perro.\n",
    "* Necesita otro método (parar), donde pondremos la velocidad a 0.\n",
    "* Otro método llamado \"ladrar\", que tendrá un argumento de entrada, y la salida será el siguiente string: \"GUAU!\" + el argumento de entrada.\n",
    "\n",
    "\n",
    "Se pide:\n",
    "* Implementa la clase *Perro*\n",
    "* Crea un objeto de tipo *Perro*, sin dueño\n",
    "* Comprueba que están bien todos sus atributos\n",
    "* Prueba que ande, y comprueba su velocidad\n",
    "* Páralo\n",
    "* Documenta la clase *Perro*"
   ]
  },
  {
   "cell_type": "markdown",
   "metadata": {},
   "source": [
    "## Valoración\n",
    "\n",
    "El código es muy limpio y está muy bien documentado.\n",
    "\n",
    "Es funcional y ejecuta todas las instrucciones que solicita el enunciado acompañado de una representación visual muy limpia, especificando por pantalla qué acción está realizando en qué momento, seguido del resultado. \n",
    "\n",
    "Exactamente igual que en el primer ejercicio.\n",
    "\n",
    "### Algunos comentarios\n",
    "\n",
    "```py\n",
    "class Perro:\n",
    "    # Atributos fijos\n",
    "    patas = 4\n",
    "    orejas = 2\n",
    "    ojos = 2\n",
    "\n",
    "    # Atributos variables\n",
    "    def __init__(self, raza, color=\"Marrón\", velocidad=0, dueño=False):\n",
    "        self.raza = raza\n",
    "        self.color = color\n",
    "        self.velocidad = 0\n",
    "        self.dueño = dueño\n",
    "        # Implementación de los diferentes métodos en las variables (así responden)\n",
    "        self.aumento_velocidad()\n",
    "        self.parar()\n",
    "        #self.ladrar()\n",
    "    # Métodos:\n",
    "    def aumento_velocidad(self):\n",
    "        self.velocidad = self.velocidad + 1\n",
    "    def parar(self):\n",
    "        self.velocidad = 0\n",
    "    def ladrar(self, mensaje=\"\"):\n",
    "        print(f\"¡Guau! {mensaje}\")\n",
    "\n",
    "```\n",
    "Según el enunciado, `velocidad = 0` es un atributo común a todos los perros, por lo que sería más correcto incluirlo en la declaración de atributos fijos.\n",
    "\n",
    "```py\n",
    "def aumento_velocidad(self):\n",
    "        self.velocidad = self.velocidad + 1\n",
    "```\n",
    "\n",
    "Segñun el enunciado, aumento_velocidad necesita un parámetro de entrada que modifica la velocidad del perro al valor asignado, no de uno en uno.\n",
    "\n",
    "# Valoración final: 9,5/10\n"
   ]
  },
  {
   "cell_type": "code",
   "execution_count": 10,
   "metadata": {},
   "outputs": [],
   "source": [
    "class Perro:\n",
    "    '''\n",
    "    Para este ejercicio hay que implementar la clase Perro.\n",
    "    Esta clase tiene los siguientes atributos fijos, que se repetirán por defecto en cada uno de los \"perros\" que añadamos:\n",
    "    patas = 4\n",
    "    orejas = 2\n",
    "    ojos = 2\n",
    "    Después, dentro del __init__ hay que poner los atributos que varíen con cada \"perro\", hay tres por defecto:\n",
    "    velocidad = 0 (el perro está parado)\n",
    "    color_pelo = Marrón (Si no se introduce el color del pelaje, este tendrá un valor de \"Marrón\")\n",
    "    dueño = False (Si no se dice lo contrario, los perros introducidos no tendrán dueño)\n",
    "    Hay otro atributo, raza, que el usuario debe introducir a la hora de añadir un nuevo \"perro\", ya que este sí varía.\n",
    "    '''\n",
    "    # Atributos fijos\n",
    "    patas = 4\n",
    "    orejas = 2\n",
    "    ojos = 2\n",
    "\n",
    "    # Atributos variables\n",
    "    def __init__(self, raza, color=\"Marrón\", velocidad=0, dueño=False):\n",
    "        self.raza = raza\n",
    "        self.color = color\n",
    "        self.velocidad = 0\n",
    "        self.dueño = dueño\n",
    "        # Implementación de los diferentes métodos en las variables (así responden)\n",
    "        self.aumento_velocidad()\n",
    "        self.parar()\n",
    "        #self.ladrar()\n",
    "    # Métodos:\n",
    "    def aumento_velocidad(self):\n",
    "        self.velocidad = self.velocidad + 1\n",
    "    def parar(self):\n",
    "        self.velocidad = 0\n",
    "    def ladrar(self, mensaje=\"\"):\n",
    "        print(f\"¡Guau! {mensaje}\")\n",
    "\n",
    "# Perros\n",
    "labrador = Perro(\"Labrador\")\n",
    "\n",
    "\n"
   ]
  },
  {
   "cell_type": "code",
   "execution_count": 11,
   "metadata": {},
   "outputs": [
    {
     "name": "stdout",
     "output_type": "stream",
     "text": [
      "Atributos del Labrador\n",
      "-------------------------\n",
      "Raza: Labrador\n",
      "Número de patas: 4\n",
      "Número de orejas: 2\n",
      "Número de ojos: 2\n",
      "Color del pelaje: Marrón\n",
      "¿Tiene dueño? False\n",
      "Velocidad actual: 0\n",
      "\n",
      "Modo diccionario: {'raza': 'Labrador', 'color': 'Marrón', 'velocidad': 0, 'dueño': False}\n",
      "\n",
      "Prueba de velocidad:\n",
      "\n",
      "La velocidad actual del labrador es 1\n",
      "La velocidad actual del labrador es 2\n",
      "La velocidad actual del labrador es 3\n",
      "\n",
      "Prueba de frenar:\n",
      "\n",
      "La velocidad actual del labrador es 0\n",
      "\n",
      "Prueba de ladrido:\n",
      "\n",
      "¡Guau! Eso fue rápido\n"
     ]
    }
   ],
   "source": [
    "# Atributos\n",
    "print(f\"Atributos del {labrador.raza}\")\n",
    "print(\"-\"*25)\n",
    "print(f\"Raza: {labrador.raza}\")\n",
    "print(f\"Número de patas: {labrador.patas}\")\n",
    "print(f\"Número de orejas: {labrador.orejas}\")\n",
    "print(f\"Número de ojos: {labrador.ojos}\")\n",
    "print(f\"Color del pelaje: {labrador.color}\")\n",
    "print(f\"¿Tiene dueño? {labrador.dueño}\")\n",
    "print(f\"Velocidad actual: {labrador.velocidad}\")\n",
    "\n",
    "\n",
    "print(f\"\\nModo diccionario: {labrador.__dict__}\")\n",
    "\n",
    "print(f\"\\nPrueba de velocidad:\\n\")\n",
    "labrador.aumento_velocidad()\n",
    "print(\"La velocidad actual del labrador es\",labrador.velocidad)\n",
    "labrador.aumento_velocidad()\n",
    "print(\"La velocidad actual del labrador es\",labrador.velocidad)\n",
    "labrador.aumento_velocidad()\n",
    "print(\"La velocidad actual del labrador es\",labrador.velocidad)\n",
    "print(f\"\\nPrueba de frenar:\\n\")\n",
    "labrador.parar()\n",
    "print(\"La velocidad actual del labrador es\",labrador.velocidad)\n",
    "print(f\"\\nPrueba de ladrido:\\n\")\n",
    "labrador.ladrar(\"Eso fue rápido\")"
   ]
  },
  {
   "cell_type": "code",
   "execution_count": 44,
   "metadata": {},
   "outputs": [
    {
     "name": "stdout",
     "output_type": "stream",
     "text": [
      "\n",
      "    Para este ejercicio hay que implementar la clase Perro.\n",
      "    Esta clase tiene los siguientes atributos fijos, que se repetirán por defecto en cada uno de los \"perros\" que añadamos:\n",
      "    patas = 4\n",
      "    orejas = 2\n",
      "    ojos = 2\n",
      "    Después, dentro del __init__ hay que poner los atributos que varíen con cada \"perro\", hay tres por defecto:\n",
      "    velocidad = 0 (el perro está parado)\n",
      "    color_pelo = Marrón (Si no se introduce el color del pelaje, este tendrá un valor de \"Marrón\")\n",
      "    dueño = False (Si no se dice lo contrario, los perros introducidos no tendrán dueño)\n",
      "    Hay otro atributo, raza, que el usuario debe introducir a la hora de añadir un nuevo \"perro\", ya que este sí varía.\n",
      "    \n",
      "None\n"
     ]
    }
   ],
   "source": [
    "# Documentar la clase \"Perro\"\n",
    "\n",
    "print(Perro.__doc__)\n",
    "print(Perro.__init__.__doc__)"
   ]
  },
  {
   "cell_type": "markdown",
   "metadata": {},
   "source": [
    "*Francisco Olivenza Millón*"
   ]
  }
 ],
 "metadata": {
  "kernelspec": {
   "display_name": "Python 3",
   "language": "python",
   "name": "python3"
  },
  "language_info": {
   "codemirror_mode": {
    "name": "ipython",
    "version": 3
   },
   "file_extension": ".py",
   "mimetype": "text/x-python",
   "name": "python",
   "nbconvert_exporter": "python",
   "pygments_lexer": "ipython3",
   "version": "3.11.9"
  }
 },
 "nbformat": 4,
 "nbformat_minor": 4
}
