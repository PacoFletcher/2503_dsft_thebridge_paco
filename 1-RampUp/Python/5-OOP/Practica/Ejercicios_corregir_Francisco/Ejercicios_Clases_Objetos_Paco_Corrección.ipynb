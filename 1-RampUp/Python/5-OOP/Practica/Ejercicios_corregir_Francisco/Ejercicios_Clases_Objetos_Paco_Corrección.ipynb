{
 "cells": [
  {
   "cell_type": "markdown",
   "metadata": {},
   "source": [
    "![imagen](./img/ejercicios.png)\n",
    "\n",
    "# Ejercicios Clases y Objetos"
   ]
  },
  {
   "attachments": {},
   "cell_type": "markdown",
   "metadata": {},
   "source": [
    "## Ejercicio 1\n",
    "Somos una empresa que tiene varias tiendas de electrodomésticos. Necesitamos un programa para manejar las tiendas, ver las ventas que han tenido, cuántos empleados hay, etc... Para ello vamos a modelizar la tienda en una clase, que tendrá las siguientes características:\n",
    "* Nombre clase: \"Tienda\"\n",
    "* Atributos comunes:\n",
    "    * Tipo: \"Electrodomésticos\"\n",
    "    * Abierta: True\n",
    "* Atributos propios de cada tienda:\n",
    "    * Nombre - String\n",
    "    * Dirección - String\n",
    "    * Número de empleados - int\n",
    "    * Ventas últimos 3 meses - Lista de 3 numeros\n",
    "* Método para calcular las ventas de todos los meses, que devuelva un número con todas las ventas.\n",
    "* Método que calcula la media de ventas de los últimos meses, por empleado\n",
    "* Método que devuelve en un string el nombre de la tienda, junto con su dirección.\n",
    "* Método que obtiene las ventas del último mes.\n",
    "* Método para dar una proyección de las ventas en caso de haber invertido X dinero en marketing en esa tienda. Siendo X el parámetro de entrada. Si X es menor de 1000, las ventas de los ultimos 3 meses hubiesen sido de (1.2 x ventas), si es mayor o igual de 1000, las ventas hubiesen sido de (1.5 x venta). El método reescribe el atributo de ventas en los últimos 3 meses, y además devuelve las ventas con el aumento.\n",
    "\n",
    "Se pide:\n",
    "1. Implementar la clase \"Tienda\"\n",
    "2. Crear tres tiendas con datos inventados\n",
    "3. Comprueba en al menos una de ellas, todo lo implementado en la clase tienda (sus atributos, media de ventas, ventas/empleado...)\n",
    "3. Calcular las ventas del último mes de todas las tiendas. Para ello usa el bucle `for`\n",
    "4. Imprime por pantalla los nombres de las tiendas cuya dirección lleve el string \"Avenida\"\n",
    "5. Seguro que ya has hecho este apartado... Documenta la clase :)"
   ]
  },
  {
   "cell_type": "code",
   "execution_count": 8,
   "metadata": {},
   "outputs": [],
   "source": [
    "class tienda:\n",
    "    tipo = \"Electrodomésticos\"\n",
    "    abierta = True\n",
    "    pass ## ¿Por qué este pass?\n",
    "\n",
    "    # Implementamos los métodos que solicita el enunciado\n",
    "\n",
    "    # Suma de todas las ventas de una determinada tienda\n",
    "    def ventas(self):\n",
    "        return sum(self.vend)\n",
    "\n",
    "    # Suma de las ventas de una tienda dividido entre el número de meses (en este caso 3)\n",
    "    ## Entre el número de empleados\n",
    "    def media(self):\n",
    "        return ventas(self)/len(self.vend) ## ventas es vend, para hallar la media hay que sumar todos los meses y luego dividir entre el número de meses.\n",
    "\n",
    "    # Unificamos el nombre y la dirección de la tienda en un solo string\n",
    "    def nombre_direcc(self):\n",
    "        return self.nombre + ' ' + self.direc\n",
    "\n",
    "    # Accedemos a las ventas del último mes\n",
    "    def ultimo(self):\n",
    "        return self.vend[-1]\n",
    "\n",
    "    # Siguiendo la casuística, predecimos el número de ventas en función de la inversión realizada\n",
    "    def predic(self, x):\n",
    "        if x < 1000:\n",
    "            for i in range(len(self.vend)):\n",
    "                self.vend[i] = self.vend[i]*1.2\n",
    "        else:\n",
    "            for i in range(len(self.vend)):\n",
    "                self.vend[i] = self.vend[i]*1.5\n",
    "        return self.vend\n",
    "\n",
    "# Creamos tres tiendas con los atributos predeterminados\n",
    "t1 = tienda()\n",
    "t2 = tienda()\n",
    "t3 = tienda()\n",
    "\n",
    "# Añadimos el atributo nombre\n",
    "t1.nombre = \"Giga\"\n",
    "t2.nombre = \"Mega\"\n",
    "t3.nombre = \"Kilo\"\n",
    "\n",
    "# Añadimos el atributo dirección\n",
    "t1.direc = \"Avenida Gora\"\n",
    "t2.direc = \"Calle Arte\"\n",
    "t3.direc = \"Paseo Behen\"\n",
    "\n",
    "# Añadimos el atributo empleados\n",
    "t1.emp = 30\n",
    "t2.emp = 20\n",
    "t3.emp = 10\n",
    "\n",
    "# Añadimos el atributo ventas últimos 3 meses\n",
    "t1.vend = [90,80,110]\n",
    "t2.vend = [50, 60, 70]\n",
    "t3.vend = [30,20,40]"
   ]
  },
  {
   "cell_type": "code",
   "execution_count": 3,
   "metadata": {},
   "outputs": [],
   "source": [
    "# Para acceder más cómodamente a la información, agrupamos las tiendas en una lista\n",
    "conjunto = [t1,t2,t3]"
   ]
  },
  {
   "cell_type": "code",
   "execution_count": 4,
   "metadata": {},
   "outputs": [
    {
     "data": {
      "text/plain": [
       "110"
      ]
     },
     "execution_count": 4,
     "metadata": {},
     "output_type": "execute_result"
    }
   ],
   "source": [
    "t1.ultimo() ## Media rota, razón arriba"
   ]
  },
  {
   "cell_type": "code",
   "execution_count": 5,
   "metadata": {},
   "outputs": [
    {
     "name": "stdout",
     "output_type": "stream",
     "text": [
      "Tipo: Electrodomésticos\n",
      "Abierta: True\n",
      "Nombre: Giga\n",
      "Dirección: Avenida Gora\n",
      "Número de empleados: 30\n",
      "Ventas en los últimos 3 meses: [90, 80, 110]\n"
     ]
    }
   ],
   "source": [
    "# Comprobamos que los atributos se han añadido correctamente\n",
    "print(\"Tipo:\",t1.tipo)\n",
    "print(\"Abierta:\",t1.abierta)\n",
    "print(\"Nombre:\",t1.nombre)\n",
    "print(\"Dirección:\",t1.direc)\n",
    "print(\"Número de empleados:\",t1.emp)\n",
    "print(\"Ventas en los últimos 3 meses:\", t1.vend)"
   ]
  },
  {
   "cell_type": "code",
   "execution_count": 6,
   "metadata": {},
   "outputs": [
    {
     "ename": "NameError",
     "evalue": "name 'ultimo' is not defined",
     "output_type": "error",
     "traceback": [
      "\u001b[31m---------------------------------------------------------------------------\u001b[39m",
      "\u001b[31mNameError\u001b[39m                                 Traceback (most recent call last)",
      "\u001b[36mCell\u001b[39m\u001b[36m \u001b[39m\u001b[32mIn[6]\u001b[39m\u001b[32m, line 4\u001b[39m\n\u001b[32m      2\u001b[39m suma = \u001b[32m0\u001b[39m\n\u001b[32m      3\u001b[39m \u001b[38;5;28;01mfor\u001b[39;00m i \u001b[38;5;129;01min\u001b[39;00m conjunto:\n\u001b[32m----> \u001b[39m\u001b[32m4\u001b[39m     suma += \u001b[43multimo\u001b[49m(i) \u001b[38;5;66;03m## ultimo no definido\u001b[39;00m\n\u001b[32m      5\u001b[39m \u001b[38;5;28mprint\u001b[39m(suma)\n",
      "\u001b[31mNameError\u001b[39m: name 'ultimo' is not defined"
     ]
    }
   ],
   "source": [
    "# Sumamos las ventas del último mes\n",
    "suma = 0\n",
    "for i in conjunto:\n",
    "    suma += ultimo(i) ## ultimo no definido\n",
    "print(suma)"
   ]
  },
  {
   "cell_type": "code",
   "execution_count": 7,
   "metadata": {},
   "outputs": [
    {
     "name": "stdout",
     "output_type": "stream",
     "text": [
      "Giga\n"
     ]
    }
   ],
   "source": [
    "# Recorremos las diferentes tiendas y buscamos la palabra \"Avenida\" en su atributo dirección\n",
    "for i in conjunto:\n",
    "    if \"Avenida\" in i.direc:\n",
    "        print(i.nombre)"
   ]
  },
  {
   "cell_type": "markdown",
   "metadata": {},
   "source": [
    "Medias no funciona. Valor equivocado \"Ventas\" dentro del método. Está llamando a un método dentro de otro.\n",
    "Ventas último mes no funciona. Valor equivocado \"ultimo\" dentro del método. Está llamando a un método dentro de otro.\n",
    "Faltan las predicciones de venta.\n",
    "No documentado.\n",
    "\n"
   ]
  },
  {
   "cell_type": "code",
   "execution_count": null,
   "metadata": {},
   "outputs": [],
   "source": []
  },
  {
   "cell_type": "code",
   "execution_count": null,
   "metadata": {},
   "outputs": [],
   "source": []
  },
  {
   "cell_type": "code",
   "execution_count": null,
   "metadata": {},
   "outputs": [],
   "source": []
  },
  {
   "cell_type": "code",
   "execution_count": null,
   "metadata": {},
   "outputs": [],
   "source": []
  },
  {
   "cell_type": "code",
   "execution_count": null,
   "metadata": {},
   "outputs": [],
   "source": []
  },
  {
   "cell_type": "code",
   "execution_count": null,
   "metadata": {},
   "outputs": [],
   "source": []
  },
  {
   "cell_type": "markdown",
   "metadata": {},
   "source": [
    "## Ejercicio 2\n",
    "En este ejercicio vamos a implementar una clase *Perro* en Python. La clase tiene las siguientes características:\n",
    "* Cosas que sabemos seguro que tiene un perro\n",
    "    * Tiene 4 patas\n",
    "    * 2 orejas\n",
    "    * 2 ojos\n",
    "    * Una velocidad de 0. Por defecto, el perro está parado\n",
    "* Cuando se inicialice:\n",
    "    * El perro será de una determinada raza\n",
    "    * Por defecto tendrá pelo \"Marrón\", a no ser que se diga lo contrario.\n",
    "    * Por defecto no tendrá dueño, a no ser que se diga lo contrario.\n",
    "    \n",
    "* Dispondrá también de un método llamado andar, que tiene un argumento de entrada (aumento_velocidad). Este valor se le sumará a la velocidad que ya llevaba el perro.\n",
    "* Necesita otro método (parar), donde pondremos la velocidad a 0.\n",
    "* Otro método llamado \"ladrar\", que tendrá un argumento de entrada, y la salida será el siguiente string: \"GUAU!\" + el argumento de entrada.\n",
    "\n",
    "\n",
    "Se pide:\n",
    "* Implementa la clase *Perro*\n",
    "* Crea un objeto de tipo *Perro*, sin dueño\n",
    "* Comprueba que están bien todos sus atributos\n",
    "* Prueba que ande, y comprueba su velocidad\n",
    "* Páralo\n",
    "* Documenta la clase *Perro*"
   ]
  },
  {
   "cell_type": "code",
   "execution_count": 30,
   "metadata": {},
   "outputs": [],
   "source": [
    "# Creamos la clase perro con los atributos predeterminados\n",
    "class perro:\n",
    "    patas = 4\n",
    "    orejas = 2\n",
    "    ojos = 2\n",
    "    velocidad = 0\n",
    "\n",
    "\n",
    "    # Creamos un método para asignar nuevos atributos a la clase\n",
    "    def __init__(self, raza, pelo = \"Marrón\", duenyo = False):\n",
    "        self.raza = raza\n",
    "        self.pelo = pelo\n",
    "        self.duenyo = duenyo\n",
    "\n",
    "    # El perro se pone a caminar\n",
    "    def andar(self, aumento_velocidad):\n",
    "        self.velocidad += aumento_velocidad\n",
    "        return self.velocidad\n",
    "\n",
    "    # El perro se detiene\n",
    "    def para(self):\n",
    "        self.velocidad = 0\n",
    "        return self.velocidad\n",
    "\n",
    "\n",
    "    # El perro ladra\n",
    "    def ladrar(self, x): ## Falta definir lo que es la x, es \"x=\"\"\" para que se pueda introducir un string\n",
    "        return \"GUAU!\" + x"
   ]
  },
  {
   "cell_type": "code",
   "execution_count": 31,
   "metadata": {},
   "outputs": [
    {
     "name": "stdout",
     "output_type": "stream",
     "text": [
      "4\n",
      "2\n",
      "2\n",
      "0\n",
      "Border collie\n",
      "Marrón\n",
      "False\n"
     ]
    }
   ],
   "source": [
    "# En este caso solo se requiere especificar la raza, \n",
    "# el resto de atributos tiene un valor por defecto que se puede modificar  \n",
    "# si se desea\n",
    "cachorro = perro(\"Border collie\")\n",
    "\n",
    "# Comprobamos que el objeto se ha creado correctamente\n",
    "print(cachorro.patas)\n",
    "print(cachorro.orejas)\n",
    "print(cachorro.ojos)\n",
    "print(cachorro.velocidad)\n",
    "print(cachorro.raza)\n",
    "print(cachorro.pelo)\n",
    "print(cachorro.duenyo)\n",
    "\n",
    "# Como hemos comprobado, por defecto el perro no tiene dueño\n",
    "\n"
   ]
  },
  {
   "cell_type": "code",
   "execution_count": 32,
   "metadata": {},
   "outputs": [
    {
     "name": "stdout",
     "output_type": "stream",
     "text": [
      "3\n"
     ]
    }
   ],
   "source": [
    "# Llamamos al método andar y comprobamos que se ha modificado el atributo\n",
    "cachorro.andar(3)\n",
    "print(cachorro.velocidad)"
   ]
  },
  {
   "cell_type": "code",
   "execution_count": 33,
   "metadata": {},
   "outputs": [
    {
     "name": "stdout",
     "output_type": "stream",
     "text": [
      "0\n"
     ]
    }
   ],
   "source": [
    "# Llamamos al método para y comprobamos que la velocidad vale 0\n",
    "cachorro.para()\n",
    "print(cachorro.velocidad)"
   ]
  },
  {
   "cell_type": "code",
   "execution_count": 36,
   "metadata": {},
   "outputs": [
    {
     "data": {
      "text/plain": [
       "'GUAU!'"
      ]
     },
     "execution_count": 36,
     "metadata": {},
     "output_type": "execute_result"
    }
   ],
   "source": [
    "cachorro.ladrar(\"\")"
   ]
  },
  {
   "cell_type": "markdown",
   "metadata": {},
   "source": [
    "Está todo bien, solo faltaba documentar y aclarar el valor de la x en ladrar."
   ]
  },
  {
   "cell_type": "markdown",
   "metadata": {},
   "source": [
    "Valoración numérica: 7,5\n",
    "\n",
    "Valoración textual: Notable \n",
    "\n",
    "Valoración en caritas sonrientes: ☺☺☺"
   ]
  }
 ],
 "metadata": {
  "kernelspec": {
   "display_name": "Python 3",
   "language": "python",
   "name": "python3"
  },
  "language_info": {
   "codemirror_mode": {
    "name": "ipython",
    "version": 3
   },
   "file_extension": ".py",
   "mimetype": "text/x-python",
   "name": "python",
   "nbconvert_exporter": "python",
   "pygments_lexer": "ipython3",
   "version": "3.11.9"
  }
 },
 "nbformat": 4,
 "nbformat_minor": 4
}
