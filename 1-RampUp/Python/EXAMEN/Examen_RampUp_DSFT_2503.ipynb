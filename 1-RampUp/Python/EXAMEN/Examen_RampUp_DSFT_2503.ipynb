{
 "cells": [
  {
   "cell_type": "markdown",
   "metadata": {},
   "source": [
    "# Test RAMP UP DS-FT Marzo 2025"
   ]
  },
  {
   "cell_type": "markdown",
   "metadata": {},
   "source": [
    "Antes de comenzar, cambia el nombre del archivo notebook poniéndole delante tu nombre y primer apellido:\n",
    "\n",
    "* nombre_apellido_test_pract_marzo_2025.ipynb"
   ]
  },
  {
   "cell_type": "code",
   "execution_count": 2,
   "metadata": {},
   "outputs": [],
   "source": [
    "# Escribe tu nombre y apellidos (apellido si solo tienes uno) en las variables:\n",
    "nombre = \"Francisco\"\n",
    "apellidos = \"Fletcher Sanfeliu\""
   ]
  },
  {
   "cell_type": "code",
   "execution_count": 3,
   "metadata": {},
   "outputs": [
    {
     "name": "stdout",
     "output_type": "stream",
     "text": [
      "Bienvenido Francisco Fletcher Sanfeliu. Mucha suerte!\n"
     ]
    }
   ],
   "source": [
    "# Solo ejecutar\n",
    "nombre_apellidos = nombre + ' ' + apellidos\n",
    "print(\"Bienvenido\", nombre_apellidos + '. Mucha suerte!')"
   ]
  },
  {
   "cell_type": "markdown",
   "metadata": {},
   "source": [
    "-----------------"
   ]
  },
  {
   "cell_type": "code",
   "execution_count": null,
   "metadata": {},
   "outputs": [],
   "source": [
    "\"\"\"\n",
    "Criterios de corrección:\n",
    "\n",
    "ejecución (ausencia de errores y obtención de resultados)\n",
    "estructura del código\n",
    "uso correcto de variables\n",
    "manejo de tipo de variables\n",
    "asignaciones\n",
    "operaciones booleanas\n",
    "manejo lógico de flujos de control y bucles\n",
    "uso de colecciones\n",
    "uso de funciones\n",
    "\"\"\"\n",
    "\n",
    "# Ejemplo de como queremos ver el código para más de un intento:\n",
    "\n",
    "# intento 1\n",
    "#your code\n",
    "\n",
    "# intento 2\n",
    "#your code"
   ]
  },
  {
   "cell_type": "markdown",
   "metadata": {},
   "source": [
    "#### Notas y pruebas de apoyo para contestar las preguntas\n",
    "\n",
    "\n",
    "Cualquier código aunque no esté correcto nos dirá más de ti que no escribir nada. "
   ]
  },
  {
   "cell_type": "code",
   "execution_count": null,
   "metadata": {},
   "outputs": [],
   "source": [
    "# No te olvides de documentar el código para dejar clara la lógica, sobre todo cuando no sale el resultado"
   ]
  },
  {
   "cell_type": "markdown",
   "metadata": {},
   "source": [
    "### Ejercicio 1\n",
    "En este ejercicio se va a crear una lista con los siguientes elementos. Primero, crearemos las variables que luego añadiremos a la lista. Las variables son las siguientes:\n",
    "\n",
    "1. Crea una variable llamada `edad` de tipo Integer que represente tu edad en años. \n",
    "2. Crea una variable llamada `poblacion` de tipo String , con tu población de nacimiento. \n",
    "3. Crea una variable llamada `altura` con el valor de tu altura en metros de tipo float.\n",
    "4. Crea una variable llamada `s_operativo` de tipo Boolean True si usas Windows y False si usas otro.\n",
    "5. Crea una variable llamada `nada` de tipo None cuyo valor sea None.\n",
    "6. Crea una variable llamada `lista_vacaciones` de tipo List que contenga 5 destinos de viaje a los que te gustaría ir. Cada elemento ha de ser de tipo String.\n",
    "7. Crea una variable llamada `tupla_isla` de tipo Tuple con tres objetos que te llevarías a una isla desierta.\n",
    "8. Crea una variable llamada `dict_pc` con dos keys y dos values. Una key es `marca`, teniendo como value la marca de tu pc de tipo String. Otra key es la `ram`, cuyo valor es es un entero del número de gigas de la ram de tu ordenador\n",
    "9. Añade todos estos elementos en una lista llamada `lista_examen` en el orden de aparición.\n",
    "10. Guarda en la variable `lon_lista_examen` la longitud de `lista_examen`."
   ]
  },
  {
   "cell_type": "code",
   "execution_count": null,
   "metadata": {},
   "outputs": [
    {
     "name": "stdout",
     "output_type": "stream",
     "text": [
      "[28, 'Castello de la Plana', 1.63, True, None, ['Nueva Zelanda', 'Islandia', 'Grecia', 'Turquía', 'México'], ('Navaja suiza', 'Mechero', 'Guía de supervivencia'), {'marca': 'Asus', 'ram': 16}]\n",
      "8\n"
     ]
    }
   ],
   "source": [
    "# Declaramos todas las variables\n",
    "\n",
    "edad = 28\n",
    "poblacion = \"Castello de la Plana\"\n",
    "altura = 1.63\n",
    "s_operativo = True\n",
    "nada = None\n",
    "lista_vacaciones = [\"Nueva Zelanda\",\"Islandia\",\"Grecia\",\"Turquía\",\"México\"]\n",
    "tupla_isla = (\"Navaja suiza\",\"Mechero\",\"Guía de supervivencia\")\n",
    "dict_pc = {\"marca\": \"Asus\", \"ram\": 16}\n",
    "\n",
    "# Las almacenamos todas en una lista\n",
    "\n",
    "lista_examen = [edad, poblacion, altura, s_operativo,nada,lista_vacaciones,tupla_isla,dict_pc]\n",
    "\n",
    "# Guaradamos la longitud de la lista en una variable\n",
    "\n",
    "lon_lista_examen = len(lista_examen)\n",
    "\n",
    "# Comprobamos que la lista se ha creado correctamente:\n",
    "\n",
    "print(lista_examen)\n",
    "print(lon_lista_examen)"
   ]
  },
  {
   "cell_type": "markdown",
   "metadata": {},
   "source": [
    "### Ejercicio 2\n",
    "\n",
    "Escribe un programa que simule un libro de \"sigue tu propia aventura\". Solo se pide control de flujo y uso de print().\n",
    "\n",
    "El programa tiene dos variables:\n",
    "\n",
    "*puerta* --> es una variable de tipo entero\n",
    "\n",
    "*amuleto* --> es una variable booleana\n",
    "\n",
    "\n",
    "    · Si la puerta que eliges es la 1, imprime \"has perdido\"\n",
    "\n",
    "    · Si la puerta que eliges es la 2 y tienes el amuleto (verdadero), imprime \"has ganado\"\n",
    "\n",
    "    · En cualquier otro caso, imprime \"sigue jugando\"\n",
    "\n",
    "Haz este programa de dos formas: usando un AND y sin usar un AND\n",
    "\n",
    "Nota: no son necesarias funciones. Puedes declarar puerta y amuleto al principio de tu programa."
   ]
  },
  {
   "cell_type": "code",
   "execution_count": 11,
   "metadata": {},
   "outputs": [
    {
     "name": "stdout",
     "output_type": "stream",
     "text": [
      "Bienvenido a \"sigue tu propia aventura\". \n",
      "      Ten cuidado, tus decisiones pueden llevarte a la libertad o ser tu fin...\n",
      "sigue jugando\n"
     ]
    },
    {
     "ename": "ValueError",
     "evalue": "invalid literal for int() with base 10: ''",
     "output_type": "error",
     "traceback": [
      "\u001b[31m---------------------------------------------------------------------------\u001b[39m",
      "\u001b[31mValueError\u001b[39m                                Traceback (most recent call last)",
      "\u001b[36mCell\u001b[39m\u001b[36m \u001b[39m\u001b[32mIn[11]\u001b[39m\u001b[32m, line 7\u001b[39m\n\u001b[32m      5\u001b[39m \u001b[38;5;66;03m# Programa usando AND:\u001b[39;00m\n\u001b[32m      6\u001b[39m \u001b[38;5;28;01mwhile\u001b[39;00m \u001b[38;5;28;01mTrue\u001b[39;00m:\n\u001b[32m----> \u001b[39m\u001b[32m7\u001b[39m     puerta = \u001b[38;5;28;43mint\u001b[39;49m\u001b[43m(\u001b[49m\u001b[38;5;28;43minput\u001b[39;49m\u001b[43m(\u001b[49m\u001b[33;43m\"\u001b[39;49m\u001b[33;43mElige la puerta que deseas cruzar\u001b[39;49m\u001b[33;43m\"\u001b[39;49m\u001b[43m)\u001b[49m\u001b[43m)\u001b[49m\n\u001b[32m      8\u001b[39m     \u001b[38;5;28;01mif\u001b[39;00m puerta == \u001b[32m1\u001b[39m:\n\u001b[32m      9\u001b[39m         \u001b[38;5;28mprint\u001b[39m(\u001b[33m\"\u001b[39m\u001b[33mhas perdido\u001b[39m\u001b[33m\"\u001b[39m)\n",
      "\u001b[31mValueError\u001b[39m: invalid literal for int() with base 10: ''"
     ]
    }
   ],
   "source": [
    "print(\"Bienvenido a \\\"sigue tu propia aventura\\\". \\n\\\n",
    "      Ten cuidado, tus decisiones pueden llevarte a la libertad o ser tu fin...\")\n",
    "amuleto = True\n",
    "\n",
    "# Programa usando AND:\n",
    "while True:\n",
    "    puerta = int(input(\"Elige la puerta que deseas cruzar\"))\n",
    "    if puerta == 1:\n",
    "        print(\"has perdido\")\n",
    "        break\n",
    "    elif puerta == 2 and amuleto == True:\n",
    "        print(\"has ganado\")\n",
    "        break\n",
    "    else:\n",
    "        print(\"sigue jugando\")"
   ]
  },
  {
   "cell_type": "code",
   "execution_count": null,
   "metadata": {},
   "outputs": [],
   "source": [
    "print(\"Bienvenido a \\\"sigue tu propia aventura\\\". \\n\\\n",
    "      Ten cuidado, tus decisiones pueden llevarte a la libertad o ser tu fin...\")\n",
    "amuleto = True\n",
    "\n",
    "# Programa sin usar AND:\n",
    "while True:\n",
    "    puerta = int(input(\"Elige la puerta que deseas cruzar\"))\n",
    "    if puerta == 1:\n",
    "        print(\"has perdido\")\n",
    "        break\n",
    "    elif puerta == 2\n",
    "        if amuleto == True:\n",
    "            print(\"has ganado\")\n",
    "        else:\n",
    "            print(\"sigue jugando\")\n",
    "    else:\n",
    "        print(\"sigue jugando\")"
   ]
  },
  {
   "cell_type": "markdown",
   "metadata": {},
   "source": [
    "### Ejercicio 3\n",
    "\n",
    "Escribe un programa que solicite al usuario un número entero positivo n y luego imprima un triángulo de asteriscos (*) de altura n. Por ejemplo, si el usuario ingresa 5, el programa debería imprimir:"
   ]
  },
  {
   "cell_type": "code",
   "execution_count": null,
   "metadata": {},
   "outputs": [],
   "source": [
    "'''\n",
    "\n",
    "*\n",
    "*  *  \n",
    "*  *  *  \n",
    "*  *  *  *\n",
    "*  *  *  *  *\n",
    "\n",
    "'''"
   ]
  },
  {
   "cell_type": "code",
   "execution_count": null,
   "metadata": {},
   "outputs": [
    {
     "name": "stdout",
     "output_type": "stream",
     "text": [
      "\n",
      "* \n",
      "* * \n",
      "* * * \n",
      "* * * * \n",
      "* * * * * \n",
      "* * * * * * \n",
      "* * * * * * * \n",
      "* * * * * * * * \n",
      "* * * * * * * * * \n",
      "* * * * * * * * * * \n"
     ]
    }
   ],
   "source": [
    "# Primero nos aseguramos\n",
    "while True:\n",
    "    n = input(\"Introduce un número entero no negativo\")\n",
    "    try: \n",
    "        n = int(n)\n",
    "        break\n",
    "    except ValueError:\n",
    "        print(\"Entrada no válida. Prueba otra vez\")\n",
    "\n",
    "# Una vez heca la comprobación, necesitamos que el número sea un entero no negativo \n",
    "# (en caso n == 0 simplemente no imprimirá nada por pantalla)\n",
    "\n",
    "if n >= 0:\n",
    "    # A continuación iniciamos el bucle en orden ascendente.\n",
    "    # Debido al comportamiento del range el límite del rango debe ser una unidad mayor\n",
    "    # para imprimir exactamente el número de filas solicitado.\n",
    "    for fila in range(n+1):\n",
    "        # Como queremos que el número de asteriscos sea igual a la fila en la que nos encontramos, \n",
    "        # el segundo iterador cogerá valores hasta el iterador fila.\n",
    "        for asteriscos in range(fila):\n",
    "            print(\"*\", end = \" \")\n",
    "        # Cuando ha imprimido por pantalla todos los asteriscos, imprime un salto de línea\n",
    "        print(\"\")\n",
    "else:\n",
    "    print(\"No funciona con números negativos\")"
   ]
  },
  {
   "cell_type": "markdown",
   "metadata": {},
   "source": [
    "### Ejercicio 4\n",
    "\n",
    "Crea un programa que pida una contraseña por teclado e indique si es correcta\n",
    "o incorrecta con un print(). La contraseña correcta es “python”. Si la contraseña era incorrecta la pide de nuevo hasta 3 veces como máximo. Si al tercer intento no se acierta, debe ponerse a None y poner en un print() que la cuenta se ha bloqueado. Si se consigue entrar, se muestra que es correcta en un print(). Debe haber como mínimo un **BUCLE WHILE**"
   ]
  },
  {
   "cell_type": "code",
   "execution_count": null,
   "metadata": {},
   "outputs": [],
   "source": [
    "# Inicializamos el número de intentos de los que dispone el usuario\n",
    "intentos = 3\n",
    "\n",
    "# Mientras queden intentos disponibles, el usuario puede volver a probar su contraseña\n",
    "\n",
    "while intentos > 0:\n",
    "    # Pedimos al usuario que introduzca la contraseña\n",
    "    clave = input(\"Introduce la contraseña\")\n",
    "    # En caso que acierte, forzamos la salida del bucle\n",
    "    if clave == \"python\":\n",
    "        print(\"Contraseña correcta\")\n",
    "        break\n",
    "    # En caso contrario, perdemos un intento y la máquina nos avisa.\n",
    "    else:\n",
    "        intentos -= 1\n",
    "        if intentos == 0:\n",
    "            print(\"Contraseña incorrecta. \\n La cuenta se ha bloqueado\")\n",
    "            \n",
    "            clave = None\n",
    "        # Si no nos hemos quedado sin intentos, el programa nos lleva al inicio del proceso       \n",
    "        else:\n",
    "\n",
    "            print(f\"Contraseña incorrecta, quedan {intentos} intentos\")\n",
    "        \n",
    "\n",
    "\n"
   ]
  },
  {
   "cell_type": "code",
   "execution_count": 1,
   "metadata": {},
   "outputs": [
    {
     "name": "stdout",
     "output_type": "stream",
     "text": [
      "Contraseña incorrecta, quedan 2 intentos\n",
      "Contraseña incorrecta, quedan 1 intentos\n",
      "Contraseña incorrecta. \n",
      " La cuenta se ha bloqueado\n"
     ]
    }
   ],
   "source": [
    "# Propuesta 2\n",
    "# Según el enunciado no he acabado de entender si lo que debe establecerse como None es \n",
    "# la entrada del usuario o una variable contrasenya que originalmente fuera python.\n",
    "# En este segundo caso la sintaxis sería la siguiente:\n",
    "\n",
    "intentos = 3\n",
    "password = \"python\"\n",
    "while intentos > 0:\n",
    "    clave = input(\"Introduce la contraseña\")\n",
    "    if clave == password:\n",
    "        print(\"Contraseña correcta\")\n",
    "        break\n",
    "    else:\n",
    "        intentos -= 1\n",
    "        if intentos == 0:\n",
    "            print(\"Contraseña incorrecta. \\n La cuenta se ha bloqueado\")\n",
    "            password = None\n",
    "        else: \n",
    "            print(f\"Contraseña incorrecta, quedan {intentos} intentos\")"
   ]
  },
  {
   "cell_type": "markdown",
   "metadata": {},
   "source": [
    "### Ejercicio 5\n",
    "Una empresa usa dos listas  para guardar la información de sus empleados. Una lista guarda el nombre del empleado y la otra guarda su salario. Escribe un programa que cree esas dos listas originalmente vacías y que a través de un menú pueda hacer lo siguiente:\n",
    "    \n",
    "Inserta 1 para añadir un nuevo empleado y su salario\n",
    "\n",
    "Inserta 2 para imprimir los nombres y salarios de todos los empleados\n",
    "\n",
    "Inserta 3 para mostrar el número de empleados\n",
    "\n",
    "Inserta 4 para imprimir los nombres de los empleados con sueldos superiores a 400000\n",
    "\n",
    "Inserta 5 para subir un 5% los sueldos por debajo de 10000\n",
    "\n",
    "Inserta 6 para mostrar el total de todos los salarios\n",
    "\n",
    "Inserta 7 para salir del programa"
   ]
  },
  {
   "cell_type": "code",
   "execution_count": null,
   "metadata": {},
   "outputs": [
    {
     "name": "stdout",
     "output_type": "stream",
     "text": [
      "Has elegido añadir empleado.\n",
      "CEO se ha incorporado a la plantilla con un sueldo de 400001\n",
      "Has elegido añadir empleado.\n",
      "Becario se ha incorporado a la plantilla con un sueldo de 3000\n",
      "Has elegido añadir empleado.\n",
      "Sandra se ha incorporado a la plantilla con un sueldo de 40000\n",
      "Has elegido añadir empleado.\n",
      "Vicent se ha incorporado a la plantilla con un sueldo de 9999\n",
      "Has elegido mostrar empleados y salarios.\n",
      "El empleado CEO tiene un sueldo de 400001 unidades monetarias.\n",
      "El empleado Becario tiene un sueldo de 3000 unidades monetarias.\n",
      "El empleado Sandra tiene un sueldo de 40000 unidades monetarias.\n",
      "El empleado Vicent tiene un sueldo de 9999 unidades monetarias.\n",
      "Has elegido aumentar el sueldo de los empleados que cobran por debajo de 10000.\n",
      "Has elegido mostrar empleados y salarios.\n",
      "El empleado CEO tiene un sueldo de 400001 unidades monetarias.\n",
      "El empleado Becario tiene un sueldo de 3150.0 unidades monetarias.\n",
      "El empleado Sandra tiene un sueldo de 40000 unidades monetarias.\n",
      "El empleado Vicent tiene un sueldo de 10498.95 unidades monetarias.\n",
      "Has elegido mostrar los empleados con sueldo por encima de 400000.\n",
      "CEO\n",
      "Has elegido mostrar el total de salarios pagado.\n",
      "453649.95 unidades monetarias\n",
      "Has elegido mostrar el número de empleados.\n",
      "El total de empleados en plantilla es de: 4\n",
      "Hasta pronto\n"
     ]
    }
   ],
   "source": [
    "empleados = []\n",
    "salarios = []\n",
    "\n",
    "# Todo el programa se desarrolla en un bucle que no se rompe hasta que el usuario introduce el comando 7.\n",
    "# En caso de insertar un entero que no esté en el listado, se solicitará que vuelva a intentarlo. \n",
    "\n",
    "while True:\n",
    "    x = input(\"¿Qué acción deseas realizar? \\n \\\n",
    "          1. Añadir un nuevo empleado y su salario.\\n \\\n",
    "          2. Imprimir los nombres y los salarios de todos los empleados. \\n \\\n",
    "          3. Mostrar el número de empleados.\\n \\\n",
    "          4. Imprimir los nombres de los empleados cuyo sueldo es superior a 400000.\\n \\\n",
    "          5. Incrementar un 5 '%' el sueldo de aquellos empleados cuyo sueldo esté por debajo de 10000.\\n \\\n",
    "          6. Mostrar el total de todos los salarios.\\n \\\n",
    "          7. salir del programa\")\n",
    "    try: \n",
    "        x = int(x)\n",
    "    except ValueError:\n",
    "        print(\"No es un entero\")\n",
    "    match x:\n",
    "        case 1:\n",
    "            print(\"Has elegido añadir empleado.\")\n",
    "            nombre = input(\"Introduce el nombre del nuevo empleado\")\n",
    "            # Para introducir un sueldo, debemos comprobar que se trata de un entero.\n",
    "            while True:\n",
    "                sueldo = input(\"Introduce un número entero no negativo\")\n",
    "                try: \n",
    "                    sueldo = int(sueldo)\n",
    "                    break\n",
    "                except ValueError:\n",
    "                    print(\"Entrada no válida. Prueba otra vez\")\n",
    "            # Añadimos el empleado y su sueldo a las respectivas listas\n",
    "            empleados.append(nombre)\n",
    "            salarios.append(sueldo)\n",
    "            print(f\"{nombre} se ha incorporado a la plantilla con un sueldo de {sueldo}\")\n",
    "\n",
    "        case 2:\n",
    "            print(\"Has elegido mostrar empleados y salarios.\")\n",
    "            # Para acceder a ambas listas de manera simultánea, trabajamos con argumentos posicionales\n",
    "            for i in range(len(empleados)):\n",
    "                print(f\"El empleado {empleados[i]} tiene un sueldo de {salarios[i]} unidades monetarias.\")\n",
    "        case 3:\n",
    "            print(\"Has elegido mostrar el número de empleados.\")\n",
    "            print(f\"El total de empleados en plantilla es de: {len(empleados)}\")\n",
    "        case 4:\n",
    "            print(\"Has elegido mostrar los empleados con sueldo por encima de 400000.\")\n",
    "            # Para acceder a ambas listas de manera simultánea, trabajamos con argumentos posicionales\n",
    "            for i in range(len(empleados)):\n",
    "                if salarios[i] > 400000:\n",
    "                    print(empleados[i]) \n",
    "        case 5:\n",
    "            print(\"Has elegido aumentar el sueldo de los empleados que cobran por debajo de 10000.\")\n",
    "            for i in range(len(salarios)):\n",
    "                # Como modificamos el salario del empleado, debemos modificar el valor en su posición en la lista.\n",
    "                if salarios[i] < 10000:\n",
    "                    salarios[i] *= 1.05\n",
    "                    round(salarios[i],2)\n",
    "        case 6:\n",
    "            print(\"Has elegido mostrar el total de salarios pagado.\")\n",
    "            print(f\"{sum(salarios)} unidades monetarias\")\n",
    "        case 7:\n",
    "            print(\"Hasta pronto\")\n",
    "            break\n",
    "        case _:\n",
    "            print(\"Entrada no válida\")"
   ]
  },
  {
   "cell_type": "markdown",
   "metadata": {},
   "source": [
    "\n",
    "### Ejercicio 6 (**EXTRA**)\n",
    "\n",
    "#### Crear un programa que calcule la cuota de una hipoteca\n",
    "\n",
    "Las cuotas hipotecarias se calculan utilizando la fórmula del interés francés. \n",
    "\n",
    "La fórmula del interés frances es la siguiente:\n",
    "\\begin{align*}\n",
    "C=V \\frac{(1+i)^n i}{(1+i)^n -1}\n",
    "\\end{align*}\n",
    "\n",
    "\n",
    "    C = cuota a pagar (mensual)\n",
    "    V = volumen del préstamo hipotecario\n",
    "    i = tipo de interés del período (mensual)\n",
    "    n = número de cuotas (mensuales)\n",
    "\n",
    "1. Crea un programa que solicite al usuario los datos de su hipoteca mediante input() los datos (volumen, interés **anual**, y plazo en **años**) y le devuelva la cuota **mensual** a pagar. No es necesario encapsularlo en funciones.\n",
    "\n",
    "2. Crea una función `calcular_hip` que realiza el cálculo y cuyos argumentos de entrada sean `volumen`, `interes_anual` y `años`, devolviendo la couta mensual(float). El argumento de `años` deberá de tener un valor por defecto de 30.\n",
    "3. Calcula la cuota y guárdala en la variable `res_cuota` si la cantidad de la hipoteca son 350000 euros, el interés anual es del 5% y la quiere pagar en 20 años a partir de la función `calcular_hip`.\n",
    "4. Crea una función `gasto_vivienda`, con dos argumentos de entrada `ingreso` y `lista_hip`. Esta lista tendrá los 3 valores de los argumentos de entrada de `calcular_hip`, siendo esta una función que deberá ser utilizada dentro de `gasto_vivienda`. Tiene que devolver el valor del porcentaje de gasto en la hipoteca respecto a los ingresos. (Entre 0 y 1, es decir 0.5 si es del 50%)\n",
    "5. Calcula el porcentaje de gasto en la hipoteca si el ingreso es de 1700 euros y guárdalo en la variable `res_porcentaje`.\n",
    "6. Documenta ambas funciones."
   ]
  },
  {
   "cell_type": "code",
   "execution_count": 101,
   "metadata": {},
   "outputs": [
    {
     "name": "stdout",
     "output_type": "stream",
     "text": [
      "Bienvenido a la concesión de hipotecas. \n",
      "      Mediante nuestro software podrás conocer las cuotas que tendrás que pagar mes a mes. \n",
      "       Solo necesitas rellenar los datos que solicitamos a continuación, ¡sin ningún compromiso!\n",
      "La cuota a pagar es de 1941.09\n"
     ]
    }
   ],
   "source": [
    "print(\"Bienvenido a la concesión de hipotecas. \\n\\\n",
    "      Mediante nuestro software podrás conocer las cuotas que tendrás que pagar mes a mes. \\n \\\n",
    "      Solo necesitas rellenar los datos que solicitamos a continuación, ¡sin ningún compromiso!\")\n",
    "\n",
    "# Introducimos los datos solicitados:\n",
    "\n",
    "volumen = int(input(\"Introduce el volumen total de la hipoteca.\"))\n",
    "interes_anual = float(input(\"Introduce el interés anual\"))\n",
    "anyos = int(input(\"¿En cuántos años se devolverá el préstamo?\"))\n",
    "# Una vez introducidos, cambiamos el porcentaje a número decimal\n",
    "interes_anual /= 100\n",
    "# Por facilidad de lectura del programa, calculamos el numerador y denominador de la división por separado\n",
    "numerador = (1+interes_anual/12)**(anyos*12)*(interes_anual/12)\n",
    "denominador = (1+interes_anual/12)**(anyos*12) - 1\n",
    "# Realizamos el cálculo\n",
    "C = volumen*(numerador/denominador)\n",
    "print(f\"La cuota a pagar es de {round(C,2)}\")"
   ]
  },
  {
   "cell_type": "code",
   "execution_count": 106,
   "metadata": {},
   "outputs": [],
   "source": [
    "def calcular_hip(volumen, interes_anual, anyos = 30):\n",
    "    # Convertimos el porcentaje a decimal\n",
    "    interes_anual /= 100\n",
    "    numerador = (1+interes_anual/12)**(anyos*12)*(interes_anual/12)\n",
    "    denominador = (1+interes_anual/12)**(anyos*12) - 1\n",
    "    C = volumen*(numerador/denominador)\n",
    "    return round(C,2)"
   ]
  },
  {
   "cell_type": "code",
   "execution_count": 107,
   "metadata": {},
   "outputs": [
    {
     "name": "stdout",
     "output_type": "stream",
     "text": [
      "2309.85\n"
     ]
    }
   ],
   "source": [
    "res_cuota = calcular_hip(350000, 5, 20) \n",
    "print(res_cuota)"
   ]
  },
  {
   "cell_type": "code",
   "execution_count": 108,
   "metadata": {},
   "outputs": [],
   "source": [
    "def gasto_vivienda(ingreso, lista_hip):\n",
    "    # Copiamos los valores de la lista en diferentes variables para llamar a calcular_hip(...)\n",
    "    v = lista_hip[0]\n",
    "    i = lista_hip[1]\n",
    "    n = lista_hip[2]\n",
    "    # print(f\"Cuota hipoteca para volumen {v}, interes = {i} y años = {n}: {round(calcular_hip(v,i/100,n),2)}\")\n",
    "    return round(calcular_hip(v,i,n)/ingreso,3)"
   ]
  },
  {
   "cell_type": "code",
   "execution_count": 109,
   "metadata": {},
   "outputs": [
    {
     "name": "stdout",
     "output_type": "stream",
     "text": [
      "1.359\n"
     ]
    }
   ],
   "source": [
    "res_porcentaje = gasto_vivienda(1700, [350000,5,20])\n",
    "print(res_porcentaje)"
   ]
  },
  {
   "attachments": {},
   "cell_type": "markdown",
   "metadata": {},
   "source": [
    "¡Has terminado!\n",
    "\n",
    "Adjunta este fichero en la tarea del CampusVirtual"
   ]
  }
 ],
 "metadata": {
  "kernelspec": {
   "display_name": "Python 3",
   "language": "python",
   "name": "python3"
  },
  "language_info": {
   "codemirror_mode": {
    "name": "ipython",
    "version": 3
   },
   "file_extension": ".py",
   "mimetype": "text/x-python",
   "name": "python",
   "nbconvert_exporter": "python",
   "pygments_lexer": "ipython3",
   "version": "3.11.9"
  },
  "orig_nbformat": 4,
  "vscode": {
   "interpreter": {
    "hash": "1e989a6a87260c027f3014f78a3a3d191394072689c96a40223c8499353d25ee"
   }
  }
 },
 "nbformat": 4,
 "nbformat_minor": 2
}
