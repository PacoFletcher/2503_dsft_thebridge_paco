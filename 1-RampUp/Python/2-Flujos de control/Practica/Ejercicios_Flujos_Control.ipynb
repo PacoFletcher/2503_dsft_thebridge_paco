{
 "cells": [
  {
   "cell_type": "markdown",
   "metadata": {},
   "source": [
    "![imagen](./img/ejercicios.png)"
   ]
  },
  {
   "cell_type": "markdown",
   "metadata": {},
   "source": [
    "# Ejercicios Flujos de control"
   ]
  },
  {
   "cell_type": "markdown",
   "metadata": {},
   "source": [
    "## Ejercicio 1\n",
    "Declara una variable numérica que será una hora cualquiera del día. Implementa la siguiente casuística:\n",
    "\n",
    "* Si es entre las 0 y las 8, print \"Durmiendo\"\n",
    "* Si es entre las 9 y las 18, print \"Trabajando\"\n",
    "* Si es entre las 19 y las 21, print \"Clase\"\n",
    "* Si es entre las 22 y las 24, print \"Descanso\"\n",
    "* En cualquier otro caso, print \"Transporte o error\""
   ]
  },
  {
   "cell_type": "code",
   "execution_count": null,
   "metadata": {},
   "outputs": [
    {
     "name": "stdout",
     "output_type": "stream",
     "text": [
      "Son las 33 Ahora mismo estoy Transporte o error\n"
     ]
    }
   ],
   "source": [
    "# Introducimos un número cualquiera, que transformaremos en float para facilitar la lectura\n",
    "hora = float(input(\"Escribe una hora\"))\n",
    "if 0 <= hora <= 8:\n",
    "    estado = \"Durmiendo\"\n",
    "elif 9 <= hora <= 18:\n",
    "    estado = \"Trabajando\"\n",
    "elif 19 <= hora <= 21:\n",
    "    estado = \"Clase\"\n",
    "elif 22 <= hora <= 24:\n",
    "    print(descanso)\n",
    "# Si algún número decimal se encuentra entre dos de los escenarios considerados, \n",
    "# se entiende que está utilizando un medio de transporte.\n",
    "# Además, como las horas del día están comprendidas entre los valores\n",
    "# 0 y 24, cualquier valor que esté fuera de este intervalo dará error\n",
    "else:\n",
    "    estado = \"Transporte o error\"\n",
    "print(\"Son las\", hora, \"Ahora mismo estoy\", estado)"
   ]
  },
  {
   "cell_type": "code",
   "execution_count": null,
   "metadata": {},
   "outputs": [],
   "source": []
  },
  {
   "cell_type": "markdown",
   "metadata": {},
   "source": [
    "## Ejercicio 2\n",
    "En este ejercicio vamos a implementar un calculador de precios de casas muy sencillo. Tenemos las siguientes variables:\n",
    "\n",
    "> superficie\n",
    ">\n",
    "> distrito\n",
    "\n",
    "Implementa la siguiente casuística:\n",
    "\n",
    "1. Si el distrito es \"Moncloa\" o \"Centro\", y además la superficie es superior a 100 metros cuadrados, el precio de la casa es de 1000\n",
    "2. Si el distrito es \"Salamanca\", y además la superficie de la casa es al menos de 150 metros, el precio de la casa es de 1500\n",
    "3. Si el distrito no es \"Retiro\" y la superficie está entre 60 y 80 metros, el precio es de 600\n",
    "4. En cualquier otro caso, el precio será de 0"
   ]
  },
  {
   "cell_type": "code",
   "execution_count": null,
   "metadata": {},
   "outputs": [
    {
     "name": "stdout",
     "output_type": "stream",
     "text": [
      "80 salamanca\n",
      "0\n"
     ]
    }
   ],
   "source": [
    "superficie, distrito = input(\"Indica la superficie del domicilio en metros cuadrados y el distrito donde se encuentra, separados por una coma:\").split(\",\")\n",
    "superficie = int(superficie)\n",
    "# Utilizamos lower() y strip() para prevenir posibles errores de lectura y comparación de los strings \n",
    "distrito = distrito.lower().strip()\n",
    "print(superficie, distrito)\n",
    "# En función del distrito en el que se encuentra, aplicamos las condiciones particulares respecto a la superfície\n",
    "match distrito:\n",
    "    case \"moncloa\":\n",
    "        if superficie >= 100:\n",
    "            precio = 1000\n",
    "        else:\n",
    "            precio = 0\n",
    "    case \"centro\":\n",
    "        if superficie >= 100:\n",
    "            precio = 1000\n",
    "        else:\n",
    "            precio = 0\n",
    "    case \"salamanca\":\n",
    "        if superficie >= 150:\n",
    "            precio = 1500\n",
    "        else:\n",
    "            precio = 0\n",
    "    case \"retiro\":\n",
    "        if 60 <= superficie <= 80:\n",
    "            precio = 600\n",
    "        else:\n",
    "            precio = 0\n",
    "    case _:\n",
    "        precio = 0\n",
    "print(precio)\n"
   ]
  },
  {
   "cell_type": "code",
   "execution_count": null,
   "metadata": {},
   "outputs": [],
   "source": [
    "\n"
   ]
  },
  {
   "cell_type": "markdown",
   "metadata": {},
   "source": [
    "## Ejercicio 3\n",
    "En este ejercicio vamos a realizar un programa muy parecido. Para este caso queremos que se cumplan las siguientes condiciones:\n",
    "\n",
    "1. Primero se compruebe si el distrito es \"Retiro\". Si es asá, que imprima \"Distrito Retiro\", y si no, \"Otro distrito\"\n",
    "2. Si el distrito es \"Retiro\", comprueba si la superficie es mayor de 100 metros cuadrados. En tal caso, que imprima un precio de 1000, y si no, de 500.\n",
    "\n",
    "Prueba a usar `ifs` anidados"
   ]
  },
  {
   "cell_type": "code",
   "execution_count": null,
   "metadata": {},
   "outputs": [
    {
     "name": "stdout",
     "output_type": "stream",
     "text": [
      "Distrito Retiro\n",
      "500\n"
     ]
    }
   ],
   "source": [
    "# Misma implementación que en el ejercicio anterior\n",
    "superficie, distrito = input(\"Indica la superficie del domicilio en metros cuadrados y el distrito donde se encuentra, separados por una coma:\").split(\",\")\n",
    "superficie = int(superficie)\n",
    "distrito = distrito.lower().strip()\n",
    "\n",
    "# Condición 1, que el distrito sea el Retiro\n",
    "if distrito == \"retiro\":\n",
    "    print(\"Distrito Retiro\")\n",
    "    # Condición 2, analizamos la superfície\n",
    "    if superficie >= 100:\n",
    "        print(1000)\n",
    "    else:\n",
    "        print(500)\n",
    "# Si no es el Retiro no lo consideramos\n",
    "else:\n",
    "    print(\"Otro distrito\")"
   ]
  },
  {
   "cell_type": "code",
   "execution_count": null,
   "metadata": {},
   "outputs": [],
   "source": []
  },
  {
   "cell_type": "markdown",
   "metadata": {},
   "source": [
    "## Ejercicio 4\n",
    "Escribe un programa que tenga dos variables: un numero, y una lista numérica. El programa debe recorrer la lista e imprimir por pantalla cada elemento de la lista multiplicado por el número"
   ]
  },
  {
   "cell_type": "code",
   "execution_count": null,
   "metadata": {},
   "outputs": [
    {
     "name": "stdout",
     "output_type": "stream",
     "text": [
      "99.1\n",
      "198.2\n",
      "297.29999999999995\n",
      "396.4\n"
     ]
    }
   ],
   "source": [
    "num = 99.1\n",
    "lista = [1,2,3,4]\n",
    "# Accedemos a cada uno de los valores de la lista\n",
    "for i in lista:\n",
    "    print(i*num)\n",
    "# Por algún motivo, la clase float genera problemas al multiplicar ciertos números con decimales"
   ]
  },
  {
   "cell_type": "code",
   "execution_count": null,
   "metadata": {},
   "outputs": [],
   "source": [
    "\n"
   ]
  },
  {
   "cell_type": "code",
   "execution_count": null,
   "metadata": {},
   "outputs": [],
   "source": []
  },
  {
   "cell_type": "code",
   "execution_count": null,
   "metadata": {},
   "outputs": [],
   "source": []
  },
  {
   "cell_type": "code",
   "execution_count": 67,
   "metadata": {},
   "outputs": [],
   "source": []
  },
  {
   "cell_type": "markdown",
   "metadata": {},
   "source": [
    "## Ejercicio 5\n",
    "Imprime por pantalla cada número del -10 al -1. En ese orden. Consulta [la documentación](https://www.w3schools.com/python/ref_func_range.asp) de `range`"
   ]
  },
  {
   "cell_type": "code",
   "execution_count": null,
   "metadata": {},
   "outputs": [
    {
     "name": "stdout",
     "output_type": "stream",
     "text": [
      "-10\n",
      "-9\n",
      "-8\n",
      "-7\n",
      "-6\n",
      "-5\n",
      "-4\n",
      "-3\n",
      "-2\n",
      "-1\n"
     ]
    }
   ],
   "source": [
    "# Atención, el range incluye todos los enteros comprendidos en el intervalo [a,b)\n",
    "for i in range(-10,0):\n",
    "    print(i)"
   ]
  },
  {
   "cell_type": "code",
   "execution_count": null,
   "metadata": {},
   "outputs": [],
   "source": []
  },
  {
   "cell_type": "code",
   "execution_count": null,
   "metadata": {},
   "outputs": [],
   "source": []
  },
  {
   "cell_type": "markdown",
   "metadata": {},
   "source": [
    "## Ejercicio 6\n",
    "Dada la siguiente lista:\n",
    "\n",
    "> list1 = [12, 15, 32, 42, 55, 75, 122, 132, 150, 180, 200]\n",
    "\n",
    "Implementa un programa que los recorra e imprima por pantalla todos los divisibles por 5. Si nos encontramos con alguno que sea mayor que 150, detener el bucle."
   ]
  },
  {
   "cell_type": "code",
   "execution_count": null,
   "metadata": {},
   "outputs": [
    {
     "name": "stdout",
     "output_type": "stream",
     "text": [
      "15\n",
      "55\n",
      "75\n",
      "150\n"
     ]
    }
   ],
   "source": [
    "list1 = [12, 15, 32, 42, 55, 75, 122, 132, 150, 180, 200]\n",
    "for i in list1:\n",
    "    # Aunque el elemento sea divisible entre 5, detenemos el bucle\n",
    "    if i > 150:\n",
    "        break\n",
    "    # Comprobamos si el residuo al dividir entre 5 es igual a 0\n",
    "    if i%5 == 0:\n",
    "        print(i)\n",
    "    "
   ]
  },
  {
   "attachments": {},
   "cell_type": "markdown",
   "metadata": {},
   "source": [
    "## Ejercicio 7\n",
    "Escribe un programa en Python que imprima por pantalla todos los números que cumplan que sean divisibles por 5 y divisibles por 7, dentro del rango de valores (150, 350)."
   ]
  },
  {
   "cell_type": "code",
   "execution_count": null,
   "metadata": {},
   "outputs": [
    {
     "name": "stdout",
     "output_type": "stream",
     "text": [
      "175\n",
      "210\n",
      "245\n",
      "280\n",
      "315\n",
      "350\n"
     ]
    }
   ],
   "source": [
    "\"\"\"\n",
    "Todos los números divisibles por \n",
    "5 y a la vez por 7 son los múltiplos de 35\n",
    "\"\"\"\n",
    "\n",
    "\"\"\"\n",
    "Partiendo de la premisa anterior, primero partiremos del número 150\n",
    "e iremos recorriendo el intervalo de uno en uno hasta dar con el primer múltiplo de 35.\n",
    "Una vez encontrado dicho número, simplemente sumaremos 35 hasta llegar a un número mayor que 350.\n",
    "\"\"\"\n",
    "primero = 0\n",
    "for i in range(150,351):\n",
    "    if primero != 0:\n",
    "        break\n",
    "    if i%35 == 0:\n",
    "        primero = i\n",
    "while primero <= 350:\n",
    "    print(primero)\n",
    "    primero += 35\n",
    "\n",
    "\"\"\"\"\n",
    "De manera ligeramente más lenta pero con código más limpio,\n",
    "simplemente basta con el siguiente bloque de código:\n",
    "\n",
    "for i in range(150,351):\n",
    "    if i % 35 == 0:\n",
    "        print(i)\n",
    "\"\"\"\n",
    "\n"
   ]
  },
  {
   "cell_type": "markdown",
   "metadata": {},
   "source": [
    "## Ejercicio 8\n",
    "Implementa un programa que imprima por pantalla el siguiente patrón\n",
    "\n",
    "5 4 3 2 1 \n",
    "\n",
    "4 3 2 1 \n",
    "\n",
    "3 2 1 \n",
    "\n",
    "2 1 \n",
    "\n",
    "1\n",
    "\n",
    "NOTA: NO hay lineas en blanco entre una línea y otra."
   ]
  },
  {
   "cell_type": "code",
   "execution_count": null,
   "metadata": {},
   "outputs": [
    {
     "name": "stdout",
     "output_type": "stream",
     "text": [
      "5 4 3 2 1\n",
      "4 3 2 1\n",
      "3 2 1\n",
      "2 1\n",
      "1\n"
     ]
    }
   ],
   "source": [
    "x = 5\n",
    "# Partimos del valor indicado:\n",
    "while x > 0:\n",
    "    j = x\n",
    "    # Creamos una variable auxiliar para poder modificarla sin afectar al bucle\n",
    "    while j > 0:\n",
    "        # Diferenciamos el último elemento para controlar la impresión de espacios \n",
    "        if j == 1:\n",
    "            print(j)\n",
    "        else:\n",
    "            print(j, end = \" \")\n",
    "        # Actualizamos el valor j\n",
    "        j -= 1\n",
    "    # Actualizamos el valor x\n",
    "    x -= 1"
   ]
  },
  {
   "cell_type": "code",
   "execution_count": null,
   "metadata": {},
   "outputs": [],
   "source": []
  },
  {
   "cell_type": "code",
   "execution_count": null,
   "metadata": {},
   "outputs": [],
   "source": []
  },
  {
   "cell_type": "code",
   "execution_count": null,
   "metadata": {},
   "outputs": [],
   "source": []
  },
  {
   "cell_type": "markdown",
   "metadata": {},
   "source": [
    "## Ejercicio 9\n",
    "En este ejercicio vamos a crear un pequeño juego. Se trata de intentar adivinar un numero del 1 al 5. Tenemos dos intentos para acertar. Pasos a seguir:\n",
    "\n",
    "1. Ya viene implementado con la librería `random` cómo obtener un número aleatorio del 1 al 5\n",
    "2. Tendrás que declarar en una variable el numero de vidas, y mediante un bucle while, comprobar que todavia quedan vidas.\n",
    "3. Dentro del bucle, obtener el valor del usuario y comprobar si es ese el numero a adivinar. Si no, actualizar las vidas.\n",
    "4. Si acertamos, salimos del bucle e imprimimos por pantalla \"You win\". Y si perdemos también salimos del bucle, pero en este caso imprimimos por pantalla \"You lose\".\n",
    "\n",
    "TIP: te puede resultar útil usar la sentencia `else` cuando acabe el bucle `while`. Lo que haya dentro de ese `else` se ejecutará una vez acabe la ejecución del `while`. Lo podrás usar para cuando pierdas."
   ]
  },
  {
   "cell_type": "code",
   "execution_count": 9,
   "metadata": {},
   "outputs": [
    {
     "name": "stdout",
     "output_type": "stream",
     "text": [
      "error, tienes 1 vidas\n",
      "You win!\n"
     ]
    }
   ],
   "source": [
    "# Para poder elegir un número aleatorio importamos la una librería con esta funcionalidad ya implementada\n",
    "import random\n",
    "\n",
    "# Definimos el número de intentos que tenemos\n",
    "vidas = 2\n",
    "\n",
    "# La máquina elige un número entero entre 1 y 5\n",
    "numero = random.randint(1,5)\n",
    "\n",
    "# Sólo podemos jugar mientras nos queden vidas\n",
    "while vidas > 0:\n",
    "    # Al principio de cada turno nos explica el rango en el que estamos jugando y el número de intentos que nos quedan.\n",
    "    # A continuación, introducimos el número que queramos.\n",
    "    adiv = int(input(f\"Introduce un número del 1 al 5, te quedan {vidas} intentos\"))\n",
    "\n",
    "    # Qué pasa si acertamos?\n",
    "    if adiv == numero:\n",
    "        # Nos anuncia que hemos ganado y detiene el bucle\n",
    "        print(\"You win!\")\n",
    "        break\n",
    "    # Y si fallamos?\n",
    "    else:\n",
    "        # Perdemos una vida\n",
    "        vidas -= 1\n",
    "        # Nos avisa del error y nos recuerda la cantidad de intentos que nos quedan\n",
    "        print(\"error, tienes\", vidas, \"vidas\")\n",
    "# Si hemos salido del bucle y NO hemos ganado, nos anuncia que hemos perdido\n",
    "if vidas == 0:\n",
    "    print(\"You lose\")"
   ]
  },
  {
   "cell_type": "code",
   "execution_count": null,
   "metadata": {},
   "outputs": [],
   "source": []
  },
  {
   "cell_type": "code",
   "execution_count": null,
   "metadata": {},
   "outputs": [],
   "source": []
  },
  {
   "cell_type": "code",
   "execution_count": 150,
   "metadata": {},
   "outputs": [],
   "source": []
  },
  {
   "cell_type": "code",
   "execution_count": null,
   "metadata": {},
   "outputs": [],
   "source": []
  },
  {
   "cell_type": "code",
   "execution_count": null,
   "metadata": {},
   "outputs": [],
   "source": []
  }
 ],
 "metadata": {
  "kernelspec": {
   "display_name": "Python 3",
   "language": "python",
   "name": "python3"
  },
  "language_info": {
   "codemirror_mode": {
    "name": "ipython",
    "version": 3
   },
   "file_extension": ".py",
   "mimetype": "text/x-python",
   "name": "python",
   "nbconvert_exporter": "python",
   "pygments_lexer": "ipython3",
   "version": "3.11.9"
  }
 },
 "nbformat": 4,
 "nbformat_minor": 4
}
