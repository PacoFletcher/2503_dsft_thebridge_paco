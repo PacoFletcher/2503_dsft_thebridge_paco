{
 "cells": [
  {
   "cell_type": "markdown",
   "metadata": {},
   "source": [
    "![imagen](./img/ejercicios.png)"
   ]
  },
  {
   "cell_type": "markdown",
   "metadata": {},
   "source": [
    "# Ejercicios Flujos de control"
   ]
  },
  {
   "cell_type": "markdown",
   "metadata": {},
   "source": [
    "## Ejercicio Extra\n",
    "Programa una calculadora que\n",
    "\n",
    "* Pregunte qué operación quieres realizar (multiplicación/división/suma/resta/potencia/salir)\n",
    "* Pida dos números \n",
    "* Realice la operación\n",
    "* Siga funcionando hasta que el usuario elija salir\n",
    "\n",
    "#### Bonus:\n",
    "* Que guarde todas las operaciones realizadas y las imprima por pantalla cuando el usuario elija esa opción\n",
    "* Que sea robusta frente a entradas erróneas del usuario o frente a operaciones como dividir por 0"
   ]
  },
  {
   "cell_type": "code",
   "execution_count": null,
   "metadata": {},
   "outputs": [
    {
     "name": "stdout",
     "output_type": "stream",
     "text": [
      "Has elegido Resta\n",
      "-7.0\n",
      "Has elegido Multiplicación\n",
      "Introduce números, ¡melón!\n",
      "Has elegido Suma\n",
      "Introduce números, ¡melón!\n",
      "¡Hasta pronto!\n"
     ]
    }
   ],
   "source": [
    "# Esta función verifica si el input del usuario puede o no convertirse en un float.\n",
    "def valido(c):\n",
    "    try:\n",
    "        float(c)\n",
    "        return True\n",
    "    except ValueError:\n",
    "        return False\n",
    "\n",
    "\n",
    "# En este programa se solicita al usuario que introduzca un comando de entre los que se sugieren.\n",
    "# Si la entrada no se corresponde con alguna de las opciones sugeridas, la máquina te avisa y\n",
    "# te pide que ingreses otro comando dentro de las opciones sugeridas.\n",
    "# Es un poco especial, no le gusta que la gente escriba sin tildes, por lo que en caso de \n",
    "# no usarlas, te pedirá que lo vuelvas a escribir.\n",
    "# En función de cada operación, te pedirá que introduzcas un determinado término llamándolo por su nombre.\n",
    "# Perfecto para aquellos que están aprendiendo matemáticas desde 0 para familiarizarse con la terminología.\n",
    "# No permitirá realizar operaciones que no están definidas (si intentas dividir por 0 te avisará).\n",
    "# ¡Si introduces un valor que no sea un número se enfadará mucho!\n",
    "resultados = []\n",
    "while True:\n",
    "    x = input(\"Qué operación deseas realizar: Multiplicación, División, Suma, Resta, Potencia, Mostrar resultados o Salir\")\n",
    "    x = x.lower().strip()\n",
    "    match x:\n",
    "        case \"salir\":\n",
    "            print(\"¡Hasta pronto!\")\n",
    "            break\n",
    "        case \"multiplicación\":\n",
    "            print(f\"Has elegido {x.capitalize()}\")\n",
    "            a = input(\"Introduce el primer factor:\")\n",
    "            b = input(\"Introduce el segundo factor:\")\n",
    "            if valido(a) and valido(b):\n",
    "                a = float(a)\n",
    "                b = float(b)\n",
    "                resultados.append(f\"{a} · {b} = {a*b}\")\n",
    "                print(a*b)               \n",
    "            else:\n",
    "                print(\"Introduce números, ¡melón!\")\n",
    "        case \"división\":\n",
    "            print(f\"Has elegido {x.capitalize()}\")\n",
    "            a = input(\"Introduce el dividendo:\")\n",
    "            b = input(\"Introduce el divisor, recuerda que ha de ser diferente de 0.\")\n",
    "            if valido(a) and valido(b):\n",
    "                a = float(a)\n",
    "                b = float(b)\n",
    "                if b != 0:\n",
    "                    resultados.append(f\"{a} / {b} = {a/b}\")\n",
    "                    print(a/b)\n",
    "                else:\n",
    "                    print(\"¡NO SE PUEDE DIVIDIR ENTRE 0!\")\n",
    "            else:\n",
    "                print(\"Introduce números, ¡melón!\")\n",
    "        case \"suma\":\n",
    "            print(f\"Has elegido {x.capitalize()}\")\n",
    "            a = input(\"Introduce el primer sumando:\")\n",
    "            b = input(\"Introduce el segundo sumando:\")\n",
    "            if valido(a) and valido(b):\n",
    "                a = float(a)\n",
    "                b = float(b)\n",
    "                resultados.append(f\"{a} + {b} = {a+b}\")\n",
    "                print(a+b)\n",
    "            else:\n",
    "                print(\"Introduce números, ¡melón!\")\n",
    "        case \"resta\":\n",
    "            print(f\"Has elegido {x.capitalize()}\")\n",
    "            a = input(\"Introduce el minuendo:\")\n",
    "            b = input(\"Introduce el sustraendo:\")\n",
    "            if valido(a) and valido(b):\n",
    "                a = float(a)\n",
    "                b = float(b)\n",
    "                resultados.append(f\"{a} - {b} = {a-b}\")\n",
    "                print(a-b)\n",
    "            else:\n",
    "                print(\"Introduce números, ¡melón!\")\n",
    "        case \"potencia\":\n",
    "            print(f\"Has elegido {x.capitalize()}\")\n",
    "            a = input(\"Introduce la base:\")\n",
    "            b = input(\"Introduce la potencia:\")\n",
    "            if valido(a) and valido(b):\n",
    "                a = float(a)\n",
    "                b = float(b)\n",
    "                resultados.append(f\"{a}^{b} = {a**b}\")\n",
    "                print(a**b)\n",
    "            else:\n",
    "                print(\"Introduce números, ¡melón!\")\n",
    "        case \"multiplicacion\":\n",
    "            print(\"Recuerda utilizar las tildes, vuélvelo a escribir.\")\n",
    "        case \"division\":\n",
    "            print(\"Recuerda utilizar las tildes, vuélvelo a escribir.\")\n",
    "        case \"mostrar resultados\":\n",
    "            print(resultados)\n",
    "        case _:\n",
    "            print(\"Instrucción no válida, escribe una de las opciones propuestas.\")"
   ]
  },
  {
   "cell_type": "code",
   "execution_count": null,
   "metadata": {},
   "outputs": [],
   "source": []
  }
 ],
 "metadata": {
  "kernelspec": {
   "display_name": "Python 3",
   "language": "python",
   "name": "python3"
  },
  "language_info": {
   "codemirror_mode": {
    "name": "ipython",
    "version": 3
   },
   "file_extension": ".py",
   "mimetype": "text/x-python",
   "name": "python",
   "nbconvert_exporter": "python",
   "pygments_lexer": "ipython3",
   "version": "3.11.9"
  }
 },
 "nbformat": 4,
 "nbformat_minor": 4
}
