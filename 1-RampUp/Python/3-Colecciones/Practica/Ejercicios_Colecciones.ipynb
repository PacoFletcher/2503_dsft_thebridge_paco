{
 "cells": [
  {
   "cell_type": "markdown",
   "metadata": {},
   "source": [
    "![imagen](./img/ejercicios.png)"
   ]
  },
  {
   "cell_type": "markdown",
   "metadata": {},
   "source": [
    "## Ejercicio 1\n",
    "Dada la siguiente lista:\n",
    "> ```ejer_1 = [1,2,3,4,5]```\n",
    "\n",
    "Inviértela para que quede de la siguiente manera\n",
    "> ```ejer_1 = [5,4,3,2,1]```"
   ]
  },
  {
   "cell_type": "code",
   "execution_count": 1,
   "metadata": {},
   "outputs": [
    {
     "name": "stdout",
     "output_type": "stream",
     "text": [
      "[5, 4, 3, 2, 1]\n"
     ]
    }
   ],
   "source": [
    "ejer_1 = [1,2,3,4,5]\n",
    "ejer_1.reverse()\n",
    "print(ejer_1)"
   ]
  },
  {
   "cell_type": "code",
   "execution_count": null,
   "metadata": {},
   "outputs": [],
   "source": []
  },
  {
   "cell_type": "code",
   "execution_count": null,
   "metadata": {},
   "outputs": [],
   "source": []
  },
  {
   "cell_type": "code",
   "execution_count": null,
   "metadata": {},
   "outputs": [],
   "source": []
  },
  {
   "cell_type": "code",
   "execution_count": 1,
   "metadata": {},
   "outputs": [],
   "source": []
  },
  {
   "cell_type": "code",
   "execution_count": null,
   "metadata": {},
   "outputs": [],
   "source": [
    "\n"
   ]
  },
  {
   "cell_type": "code",
   "execution_count": null,
   "metadata": {},
   "outputs": [],
   "source": []
  },
  {
   "cell_type": "markdown",
   "metadata": {},
   "source": [
    "## Ejercicio 2\n",
    "Eleva todos los elementos de la lista al cuadrado\n",
    "> ```ejer_2 = [1,2,3,4,5]```"
   ]
  },
  {
   "cell_type": "code",
   "execution_count": 6,
   "metadata": {},
   "outputs": [
    {
     "name": "stdout",
     "output_type": "stream",
     "text": [
      "[1, 4, 9, 16, 25]\n"
     ]
    }
   ],
   "source": [
    "ejer_2 = [1,2,3,4,5]\n",
    "for i in range(len(ejer_2)):\n",
    "    ejer_2[i] = ejer_2[i]**2\n",
    "print(ejer_2)"
   ]
  },
  {
   "cell_type": "code",
   "execution_count": null,
   "metadata": {},
   "outputs": [],
   "source": []
  },
  {
   "cell_type": "code",
   "execution_count": null,
   "metadata": {},
   "outputs": [],
   "source": []
  },
  {
   "cell_type": "code",
   "execution_count": null,
   "metadata": {},
   "outputs": [],
   "source": []
  },
  {
   "cell_type": "code",
   "execution_count": null,
   "metadata": {},
   "outputs": [],
   "source": []
  },
  {
   "cell_type": "markdown",
   "metadata": {},
   "source": [
    "## Ejercicio 3\n",
    "Crea una lista nueva con todas las combinaciones de las siguientes dos listas:\n",
    "> ```ejer_3_1 = [\"Hola\", \"amigo\"]```\n",
    ">\n",
    "> ```ejer_3_2 = [\"Que\", \"tal\"]```\n",
    "\n",
    "Obten el siguiente output:\n",
    "\n",
    "```['Hola Que', 'Hola tal', 'amigo Que', 'amigo tal']```"
   ]
  },
  {
   "cell_type": "code",
   "execution_count": 8,
   "metadata": {},
   "outputs": [
    {
     "name": "stdout",
     "output_type": "stream",
     "text": [
      "['Hola', 'amigo', 'Que', 'tal']\n"
     ]
    }
   ],
   "source": [
    "ejer_3_1 = [\"Hola\", \"amigo\"]\n",
    "ejer_3_2 = [\"Que\", \"tal\"]\n",
    "\n",
    "concat = ejer_3_1 + ejer_3_2\n",
    "print(concat)"
   ]
  },
  {
   "cell_type": "code",
   "execution_count": null,
   "metadata": {},
   "outputs": [],
   "source": []
  },
  {
   "cell_type": "code",
   "execution_count": null,
   "metadata": {},
   "outputs": [],
   "source": []
  },
  {
   "attachments": {},
   "cell_type": "markdown",
   "metadata": {},
   "source": [
    "## Ejercicio 4\n",
    "Dada la siguiente lista, encuentra por el índice el valor 45 y sustitúyelo por el 0\n",
    "> ```ejer_4 = [20, 47, 19, 29, 45, 67, 78, 90]```"
   ]
  },
  {
   "cell_type": "code",
   "execution_count": 10,
   "metadata": {},
   "outputs": [
    {
     "name": "stdout",
     "output_type": "stream",
     "text": [
      "4 [20, 47, 19, 29, 0, 67, 78, 90]\n"
     ]
    }
   ],
   "source": [
    "ejer_4 = [20, 47, 19, 29, 45, 67, 78, 90]\n",
    "\n",
    "n = ejer_4.index(45)\n",
    "ejer_4[n] = 0\n",
    "print(n, ejer_4)"
   ]
  },
  {
   "cell_type": "code",
   "execution_count": null,
   "metadata": {},
   "outputs": [],
   "source": []
  },
  {
   "cell_type": "code",
   "execution_count": null,
   "metadata": {},
   "outputs": [],
   "source": []
  },
  {
   "cell_type": "code",
   "execution_count": 50,
   "metadata": {},
   "outputs": [],
   "source": []
  },
  {
   "cell_type": "code",
   "execution_count": null,
   "metadata": {},
   "outputs": [],
   "source": []
  },
  {
   "cell_type": "code",
   "execution_count": null,
   "metadata": {},
   "outputs": [],
   "source": []
  },
  {
   "cell_type": "markdown",
   "metadata": {},
   "source": [
    "## Ejercicio 5\n",
    "Dada la siguiente lista, elimina todos los valores iguales a 3\n",
    "> ```ejer_5 = [3, 20, 3, 47, 19, 3, 29, 45, 67, 78, 90, 3, 3]```\n",
    "\n",
    "TIP: No intentes eliminar elementos sobre la lista que estás iterando. Haz una copia con `ejer_5.copy()`."
   ]
  },
  {
   "cell_type": "code",
   "execution_count": 14,
   "metadata": {},
   "outputs": [
    {
     "name": "stdout",
     "output_type": "stream",
     "text": [
      "[]\n"
     ]
    }
   ],
   "source": [
    "ejer_5 = [3, 20, 3, 47, 19, 3, 29, 45, 67, 78, 90, 3, 3]\n",
    "backup = ejer_5.copy()\n",
    "backup.clear()\n",
    "print(backup)"
   ]
  },
  {
   "cell_type": "code",
   "execution_count": null,
   "metadata": {},
   "outputs": [],
   "source": []
  },
  {
   "cell_type": "code",
   "execution_count": null,
   "metadata": {},
   "outputs": [],
   "source": []
  },
  {
   "cell_type": "code",
   "execution_count": null,
   "metadata": {},
   "outputs": [],
   "source": []
  },
  {
   "cell_type": "code",
   "execution_count": null,
   "metadata": {},
   "outputs": [],
   "source": []
  },
  {
   "attachments": {},
   "cell_type": "markdown",
   "metadata": {},
   "source": [
    "## Ejercicio 6\n",
    "1. Crea una tupla con 3 elementos\n",
    "2. Crea otra tupla con un elemento y comprueba su tipo\n",
    "3. Crea una tupla con elementos de diferentes tipos\n",
    "4. Imprime por pantalla el primer y último elemento de la tupla del apartado 3. Usa `len` para el último\n",
    "5. Añade un elemento a la tupla del apartado 3.\n",
    "6. Eliminar un elemento de la tupla del apartado 5, que se encuentre más o menos en la mitad.\n",
    "7. Convierte la tupla del apartado 5 en una lista"
   ]
  },
  {
   "cell_type": "code",
   "execution_count": 24,
   "metadata": {},
   "outputs": [
    {
     "name": "stdout",
     "output_type": "stream",
     "text": [
      "<class 'tuple'>\n",
      "<class 'tuple'>\n",
      "a True\n",
      "('a', 1.5, True, 'pi')\n",
      "('a', True, 'pi')\n",
      "['a', True, 'pi']\n"
     ]
    }
   ],
   "source": [
    "ejer_6_1 = (1,2,3)\n",
    "ejer_6_2 = (4,)\n",
    "ejer_6_3 = (\"a\",1.5,True)\n",
    "print(type(ejer_6_2))\n",
    "print(type(ejer_6_3))\n",
    "n = len(ejer_6_3)\n",
    "print(ejer_6_3[0], ejer_6_3[n-1])\n",
    "\n",
    "ejer_6_3 = ejer_6_3 + (\"pi\",)\n",
    "print(ejer_6_3)\n",
    "\n",
    "pivot = list(ejer_6_3)\n",
    "del pivot[1]\n",
    "ejer_6_4 = tuple(pivot)\n",
    "print(ejer_6_4)\n",
    "\n",
    "print(pivot)"
   ]
  },
  {
   "cell_type": "code",
   "execution_count": null,
   "metadata": {},
   "outputs": [],
   "source": []
  },
  {
   "cell_type": "code",
   "execution_count": null,
   "metadata": {},
   "outputs": [],
   "source": []
  },
  {
   "cell_type": "code",
   "execution_count": null,
   "metadata": {},
   "outputs": [],
   "source": []
  },
  {
   "cell_type": "code",
   "execution_count": null,
   "metadata": {},
   "outputs": [],
   "source": []
  },
  {
   "cell_type": "code",
   "execution_count": null,
   "metadata": {},
   "outputs": [],
   "source": []
  },
  {
   "cell_type": "code",
   "execution_count": null,
   "metadata": {},
   "outputs": [],
   "source": []
  },
  {
   "attachments": {},
   "cell_type": "markdown",
   "metadata": {},
   "source": [
    "## Ejercicio 7\n",
    "Concatena todos los elementos de la tupla en un único string. Para ello utiliza el metodo `.join()` de los Strings\n",
    "> ```ejer_7 = (\"cien\", \"cañones\", \"por\", \"banda\")```\n",
    "\n",
    "Resultado: `cien cañones por banda`"
   ]
  },
  {
   "cell_type": "code",
   "execution_count": 29,
   "metadata": {},
   "outputs": [
    {
     "name": "stdout",
     "output_type": "stream",
     "text": [
      "cien cañones por banda\n"
     ]
    }
   ],
   "source": [
    "ejer_7 = (\"cien\", \"cañones\", \"por\", \"banda\")\n",
    "cadena = \" \".join(ejer_7) \n",
    "print(cadena)"
   ]
  },
  {
   "cell_type": "code",
   "execution_count": null,
   "metadata": {},
   "outputs": [],
   "source": []
  },
  {
   "cell_type": "code",
   "execution_count": null,
   "metadata": {},
   "outputs": [],
   "source": []
  },
  {
   "cell_type": "markdown",
   "metadata": {},
   "source": [
    "## Ejercicio 8\n",
    "Obten el tercer elemento de la siguiente tupla, y el tercero empezando por la cola\n",
    "> ```ejer_8 = (3, 20, 3, 47, 19, 3, 29, 45, 67, 78, 90, 3, 3)```"
   ]
  },
  {
   "cell_type": "code",
   "execution_count": 32,
   "metadata": {},
   "outputs": [
    {
     "name": "stdout",
     "output_type": "stream",
     "text": [
      "3 90\n"
     ]
    }
   ],
   "source": [
    "ejer_8 = (3, 20, 3, 47, 19, 3, 29, 45, 67, 78, 90, 3, 3)\n",
    "print(ejer_8[2], ejer_8[-3])"
   ]
  },
  {
   "cell_type": "code",
   "execution_count": null,
   "metadata": {},
   "outputs": [],
   "source": []
  },
  {
   "attachments": {},
   "cell_type": "markdown",
   "metadata": {},
   "source": [
    "## Ejercicio 9\n",
    "1. ¿Cuántas veces se repite el 3 en la siguiente tupla?\n",
    "2. Crea una tupla nueva con los elementos desde la posición 5 a la 10.\n",
    "3. ¿Cuántos elementos tiene la tupla `ejer_9`?\n",
    "4. Comprueba si el numero 60 está en la tupla\n",
    "> ```ejer_9 = (3, 20, 3, 47, 19, 3, 29, 45, 67, 78, 90, 3, 3, 5, 2, 4, 7, 9, 4, 2, 4, 3, 3, 4, 6, 7)```"
   ]
  },
  {
   "cell_type": "code",
   "execution_count": 35,
   "metadata": {},
   "outputs": [
    {
     "name": "stdout",
     "output_type": "stream",
     "text": [
      "El 3 se repite 7 veces\n",
      "La tupla tiene 26 elementos\n",
      "El número 60 está en la tupla? False\n"
     ]
    }
   ],
   "source": [
    "ejer_9 = (3, 20, 3, 47, 19, 3, 29, 45, 67, 78, 90, 3, 3, 5, 2, 4, 7, 9, 4, 2, 4, 3, 3, 4, 6, 7)\n",
    "print(\"El 3 se repite\",ejer_9.count(3), \"veces\")\n",
    "print(\"La tupla tiene\", len(ejer_9), \"elementos\")\n",
    "print(\"El número 60 está en la tupla?\", 60 in ejer_9)\n"
   ]
  },
  {
   "cell_type": "code",
   "execution_count": null,
   "metadata": {},
   "outputs": [],
   "source": []
  },
  {
   "cell_type": "code",
   "execution_count": null,
   "metadata": {},
   "outputs": [],
   "source": []
  },
  {
   "cell_type": "code",
   "execution_count": null,
   "metadata": {},
   "outputs": [],
   "source": []
  },
  {
   "cell_type": "code",
   "execution_count": null,
   "metadata": {},
   "outputs": [],
   "source": []
  },
  {
   "attachments": {},
   "cell_type": "markdown",
   "metadata": {},
   "source": [
    "## Ejercicio 10\n",
    "1. Convierte la tupla del ejercicio 9 en una lista\n",
    "2. Convierte la tupla del ejercicio 9 en un set\n",
    "3. Convierte la tupla del ejercicio 9 en un diccionario. Usa también los índices"
   ]
  },
  {
   "cell_type": "code",
   "execution_count": 43,
   "metadata": {},
   "outputs": [
    {
     "name": "stdout",
     "output_type": "stream",
     "text": [
      "[3, 20, 3, 47, 19, 3, 29, 45, 67, 78, 90, 3, 3, 5, 2, 4, 7, 9, 4, 2, 4, 3, 3, 4, 6, 7]\n",
      "{2, 3, 67, 5, 4, 7, 6, 9, 45, 78, 47, 19, 20, 90, 29}\n",
      "{0: 3, 1: 20, 2: 3, 3: 47, 4: 19, 5: 3, 6: 29, 7: 45, 8: 67, 9: 78, 10: 90, 11: 3, 12: 3, 13: 5, 14: 2, 15: 4, 16: 7, 17: 9, 18: 4, 19: 2, 20: 4, 21: 3, 22: 3, 23: 4, 24: 6, 25: 7}\n"
     ]
    }
   ],
   "source": [
    "lista_10 = list(ejer_9)\n",
    "set_10 = set(ejer_9)\n",
    "dic_10 = {}\n",
    "for i, elem in enumerate(ejer_9):\n",
    "    dic_10[i] = elem\n",
    "print(lista_10)\n",
    "print(set_10)\n",
    "print(dic_10)"
   ]
  },
  {
   "cell_type": "code",
   "execution_count": null,
   "metadata": {},
   "outputs": [],
   "source": []
  },
  {
   "cell_type": "code",
   "execution_count": null,
   "metadata": {},
   "outputs": [],
   "source": []
  },
  {
   "cell_type": "code",
   "execution_count": null,
   "metadata": {},
   "outputs": [],
   "source": []
  },
  {
   "cell_type": "code",
   "execution_count": null,
   "metadata": {},
   "outputs": [],
   "source": []
  },
  {
   "cell_type": "markdown",
   "metadata": {},
   "source": [
    "## Ejercicio 11\n",
    "Convierte la siguiente lista en un diccionario\n",
    "> ```ejer_11 = [(\"x\", 1), (\"x\", 2), (\"x\", 3), (\"y\", 1), (\"y\", 2), (\"z\", 1)]```\n",
    "\n",
    "TIP: Puedes usar dos variables de control en un bucle `for`. Una por cada valor de las tuplas."
   ]
  },
  {
   "cell_type": "code",
   "execution_count": null,
   "metadata": {},
   "outputs": [
    {
     "ename": "SyntaxError",
     "evalue": "':' expected after dictionary key (2987063015.py, line 1)",
     "output_type": "error",
     "traceback": [
      "  \u001b[36mCell\u001b[39m\u001b[36m \u001b[39m\u001b[32mIn[97]\u001b[39m\u001b[32m, line 1\u001b[39m\n\u001b[31m    \u001b[39m\u001b[31mdiccionario_prueba = {1: \"hola\", \"adiós\"}\u001b[39m\n                                           ^\n\u001b[31mSyntaxError\u001b[39m\u001b[31m:\u001b[39m ':' expected after dictionary key\n"
     ]
    }
   ],
   "source": [
    "ejer_11 = [(\"x\", 1), (\"x\", 2), (\"x\", 3), (\"y\", 1), (\"y\", 2), (\"z\", 1)]\n",
    "\n",
    "dic_11 = {}\n",
    "for i in ejer_11:\n",
    "    aux = i[0]\n",
    "    res = i[1]\n",
    "    if aux in dic_11:\n",
    "        dic_11[aux].append(res)\n",
    "    else:\n",
    "        dic_11[aux] = [res]\n",
    "print(dic_11)"
   ]
  },
  {
   "cell_type": "code",
   "execution_count": null,
   "metadata": {},
   "outputs": [],
   "source": []
  },
  {
   "cell_type": "code",
   "execution_count": null,
   "metadata": {},
   "outputs": [],
   "source": []
  },
  {
   "cell_type": "code",
   "execution_count": null,
   "metadata": {},
   "outputs": [],
   "source": []
  },
  {
   "cell_type": "code",
   "execution_count": null,
   "metadata": {},
   "outputs": [],
   "source": []
  },
  {
   "cell_type": "code",
   "execution_count": null,
   "metadata": {},
   "outputs": [],
   "source": []
  },
  {
   "cell_type": "code",
   "execution_count": null,
   "metadata": {},
   "outputs": [],
   "source": []
  },
  {
   "cell_type": "code",
   "execution_count": null,
   "metadata": {},
   "outputs": [],
   "source": []
  },
  {
   "cell_type": "code",
   "execution_count": null,
   "metadata": {},
   "outputs": [],
   "source": []
  },
  {
   "cell_type": "code",
   "execution_count": null,
   "metadata": {},
   "outputs": [],
   "source": []
  },
  {
   "attachments": {},
   "cell_type": "markdown",
   "metadata": {},
   "source": [
    "## Ejercicio 12\n",
    "1. Crea una lista ordenada ascendente con las claves del diccionario\n",
    "2. Crea otra lista ordenada descendente con los valores\n",
    "3. Añade una nueva clave/valor\n",
    "4. Busca la clave igual a 2 dentro del diccionario\n",
    "5. Itera la clave y el valor del diccionario con un único for\n",
    "> ```ejer_12 = {4:78, 2:98, 8:234, 5:29}```"
   ]
  },
  {
   "cell_type": "code",
   "execution_count": 96,
   "metadata": {},
   "outputs": [
    {
     "name": "stdout",
     "output_type": "stream",
     "text": [
      "[2, 4, 5, 8]\n",
      "[234, 98, 78, 29]\n",
      "No estoy seguro de si el enunciado pide esto 98\n",
      "4 78\n",
      "2 98\n",
      "8 234\n",
      "5 29\n",
      "33 123\n"
     ]
    }
   ],
   "source": [
    "ejer_12 = {4:78, 2:98, 8:234, 5:29}\n",
    "ordena = []\n",
    "for i in ejer_12.keys():\n",
    "    ordena.append(i)\n",
    "ordena.sort()\n",
    "print(ordena)\n",
    "ordena2 = []\n",
    "for i in ejer_12.values():\n",
    "    ordena2.append(i)\n",
    "inverso = sorted(ordena2, reverse=True)\n",
    "print(inverso)\n",
    "\n",
    "ejer_12[33] = 123\n",
    "print(\"No estoy seguro de si el enunciado pide esto\", ejer_12[2])\n",
    "for i,j in ejer_12.items():\n",
    "    print(i,j)"
   ]
  },
  {
   "cell_type": "code",
   "execution_count": null,
   "metadata": {},
   "outputs": [],
   "source": []
  },
  {
   "cell_type": "code",
   "execution_count": null,
   "metadata": {},
   "outputs": [],
   "source": []
  },
  {
   "cell_type": "code",
   "execution_count": null,
   "metadata": {},
   "outputs": [],
   "source": []
  },
  {
   "cell_type": "code",
   "execution_count": null,
   "metadata": {},
   "outputs": [],
   "source": []
  },
  {
   "cell_type": "code",
   "execution_count": null,
   "metadata": {},
   "outputs": [],
   "source": []
  },
  {
   "cell_type": "code",
   "execution_count": null,
   "metadata": {},
   "outputs": [],
   "source": []
  },
  {
   "cell_type": "code",
   "execution_count": null,
   "metadata": {},
   "outputs": [],
   "source": []
  },
  {
   "cell_type": "code",
   "execution_count": null,
   "metadata": {},
   "outputs": [],
   "source": []
  },
  {
   "cell_type": "markdown",
   "metadata": {},
   "source": [
    "## Ejercicio 13\n",
    "Junta ambos diccionarios. Para ello, utiliza `update`\n",
    "> ```ejer_13_1 = {1: 11, 2: 22}```\n",
    ">\n",
    "> ```ejer_13_2 = {3: 33, 4: 44}```"
   ]
  },
  {
   "cell_type": "code",
   "execution_count": 86,
   "metadata": {},
   "outputs": [
    {
     "name": "stdout",
     "output_type": "stream",
     "text": [
      "{1: 11, 2: 22, 3: 33, 4: 44}\n"
     ]
    }
   ],
   "source": [
    "ejer_13_1 = {1: 11, 2: 22}\n",
    "\n",
    "ejer_13_2 = {3: 33, 4: 44}\n",
    "\n",
    "ejer_13_1.update(ejer_13_2)\n",
    "\n",
    "print(ejer_13_1)"
   ]
  },
  {
   "cell_type": "code",
   "execution_count": null,
   "metadata": {},
   "outputs": [],
   "source": []
  },
  {
   "cell_type": "code",
   "execution_count": null,
   "metadata": {},
   "outputs": [],
   "source": []
  },
  {
   "cell_type": "markdown",
   "metadata": {},
   "source": [
    "## Ejercicio 14\n",
    "Suma todos los valores del dicionario\n",
    "> ```ejer_14 = {1: 11, 2: 22, 3: 33, 4: 44, 5: 55}```"
   ]
  },
  {
   "cell_type": "code",
   "execution_count": 89,
   "metadata": {},
   "outputs": [
    {
     "name": "stdout",
     "output_type": "stream",
     "text": [
      "165\n"
     ]
    }
   ],
   "source": [
    "ejer_14 = {1: 11, 2: 22, 3: 33, 4: 44, 5: 55}\n",
    "suma = sum(list(ejer_14.values()))\n",
    "print(suma)"
   ]
  },
  {
   "cell_type": "code",
   "execution_count": null,
   "metadata": {},
   "outputs": [],
   "source": []
  },
  {
   "cell_type": "markdown",
   "metadata": {},
   "source": [
    "## Ejercicio 15\n",
    "Multiplica todos los valores del diccionario\n",
    "> ```ejer_15 = {1: 11, 2: 22, 3: 33, 4: 44, 5: 55}```"
   ]
  },
  {
   "cell_type": "code",
   "execution_count": 90,
   "metadata": {},
   "outputs": [
    {
     "name": "stdout",
     "output_type": "stream",
     "text": [
      "19326120\n"
     ]
    }
   ],
   "source": [
    "ejer_15 = {1: 11, 2: 22, 3: 33, 4: 44, 5: 55}\n",
    "multi = 1\n",
    "for i in ejer_15.values():\n",
    "    multi *= i\n",
    "\n",
    "print(multi)"
   ]
  },
  {
   "cell_type": "code",
   "execution_count": null,
   "metadata": {},
   "outputs": [],
   "source": []
  },
  {
   "cell_type": "code",
   "execution_count": null,
   "metadata": {},
   "outputs": [],
   "source": []
  },
  {
   "cell_type": "code",
   "execution_count": null,
   "metadata": {},
   "outputs": [],
   "source": []
  },
  {
   "cell_type": "code",
   "execution_count": null,
   "metadata": {},
   "outputs": [],
   "source": []
  },
  {
   "cell_type": "markdown",
   "metadata": {},
   "source": [
    "## Ejercicio 16\n",
    "1. Crea un set de tres elementos\n",
    "2. Añade un cuarto\n",
    "3. Elimina el último elemento añadido\n",
    "4. Elimina el elemento 10, si está presente. Usa `discard()`"
   ]
  },
  {
   "cell_type": "code",
   "execution_count": 95,
   "metadata": {},
   "outputs": [
    {
     "name": "stdout",
     "output_type": "stream",
     "text": [
      "{-24, 2, 55, 23}\n",
      "{-24, 2, 23}\n",
      "{-24, 2, 23}\n"
     ]
    }
   ],
   "source": [
    "ultimo = {2, 23, -24}\n",
    "x = 55\n",
    "ultimo.add(x)\n",
    "print(ultimo)\n",
    "ultimo.remove(x)\n",
    "print(ultimo)\n",
    "ultimo.discard(10)\n",
    "print(ultimo)"
   ]
  },
  {
   "cell_type": "code",
   "execution_count": null,
   "metadata": {},
   "outputs": [],
   "source": []
  },
  {
   "cell_type": "code",
   "execution_count": null,
   "metadata": {},
   "outputs": [],
   "source": []
  },
  {
   "cell_type": "code",
   "execution_count": 187,
   "metadata": {},
   "outputs": [],
   "source": []
  },
  {
   "cell_type": "code",
   "execution_count": null,
   "metadata": {},
   "outputs": [],
   "source": []
  },
  {
   "cell_type": "code",
   "execution_count": null,
   "metadata": {},
   "outputs": [],
   "source": []
  },
  {
   "cell_type": "markdown",
   "metadata": {},
   "source": [
    "## Ejercicio 2\n",
    "Programa el SW de una biblioteca:\n",
    "\n",
    "* Pregunte qué operación quieres realizar (visualizar todos los libros de la biblioteca/buscar libro/aniadir libro/eliminar libro)\n",
    "    * En caso de que pida visualizar se visualizarán todos los libros\n",
    "    * Buscar libro: búsqueda por título que introduce el usuario\n",
    "    * Aniadir libro: el usuario aniade todos los campos mediante inputs\n",
    "    * Eliminar libro: por autor "
   ]
  },
  {
   "cell_type": "code",
   "execution_count": 8,
   "metadata": {},
   "outputs": [],
   "source": [
    "libros = [\n",
    "    {\"Titulo\": \"Python Data Science Handbook\", \"Autor\": \"Jake VanderPlas\", \"Alquilado\": False},\n",
    "    {\"Titulo\": \"Hands-On Machine Learning with Scikit-Learn, Keras, and TensorFlow\", \"Autor\": \"Aurélien Géron\", \"Alquilado\": True},\n",
    "    {\"Titulo\": \"Pattern Recognition and Machine Learning\", \"Autor\": \"Christopher M. Bishop\", \"Alquilado\": False},\n",
    "    {\"Titulo\": \"Deep Learning\", \"Autor\": \"Ian Goodfellow, Yoshua Bengio, Aaron Courville\", \"Alquilado\": True},\n",
    "    {\"Titulo\": \"The Elements of Statistical Learning\", \"Autor\": \"Trevor Hastie, Robert Tibshirani, Jerome Friedman\", \"Alquilado\": False},\n",
    "    {\"Titulo\": \"Data Science for Business\", \"Autor\": \"Foster Provost, Tom Fawcett\", \"Alquilado\": False},\n",
    "    {\"Titulo\": \"Bayesian Data Analysis\", \"Autor\": \"Andrew Gelman et al.\", \"Alquilado\": True},\n",
    "    {\"Titulo\": \"Introduction to the Theory of Computation\", \"Autor\": \"Michael Sipser\", \"Alquilado\": False},\n",
    "    {\"Titulo\": \"Artificial Intelligence: A Modern Approach\", \"Autor\": \"Stuart Russell, Peter Norvig\", \"Alquilado\": True},\n",
    "    {\"Titulo\": \"Computer Vision: Algorithms and Applications\", \"Autor\": \"Richard Szeliski\", \"Alquilado\": False},\n",
    "    {\"Titulo\": \"Data Science from Scratch\", \"Autor\": \"Joel Grus\", \"Alquilado\": True},\n",
    "    {\"Titulo\": \"The Art of Statistics\", \"Autor\": \"David Spiegelhalter\", \"Alquilado\": False},\n",
    "    {\"Titulo\": \"Python Machine Learning\", \"Autor\": \"Sebastian Raschka, Vahid Mirjalili\", \"Alquilado\": True},\n",
    "    {\"Titulo\": \"An Introduction to Statistical Learning\", \"Autor\": \"Gareth James, Daniela Witten, Trevor Hastie, Robert Tibshirani\", \"Alquilado\": False},\n",
    "    {\"Titulo\": \"Fundamentals of Data Engineering\", \"Autor\": \"Joe Reis, Matt Housley\", \"Alquilado\": False},\n",
    "    {\"Titulo\": \"Storytelling with Data\", \"Autor\": \"Cole Nussbaumer Knaflic\", \"Alquilado\": True},\n",
    "    {\"Titulo\": \"Building Machine Learning Powered Applications\", \"Autor\": \"Emmanuel Ameisen\", \"Alquilado\": False},\n",
    "    {\"Titulo\": \"Practical Statistics for Data Scientists\", \"Autor\": \"Peter Bruce, Andrew Bruce\", \"Alquilado\": True},\n",
    "    {\"Titulo\": \"SQL for Data Scientists\", \"Autor\": \"Renee M. P. Teate\", \"Alquilado\": False},\n",
    "    {\"Titulo\": \"Data Engineering on Azure\", \"Autor\": \"Vlad Riscutia\", \"Alquilado\": True}\n",
    "]"
   ]
  },
  {
   "cell_type": "code",
   "execution_count": 9,
   "metadata": {},
   "outputs": [],
   "source": [
    "import pprint"
   ]
  },
  {
   "cell_type": "code",
   "execution_count": 19,
   "metadata": {},
   "outputs": [
    {
     "name": "stdout",
     "output_type": "stream",
     "text": [
      "[{'Alquilado': False,\n",
      "  'Autor': 'Jake VanderPlas',\n",
      "  'Titulo': 'Python Data Science Handbook'},\n",
      " {'Alquilado': True,\n",
      "  'Autor': 'Aurélien Géron',\n",
      "  'Titulo': 'Hands-On Machine Learning with Scikit-Learn, Keras, and '\n",
      "            'TensorFlow'},\n",
      " {'Alquilado': False,\n",
      "  'Autor': 'Christopher M. Bishop',\n",
      "  'Titulo': 'Pattern Recognition and Machine Learning'},\n",
      " {'Alquilado': True,\n",
      "  'Autor': 'Ian Goodfellow, Yoshua Bengio, Aaron Courville',\n",
      "  'Titulo': 'Deep Learning'},\n",
      " {'Alquilado': False,\n",
      "  'Autor': 'Trevor Hastie, Robert Tibshirani, Jerome Friedman',\n",
      "  'Titulo': 'The Elements of Statistical Learning'},\n",
      " {'Alquilado': False,\n",
      "  'Autor': 'Foster Provost, Tom Fawcett',\n",
      "  'Titulo': 'Data Science for Business'},\n",
      " {'Alquilado': True,\n",
      "  'Autor': 'Andrew Gelman et al.',\n",
      "  'Titulo': 'Bayesian Data Analysis'},\n",
      " {'Alquilado': False,\n",
      "  'Autor': 'Michael Sipser',\n",
      "  'Titulo': 'Introduction to the Theory of Computation'},\n",
      " {'Alquilado': True,\n",
      "  'Autor': 'Stuart Russell, Peter Norvig',\n",
      "  'Titulo': 'Artificial Intelligence: A Modern Approach'},\n",
      " {'Alquilado': False,\n",
      "  'Autor': 'Richard Szeliski',\n",
      "  'Titulo': 'Computer Vision: Algorithms and Applications'},\n",
      " {'Alquilado': True,\n",
      "  'Autor': 'Joel Grus',\n",
      "  'Titulo': 'Data Science from Scratch'},\n",
      " {'Alquilado': False,\n",
      "  'Autor': 'David Spiegelhalter',\n",
      "  'Titulo': 'The Art of Statistics'},\n",
      " {'Alquilado': True,\n",
      "  'Autor': 'Sebastian Raschka, Vahid Mirjalili',\n",
      "  'Titulo': 'Python Machine Learning'},\n",
      " {'Alquilado': False,\n",
      "  'Autor': 'Gareth James, Daniela Witten, Trevor Hastie, Robert Tibshirani',\n",
      "  'Titulo': 'An Introduction to Statistical Learning'},\n",
      " {'Alquilado': False,\n",
      "  'Autor': 'Joe Reis, Matt Housley',\n",
      "  'Titulo': 'Fundamentals of Data Engineering'},\n",
      " {'Alquilado': True,\n",
      "  'Autor': 'Cole Nussbaumer Knaflic',\n",
      "  'Titulo': 'Storytelling with Data'},\n",
      " {'Alquilado': False,\n",
      "  'Autor': 'Emmanuel Ameisen',\n",
      "  'Titulo': 'Building Machine Learning Powered Applications'},\n",
      " {'Alquilado': True,\n",
      "  'Autor': 'Peter Bruce, Andrew Bruce',\n",
      "  'Titulo': 'Practical Statistics for Data Scientists'},\n",
      " {'Alquilado': False,\n",
      "  'Autor': 'Renee M. P. Teate',\n",
      "  'Titulo': 'SQL for Data Scientists'},\n",
      " {'Alquilado': True,\n",
      "  'Autor': 'Vlad Riscutia',\n",
      "  'Titulo': 'Data Engineering on Azure'}]\n"
     ]
    }
   ],
   "source": [
    "def imprime(libros):\n",
    "     pprint.pprint(libros)\n",
    "\n",
    "\n",
    "def busca(libros):\n",
    "    lib = input(\"Introduce el título del libro que deseas buscar:\")\n",
    "    lib = lib.strip().lower()\n",
    "    encuentra = False\n",
    "    for i in libros:\n",
    "        if i[\"Titulo\"].lower() == lib:\n",
    "            print(\"Lo tenemos\")\n",
    "            encuentra = True\n",
    "    if not encuentra:\n",
    "        print(\"Lo sentimos, no lo tenemos\")\n",
    "\n",
    "\n",
    "def introduce(libros):\n",
    "    tit = input(\"Introduce el título del libro\")\n",
    "    tit = tit.title().strip()\n",
    "    aut = input(\"Introduce el autor del libro\")\n",
    "    aut = aut.title().strip()\n",
    "    alq = input(\"¿Está alquilado? Responde sí o no\")\n",
    "    alq = alq.lower().strip()\n",
    "    if alq == \"sí\" or alq == \"si\":\n",
    "        alq = True\n",
    "    else:\n",
    "        alq = False        \n",
    "    new = {\"Titulo\":tit, \"Autor\":aut, \"Alquilado\":alq}\n",
    "    libros.append(new)\n",
    "    print(\"Se ha añadido el libro a la libreria\")\n",
    "    \n",
    "\n",
    "def elimina(libros):\n",
    "    eli = input(\"¿Qué autor deseas eliminar?\")\n",
    "    eli = eli.title().strip()\n",
    "    for n,i in enumerate(libros):\n",
    "        if i[\"Autor\"] == eli:\n",
    "            del libros[n]\n",
    "\n",
    "s = input(\"¿Qué acción deseas realizar? \\n \\\n",
    "          Consultar todos los libros de la biblioteca \\n \\\n",
    "          Buscar libro \\n \\\n",
    "          aniadir libro \\n \\\n",
    "          eliminar libro\")\n",
    "s.lower().strip()\n",
    "match s:\n",
    "    case \"consultar todos los libros de la biblioteca\":\n",
    "        imprime(libros)\n",
    "    case \"buscar libro\":\n",
    "        busca(libros)\n",
    "    case \"aniadir libro\":\n",
    "        introduce(libros)\n",
    "    case \"eliminar libro\":\n",
    "        elimina(libros)\n",
    "    case _:\n",
    "        print(\"Acción no válida\")\n"
   ]
  },
  {
   "cell_type": "code",
   "execution_count": null,
   "metadata": {},
   "outputs": [],
   "source": []
  }
 ],
 "metadata": {
  "kernelspec": {
   "display_name": "Python 3",
   "language": "python",
   "name": "python3"
  },
  "language_info": {
   "codemirror_mode": {
    "name": "ipython",
    "version": 3
   },
   "file_extension": ".py",
   "mimetype": "text/x-python",
   "name": "python",
   "nbconvert_exporter": "python",
   "pygments_lexer": "ipython3",
   "version": "3.11.9"
  }
 },
 "nbformat": 4,
 "nbformat_minor": 4
}
