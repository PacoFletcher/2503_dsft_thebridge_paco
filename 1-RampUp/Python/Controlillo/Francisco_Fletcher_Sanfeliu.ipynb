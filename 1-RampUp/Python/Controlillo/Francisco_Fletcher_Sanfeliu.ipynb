{
 "cells": [
  {
   "attachments": {},
   "cell_type": "markdown",
   "metadata": {},
   "source": [
    "# Test RAMP UP DS-FT Febrero 2024"
   ]
  },
  {
   "cell_type": "code",
   "execution_count": 2,
   "metadata": {},
   "outputs": [],
   "source": [
    "# Escribe tu nombre y apellidos (apellido si solo tienes uno) en las variables:\n",
    "nombre = \"Francisco\"\n",
    "apellidos = \"Fletcher Sanfeliu\""
   ]
  },
  {
   "cell_type": "code",
   "execution_count": 3,
   "metadata": {},
   "outputs": [
    {
     "name": "stdout",
     "output_type": "stream",
     "text": [
      "Bienvenido Francisco Fletcher Sanfeliu. Mucha suerte!\n"
     ]
    }
   ],
   "source": [
    "# Solo ejecutar\n",
    "nombre_apellidos = nombre + ' ' + apellidos\n",
    "print(\"Bienvenido\", nombre_apellidos + '. Mucha suerte!')"
   ]
  },
  {
   "cell_type": "code",
   "execution_count": 4,
   "metadata": {},
   "outputs": [
    {
     "name": "stdout",
     "output_type": "stream",
     "text": [
      "Antes de comenzar, cambia el nombre de este archivo notebook a Francisco_Fletcher_Sanfeliu.ipynb\n"
     ]
    }
   ],
   "source": [
    "# Solo ejecutar\n",
    "print('Antes de comenzar, cambia el nombre de este archivo notebook a', nombre_apellidos.replace(' ','_') + '.ipynb')"
   ]
  },
  {
   "cell_type": "markdown",
   "metadata": {},
   "source": [
    "-----------------"
   ]
  },
  {
   "cell_type": "code",
   "execution_count": 4,
   "metadata": {},
   "outputs": [],
   "source": [
    "# No te olvides de documentar el código para dejar clara la lógica, sobre todo cuando no sale el resultado"
   ]
  },
  {
   "attachments": {},
   "cell_type": "markdown",
   "metadata": {},
   "source": [
    "### Ejercicio 1 (1 punto)\n",
    "En este ejercicio se va a crear una lista con los siguientes elementos. Primero, crearemos las variables que luego añadiremos a la lista. Las variables son las siguientes:\n",
    "\n",
    "1. Crea una variable llamada `dia` de tipo Integer que sea el día del mes. \n",
    "2. Crea una variable llamada `campus` de tipo String , con la ciudad donde está tu campus de The Bridge. \n",
    "3. Crea una variable llamada `altura` con el valor de tu altura en metros de tipo float.\n",
    "4. Crea una variable llamada `s_operativo` de tipo Boolean True si usas Windows y False si usas otro.\n",
    "5. Crea una variable llamada `nada` de tipo None cuyo valor sea None.\n",
    "6. Crea una variable llamada `lista_comidas` de tipo List que contenga 5 platos de comida. Cada elemento ha de ser de tipo String.\n",
    "7. Crea una variable llamada `tupla_cubiertos` de tipo Tuple con tres cubiertos que deben ser de tipo String cada uno.\n",
    "8. Crea una variable llamada `dict_discord`. Una key es `nombre`, teniendo como value el nombre de usuario en discord de tipo String. Otra key es la `room`, cuyo valor es un entero del número de la sala en la que te encuentras haciendo el examen.\n",
    "9. Añade todos estas variables en una lista llamada `lista_examen` en el orden del enunciado.\n",
    "10. Imprime por pantalla con un bucle for, el tipo de cada elemento de `lista_examen`."
   ]
  },
  {
   "cell_type": "code",
   "execution_count": 22,
   "metadata": {},
   "outputs": [
    {
     "name": "stdout",
     "output_type": "stream",
     "text": [
      "13\n",
      "Bilbao\n",
      "1.63\n",
      "True\n",
      "None\n",
      "['Paella', 'Tortilla de patatas (con cebolla)', 'Arròs al forn', 'Sushi', 'Wok']\n",
      "('Cuchara', 'Tenedor', 'Cuchillo')\n",
      "{'Francisco': 1}\n"
     ]
    }
   ],
   "source": [
    "dia = 13\n",
    "campus = \"Bilbao\"\n",
    "altura = 1.63\n",
    "s_operativo = True\n",
    "nada = None\n",
    "lista_comidas = [\"Paella\", \"Tortilla de patatas (con cebolla)\", \"Arròs al forn\", \"Sushi\", \"Wok\"]\n",
    "tupla_cubiertos = (\"Cuchara\", \"Tenedor\", \"Cuchillo\")\n",
    "room = 1\n",
    "dict_discord = {nombre : room}\n",
    "lista_examen = [dia, campus, altura, s_operativo, nada, lista_comidas, tupla_cubiertos, dict_discord]\n",
    "for i in lista_examen:\n",
    "    print(i)\n",
    "\n"
   ]
  },
  {
   "attachments": {},
   "cell_type": "markdown",
   "metadata": {},
   "source": [
    "### Ejercicio 2 (2 puntos)\n",
    "\n",
    "Para resolver este ejercicio necesitarás la lista del ejercicio anterior (`lista_examen`). Se recomienda leer cada punto hasta el final antes de resolver el ejercicio.\n",
    "\n",
    "Se repite para que quede aún más claro: **SOLO USAR LA VARIABLE** `lista_examen`. Usar otra variable se calificará como error.  "
   ]
  },
  {
   "attachments": {},
   "cell_type": "markdown",
   "id": "ff4becae-86c4-46ab-9e09-3aeec5296700",
   "metadata": {},
   "source": [
    "1. Guardar en las variables que aparecen como `res2x`, lo siguiente: (0.5)\n",
    "    - `res21` El tercer cubierto.\n",
    "    - `res22` La penúltima comida.\n",
    "    - `res23` Una lista del segundo al quinto elemento incluidos ambos.\n",
    "    - `res24` Una tupla con los valores del diccionario de discord.\n",
    "    - `res25` Los 4 primeros caracteres del valor del nombre de tu discord.\n"
   ]
  },
  {
   "cell_type": "code",
   "execution_count": 23,
   "metadata": {},
   "outputs": [
    {
     "name": "stdout",
     "output_type": "stream",
     "text": [
      "Cuchillo\n",
      "Sushi\n",
      "['Bilbao', 1.63, True, None]\n",
      "(1,)\n",
      "Fran\n"
     ]
    }
   ],
   "source": [
    "# La tupla cubiertos está en la posición 6 de la lista, y el tercer cubiero en la posición 2 de la tupla\n",
    "\n",
    "res21 = lista_examen[6][2]\n",
    "\n",
    "print(res21)\n",
    "\n",
    "# Podemos acceder a la penúltima comida accediendo a la posición -2, o bien accediendo a la posición 3\n",
    "# Para asegurarnos que siempre se accede a la penúltima, es preferible usar la posición -2, \n",
    "# por si en algún momento se modificara la lista\n",
    "\n",
    "res22 = lista_examen[5][-2]\n",
    "\n",
    "print(res22)\n",
    "\n",
    "# Seleccionando los elementos del 1 al 5 copiamos un subconjunto de esta lista\n",
    "# Finalizamos en 5 para que copie los elementos 1, 2, 3 y 4.\n",
    "\n",
    "res23 = lista_examen[1:5]\n",
    "\n",
    "print(res23)\n",
    "\n",
    "res24 = tuple(lista_examen[-1].values())\n",
    "print(res24)\n",
    "\n",
    "# Para acceder a los elementos del conjunto de claves tenemos que convertirlo en un objeto iterable\n",
    "# Por tanto, lo convertimos en una lista y así podemos acceder a los caracteres solicitados\n",
    "\n",
    "res25 = list(lista_examen[-1].keys())[0][0:4] \n",
    "print(res25)"
   ]
  },
  {
   "cell_type": "code",
   "execution_count": null,
   "metadata": {},
   "outputs": [],
   "source": []
  },
  {
   "attachments": {},
   "cell_type": "markdown",
   "metadata": {},
   "source": [
    "    \n",
    "2. Mostrar por pantalla, con uso de un bucle `for`. (0.75)\n",
    "    - Las posiciones y elementos de `lista_examen` de las posiciones impares.\n",
    "    - Los elementos que se encuentran dentro de las colecciones ordenadas de `lista_examen`."
   ]
  },
  {
   "cell_type": "code",
   "execution_count": 24,
   "metadata": {},
   "outputs": [
    {
     "name": "stdout",
     "output_type": "stream",
     "text": [
      "Posición 1, elemento Bilbao\n",
      "Posición 3, elemento True\n",
      "Posición 5, elemento ['Paella', 'Tortilla de patatas (con cebolla)', 'Arròs al forn', 'Sushi', 'Wok']\n",
      "['Arròs al forn', 'Paella', 'Sushi', 'Tortilla de patatas (con cebolla)', 'Wok']\n",
      "['Cuchara', 'Cuchillo', 'Tenedor']\n",
      "Posición 7, elemento {'Francisco': 1}\n",
      "['Francisco']\n"
     ]
    }
   ],
   "source": [
    "# Se tiene que implementar en un solo bucle for?\n",
    "# En ese caso se duplicarán las colecciones que se encunetran en un índice impar \n",
    "# (en este caso lista_comidas y dict_discord), solo que en la segunda ocasión sus elementos estarán ordenados\n",
    "for n, i in enumerate(lista_examen):\n",
    "    if n % 2 == 1:\n",
    "        print(f\"Posición {n}, elemento {i}\")\n",
    "    if type(i) == list or type(i) == tuple or type(i) == dict:\n",
    "        print(sorted(i))"
   ]
  },
  {
   "cell_type": "code",
   "execution_count": null,
   "metadata": {},
   "outputs": [],
   "source": []
  },
  {
   "attachments": {},
   "cell_type": "markdown",
   "metadata": {},
   "source": [
    "3. Con uso del bucle `while`, borra los platos de comida por el final hasta que tengas 2 platos, y guarda esos platos borrados en una nueva lista `platos_borrados` (0.75)"
   ]
  },
  {
   "cell_type": "code",
   "execution_count": 25,
   "metadata": {},
   "outputs": [
    {
     "name": "stdout",
     "output_type": "stream",
     "text": [
      "['Paella', 'Tortilla de patatas (con cebolla)']\n",
      "[{'Francisco': 1}, {'Francisco': 1}, {'Francisco': 1}]\n"
     ]
    }
   ],
   "source": [
    "# Creamos una lista vacía para almacenar los platos que hemos borrado:\n",
    "platos_borrados = []\n",
    "\n",
    "# En el bucle while primero almacenamos la información en la nueva variable y después la eliminamos de la lista original.\n",
    "while len(lista_examen[5]) > 2:\n",
    "    platos_borrados.append(lista_examen[-1])\n",
    "    lista_examen[5].pop()\n",
    "\n",
    "print(lista_examen[5])\n",
    "print(platos_borrados)"
   ]
  },
  {
   "cell_type": "code",
   "execution_count": null,
   "metadata": {},
   "outputs": [],
   "source": []
  },
  {
   "cell_type": "markdown",
   "metadata": {},
   "source": [
    "### Ejercicio 3 (2 puntos)\n",
    "\n",
    "Dado el siguiente diccionario: \n",
    "\n",
    "```python\n",
    "paises = {\n",
    "    \"España\": {\n",
    "        \"capital\": \"Madrid\",\n",
    "        \"superficie\": 505992,\n",
    "        \"habitantes\": 46733038,\n",
    "        \"PIB\": 1478.02\n",
    "    },\n",
    "    \"Francia\": {\n",
    "        \"capital\": \"París\",\n",
    "        \"superficie\": 551695,\n",
    "        \"habitantes\": 67237407,\n",
    "        \"PIB\": 2826.29\n",
    "    },\n",
    "    \"Italia\": {\n",
    "        \"capital\": \"Roma\",\n",
    "        \"superficie\": 301340,\n",
    "        \"habitantes\": 60359546,\n",
    "        \"PIB\": 2099.32 \n",
    "    },\n",
    "    \"Portugal\": {\n",
    "        \"capital\": \"Lisboa\",\n",
    "        \"superficie\": 92212,\n",
    "        \"habitantes\": 10305564,\n",
    "        \"PIB\": 248.89\n",
    "    }\n",
    "}\n",
    "```"
   ]
  },
  {
   "cell_type": "markdown",
   "metadata": {},
   "source": [
    "1. Crea una función llamada `obtener_dato()` con tres argumentos de entrada, el diccionario `paises`, un string llamado `pais` y un string llamado `metrica`. Deberán devolver el valor correspondiente del diccionario. Documéntala"
   ]
  },
  {
   "cell_type": "code",
   "execution_count": 27,
   "metadata": {},
   "outputs": [],
   "source": [
    "paises = {\n",
    "    \"España\": {\n",
    "        \"capital\": \"Madrid\",\n",
    "        \"superficie\": 505992,\n",
    "        \"habitantes\": 46733038,\n",
    "        \"PIB\": 1478.02\n",
    "    },\n",
    "    \"Francia\": {\n",
    "        \"capital\": \"París\",\n",
    "        \"superficie\": 551695,\n",
    "        \"habitantes\": 67237407,\n",
    "        \"PIB\": 2826.29\n",
    "    },\n",
    "    \"Italia\": {\n",
    "        \"capital\": \"Roma\",\n",
    "        \"superficie\": 301340,\n",
    "        \"habitantes\": 60359546,\n",
    "        \"PIB\": 2099.32 \n",
    "    },\n",
    "    \"Portugal\": {\n",
    "        \"capital\": \"Lisboa\",\n",
    "        \"superficie\": 92212,\n",
    "        \"habitantes\": 10305564,\n",
    "        \"PIB\": 248.89\n",
    "    }\n",
    "}"
   ]
  },
  {
   "cell_type": "code",
   "execution_count": 30,
   "metadata": {},
   "outputs": [],
   "source": [
    "def obtener_dato(paises, pais, metrica):\n",
    "    for i in paises.keys():\n",
    "        if i == pais:\n",
    "            for j in paises[i].keys():\n",
    "                if j == metrica:\n",
    "                    return paises[i][j]\n",
    "\n"
   ]
  },
  {
   "cell_type": "code",
   "execution_count": null,
   "metadata": {},
   "outputs": [],
   "source": []
  },
  {
   "cell_type": "code",
   "execution_count": null,
   "metadata": {},
   "outputs": [],
   "source": []
  },
  {
   "cell_type": "code",
   "execution_count": null,
   "metadata": {},
   "outputs": [],
   "source": []
  },
  {
   "cell_type": "code",
   "execution_count": null,
   "metadata": {},
   "outputs": [],
   "source": []
  },
  {
   "cell_type": "code",
   "execution_count": null,
   "metadata": {},
   "outputs": [],
   "source": []
  },
  {
   "cell_type": "markdown",
   "metadata": {},
   "source": [
    "2. Obtén mediante la función los valores de población de Portugal y España. Súmalos y guárdalos en una variable nueva llamada `poblacion_peninsula`"
   ]
  },
  {
   "cell_type": "code",
   "execution_count": 33,
   "metadata": {},
   "outputs": [
    {
     "name": "stdout",
     "output_type": "stream",
     "text": [
      "A los isleños no les gusta este ejercicio :(\n",
      "57038602\n"
     ]
    }
   ],
   "source": [
    "pob_port = int(obtener_dato(paises,\"Portugal\",\"habitantes\"))\n",
    "pob_esp = int(obtener_dato(paises, \"España\", \"habitantes\"))\n",
    "poblacion_peninsula = pob_port + pob_esp\n",
    "print(\"A los isleños no les gusta este ejercicio :(\")\n",
    "print(poblacion_peninsula)\n"
   ]
  },
  {
   "cell_type": "markdown",
   "metadata": {},
   "source": [
    "3. Crea una nueva función llamada `añadir_metrica()` con 3 argumentos de entrada, el diccionario `paises`, un string llamado `pais` que por defecto tendrá el valor de `España` y un string llamado `metrica` que con el nombre de la métrica a añadir. Deberá retornar el diccionario completo, con una nueva métrica añadida en el mismo nivel del resto, llamada `PIB_por_h`, con el valor del PIB por cada habitante redondeado con un decimal. Deberá devolver el diccionario completo con la modificación realizada. Documéntala."
   ]
  },
  {
   "cell_type": "code",
   "execution_count": null,
   "metadata": {},
   "outputs": [
    {
     "name": "stdout",
     "output_type": "stream",
     "text": [
      "0.0\n",
      "{'España': {'capital': 'Madrid', 'superficie': 505992, 'habitantes': 46733038, 'PIB': 1478.02, 'PIB_por_h': 0.0}, 'Francia': {'capital': 'París', 'superficie': 551695, 'habitantes': 67237407, 'PIB': 2826.29}, 'Italia': {'capital': 'Roma', 'superficie': 301340, 'habitantes': 60359546, 'PIB': 2099.32, 'PIB_por_h': 34.8}, 'Portugal': {'capital': 'Lisboa', 'superficie': 92212, 'habitantes': 10305564, 'PIB': 248.89, 'PIB_por_h': 0.0}}\n",
      "0.0\n",
      "{'España': {'capital': 'Madrid', 'superficie': 505992, 'habitantes': 46733038, 'PIB': 1478.02, 'PIB_por_h': 31626.9}, 'Francia': {'capital': 'París', 'superficie': 551695, 'habitantes': 67237407, 'PIB': 2826.29}, 'Italia': {'capital': 'Roma', 'superficie': 301340, 'habitantes': 60359546, 'PIB': 2099.32, 'PIB_por_h': 34.8}, 'Portugal': {'capital': 'Lisboa', 'superficie': 92212, 'habitantes': 10305564, 'PIB': 248.89, 'PIB_por_h': 0.0}}\n"
     ]
    }
   ],
   "source": [
    "# Siguiendo las buenas prácticas en programación, me tomo la libertad de modificar el nombre \n",
    "# de la variable añadir_metrica para que no contenga el caracter 'ñ'\n",
    "def anyadir_metrica_0(paises, metrica,pais = \"España\"):\n",
    "    for i in paises.keys():\n",
    "        if i == pais:\n",
    "            paises[i][metrica] = round(paises[i][\"PIB\"]/paises[i][\"habitantes\"],1) \n",
    "    return paises\n",
    "\n",
    "print(anyadir_metrica_0(paises, \"PIB_por_h\"))\n",
    "# Intuyo que el PIB está miles de  millones de euros, por lo que los resultados al dividir entre el número de habitantes siempre se redondea a 0,\n",
    "# si queremos obtener un resultado con información relevante, multiplicaremos el valor \"PIB\" por 1.000.000.000\n",
    "\n",
    "\n",
    "\n",
    "def anyadir_metrica(paises, metrica,pais = \"España\"):\n",
    "    for i in paises.keys():\n",
    "        if i == pais:\n",
    "            paises[i][metrica] = round(paises[i][\"PIB\"]*1000000000/paises[i][\"habitantes\"],1) \n",
    "    return paises\n",
    "\n",
    "print(anyadir_metrica(paises,\"PIB_por_h\"))"
   ]
  },
  {
   "cell_type": "markdown",
   "metadata": {},
   "source": [
    "4. Utiliza la función `añadir_metrica()`, para Italia y España. Guarda el diccionario en una nueva variable llamada `paises_actualizado`."
   ]
  },
  {
   "cell_type": "code",
   "execution_count": 48,
   "metadata": {},
   "outputs": [
    {
     "name": "stdout",
     "output_type": "stream",
     "text": [
      "0.0\n",
      "{'España': {'capital': 'Madrid', 'superficie': 505992, 'habitantes': 46733038, 'PIB': 1478.02, 'PIB_por_h': 31626.9}, 'Francia': {'capital': 'París', 'superficie': 551695, 'habitantes': 67237407, 'PIB': 2826.29}, 'Italia': {'capital': 'Roma', 'superficie': 301340, 'habitantes': 60359546, 'PIB': 2099.32, 'PIB_por_h': 34780.2}, 'Portugal': {'capital': 'Lisboa', 'superficie': 92212, 'habitantes': 10305564, 'PIB': 248.89, 'PIB_por_h': 0.0}}\n",
      "0.0\n",
      "{'España': {'capital': 'Madrid', 'superficie': 505992, 'habitantes': 46733038, 'PIB': 1478.02, 'PIB_por_h': 31626.9}, 'Francia': {'capital': 'París', 'superficie': 551695, 'habitantes': 67237407, 'PIB': 2826.29}, 'Italia': {'capital': 'Roma', 'superficie': 301340, 'habitantes': 60359546, 'PIB': 2099.32, 'PIB_por_h': 34780.2}, 'Portugal': {'capital': 'Lisboa', 'superficie': 92212, 'habitantes': 10305564, 'PIB': 248.89, 'PIB_por_h': 0.0}}\n"
     ]
    }
   ],
   "source": [
    "print(anyadir_metrica(paises,\"PIB_por_h\",\"Italia\"))\n",
    "print(anyadir_metrica(paises,\"PIB_por_h\"))"
   ]
  },
  {
   "cell_type": "code",
   "execution_count": null,
   "metadata": {},
   "outputs": [],
   "source": []
  },
  {
   "cell_type": "markdown",
   "metadata": {},
   "source": [
    "### Ejercicio 4 (2 puntos)\n",
    "\n",
    "Crea una clase llamada `Movil()`. Todos los móviles tendran:\n",
    "* Batería (bool) = True\n",
    "\n",
    "El resto de atributos serán particulares:\n",
    "* marca (str)\n",
    "* carga (float): porcentaje de batería de 0 a 100, por defecto 50.0\n",
    "* camara (int) : Nº de megapixels\n",
    "* memoria (int): Nº de fotos totales que se pueden almacenar\n",
    "\n",
    "1. Deberás crear el método de `cargar()`, lo que hará será incrementar la batería un 30%. Si llega al 100% no aumentará más y devolverá un mensaje de `Batería cargada`. Deberá devolver el estado de la batería tras cargar.\n",
    "2. Deberás crear el método de `hacer_foto()`, con un argumento de entrada llamado `n_fotos` de tipo entero que será el número de fotos a realizar. Cada una de esas fotos, ocuparán memoria, por lo que deberá actualizar su atributo. Deberá devolver la memoria restante, y en caso de que se quede sin memoria, se realizarán las fotos que se puedan almacenar y devolverá por pantalla `Memoria insuficiente` junto con el número de fotos que se han quedado en cola sin realizar. Documenta la clase"
   ]
  },
  {
   "cell_type": "code",
   "execution_count": 50,
   "metadata": {},
   "outputs": [],
   "source": [
    "\n",
    "class Movil:\n",
    "    bateria = True\n",
    "\n",
    "    def __init__(self,marca:str, carga:float, camara:int, memoria:int):\n",
    "        self.marca = marca\n",
    "        self.carga = carga\n",
    "        self.camara = camara\n",
    "        self.memoria = memoria\n",
    "\n",
    "    def cargar(self):\n",
    "        self.carga = min(100, self.carga + 30)\n",
    "        if self.carga == 100:\n",
    "            print(\"Batería cargada\")\n",
    "        return self.carga\n",
    "    \n",
    "    def hacer_foto(self,n_fotos):\n",
    "        if n_fotos > self.memoria:\n",
    "            self.memoria = 0\n",
    "            print(f\"Memoria insuficiente, faltan por hacer {n_fotos - self.memoria}\")\n",
    "        else:\n",
    "            self.memoria -= n_fotos\n",
    "        return self.memoria\n"
   ]
  },
  {
   "cell_type": "markdown",
   "metadata": {},
   "source": [
    "\n",
    "3. Crea 3 objetos a partir de la clase, un \"Samsung\" con un 45,5% de carga, un \"Xiaomi\" y un \"Apple\". Todos ellos tendrán 1000 de memoria, menos el Apple que tendrá 500.\n"
   ]
  },
  {
   "cell_type": "code",
   "execution_count": 55,
   "metadata": {},
   "outputs": [],
   "source": [
    "samsung = Movil(\"Samsung\", 45.5, 64, 1000)\n",
    "xiaomi = Movil(\"Xiaomi\", 68.3, 200, 1000)\n",
    "apple = Movil(\"Apple\", 15.5, 120, 500)"
   ]
  },
  {
   "cell_type": "markdown",
   "metadata": {},
   "source": [
    "4. Carga los 3 móviles hasta que muestre el mensaje de que la batería está cargada y muestra por pantalla su batería. Realiza 800 fotos con los 3 móviles utilizando un `input()` y comprueba el atributo de memoria."
   ]
  },
  {
   "cell_type": "code",
   "execution_count": 56,
   "metadata": {},
   "outputs": [
    {
     "name": "stdout",
     "output_type": "stream",
     "text": [
      "Bateria samsung = 75.5\n",
      "Batería cargada\n",
      "Bateria samsung = 100\n",
      "Bateria xiaomi = 98.3\n",
      "Batería cargada\n",
      "Bateria xiaomi = 100\n",
      "Bateria apple = 45.5\n",
      "Bateria apple = 75.5\n",
      "Batería cargada\n",
      "Bateria apple = 100\n"
     ]
    }
   ],
   "source": [
    "while samsung.bateria < 100:\n",
    "    samsung.bateria = samsung.cargar()\n",
    "    print(f\"Bateria samsung = {samsung.bateria}\")\n",
    "\n",
    "while xiaomi.bateria < 100:\n",
    "    xiaomi.bateria = xiaomi.cargar()\n",
    "    print(f\"Bateria xiaomi = {xiaomi.bateria}\")\n",
    "\n",
    "while apple.bateria < 100:\n",
    "    apple.bateria = apple.cargar()\n",
    "    print(f\"Bateria apple = {apple.bateria}\")"
   ]
  },
  {
   "cell_type": "code",
   "execution_count": null,
   "metadata": {},
   "outputs": [],
   "source": []
  },
  {
   "cell_type": "code",
   "execution_count": null,
   "metadata": {},
   "outputs": [],
   "source": []
  },
  {
   "cell_type": "code",
   "execution_count": null,
   "metadata": {},
   "outputs": [],
   "source": []
  },
  {
   "cell_type": "markdown",
   "metadata": {},
   "source": [
    "### Ejercicio 5\n",
    "\n",
    "Ejercicio estilo la calculadora o la biblioteca que hemos hecho en clase"
   ]
  },
  {
   "cell_type": "code",
   "execution_count": 61,
   "metadata": {},
   "outputs": [
    {
     "name": "stdout",
     "output_type": "stream",
     "text": [
      "Método de cocción no válido\n",
      "Hasta la próxima\n"
     ]
    }
   ],
   "source": [
    "# Este será un libro de recetas en el que introducirás el método de cocción que desees \n",
    "# y dos ingredientes cualesquiera. \n",
    "# Entonces te dirá el plato que obtendrás.\n",
    "\n",
    "def ok(a):\n",
    "    return type(a) == str or type(a) == int\n",
    "\n",
    "\n",
    "def ingredientes():\n",
    "    i1 = input(\"introduce el primer ingrediente\")\n",
    "    i2 = input(\"introduce el segundo ingrediente\")\n",
    "    return i1, i2\n",
    "\n",
    "while True:\n",
    "\n",
    "    entrada = input(\"Bienvenido al libro de cocina interactivo, introduce el método de cocción que seguirás hoy:\\n\\\n",
    "                    1. Freír\\n \\\n",
    "                    2. Hervir\\n \\\n",
    "                        3. Hornear\")\n",
    "\n",
    "    if  ok(entrada) and entrada in [\"Freír\", \"Hervir\",\"Hornear\"]:\n",
    "        print(f\"Has elegido {entrada}, a continuación introduce los dos ingredientes principales:\")\n",
    "        i1, i2 = ingredientes()\n",
    "        if entrada == 1 or entrada == \"Freír\":\n",
    "            print(f\"El plato será {i1} con {i2} frit@s\")\n",
    "        elif entrada == 2 or entrada == \"Hervir\":\n",
    "            print(f\"El plato será {i1} con {i2} hervid@s\")\n",
    "        elif entrada == 3 or entrada == \"Hornear\":\n",
    "            print(f\"El plato será {i1} con {i2} al horno\")\n",
    "    else:\n",
    "        print(\"Método de cocción no válido\")\n",
    "    otra = input(\"¿Quieres probar otra receta?\")\n",
    "    if otra.lower() != \"sí\" and otra.lower() != \"si\":\n",
    "        print(\"Hasta la próxima\")\n",
    "        break\n"
   ]
  },
  {
   "cell_type": "markdown",
   "metadata": {},
   "source": [
    "# Ejercicio BONUS"
   ]
  }
 ],
 "metadata": {
  "kernelspec": {
   "display_name": "Python 3",
   "language": "python",
   "name": "python3"
  },
  "language_info": {
   "codemirror_mode": {
    "name": "ipython",
    "version": 3
   },
   "file_extension": ".py",
   "mimetype": "text/x-python",
   "name": "python",
   "nbconvert_exporter": "python",
   "pygments_lexer": "ipython3",
   "version": "3.11.9"
  },
  "orig_nbformat": 4
 },
 "nbformat": 4,
 "nbformat_minor": 2
}
