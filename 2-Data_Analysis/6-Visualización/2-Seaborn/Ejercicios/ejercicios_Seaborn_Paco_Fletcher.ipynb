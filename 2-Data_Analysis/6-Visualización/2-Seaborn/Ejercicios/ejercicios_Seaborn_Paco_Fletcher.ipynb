{
 "cells": [
  {
   "attachments": {},
   "cell_type": "markdown",
   "metadata": {},
   "source": [
    "# Ejercicios de Seaborn"
   ]
  },
  {
   "cell_type": "code",
   "execution_count": 1,
   "metadata": {},
   "outputs": [],
   "source": [
    "# 1. Importa pandas, pyplot y seaborn"
   ]
  },
  {
   "cell_type": "code",
   "execution_count": 1,
   "metadata": {},
   "outputs": [],
   "source": [
    "import pandas as pd\n",
    "import matplotlib.pyplot as plt\n",
    "import seaborn as sns"
   ]
  },
  {
   "cell_type": "code",
   "execution_count": 2,
   "metadata": {},
   "outputs": [],
   "source": [
    "pokemon = pd.read_csv(\"./data/Pokemon.csv\")"
   ]
  },
  {
   "cell_type": "code",
   "execution_count": 7,
   "metadata": {},
   "outputs": [],
   "source": [
    "# 4. Mira las primeras filas del dataset para hacerte una idea de los datos cargados"
   ]
  },
  {
   "cell_type": "code",
   "execution_count": 3,
   "metadata": {},
   "outputs": [
    {
     "data": {
      "application/vnd.microsoft.datawrangler.viewer.v0+json": {
       "columns": [
        {
         "name": "index",
         "rawType": "int64",
         "type": "integer"
        },
        {
         "name": "#",
         "rawType": "int64",
         "type": "integer"
        },
        {
         "name": "Name",
         "rawType": "object",
         "type": "string"
        },
        {
         "name": "Type 1",
         "rawType": "object",
         "type": "string"
        },
        {
         "name": "Type 2",
         "rawType": "object",
         "type": "unknown"
        },
        {
         "name": "Total",
         "rawType": "int64",
         "type": "integer"
        },
        {
         "name": "HP",
         "rawType": "int64",
         "type": "integer"
        },
        {
         "name": "Attack",
         "rawType": "int64",
         "type": "integer"
        },
        {
         "name": "Defense",
         "rawType": "int64",
         "type": "integer"
        },
        {
         "name": "Sp. Atk",
         "rawType": "int64",
         "type": "integer"
        },
        {
         "name": "Sp. Def",
         "rawType": "int64",
         "type": "integer"
        },
        {
         "name": "Speed",
         "rawType": "int64",
         "type": "integer"
        },
        {
         "name": "Stage",
         "rawType": "int64",
         "type": "integer"
        },
        {
         "name": "Legendary",
         "rawType": "bool",
         "type": "boolean"
        }
       ],
       "conversionMethod": "pd.DataFrame",
       "ref": "db725164-259b-4efd-8a81-7c8895024dcb",
       "rows": [
        [
         "0",
         "1",
         "Bulbasaur",
         "Grass",
         "Poison",
         "318",
         "45",
         "49",
         "49",
         "65",
         "65",
         "45",
         "1",
         "False"
        ],
        [
         "1",
         "2",
         "Ivysaur",
         "Grass",
         "Poison",
         "405",
         "60",
         "62",
         "63",
         "80",
         "80",
         "60",
         "2",
         "False"
        ],
        [
         "2",
         "3",
         "Venusaur",
         "Grass",
         "Poison",
         "525",
         "80",
         "82",
         "83",
         "100",
         "100",
         "80",
         "3",
         "False"
        ],
        [
         "3",
         "4",
         "Charmander",
         "Fire",
         null,
         "309",
         "39",
         "52",
         "43",
         "60",
         "50",
         "65",
         "1",
         "False"
        ],
        [
         "4",
         "5",
         "Charmeleon",
         "Fire",
         null,
         "405",
         "58",
         "64",
         "58",
         "80",
         "65",
         "80",
         "2",
         "False"
        ]
       ],
       "shape": {
        "columns": 13,
        "rows": 5
       }
      },
      "text/html": [
       "<div>\n",
       "<style scoped>\n",
       "    .dataframe tbody tr th:only-of-type {\n",
       "        vertical-align: middle;\n",
       "    }\n",
       "\n",
       "    .dataframe tbody tr th {\n",
       "        vertical-align: top;\n",
       "    }\n",
       "\n",
       "    .dataframe thead th {\n",
       "        text-align: right;\n",
       "    }\n",
       "</style>\n",
       "<table border=\"1\" class=\"dataframe\">\n",
       "  <thead>\n",
       "    <tr style=\"text-align: right;\">\n",
       "      <th></th>\n",
       "      <th>#</th>\n",
       "      <th>Name</th>\n",
       "      <th>Type 1</th>\n",
       "      <th>Type 2</th>\n",
       "      <th>Total</th>\n",
       "      <th>HP</th>\n",
       "      <th>Attack</th>\n",
       "      <th>Defense</th>\n",
       "      <th>Sp. Atk</th>\n",
       "      <th>Sp. Def</th>\n",
       "      <th>Speed</th>\n",
       "      <th>Stage</th>\n",
       "      <th>Legendary</th>\n",
       "    </tr>\n",
       "  </thead>\n",
       "  <tbody>\n",
       "    <tr>\n",
       "      <th>0</th>\n",
       "      <td>1</td>\n",
       "      <td>Bulbasaur</td>\n",
       "      <td>Grass</td>\n",
       "      <td>Poison</td>\n",
       "      <td>318</td>\n",
       "      <td>45</td>\n",
       "      <td>49</td>\n",
       "      <td>49</td>\n",
       "      <td>65</td>\n",
       "      <td>65</td>\n",
       "      <td>45</td>\n",
       "      <td>1</td>\n",
       "      <td>False</td>\n",
       "    </tr>\n",
       "    <tr>\n",
       "      <th>1</th>\n",
       "      <td>2</td>\n",
       "      <td>Ivysaur</td>\n",
       "      <td>Grass</td>\n",
       "      <td>Poison</td>\n",
       "      <td>405</td>\n",
       "      <td>60</td>\n",
       "      <td>62</td>\n",
       "      <td>63</td>\n",
       "      <td>80</td>\n",
       "      <td>80</td>\n",
       "      <td>60</td>\n",
       "      <td>2</td>\n",
       "      <td>False</td>\n",
       "    </tr>\n",
       "    <tr>\n",
       "      <th>2</th>\n",
       "      <td>3</td>\n",
       "      <td>Venusaur</td>\n",
       "      <td>Grass</td>\n",
       "      <td>Poison</td>\n",
       "      <td>525</td>\n",
       "      <td>80</td>\n",
       "      <td>82</td>\n",
       "      <td>83</td>\n",
       "      <td>100</td>\n",
       "      <td>100</td>\n",
       "      <td>80</td>\n",
       "      <td>3</td>\n",
       "      <td>False</td>\n",
       "    </tr>\n",
       "    <tr>\n",
       "      <th>3</th>\n",
       "      <td>4</td>\n",
       "      <td>Charmander</td>\n",
       "      <td>Fire</td>\n",
       "      <td>NaN</td>\n",
       "      <td>309</td>\n",
       "      <td>39</td>\n",
       "      <td>52</td>\n",
       "      <td>43</td>\n",
       "      <td>60</td>\n",
       "      <td>50</td>\n",
       "      <td>65</td>\n",
       "      <td>1</td>\n",
       "      <td>False</td>\n",
       "    </tr>\n",
       "    <tr>\n",
       "      <th>4</th>\n",
       "      <td>5</td>\n",
       "      <td>Charmeleon</td>\n",
       "      <td>Fire</td>\n",
       "      <td>NaN</td>\n",
       "      <td>405</td>\n",
       "      <td>58</td>\n",
       "      <td>64</td>\n",
       "      <td>58</td>\n",
       "      <td>80</td>\n",
       "      <td>65</td>\n",
       "      <td>80</td>\n",
       "      <td>2</td>\n",
       "      <td>False</td>\n",
       "    </tr>\n",
       "  </tbody>\n",
       "</table>\n",
       "</div>"
      ],
      "text/plain": [
       "   #        Name Type 1  Type 2  Total  HP  Attack  Defense  Sp. Atk  Sp. Def  \\\n",
       "0  1   Bulbasaur  Grass  Poison    318  45      49       49       65       65   \n",
       "1  2     Ivysaur  Grass  Poison    405  60      62       63       80       80   \n",
       "2  3    Venusaur  Grass  Poison    525  80      82       83      100      100   \n",
       "3  4  Charmander   Fire     NaN    309  39      52       43       60       50   \n",
       "4  5  Charmeleon   Fire     NaN    405  58      64       58       80       65   \n",
       "\n",
       "   Speed  Stage  Legendary  \n",
       "0     45      1      False  \n",
       "1     60      2      False  \n",
       "2     80      3      False  \n",
       "3     65      1      False  \n",
       "4     80      2      False  "
      ]
     },
     "execution_count": 3,
     "metadata": {},
     "output_type": "execute_result"
    }
   ],
   "source": [
    "pokemon.head()"
   ]
  },
  {
   "cell_type": "code",
   "execution_count": 4,
   "metadata": {},
   "outputs": [
    {
     "name": "stdout",
     "output_type": "stream",
     "text": [
      "<class 'pandas.core.frame.DataFrame'>\n",
      "RangeIndex: 151 entries, 0 to 150\n",
      "Data columns (total 13 columns):\n",
      " #   Column     Non-Null Count  Dtype \n",
      "---  ------     --------------  ----- \n",
      " 0   #          151 non-null    int64 \n",
      " 1   Name       151 non-null    object\n",
      " 2   Type 1     151 non-null    object\n",
      " 3   Type 2     67 non-null     object\n",
      " 4   Total      151 non-null    int64 \n",
      " 5   HP         151 non-null    int64 \n",
      " 6   Attack     151 non-null    int64 \n",
      " 7   Defense    151 non-null    int64 \n",
      " 8   Sp. Atk    151 non-null    int64 \n",
      " 9   Sp. Def    151 non-null    int64 \n",
      " 10  Speed      151 non-null    int64 \n",
      " 11  Stage      151 non-null    int64 \n",
      " 12  Legendary  151 non-null    bool  \n",
      "dtypes: bool(1), int64(9), object(3)\n",
      "memory usage: 14.4+ KB\n"
     ]
    }
   ],
   "source": [
    "pokemon.info()"
   ]
  },
  {
   "cell_type": "code",
   "execution_count": 5,
   "metadata": {},
   "outputs": [
    {
     "data": {
      "application/vnd.microsoft.datawrangler.viewer.v0+json": {
       "columns": [
        {
         "name": "index",
         "rawType": "object",
         "type": "string"
        },
        {
         "name": "#",
         "rawType": "float64",
         "type": "float"
        },
        {
         "name": "Total",
         "rawType": "float64",
         "type": "float"
        },
        {
         "name": "HP",
         "rawType": "float64",
         "type": "float"
        },
        {
         "name": "Attack",
         "rawType": "float64",
         "type": "float"
        },
        {
         "name": "Defense",
         "rawType": "float64",
         "type": "float"
        },
        {
         "name": "Sp. Atk",
         "rawType": "float64",
         "type": "float"
        },
        {
         "name": "Sp. Def",
         "rawType": "float64",
         "type": "float"
        },
        {
         "name": "Speed",
         "rawType": "float64",
         "type": "float"
        },
        {
         "name": "Stage",
         "rawType": "float64",
         "type": "float"
        }
       ],
       "conversionMethod": "pd.DataFrame",
       "ref": "726095e9-7751-4869-99b1-ab3d664daf91",
       "rows": [
        [
         "count",
         "151.0",
         "151.0",
         "151.0",
         "151.0",
         "151.0",
         "151.0",
         "151.0",
         "151.0",
         "151.0"
        ],
        [
         "mean",
         "76.0",
         "407.0794701986755",
         "64.21192052980132",
         "72.54966887417218",
         "68.2251655629139",
         "67.13907284768212",
         "66.01986754966887",
         "68.93377483443709",
         "1.5827814569536425"
        ],
        [
         "std",
         "43.734044709661454",
         "99.74384012250634",
         "28.590117003730075",
         "26.59616231507141",
         "26.91670415322809",
         "28.534199301913564",
         "24.197925585657266",
         "26.746879911289888",
         "0.6768319918959677"
        ],
        [
         "min",
         "1.0",
         "195.0",
         "10.0",
         "5.0",
         "5.0",
         "15.0",
         "20.0",
         "15.0",
         "1.0"
        ],
        [
         "25%",
         "38.5",
         "320.0",
         "45.0",
         "51.0",
         "50.0",
         "45.0",
         "49.0",
         "46.5",
         "1.0"
        ],
        [
         "50%",
         "76.0",
         "405.0",
         "60.0",
         "70.0",
         "65.0",
         "65.0",
         "65.0",
         "70.0",
         "1.0"
        ],
        [
         "75%",
         "113.5",
         "490.0",
         "80.0",
         "90.0",
         "84.0",
         "87.5",
         "80.0",
         "90.0",
         "2.0"
        ],
        [
         "max",
         "151.0",
         "680.0",
         "250.0",
         "134.0",
         "180.0",
         "154.0",
         "125.0",
         "140.0",
         "3.0"
        ]
       ],
       "shape": {
        "columns": 9,
        "rows": 8
       }
      },
      "text/html": [
       "<div>\n",
       "<style scoped>\n",
       "    .dataframe tbody tr th:only-of-type {\n",
       "        vertical-align: middle;\n",
       "    }\n",
       "\n",
       "    .dataframe tbody tr th {\n",
       "        vertical-align: top;\n",
       "    }\n",
       "\n",
       "    .dataframe thead th {\n",
       "        text-align: right;\n",
       "    }\n",
       "</style>\n",
       "<table border=\"1\" class=\"dataframe\">\n",
       "  <thead>\n",
       "    <tr style=\"text-align: right;\">\n",
       "      <th></th>\n",
       "      <th>#</th>\n",
       "      <th>Total</th>\n",
       "      <th>HP</th>\n",
       "      <th>Attack</th>\n",
       "      <th>Defense</th>\n",
       "      <th>Sp. Atk</th>\n",
       "      <th>Sp. Def</th>\n",
       "      <th>Speed</th>\n",
       "      <th>Stage</th>\n",
       "    </tr>\n",
       "  </thead>\n",
       "  <tbody>\n",
       "    <tr>\n",
       "      <th>count</th>\n",
       "      <td>151.000000</td>\n",
       "      <td>151.00000</td>\n",
       "      <td>151.000000</td>\n",
       "      <td>151.000000</td>\n",
       "      <td>151.000000</td>\n",
       "      <td>151.000000</td>\n",
       "      <td>151.000000</td>\n",
       "      <td>151.000000</td>\n",
       "      <td>151.000000</td>\n",
       "    </tr>\n",
       "    <tr>\n",
       "      <th>mean</th>\n",
       "      <td>76.000000</td>\n",
       "      <td>407.07947</td>\n",
       "      <td>64.211921</td>\n",
       "      <td>72.549669</td>\n",
       "      <td>68.225166</td>\n",
       "      <td>67.139073</td>\n",
       "      <td>66.019868</td>\n",
       "      <td>68.933775</td>\n",
       "      <td>1.582781</td>\n",
       "    </tr>\n",
       "    <tr>\n",
       "      <th>std</th>\n",
       "      <td>43.734045</td>\n",
       "      <td>99.74384</td>\n",
       "      <td>28.590117</td>\n",
       "      <td>26.596162</td>\n",
       "      <td>26.916704</td>\n",
       "      <td>28.534199</td>\n",
       "      <td>24.197926</td>\n",
       "      <td>26.746880</td>\n",
       "      <td>0.676832</td>\n",
       "    </tr>\n",
       "    <tr>\n",
       "      <th>min</th>\n",
       "      <td>1.000000</td>\n",
       "      <td>195.00000</td>\n",
       "      <td>10.000000</td>\n",
       "      <td>5.000000</td>\n",
       "      <td>5.000000</td>\n",
       "      <td>15.000000</td>\n",
       "      <td>20.000000</td>\n",
       "      <td>15.000000</td>\n",
       "      <td>1.000000</td>\n",
       "    </tr>\n",
       "    <tr>\n",
       "      <th>25%</th>\n",
       "      <td>38.500000</td>\n",
       "      <td>320.00000</td>\n",
       "      <td>45.000000</td>\n",
       "      <td>51.000000</td>\n",
       "      <td>50.000000</td>\n",
       "      <td>45.000000</td>\n",
       "      <td>49.000000</td>\n",
       "      <td>46.500000</td>\n",
       "      <td>1.000000</td>\n",
       "    </tr>\n",
       "    <tr>\n",
       "      <th>50%</th>\n",
       "      <td>76.000000</td>\n",
       "      <td>405.00000</td>\n",
       "      <td>60.000000</td>\n",
       "      <td>70.000000</td>\n",
       "      <td>65.000000</td>\n",
       "      <td>65.000000</td>\n",
       "      <td>65.000000</td>\n",
       "      <td>70.000000</td>\n",
       "      <td>1.000000</td>\n",
       "    </tr>\n",
       "    <tr>\n",
       "      <th>75%</th>\n",
       "      <td>113.500000</td>\n",
       "      <td>490.00000</td>\n",
       "      <td>80.000000</td>\n",
       "      <td>90.000000</td>\n",
       "      <td>84.000000</td>\n",
       "      <td>87.500000</td>\n",
       "      <td>80.000000</td>\n",
       "      <td>90.000000</td>\n",
       "      <td>2.000000</td>\n",
       "    </tr>\n",
       "    <tr>\n",
       "      <th>max</th>\n",
       "      <td>151.000000</td>\n",
       "      <td>680.00000</td>\n",
       "      <td>250.000000</td>\n",
       "      <td>134.000000</td>\n",
       "      <td>180.000000</td>\n",
       "      <td>154.000000</td>\n",
       "      <td>125.000000</td>\n",
       "      <td>140.000000</td>\n",
       "      <td>3.000000</td>\n",
       "    </tr>\n",
       "  </tbody>\n",
       "</table>\n",
       "</div>"
      ],
      "text/plain": [
       "                #      Total          HP      Attack     Defense     Sp. Atk  \\\n",
       "count  151.000000  151.00000  151.000000  151.000000  151.000000  151.000000   \n",
       "mean    76.000000  407.07947   64.211921   72.549669   68.225166   67.139073   \n",
       "std     43.734045   99.74384   28.590117   26.596162   26.916704   28.534199   \n",
       "min      1.000000  195.00000   10.000000    5.000000    5.000000   15.000000   \n",
       "25%     38.500000  320.00000   45.000000   51.000000   50.000000   45.000000   \n",
       "50%     76.000000  405.00000   60.000000   70.000000   65.000000   65.000000   \n",
       "75%    113.500000  490.00000   80.000000   90.000000   84.000000   87.500000   \n",
       "max    151.000000  680.00000  250.000000  134.000000  180.000000  154.000000   \n",
       "\n",
       "          Sp. Def       Speed       Stage  \n",
       "count  151.000000  151.000000  151.000000  \n",
       "mean    66.019868   68.933775    1.582781  \n",
       "std     24.197926   26.746880    0.676832  \n",
       "min     20.000000   15.000000    1.000000  \n",
       "25%     49.000000   46.500000    1.000000  \n",
       "50%     65.000000   70.000000    1.000000  \n",
       "75%     80.000000   90.000000    2.000000  \n",
       "max    125.000000  140.000000    3.000000  "
      ]
     },
     "execution_count": 5,
     "metadata": {},
     "output_type": "execute_result"
    }
   ],
   "source": [
    "pokemon.describe()"
   ]
  },
  {
   "cell_type": "code",
   "execution_count": 9,
   "metadata": {},
   "outputs": [],
   "source": [
    "# 5. Haz un scatter plot con lmplot(), que es el método que pinta una regresión lineal\n",
    "# Pasa el DataFrame como argumento del método en el parámetro llamado data"
   ]
  },
  {
   "cell_type": "code",
   "execution_count": 7,
   "metadata": {},
   "outputs": [
    {
     "data": {
      "image/png": "[encoded data removed]",
      "text/plain": [
       "<Figure size 500x500 with 1 Axes>"
      ]
     },
     "metadata": {},
     "output_type": "display_data"
    }
   ],
   "source": [
    "sns.lmplot(data = pokemon, x = \"HP\", y = \"Total\");"
   ]
  },
  {
   "cell_type": "code",
   "execution_count": 10,
   "metadata": {},
   "outputs": [],
   "source": [
    "# y = a*x + b\n",
    "# 50 = a *40 + b"
   ]
  },
  {
   "cell_type": "code",
   "execution_count": 12,
   "metadata": {},
   "outputs": [],
   "source": [
    "# 6. No queremos ver la línea recta de la regresión lineal.\n",
    "# prueba a añadir fit_reg a falso"
   ]
  },
  {
   "cell_type": "code",
   "execution_count": 8,
   "metadata": {},
   "outputs": [
    {
     "data": {
      "image/png": "[encoded data removed]",
      "text/plain": [
       "<Figure size 500x500 with 1 Axes>"
      ]
     },
     "metadata": {},
     "output_type": "display_data"
    }
   ],
   "source": [
    "sns.lmplot(data = pokemon, x = \"HP\", y = \"Total\", fit_reg= False);"
   ]
  },
  {
   "cell_type": "code",
   "execution_count": 14,
   "metadata": {},
   "outputs": [],
   "source": [
    "# 7. Vamos a decir qué variable (columna del DataFrame) codifica los colores (hue)\n",
    "# Que el hue sea el Stage"
   ]
  },
  {
   "cell_type": "code",
   "execution_count": 9,
   "metadata": {},
   "outputs": [
    {
     "data": {
      "image/png": "[encoded data removed]",
      "text/plain": [
       "<Figure size 558.875x500 with 1 Axes>"
      ]
     },
     "metadata": {},
     "output_type": "display_data"
    }
   ],
   "source": [
    "sns.lmplot(data = pokemon, x = \"HP\", y = \"Total\", fit_reg= False, hue = \"Stage\");"
   ]
  },
  {
   "cell_type": "code",
   "execution_count": 16,
   "metadata": {},
   "outputs": [],
   "source": [
    "# 8. Limita el eje x entre 20 y 100"
   ]
  },
  {
   "cell_type": "code",
   "execution_count": 11,
   "metadata": {},
   "outputs": [
    {
     "data": {
      "text/plain": [
       "(20.0, 100.0)"
      ]
     },
     "execution_count": 11,
     "metadata": {},
     "output_type": "execute_result"
    },
    {
     "data": {
      "image/png": "[encoded data removed]",
      "text/plain": [
       "<Figure size 558.875x500 with 1 Axes>"
      ]
     },
     "metadata": {},
     "output_type": "display_data"
    }
   ],
   "source": [
    "sns.lmplot(data = pokemon, x = \"HP\", y = \"Total\", fit_reg= False, hue = \"Stage\");\n",
    "plt.xlim(20,100)"
   ]
  },
  {
   "cell_type": "code",
   "execution_count": 18,
   "metadata": {},
   "outputs": [],
   "source": [
    "# 9. Dibuja un diagrama de cajas con el dataframe"
   ]
  },
  {
   "cell_type": "code",
   "execution_count": 20,
   "metadata": {},
   "outputs": [
    {
     "data": {
      "image/png": "[encoded data removed]",
      "text/plain": [
       "<Figure size 640x480 with 1 Axes>"
      ]
     },
     "metadata": {},
     "output_type": "display_data"
    }
   ],
   "source": [
    "sns.boxplot(y = \"Total\", data = pokemon, hue=\"Stage\");"
   ]
  },
  {
   "cell_type": "code",
   "execution_count": 23,
   "metadata": {},
   "outputs": [],
   "source": [
    "# 10. No nos interesan las columnas Total, Stage ni Legendary\n",
    "# Bórralos del DataFrame y vuelve a dibujar el diagrama de cajas"
   ]
  },
  {
   "cell_type": "code",
   "execution_count": 26,
   "metadata": {},
   "outputs": [
    {
     "data": {
      "application/vnd.microsoft.datawrangler.viewer.v0+json": {
       "columns": [
        {
         "name": "index",
         "rawType": "int64",
         "type": "integer"
        },
        {
         "name": "#",
         "rawType": "int64",
         "type": "integer"
        },
        {
         "name": "Name",
         "rawType": "object",
         "type": "string"
        },
        {
         "name": "Type 1",
         "rawType": "object",
         "type": "string"
        },
        {
         "name": "Type 2",
         "rawType": "object",
         "type": "unknown"
        },
        {
         "name": "HP",
         "rawType": "int64",
         "type": "integer"
        },
        {
         "name": "Attack",
         "rawType": "int64",
         "type": "integer"
        },
        {
         "name": "Defense",
         "rawType": "int64",
         "type": "integer"
        },
        {
         "name": "Sp. Atk",
         "rawType": "int64",
         "type": "integer"
        },
        {
         "name": "Sp. Def",
         "rawType": "int64",
         "type": "integer"
        },
        {
         "name": "Speed",
         "rawType": "int64",
         "type": "integer"
        }
       ],
       "conversionMethod": "pd.DataFrame",
       "ref": "2aa611de-46b9-48f1-a245-16bacb0c513a",
       "rows": [
        [
         "0",
         "1",
         "Bulbasaur",
         "Grass",
         "Poison",
         "45",
         "49",
         "49",
         "65",
         "65",
         "45"
        ],
        [
         "1",
         "2",
         "Ivysaur",
         "Grass",
         "Poison",
         "60",
         "62",
         "63",
         "80",
         "80",
         "60"
        ],
        [
         "2",
         "3",
         "Venusaur",
         "Grass",
         "Poison",
         "80",
         "82",
         "83",
         "100",
         "100",
         "80"
        ],
        [
         "3",
         "4",
         "Charmander",
         "Fire",
         null,
         "39",
         "52",
         "43",
         "60",
         "50",
         "65"
        ],
        [
         "4",
         "5",
         "Charmeleon",
         "Fire",
         null,
         "58",
         "64",
         "58",
         "80",
         "65",
         "80"
        ],
        [
         "5",
         "6",
         "Charizard",
         "Fire",
         "Flying",
         "78",
         "84",
         "78",
         "109",
         "85",
         "100"
        ],
        [
         "6",
         "7",
         "Squirtle",
         "Water",
         null,
         "44",
         "48",
         "65",
         "50",
         "64",
         "43"
        ],
        [
         "7",
         "8",
         "Wartortle",
         "Water",
         null,
         "59",
         "63",
         "80",
         "65",
         "80",
         "58"
        ],
        [
         "8",
         "9",
         "Blastoise",
         "Water",
         null,
         "79",
         "83",
         "100",
         "85",
         "105",
         "78"
        ],
        [
         "9",
         "10",
         "Caterpie",
         "Bug",
         null,
         "45",
         "30",
         "35",
         "20",
         "20",
         "45"
        ],
        [
         "10",
         "11",
         "Metapod",
         "Bug",
         null,
         "50",
         "20",
         "55",
         "25",
         "25",
         "30"
        ],
        [
         "11",
         "12",
         "Butterfree",
         "Bug",
         "Flying",
         "60",
         "45",
         "50",
         "90",
         "80",
         "70"
        ],
        [
         "12",
         "13",
         "Weedle",
         "Bug",
         "Poison",
         "40",
         "35",
         "30",
         "20",
         "20",
         "50"
        ],
        [
         "13",
         "14",
         "Kakuna",
         "Bug",
         "Poison",
         "45",
         "25",
         "50",
         "25",
         "25",
         "35"
        ],
        [
         "14",
         "15",
         "Beedrill",
         "Bug",
         "Poison",
         "65",
         "90",
         "40",
         "45",
         "80",
         "75"
        ],
        [
         "15",
         "16",
         "Pidgey",
         "Normal",
         "Flying",
         "40",
         "45",
         "40",
         "35",
         "35",
         "56"
        ],
        [
         "16",
         "17",
         "Pidgeotto",
         "Normal",
         "Flying",
         "63",
         "60",
         "55",
         "50",
         "50",
         "71"
        ],
        [
         "17",
         "18",
         "Pidgeot",
         "Normal",
         "Flying",
         "83",
         "80",
         "75",
         "70",
         "70",
         "101"
        ],
        [
         "18",
         "19",
         "Rattata",
         "Normal",
         null,
         "30",
         "56",
         "35",
         "25",
         "35",
         "72"
        ],
        [
         "19",
         "20",
         "Raticate",
         "Normal",
         null,
         "55",
         "81",
         "60",
         "50",
         "70",
         "97"
        ],
        [
         "20",
         "21",
         "Spearow",
         "Normal",
         "Flying",
         "40",
         "60",
         "30",
         "31",
         "31",
         "70"
        ],
        [
         "21",
         "22",
         "Fearow",
         "Normal",
         "Flying",
         "65",
         "90",
         "65",
         "61",
         "61",
         "100"
        ],
        [
         "22",
         "23",
         "Ekans",
         "Poison",
         null,
         "35",
         "60",
         "44",
         "40",
         "54",
         "55"
        ],
        [
         "23",
         "24",
         "Arbok",
         "Poison",
         null,
         "60",
         "85",
         "69",
         "65",
         "79",
         "80"
        ],
        [
         "24",
         "25",
         "Pikachu",
         "Electric",
         null,
         "35",
         "55",
         "40",
         "50",
         "50",
         "90"
        ],
        [
         "25",
         "26",
         "Raichu",
         "Electric",
         null,
         "60",
         "90",
         "55",
         "90",
         "80",
         "110"
        ],
        [
         "26",
         "27",
         "Sandshrew",
         "Ground",
         null,
         "50",
         "75",
         "85",
         "20",
         "30",
         "40"
        ],
        [
         "27",
         "28",
         "Sandslash",
         "Ground",
         null,
         "75",
         "100",
         "110",
         "45",
         "55",
         "65"
        ],
        [
         "28",
         "29",
         "Nidoran���",
         "Poison",
         null,
         "55",
         "47",
         "52",
         "40",
         "40",
         "41"
        ],
        [
         "29",
         "30",
         "Nidorina",
         "Poison",
         null,
         "70",
         "62",
         "67",
         "55",
         "55",
         "56"
        ],
        [
         "30",
         "31",
         "Nidoqueen",
         "Poison",
         "Ground",
         "90",
         "92",
         "87",
         "75",
         "85",
         "76"
        ],
        [
         "31",
         "32",
         "Nidoran���",
         "Poison",
         null,
         "46",
         "57",
         "40",
         "40",
         "40",
         "50"
        ],
        [
         "32",
         "33",
         "Nidorino",
         "Poison",
         null,
         "61",
         "72",
         "57",
         "55",
         "55",
         "65"
        ],
        [
         "33",
         "34",
         "Nidoking",
         "Poison",
         "Ground",
         "81",
         "102",
         "77",
         "85",
         "75",
         "85"
        ],
        [
         "34",
         "35",
         "Clefairy",
         "Fairy",
         null,
         "70",
         "45",
         "48",
         "60",
         "65",
         "35"
        ],
        [
         "35",
         "36",
         "Clefable",
         "Fairy",
         null,
         "95",
         "70",
         "73",
         "95",
         "90",
         "60"
        ],
        [
         "36",
         "37",
         "Vulpix",
         "Fire",
         null,
         "38",
         "41",
         "40",
         "50",
         "65",
         "65"
        ],
        [
         "37",
         "38",
         "Ninetales",
         "Fire",
         null,
         "73",
         "76",
         "75",
         "81",
         "100",
         "100"
        ],
        [
         "38",
         "39",
         "Jigglypuff",
         "Normal",
         "Fairy",
         "115",
         "45",
         "20",
         "45",
         "25",
         "20"
        ],
        [
         "39",
         "40",
         "Wigglytuff",
         "Normal",
         "Fairy",
         "140",
         "70",
         "45",
         "85",
         "50",
         "45"
        ],
        [
         "40",
         "41",
         "Zubat",
         "Poison",
         "Flying",
         "40",
         "45",
         "35",
         "30",
         "40",
         "55"
        ],
        [
         "41",
         "42",
         "Golbat",
         "Poison",
         "Flying",
         "75",
         "80",
         "70",
         "65",
         "75",
         "90"
        ],
        [
         "42",
         "43",
         "Oddish",
         "Grass",
         "Poison",
         "45",
         "50",
         "55",
         "75",
         "65",
         "30"
        ],
        [
         "43",
         "44",
         "Gloom",
         "Grass",
         "Poison",
         "60",
         "65",
         "70",
         "85",
         "75",
         "40"
        ],
        [
         "44",
         "45",
         "Vileplume",
         "Grass",
         "Poison",
         "75",
         "80",
         "85",
         "110",
         "90",
         "50"
        ],
        [
         "45",
         "46",
         "Paras",
         "Bug",
         "Grass",
         "35",
         "70",
         "55",
         "45",
         "55",
         "25"
        ],
        [
         "46",
         "47",
         "Parasect",
         "Bug",
         "Grass",
         "60",
         "95",
         "80",
         "60",
         "80",
         "30"
        ],
        [
         "47",
         "48",
         "Venonat",
         "Bug",
         "Poison",
         "60",
         "55",
         "50",
         "40",
         "55",
         "45"
        ],
        [
         "48",
         "49",
         "Venomoth",
         "Bug",
         "Poison",
         "70",
         "65",
         "60",
         "90",
         "75",
         "90"
        ],
        [
         "49",
         "50",
         "Diglett",
         "Ground",
         null,
         "10",
         "55",
         "25",
         "35",
         "45",
         "95"
        ]
       ],
       "shape": {
        "columns": 10,
        "rows": 151
       }
      },
      "text/html": [
       "<div>\n",
       "<style scoped>\n",
       "    .dataframe tbody tr th:only-of-type {\n",
       "        vertical-align: middle;\n",
       "    }\n",
       "\n",
       "    .dataframe tbody tr th {\n",
       "        vertical-align: top;\n",
       "    }\n",
       "\n",
       "    .dataframe thead th {\n",
       "        text-align: right;\n",
       "    }\n",
       "</style>\n",
       "<table border=\"1\" class=\"dataframe\">\n",
       "  <thead>\n",
       "    <tr style=\"text-align: right;\">\n",
       "      <th></th>\n",
       "      <th>#</th>\n",
       "      <th>Name</th>\n",
       "      <th>Type 1</th>\n",
       "      <th>Type 2</th>\n",
       "      <th>HP</th>\n",
       "      <th>Attack</th>\n",
       "      <th>Defense</th>\n",
       "      <th>Sp. Atk</th>\n",
       "      <th>Sp. Def</th>\n",
       "      <th>Speed</th>\n",
       "    </tr>\n",
       "  </thead>\n",
       "  <tbody>\n",
       "    <tr>\n",
       "      <th>0</th>\n",
       "      <td>1</td>\n",
       "      <td>Bulbasaur</td>\n",
       "      <td>Grass</td>\n",
       "      <td>Poison</td>\n",
       "      <td>45</td>\n",
       "      <td>49</td>\n",
       "      <td>49</td>\n",
       "      <td>65</td>\n",
       "      <td>65</td>\n",
       "      <td>45</td>\n",
       "    </tr>\n",
       "    <tr>\n",
       "      <th>1</th>\n",
       "      <td>2</td>\n",
       "      <td>Ivysaur</td>\n",
       "      <td>Grass</td>\n",
       "      <td>Poison</td>\n",
       "      <td>60</td>\n",
       "      <td>62</td>\n",
       "      <td>63</td>\n",
       "      <td>80</td>\n",
       "      <td>80</td>\n",
       "      <td>60</td>\n",
       "    </tr>\n",
       "    <tr>\n",
       "      <th>2</th>\n",
       "      <td>3</td>\n",
       "      <td>Venusaur</td>\n",
       "      <td>Grass</td>\n",
       "      <td>Poison</td>\n",
       "      <td>80</td>\n",
       "      <td>82</td>\n",
       "      <td>83</td>\n",
       "      <td>100</td>\n",
       "      <td>100</td>\n",
       "      <td>80</td>\n",
       "    </tr>\n",
       "    <tr>\n",
       "      <th>3</th>\n",
       "      <td>4</td>\n",
       "      <td>Charmander</td>\n",
       "      <td>Fire</td>\n",
       "      <td>NaN</td>\n",
       "      <td>39</td>\n",
       "      <td>52</td>\n",
       "      <td>43</td>\n",
       "      <td>60</td>\n",
       "      <td>50</td>\n",
       "      <td>65</td>\n",
       "    </tr>\n",
       "    <tr>\n",
       "      <th>4</th>\n",
       "      <td>5</td>\n",
       "      <td>Charmeleon</td>\n",
       "      <td>Fire</td>\n",
       "      <td>NaN</td>\n",
       "      <td>58</td>\n",
       "      <td>64</td>\n",
       "      <td>58</td>\n",
       "      <td>80</td>\n",
       "      <td>65</td>\n",
       "      <td>80</td>\n",
       "    </tr>\n",
       "    <tr>\n",
       "      <th>...</th>\n",
       "      <td>...</td>\n",
       "      <td>...</td>\n",
       "      <td>...</td>\n",
       "      <td>...</td>\n",
       "      <td>...</td>\n",
       "      <td>...</td>\n",
       "      <td>...</td>\n",
       "      <td>...</td>\n",
       "      <td>...</td>\n",
       "      <td>...</td>\n",
       "    </tr>\n",
       "    <tr>\n",
       "      <th>146</th>\n",
       "      <td>147</td>\n",
       "      <td>Dratini</td>\n",
       "      <td>Dragon</td>\n",
       "      <td>NaN</td>\n",
       "      <td>41</td>\n",
       "      <td>64</td>\n",
       "      <td>45</td>\n",
       "      <td>50</td>\n",
       "      <td>50</td>\n",
       "      <td>50</td>\n",
       "    </tr>\n",
       "    <tr>\n",
       "      <th>147</th>\n",
       "      <td>148</td>\n",
       "      <td>Dragonair</td>\n",
       "      <td>Dragon</td>\n",
       "      <td>NaN</td>\n",
       "      <td>61</td>\n",
       "      <td>84</td>\n",
       "      <td>65</td>\n",
       "      <td>70</td>\n",
       "      <td>70</td>\n",
       "      <td>70</td>\n",
       "    </tr>\n",
       "    <tr>\n",
       "      <th>148</th>\n",
       "      <td>149</td>\n",
       "      <td>Dragonite</td>\n",
       "      <td>Dragon</td>\n",
       "      <td>Flying</td>\n",
       "      <td>91</td>\n",
       "      <td>134</td>\n",
       "      <td>95</td>\n",
       "      <td>100</td>\n",
       "      <td>100</td>\n",
       "      <td>80</td>\n",
       "    </tr>\n",
       "    <tr>\n",
       "      <th>149</th>\n",
       "      <td>150</td>\n",
       "      <td>Mewtwo</td>\n",
       "      <td>Psychic</td>\n",
       "      <td>NaN</td>\n",
       "      <td>106</td>\n",
       "      <td>110</td>\n",
       "      <td>90</td>\n",
       "      <td>154</td>\n",
       "      <td>90</td>\n",
       "      <td>130</td>\n",
       "    </tr>\n",
       "    <tr>\n",
       "      <th>150</th>\n",
       "      <td>151</td>\n",
       "      <td>Mew</td>\n",
       "      <td>Psychic</td>\n",
       "      <td>NaN</td>\n",
       "      <td>100</td>\n",
       "      <td>100</td>\n",
       "      <td>100</td>\n",
       "      <td>100</td>\n",
       "      <td>100</td>\n",
       "      <td>100</td>\n",
       "    </tr>\n",
       "  </tbody>\n",
       "</table>\n",
       "<p>151 rows × 10 columns</p>\n",
       "</div>"
      ],
      "text/plain": [
       "       #        Name   Type 1  Type 2   HP  Attack  Defense  Sp. Atk  Sp. Def  \\\n",
       "0      1   Bulbasaur    Grass  Poison   45      49       49       65       65   \n",
       "1      2     Ivysaur    Grass  Poison   60      62       63       80       80   \n",
       "2      3    Venusaur    Grass  Poison   80      82       83      100      100   \n",
       "3      4  Charmander     Fire     NaN   39      52       43       60       50   \n",
       "4      5  Charmeleon     Fire     NaN   58      64       58       80       65   \n",
       "..   ...         ...      ...     ...  ...     ...      ...      ...      ...   \n",
       "146  147     Dratini   Dragon     NaN   41      64       45       50       50   \n",
       "147  148   Dragonair   Dragon     NaN   61      84       65       70       70   \n",
       "148  149   Dragonite   Dragon  Flying   91     134       95      100      100   \n",
       "149  150      Mewtwo  Psychic     NaN  106     110       90      154       90   \n",
       "150  151         Mew  Psychic     NaN  100     100      100      100      100   \n",
       "\n",
       "     Speed  \n",
       "0       45  \n",
       "1       60  \n",
       "2       80  \n",
       "3       65  \n",
       "4       80  \n",
       "..     ...  \n",
       "146     50  \n",
       "147     70  \n",
       "148     80  \n",
       "149    130  \n",
       "150    100  \n",
       "\n",
       "[151 rows x 10 columns]"
      ]
     },
     "execution_count": 26,
     "metadata": {},
     "output_type": "execute_result"
    }
   ],
   "source": [
    "pokemon_new = pokemon.drop(axis = 1,columns=[\"Total\",\"Stage\",\"Legendary\"])\n",
    "pokemon_new"
   ]
  },
  {
   "cell_type": "code",
   "execution_count": 27,
   "metadata": {},
   "outputs": [],
   "source": [
    "# 11. Mira cuántos 'Type 1' diferentes hay en el DataFrame"
   ]
  },
  {
   "cell_type": "code",
   "execution_count": 27,
   "metadata": {},
   "outputs": [
    {
     "data": {
      "text/plain": [
       "15"
      ]
     },
     "execution_count": 27,
     "metadata": {},
     "output_type": "execute_result"
    }
   ],
   "source": [
    "pokemon_new[\"Type 1\"].nunique()"
   ]
  },
  {
   "cell_type": "code",
   "execution_count": 35,
   "metadata": {},
   "outputs": [],
   "source": [
    "# 12. Quédate del Dataframe solo con los 'Type 1' iguales a 'Grass', 'Fire' o 'Water'"
   ]
  },
  {
   "cell_type": "code",
   "execution_count": 35,
   "metadata": {},
   "outputs": [
    {
     "data": {
      "application/vnd.microsoft.datawrangler.viewer.v0+json": {
       "columns": [
        {
         "name": "index",
         "rawType": "int64",
         "type": "integer"
        },
        {
         "name": "#",
         "rawType": "int64",
         "type": "integer"
        },
        {
         "name": "Name",
         "rawType": "object",
         "type": "string"
        },
        {
         "name": "Type 1",
         "rawType": "object",
         "type": "string"
        },
        {
         "name": "Type 2",
         "rawType": "object",
         "type": "unknown"
        },
        {
         "name": "HP",
         "rawType": "int64",
         "type": "integer"
        },
        {
         "name": "Attack",
         "rawType": "int64",
         "type": "integer"
        },
        {
         "name": "Defense",
         "rawType": "int64",
         "type": "integer"
        },
        {
         "name": "Sp. Atk",
         "rawType": "int64",
         "type": "integer"
        },
        {
         "name": "Sp. Def",
         "rawType": "int64",
         "type": "integer"
        },
        {
         "name": "Speed",
         "rawType": "int64",
         "type": "integer"
        }
       ],
       "conversionMethod": "pd.DataFrame",
       "ref": "57968aa4-1aa4-44c8-b154-9835ce911f72",
       "rows": [
        [
         "0",
         "1",
         "Bulbasaur",
         "Grass",
         "Poison",
         "45",
         "49",
         "49",
         "65",
         "65",
         "45"
        ],
        [
         "1",
         "2",
         "Ivysaur",
         "Grass",
         "Poison",
         "60",
         "62",
         "63",
         "80",
         "80",
         "60"
        ],
        [
         "2",
         "3",
         "Venusaur",
         "Grass",
         "Poison",
         "80",
         "82",
         "83",
         "100",
         "100",
         "80"
        ],
        [
         "3",
         "4",
         "Charmander",
         "Fire",
         null,
         "39",
         "52",
         "43",
         "60",
         "50",
         "65"
        ],
        [
         "4",
         "5",
         "Charmeleon",
         "Fire",
         null,
         "58",
         "64",
         "58",
         "80",
         "65",
         "80"
        ],
        [
         "5",
         "6",
         "Charizard",
         "Fire",
         "Flying",
         "78",
         "84",
         "78",
         "109",
         "85",
         "100"
        ],
        [
         "6",
         "7",
         "Squirtle",
         "Water",
         null,
         "44",
         "48",
         "65",
         "50",
         "64",
         "43"
        ],
        [
         "7",
         "8",
         "Wartortle",
         "Water",
         null,
         "59",
         "63",
         "80",
         "65",
         "80",
         "58"
        ],
        [
         "8",
         "9",
         "Blastoise",
         "Water",
         null,
         "79",
         "83",
         "100",
         "85",
         "105",
         "78"
        ],
        [
         "36",
         "37",
         "Vulpix",
         "Fire",
         null,
         "38",
         "41",
         "40",
         "50",
         "65",
         "65"
        ],
        [
         "37",
         "38",
         "Ninetales",
         "Fire",
         null,
         "73",
         "76",
         "75",
         "81",
         "100",
         "100"
        ],
        [
         "42",
         "43",
         "Oddish",
         "Grass",
         "Poison",
         "45",
         "50",
         "55",
         "75",
         "65",
         "30"
        ],
        [
         "43",
         "44",
         "Gloom",
         "Grass",
         "Poison",
         "60",
         "65",
         "70",
         "85",
         "75",
         "40"
        ],
        [
         "44",
         "45",
         "Vileplume",
         "Grass",
         "Poison",
         "75",
         "80",
         "85",
         "110",
         "90",
         "50"
        ],
        [
         "53",
         "54",
         "Psyduck",
         "Water",
         null,
         "50",
         "52",
         "48",
         "65",
         "50",
         "55"
        ],
        [
         "54",
         "55",
         "Golduck",
         "Water",
         null,
         "80",
         "82",
         "78",
         "95",
         "80",
         "85"
        ],
        [
         "57",
         "58",
         "Growlithe",
         "Fire",
         null,
         "55",
         "70",
         "45",
         "70",
         "50",
         "60"
        ],
        [
         "58",
         "59",
         "Arcanine",
         "Fire",
         null,
         "90",
         "110",
         "80",
         "100",
         "80",
         "95"
        ],
        [
         "59",
         "60",
         "Poliwag",
         "Water",
         null,
         "40",
         "50",
         "40",
         "40",
         "40",
         "90"
        ],
        [
         "60",
         "61",
         "Poliwhirl",
         "Water",
         null,
         "65",
         "65",
         "65",
         "50",
         "50",
         "90"
        ],
        [
         "61",
         "62",
         "Poliwrath",
         "Water",
         "Fighting",
         "90",
         "95",
         "95",
         "70",
         "90",
         "70"
        ],
        [
         "68",
         "69",
         "Bellsprout",
         "Grass",
         "Poison",
         "50",
         "75",
         "35",
         "70",
         "30",
         "40"
        ],
        [
         "69",
         "70",
         "Weepinbell",
         "Grass",
         "Poison",
         "65",
         "90",
         "50",
         "85",
         "45",
         "55"
        ],
        [
         "70",
         "71",
         "Victreebel",
         "Grass",
         "Poison",
         "80",
         "105",
         "65",
         "100",
         "70",
         "70"
        ],
        [
         "71",
         "72",
         "Tentacool",
         "Water",
         "Poison",
         "40",
         "40",
         "35",
         "50",
         "100",
         "70"
        ],
        [
         "72",
         "73",
         "Tentacruel",
         "Water",
         "Poison",
         "80",
         "70",
         "65",
         "80",
         "120",
         "100"
        ],
        [
         "76",
         "77",
         "Ponyta",
         "Fire",
         null,
         "50",
         "85",
         "55",
         "65",
         "65",
         "90"
        ],
        [
         "77",
         "78",
         "Rapidash",
         "Fire",
         null,
         "65",
         "100",
         "70",
         "80",
         "80",
         "105"
        ],
        [
         "78",
         "79",
         "Slowpoke",
         "Water",
         "Psychic",
         "90",
         "65",
         "65",
         "40",
         "40",
         "15"
        ],
        [
         "79",
         "80",
         "Slowbro",
         "Water",
         "Psychic",
         "95",
         "75",
         "110",
         "100",
         "80",
         "30"
        ],
        [
         "85",
         "86",
         "Seel",
         "Water",
         null,
         "65",
         "45",
         "55",
         "45",
         "70",
         "45"
        ],
        [
         "86",
         "87",
         "Dewgong",
         "Water",
         "Ice",
         "90",
         "70",
         "80",
         "70",
         "95",
         "70"
        ],
        [
         "89",
         "90",
         "Shellder",
         "Water",
         null,
         "30",
         "65",
         "100",
         "45",
         "25",
         "40"
        ],
        [
         "90",
         "91",
         "Cloyster",
         "Water",
         "Ice",
         "50",
         "95",
         "180",
         "85",
         "45",
         "70"
        ],
        [
         "97",
         "98",
         "Krabby",
         "Water",
         null,
         "30",
         "105",
         "90",
         "25",
         "25",
         "50"
        ],
        [
         "98",
         "99",
         "Kingler",
         "Water",
         null,
         "55",
         "130",
         "115",
         "50",
         "50",
         "75"
        ],
        [
         "101",
         "102",
         "Exeggcute",
         "Grass",
         "Psychic",
         "60",
         "40",
         "80",
         "60",
         "45",
         "40"
        ],
        [
         "102",
         "103",
         "Exeggutor",
         "Grass",
         "Psychic",
         "95",
         "95",
         "85",
         "125",
         "65",
         "55"
        ],
        [
         "113",
         "114",
         "Tangela",
         "Grass",
         null,
         "65",
         "55",
         "115",
         "100",
         "40",
         "60"
        ],
        [
         "115",
         "116",
         "Horsea",
         "Water",
         null,
         "30",
         "40",
         "70",
         "70",
         "25",
         "60"
        ],
        [
         "116",
         "117",
         "Seadra",
         "Water",
         null,
         "55",
         "65",
         "95",
         "95",
         "45",
         "85"
        ],
        [
         "117",
         "118",
         "Goldeen",
         "Water",
         null,
         "45",
         "67",
         "60",
         "35",
         "50",
         "63"
        ],
        [
         "118",
         "119",
         "Seaking",
         "Water",
         null,
         "80",
         "92",
         "65",
         "65",
         "80",
         "68"
        ],
        [
         "119",
         "120",
         "Staryu",
         "Water",
         null,
         "30",
         "45",
         "55",
         "70",
         "55",
         "85"
        ],
        [
         "120",
         "121",
         "Starmie",
         "Water",
         "Psychic",
         "60",
         "75",
         "85",
         "100",
         "85",
         "115"
        ],
        [
         "125",
         "126",
         "Magmar",
         "Fire",
         null,
         "65",
         "95",
         "57",
         "100",
         "85",
         "93"
        ],
        [
         "128",
         "129",
         "Magikarp",
         "Water",
         null,
         "20",
         "10",
         "55",
         "15",
         "20",
         "80"
        ],
        [
         "129",
         "130",
         "Gyarados",
         "Water",
         "Flying",
         "95",
         "125",
         "79",
         "60",
         "100",
         "81"
        ],
        [
         "130",
         "131",
         "Lapras",
         "Water",
         "Ice",
         "130",
         "85",
         "80",
         "85",
         "95",
         "60"
        ],
        [
         "133",
         "134",
         "Vaporeon",
         "Water",
         null,
         "130",
         "65",
         "60",
         "110",
         "95",
         "65"
        ]
       ],
       "shape": {
        "columns": 10,
        "rows": 52
       }
      },
      "text/html": [
       "<div>\n",
       "<style scoped>\n",
       "    .dataframe tbody tr th:only-of-type {\n",
       "        vertical-align: middle;\n",
       "    }\n",
       "\n",
       "    .dataframe tbody tr th {\n",
       "        vertical-align: top;\n",
       "    }\n",
       "\n",
       "    .dataframe thead th {\n",
       "        text-align: right;\n",
       "    }\n",
       "</style>\n",
       "<table border=\"1\" class=\"dataframe\">\n",
       "  <thead>\n",
       "    <tr style=\"text-align: right;\">\n",
       "      <th></th>\n",
       "      <th>#</th>\n",
       "      <th>Name</th>\n",
       "      <th>Type 1</th>\n",
       "      <th>Type 2</th>\n",
       "      <th>HP</th>\n",
       "      <th>Attack</th>\n",
       "      <th>Defense</th>\n",
       "      <th>Sp. Atk</th>\n",
       "      <th>Sp. Def</th>\n",
       "      <th>Speed</th>\n",
       "    </tr>\n",
       "  </thead>\n",
       "  <tbody>\n",
       "    <tr>\n",
       "      <th>0</th>\n",
       "      <td>1</td>\n",
       "      <td>Bulbasaur</td>\n",
       "      <td>Grass</td>\n",
       "      <td>Poison</td>\n",
       "      <td>45</td>\n",
       "      <td>49</td>\n",
       "      <td>49</td>\n",
       "      <td>65</td>\n",
       "      <td>65</td>\n",
       "      <td>45</td>\n",
       "    </tr>\n",
       "    <tr>\n",
       "      <th>1</th>\n",
       "      <td>2</td>\n",
       "      <td>Ivysaur</td>\n",
       "      <td>Grass</td>\n",
       "      <td>Poison</td>\n",
       "      <td>60</td>\n",
       "      <td>62</td>\n",
       "      <td>63</td>\n",
       "      <td>80</td>\n",
       "      <td>80</td>\n",
       "      <td>60</td>\n",
       "    </tr>\n",
       "    <tr>\n",
       "      <th>2</th>\n",
       "      <td>3</td>\n",
       "      <td>Venusaur</td>\n",
       "      <td>Grass</td>\n",
       "      <td>Poison</td>\n",
       "      <td>80</td>\n",
       "      <td>82</td>\n",
       "      <td>83</td>\n",
       "      <td>100</td>\n",
       "      <td>100</td>\n",
       "      <td>80</td>\n",
       "    </tr>\n",
       "    <tr>\n",
       "      <th>3</th>\n",
       "      <td>4</td>\n",
       "      <td>Charmander</td>\n",
       "      <td>Fire</td>\n",
       "      <td>NaN</td>\n",
       "      <td>39</td>\n",
       "      <td>52</td>\n",
       "      <td>43</td>\n",
       "      <td>60</td>\n",
       "      <td>50</td>\n",
       "      <td>65</td>\n",
       "    </tr>\n",
       "    <tr>\n",
       "      <th>4</th>\n",
       "      <td>5</td>\n",
       "      <td>Charmeleon</td>\n",
       "      <td>Fire</td>\n",
       "      <td>NaN</td>\n",
       "      <td>58</td>\n",
       "      <td>64</td>\n",
       "      <td>58</td>\n",
       "      <td>80</td>\n",
       "      <td>65</td>\n",
       "      <td>80</td>\n",
       "    </tr>\n",
       "    <tr>\n",
       "      <th>5</th>\n",
       "      <td>6</td>\n",
       "      <td>Charizard</td>\n",
       "      <td>Fire</td>\n",
       "      <td>Flying</td>\n",
       "      <td>78</td>\n",
       "      <td>84</td>\n",
       "      <td>78</td>\n",
       "      <td>109</td>\n",
       "      <td>85</td>\n",
       "      <td>100</td>\n",
       "    </tr>\n",
       "    <tr>\n",
       "      <th>6</th>\n",
       "      <td>7</td>\n",
       "      <td>Squirtle</td>\n",
       "      <td>Water</td>\n",
       "      <td>NaN</td>\n",
       "      <td>44</td>\n",
       "      <td>48</td>\n",
       "      <td>65</td>\n",
       "      <td>50</td>\n",
       "      <td>64</td>\n",
       "      <td>43</td>\n",
       "    </tr>\n",
       "    <tr>\n",
       "      <th>7</th>\n",
       "      <td>8</td>\n",
       "      <td>Wartortle</td>\n",
       "      <td>Water</td>\n",
       "      <td>NaN</td>\n",
       "      <td>59</td>\n",
       "      <td>63</td>\n",
       "      <td>80</td>\n",
       "      <td>65</td>\n",
       "      <td>80</td>\n",
       "      <td>58</td>\n",
       "    </tr>\n",
       "    <tr>\n",
       "      <th>8</th>\n",
       "      <td>9</td>\n",
       "      <td>Blastoise</td>\n",
       "      <td>Water</td>\n",
       "      <td>NaN</td>\n",
       "      <td>79</td>\n",
       "      <td>83</td>\n",
       "      <td>100</td>\n",
       "      <td>85</td>\n",
       "      <td>105</td>\n",
       "      <td>78</td>\n",
       "    </tr>\n",
       "    <tr>\n",
       "      <th>36</th>\n",
       "      <td>37</td>\n",
       "      <td>Vulpix</td>\n",
       "      <td>Fire</td>\n",
       "      <td>NaN</td>\n",
       "      <td>38</td>\n",
       "      <td>41</td>\n",
       "      <td>40</td>\n",
       "      <td>50</td>\n",
       "      <td>65</td>\n",
       "      <td>65</td>\n",
       "    </tr>\n",
       "    <tr>\n",
       "      <th>37</th>\n",
       "      <td>38</td>\n",
       "      <td>Ninetales</td>\n",
       "      <td>Fire</td>\n",
       "      <td>NaN</td>\n",
       "      <td>73</td>\n",
       "      <td>76</td>\n",
       "      <td>75</td>\n",
       "      <td>81</td>\n",
       "      <td>100</td>\n",
       "      <td>100</td>\n",
       "    </tr>\n",
       "    <tr>\n",
       "      <th>42</th>\n",
       "      <td>43</td>\n",
       "      <td>Oddish</td>\n",
       "      <td>Grass</td>\n",
       "      <td>Poison</td>\n",
       "      <td>45</td>\n",
       "      <td>50</td>\n",
       "      <td>55</td>\n",
       "      <td>75</td>\n",
       "      <td>65</td>\n",
       "      <td>30</td>\n",
       "    </tr>\n",
       "    <tr>\n",
       "      <th>43</th>\n",
       "      <td>44</td>\n",
       "      <td>Gloom</td>\n",
       "      <td>Grass</td>\n",
       "      <td>Poison</td>\n",
       "      <td>60</td>\n",
       "      <td>65</td>\n",
       "      <td>70</td>\n",
       "      <td>85</td>\n",
       "      <td>75</td>\n",
       "      <td>40</td>\n",
       "    </tr>\n",
       "    <tr>\n",
       "      <th>44</th>\n",
       "      <td>45</td>\n",
       "      <td>Vileplume</td>\n",
       "      <td>Grass</td>\n",
       "      <td>Poison</td>\n",
       "      <td>75</td>\n",
       "      <td>80</td>\n",
       "      <td>85</td>\n",
       "      <td>110</td>\n",
       "      <td>90</td>\n",
       "      <td>50</td>\n",
       "    </tr>\n",
       "    <tr>\n",
       "      <th>53</th>\n",
       "      <td>54</td>\n",
       "      <td>Psyduck</td>\n",
       "      <td>Water</td>\n",
       "      <td>NaN</td>\n",
       "      <td>50</td>\n",
       "      <td>52</td>\n",
       "      <td>48</td>\n",
       "      <td>65</td>\n",
       "      <td>50</td>\n",
       "      <td>55</td>\n",
       "    </tr>\n",
       "    <tr>\n",
       "      <th>54</th>\n",
       "      <td>55</td>\n",
       "      <td>Golduck</td>\n",
       "      <td>Water</td>\n",
       "      <td>NaN</td>\n",
       "      <td>80</td>\n",
       "      <td>82</td>\n",
       "      <td>78</td>\n",
       "      <td>95</td>\n",
       "      <td>80</td>\n",
       "      <td>85</td>\n",
       "    </tr>\n",
       "    <tr>\n",
       "      <th>57</th>\n",
       "      <td>58</td>\n",
       "      <td>Growlithe</td>\n",
       "      <td>Fire</td>\n",
       "      <td>NaN</td>\n",
       "      <td>55</td>\n",
       "      <td>70</td>\n",
       "      <td>45</td>\n",
       "      <td>70</td>\n",
       "      <td>50</td>\n",
       "      <td>60</td>\n",
       "    </tr>\n",
       "    <tr>\n",
       "      <th>58</th>\n",
       "      <td>59</td>\n",
       "      <td>Arcanine</td>\n",
       "      <td>Fire</td>\n",
       "      <td>NaN</td>\n",
       "      <td>90</td>\n",
       "      <td>110</td>\n",
       "      <td>80</td>\n",
       "      <td>100</td>\n",
       "      <td>80</td>\n",
       "      <td>95</td>\n",
       "    </tr>\n",
       "    <tr>\n",
       "      <th>59</th>\n",
       "      <td>60</td>\n",
       "      <td>Poliwag</td>\n",
       "      <td>Water</td>\n",
       "      <td>NaN</td>\n",
       "      <td>40</td>\n",
       "      <td>50</td>\n",
       "      <td>40</td>\n",
       "      <td>40</td>\n",
       "      <td>40</td>\n",
       "      <td>90</td>\n",
       "    </tr>\n",
       "    <tr>\n",
       "      <th>60</th>\n",
       "      <td>61</td>\n",
       "      <td>Poliwhirl</td>\n",
       "      <td>Water</td>\n",
       "      <td>NaN</td>\n",
       "      <td>65</td>\n",
       "      <td>65</td>\n",
       "      <td>65</td>\n",
       "      <td>50</td>\n",
       "      <td>50</td>\n",
       "      <td>90</td>\n",
       "    </tr>\n",
       "    <tr>\n",
       "      <th>61</th>\n",
       "      <td>62</td>\n",
       "      <td>Poliwrath</td>\n",
       "      <td>Water</td>\n",
       "      <td>Fighting</td>\n",
       "      <td>90</td>\n",
       "      <td>95</td>\n",
       "      <td>95</td>\n",
       "      <td>70</td>\n",
       "      <td>90</td>\n",
       "      <td>70</td>\n",
       "    </tr>\n",
       "    <tr>\n",
       "      <th>68</th>\n",
       "      <td>69</td>\n",
       "      <td>Bellsprout</td>\n",
       "      <td>Grass</td>\n",
       "      <td>Poison</td>\n",
       "      <td>50</td>\n",
       "      <td>75</td>\n",
       "      <td>35</td>\n",
       "      <td>70</td>\n",
       "      <td>30</td>\n",
       "      <td>40</td>\n",
       "    </tr>\n",
       "    <tr>\n",
       "      <th>69</th>\n",
       "      <td>70</td>\n",
       "      <td>Weepinbell</td>\n",
       "      <td>Grass</td>\n",
       "      <td>Poison</td>\n",
       "      <td>65</td>\n",
       "      <td>90</td>\n",
       "      <td>50</td>\n",
       "      <td>85</td>\n",
       "      <td>45</td>\n",
       "      <td>55</td>\n",
       "    </tr>\n",
       "    <tr>\n",
       "      <th>70</th>\n",
       "      <td>71</td>\n",
       "      <td>Victreebel</td>\n",
       "      <td>Grass</td>\n",
       "      <td>Poison</td>\n",
       "      <td>80</td>\n",
       "      <td>105</td>\n",
       "      <td>65</td>\n",
       "      <td>100</td>\n",
       "      <td>70</td>\n",
       "      <td>70</td>\n",
       "    </tr>\n",
       "    <tr>\n",
       "      <th>71</th>\n",
       "      <td>72</td>\n",
       "      <td>Tentacool</td>\n",
       "      <td>Water</td>\n",
       "      <td>Poison</td>\n",
       "      <td>40</td>\n",
       "      <td>40</td>\n",
       "      <td>35</td>\n",
       "      <td>50</td>\n",
       "      <td>100</td>\n",
       "      <td>70</td>\n",
       "    </tr>\n",
       "    <tr>\n",
       "      <th>72</th>\n",
       "      <td>73</td>\n",
       "      <td>Tentacruel</td>\n",
       "      <td>Water</td>\n",
       "      <td>Poison</td>\n",
       "      <td>80</td>\n",
       "      <td>70</td>\n",
       "      <td>65</td>\n",
       "      <td>80</td>\n",
       "      <td>120</td>\n",
       "      <td>100</td>\n",
       "    </tr>\n",
       "    <tr>\n",
       "      <th>76</th>\n",
       "      <td>77</td>\n",
       "      <td>Ponyta</td>\n",
       "      <td>Fire</td>\n",
       "      <td>NaN</td>\n",
       "      <td>50</td>\n",
       "      <td>85</td>\n",
       "      <td>55</td>\n",
       "      <td>65</td>\n",
       "      <td>65</td>\n",
       "      <td>90</td>\n",
       "    </tr>\n",
       "    <tr>\n",
       "      <th>77</th>\n",
       "      <td>78</td>\n",
       "      <td>Rapidash</td>\n",
       "      <td>Fire</td>\n",
       "      <td>NaN</td>\n",
       "      <td>65</td>\n",
       "      <td>100</td>\n",
       "      <td>70</td>\n",
       "      <td>80</td>\n",
       "      <td>80</td>\n",
       "      <td>105</td>\n",
       "    </tr>\n",
       "    <tr>\n",
       "      <th>78</th>\n",
       "      <td>79</td>\n",
       "      <td>Slowpoke</td>\n",
       "      <td>Water</td>\n",
       "      <td>Psychic</td>\n",
       "      <td>90</td>\n",
       "      <td>65</td>\n",
       "      <td>65</td>\n",
       "      <td>40</td>\n",
       "      <td>40</td>\n",
       "      <td>15</td>\n",
       "    </tr>\n",
       "    <tr>\n",
       "      <th>79</th>\n",
       "      <td>80</td>\n",
       "      <td>Slowbro</td>\n",
       "      <td>Water</td>\n",
       "      <td>Psychic</td>\n",
       "      <td>95</td>\n",
       "      <td>75</td>\n",
       "      <td>110</td>\n",
       "      <td>100</td>\n",
       "      <td>80</td>\n",
       "      <td>30</td>\n",
       "    </tr>\n",
       "    <tr>\n",
       "      <th>85</th>\n",
       "      <td>86</td>\n",
       "      <td>Seel</td>\n",
       "      <td>Water</td>\n",
       "      <td>NaN</td>\n",
       "      <td>65</td>\n",
       "      <td>45</td>\n",
       "      <td>55</td>\n",
       "      <td>45</td>\n",
       "      <td>70</td>\n",
       "      <td>45</td>\n",
       "    </tr>\n",
       "    <tr>\n",
       "      <th>86</th>\n",
       "      <td>87</td>\n",
       "      <td>Dewgong</td>\n",
       "      <td>Water</td>\n",
       "      <td>Ice</td>\n",
       "      <td>90</td>\n",
       "      <td>70</td>\n",
       "      <td>80</td>\n",
       "      <td>70</td>\n",
       "      <td>95</td>\n",
       "      <td>70</td>\n",
       "    </tr>\n",
       "    <tr>\n",
       "      <th>89</th>\n",
       "      <td>90</td>\n",
       "      <td>Shellder</td>\n",
       "      <td>Water</td>\n",
       "      <td>NaN</td>\n",
       "      <td>30</td>\n",
       "      <td>65</td>\n",
       "      <td>100</td>\n",
       "      <td>45</td>\n",
       "      <td>25</td>\n",
       "      <td>40</td>\n",
       "    </tr>\n",
       "    <tr>\n",
       "      <th>90</th>\n",
       "      <td>91</td>\n",
       "      <td>Cloyster</td>\n",
       "      <td>Water</td>\n",
       "      <td>Ice</td>\n",
       "      <td>50</td>\n",
       "      <td>95</td>\n",
       "      <td>180</td>\n",
       "      <td>85</td>\n",
       "      <td>45</td>\n",
       "      <td>70</td>\n",
       "    </tr>\n",
       "    <tr>\n",
       "      <th>97</th>\n",
       "      <td>98</td>\n",
       "      <td>Krabby</td>\n",
       "      <td>Water</td>\n",
       "      <td>NaN</td>\n",
       "      <td>30</td>\n",
       "      <td>105</td>\n",
       "      <td>90</td>\n",
       "      <td>25</td>\n",
       "      <td>25</td>\n",
       "      <td>50</td>\n",
       "    </tr>\n",
       "    <tr>\n",
       "      <th>98</th>\n",
       "      <td>99</td>\n",
       "      <td>Kingler</td>\n",
       "      <td>Water</td>\n",
       "      <td>NaN</td>\n",
       "      <td>55</td>\n",
       "      <td>130</td>\n",
       "      <td>115</td>\n",
       "      <td>50</td>\n",
       "      <td>50</td>\n",
       "      <td>75</td>\n",
       "    </tr>\n",
       "    <tr>\n",
       "      <th>101</th>\n",
       "      <td>102</td>\n",
       "      <td>Exeggcute</td>\n",
       "      <td>Grass</td>\n",
       "      <td>Psychic</td>\n",
       "      <td>60</td>\n",
       "      <td>40</td>\n",
       "      <td>80</td>\n",
       "      <td>60</td>\n",
       "      <td>45</td>\n",
       "      <td>40</td>\n",
       "    </tr>\n",
       "    <tr>\n",
       "      <th>102</th>\n",
       "      <td>103</td>\n",
       "      <td>Exeggutor</td>\n",
       "      <td>Grass</td>\n",
       "      <td>Psychic</td>\n",
       "      <td>95</td>\n",
       "      <td>95</td>\n",
       "      <td>85</td>\n",
       "      <td>125</td>\n",
       "      <td>65</td>\n",
       "      <td>55</td>\n",
       "    </tr>\n",
       "    <tr>\n",
       "      <th>113</th>\n",
       "      <td>114</td>\n",
       "      <td>Tangela</td>\n",
       "      <td>Grass</td>\n",
       "      <td>NaN</td>\n",
       "      <td>65</td>\n",
       "      <td>55</td>\n",
       "      <td>115</td>\n",
       "      <td>100</td>\n",
       "      <td>40</td>\n",
       "      <td>60</td>\n",
       "    </tr>\n",
       "    <tr>\n",
       "      <th>115</th>\n",
       "      <td>116</td>\n",
       "      <td>Horsea</td>\n",
       "      <td>Water</td>\n",
       "      <td>NaN</td>\n",
       "      <td>30</td>\n",
       "      <td>40</td>\n",
       "      <td>70</td>\n",
       "      <td>70</td>\n",
       "      <td>25</td>\n",
       "      <td>60</td>\n",
       "    </tr>\n",
       "    <tr>\n",
       "      <th>116</th>\n",
       "      <td>117</td>\n",
       "      <td>Seadra</td>\n",
       "      <td>Water</td>\n",
       "      <td>NaN</td>\n",
       "      <td>55</td>\n",
       "      <td>65</td>\n",
       "      <td>95</td>\n",
       "      <td>95</td>\n",
       "      <td>45</td>\n",
       "      <td>85</td>\n",
       "    </tr>\n",
       "    <tr>\n",
       "      <th>117</th>\n",
       "      <td>118</td>\n",
       "      <td>Goldeen</td>\n",
       "      <td>Water</td>\n",
       "      <td>NaN</td>\n",
       "      <td>45</td>\n",
       "      <td>67</td>\n",
       "      <td>60</td>\n",
       "      <td>35</td>\n",
       "      <td>50</td>\n",
       "      <td>63</td>\n",
       "    </tr>\n",
       "    <tr>\n",
       "      <th>118</th>\n",
       "      <td>119</td>\n",
       "      <td>Seaking</td>\n",
       "      <td>Water</td>\n",
       "      <td>NaN</td>\n",
       "      <td>80</td>\n",
       "      <td>92</td>\n",
       "      <td>65</td>\n",
       "      <td>65</td>\n",
       "      <td>80</td>\n",
       "      <td>68</td>\n",
       "    </tr>\n",
       "    <tr>\n",
       "      <th>119</th>\n",
       "      <td>120</td>\n",
       "      <td>Staryu</td>\n",
       "      <td>Water</td>\n",
       "      <td>NaN</td>\n",
       "      <td>30</td>\n",
       "      <td>45</td>\n",
       "      <td>55</td>\n",
       "      <td>70</td>\n",
       "      <td>55</td>\n",
       "      <td>85</td>\n",
       "    </tr>\n",
       "    <tr>\n",
       "      <th>120</th>\n",
       "      <td>121</td>\n",
       "      <td>Starmie</td>\n",
       "      <td>Water</td>\n",
       "      <td>Psychic</td>\n",
       "      <td>60</td>\n",
       "      <td>75</td>\n",
       "      <td>85</td>\n",
       "      <td>100</td>\n",
       "      <td>85</td>\n",
       "      <td>115</td>\n",
       "    </tr>\n",
       "    <tr>\n",
       "      <th>125</th>\n",
       "      <td>126</td>\n",
       "      <td>Magmar</td>\n",
       "      <td>Fire</td>\n",
       "      <td>NaN</td>\n",
       "      <td>65</td>\n",
       "      <td>95</td>\n",
       "      <td>57</td>\n",
       "      <td>100</td>\n",
       "      <td>85</td>\n",
       "      <td>93</td>\n",
       "    </tr>\n",
       "    <tr>\n",
       "      <th>128</th>\n",
       "      <td>129</td>\n",
       "      <td>Magikarp</td>\n",
       "      <td>Water</td>\n",
       "      <td>NaN</td>\n",
       "      <td>20</td>\n",
       "      <td>10</td>\n",
       "      <td>55</td>\n",
       "      <td>15</td>\n",
       "      <td>20</td>\n",
       "      <td>80</td>\n",
       "    </tr>\n",
       "    <tr>\n",
       "      <th>129</th>\n",
       "      <td>130</td>\n",
       "      <td>Gyarados</td>\n",
       "      <td>Water</td>\n",
       "      <td>Flying</td>\n",
       "      <td>95</td>\n",
       "      <td>125</td>\n",
       "      <td>79</td>\n",
       "      <td>60</td>\n",
       "      <td>100</td>\n",
       "      <td>81</td>\n",
       "    </tr>\n",
       "    <tr>\n",
       "      <th>130</th>\n",
       "      <td>131</td>\n",
       "      <td>Lapras</td>\n",
       "      <td>Water</td>\n",
       "      <td>Ice</td>\n",
       "      <td>130</td>\n",
       "      <td>85</td>\n",
       "      <td>80</td>\n",
       "      <td>85</td>\n",
       "      <td>95</td>\n",
       "      <td>60</td>\n",
       "    </tr>\n",
       "    <tr>\n",
       "      <th>133</th>\n",
       "      <td>134</td>\n",
       "      <td>Vaporeon</td>\n",
       "      <td>Water</td>\n",
       "      <td>NaN</td>\n",
       "      <td>130</td>\n",
       "      <td>65</td>\n",
       "      <td>60</td>\n",
       "      <td>110</td>\n",
       "      <td>95</td>\n",
       "      <td>65</td>\n",
       "    </tr>\n",
       "    <tr>\n",
       "      <th>135</th>\n",
       "      <td>136</td>\n",
       "      <td>Flareon</td>\n",
       "      <td>Fire</td>\n",
       "      <td>NaN</td>\n",
       "      <td>65</td>\n",
       "      <td>130</td>\n",
       "      <td>60</td>\n",
       "      <td>95</td>\n",
       "      <td>110</td>\n",
       "      <td>65</td>\n",
       "    </tr>\n",
       "    <tr>\n",
       "      <th>145</th>\n",
       "      <td>146</td>\n",
       "      <td>Moltres</td>\n",
       "      <td>Fire</td>\n",
       "      <td>Flying</td>\n",
       "      <td>90</td>\n",
       "      <td>100</td>\n",
       "      <td>90</td>\n",
       "      <td>125</td>\n",
       "      <td>85</td>\n",
       "      <td>90</td>\n",
       "    </tr>\n",
       "  </tbody>\n",
       "</table>\n",
       "</div>"
      ],
      "text/plain": [
       "       #        Name Type 1    Type 2   HP  Attack  Defense  Sp. Atk  Sp. Def  \\\n",
       "0      1   Bulbasaur  Grass    Poison   45      49       49       65       65   \n",
       "1      2     Ivysaur  Grass    Poison   60      62       63       80       80   \n",
       "2      3    Venusaur  Grass    Poison   80      82       83      100      100   \n",
       "3      4  Charmander   Fire       NaN   39      52       43       60       50   \n",
       "4      5  Charmeleon   Fire       NaN   58      64       58       80       65   \n",
       "5      6   Charizard   Fire    Flying   78      84       78      109       85   \n",
       "6      7    Squirtle  Water       NaN   44      48       65       50       64   \n",
       "7      8   Wartortle  Water       NaN   59      63       80       65       80   \n",
       "8      9   Blastoise  Water       NaN   79      83      100       85      105   \n",
       "36    37      Vulpix   Fire       NaN   38      41       40       50       65   \n",
       "37    38   Ninetales   Fire       NaN   73      76       75       81      100   \n",
       "42    43      Oddish  Grass    Poison   45      50       55       75       65   \n",
       "43    44       Gloom  Grass    Poison   60      65       70       85       75   \n",
       "44    45   Vileplume  Grass    Poison   75      80       85      110       90   \n",
       "53    54     Psyduck  Water       NaN   50      52       48       65       50   \n",
       "54    55     Golduck  Water       NaN   80      82       78       95       80   \n",
       "57    58   Growlithe   Fire       NaN   55      70       45       70       50   \n",
       "58    59    Arcanine   Fire       NaN   90     110       80      100       80   \n",
       "59    60     Poliwag  Water       NaN   40      50       40       40       40   \n",
       "60    61   Poliwhirl  Water       NaN   65      65       65       50       50   \n",
       "61    62   Poliwrath  Water  Fighting   90      95       95       70       90   \n",
       "68    69  Bellsprout  Grass    Poison   50      75       35       70       30   \n",
       "69    70  Weepinbell  Grass    Poison   65      90       50       85       45   \n",
       "70    71  Victreebel  Grass    Poison   80     105       65      100       70   \n",
       "71    72   Tentacool  Water    Poison   40      40       35       50      100   \n",
       "72    73  Tentacruel  Water    Poison   80      70       65       80      120   \n",
       "76    77      Ponyta   Fire       NaN   50      85       55       65       65   \n",
       "77    78    Rapidash   Fire       NaN   65     100       70       80       80   \n",
       "78    79    Slowpoke  Water   Psychic   90      65       65       40       40   \n",
       "79    80     Slowbro  Water   Psychic   95      75      110      100       80   \n",
       "85    86        Seel  Water       NaN   65      45       55       45       70   \n",
       "86    87     Dewgong  Water       Ice   90      70       80       70       95   \n",
       "89    90    Shellder  Water       NaN   30      65      100       45       25   \n",
       "90    91    Cloyster  Water       Ice   50      95      180       85       45   \n",
       "97    98      Krabby  Water       NaN   30     105       90       25       25   \n",
       "98    99     Kingler  Water       NaN   55     130      115       50       50   \n",
       "101  102   Exeggcute  Grass   Psychic   60      40       80       60       45   \n",
       "102  103   Exeggutor  Grass   Psychic   95      95       85      125       65   \n",
       "113  114     Tangela  Grass       NaN   65      55      115      100       40   \n",
       "115  116      Horsea  Water       NaN   30      40       70       70       25   \n",
       "116  117      Seadra  Water       NaN   55      65       95       95       45   \n",
       "117  118     Goldeen  Water       NaN   45      67       60       35       50   \n",
       "118  119     Seaking  Water       NaN   80      92       65       65       80   \n",
       "119  120      Staryu  Water       NaN   30      45       55       70       55   \n",
       "120  121     Starmie  Water   Psychic   60      75       85      100       85   \n",
       "125  126      Magmar   Fire       NaN   65      95       57      100       85   \n",
       "128  129    Magikarp  Water       NaN   20      10       55       15       20   \n",
       "129  130    Gyarados  Water    Flying   95     125       79       60      100   \n",
       "130  131      Lapras  Water       Ice  130      85       80       85       95   \n",
       "133  134    Vaporeon  Water       NaN  130      65       60      110       95   \n",
       "135  136     Flareon   Fire       NaN   65     130       60       95      110   \n",
       "145  146     Moltres   Fire    Flying   90     100       90      125       85   \n",
       "\n",
       "     Speed  \n",
       "0       45  \n",
       "1       60  \n",
       "2       80  \n",
       "3       65  \n",
       "4       80  \n",
       "5      100  \n",
       "6       43  \n",
       "7       58  \n",
       "8       78  \n",
       "36      65  \n",
       "37     100  \n",
       "42      30  \n",
       "43      40  \n",
       "44      50  \n",
       "53      55  \n",
       "54      85  \n",
       "57      60  \n",
       "58      95  \n",
       "59      90  \n",
       "60      90  \n",
       "61      70  \n",
       "68      40  \n",
       "69      55  \n",
       "70      70  \n",
       "71      70  \n",
       "72     100  \n",
       "76      90  \n",
       "77     105  \n",
       "78      15  \n",
       "79      30  \n",
       "85      45  \n",
       "86      70  \n",
       "89      40  \n",
       "90      70  \n",
       "97      50  \n",
       "98      75  \n",
       "101     40  \n",
       "102     55  \n",
       "113     60  \n",
       "115     60  \n",
       "116     85  \n",
       "117     63  \n",
       "118     68  \n",
       "119     85  \n",
       "120    115  \n",
       "125     93  \n",
       "128     80  \n",
       "129     81  \n",
       "130     60  \n",
       "133     65  \n",
       "135     65  \n",
       "145     90  "
      ]
     },
     "execution_count": 35,
     "metadata": {},
     "output_type": "execute_result"
    }
   ],
   "source": [
    "wfg = pokemon_new.loc[pokemon_new[\"Type 1\"].isin([\"Water\",\"Fire\",\"Grass\"])]\n",
    "wfg"
   ]
  },
  {
   "cell_type": "code",
   "execution_count": 37,
   "metadata": {},
   "outputs": [
    {
     "data": {
      "text/plain": [
       "['Solarize_Light2',\n",
       " '_classic_test_patch',\n",
       " '_mpl-gallery',\n",
       " '_mpl-gallery-nogrid',\n",
       " 'bmh',\n",
       " 'classic',\n",
       " 'dark_background',\n",
       " 'fast',\n",
       " 'fivethirtyeight',\n",
       " 'ggplot',\n",
       " 'grayscale',\n",
       " 'petroff10',\n",
       " 'seaborn-v0_8',\n",
       " 'seaborn-v0_8-bright',\n",
       " 'seaborn-v0_8-colorblind',\n",
       " 'seaborn-v0_8-dark',\n",
       " 'seaborn-v0_8-dark-palette',\n",
       " 'seaborn-v0_8-darkgrid',\n",
       " 'seaborn-v0_8-deep',\n",
       " 'seaborn-v0_8-muted',\n",
       " 'seaborn-v0_8-notebook',\n",
       " 'seaborn-v0_8-paper',\n",
       " 'seaborn-v0_8-pastel',\n",
       " 'seaborn-v0_8-poster',\n",
       " 'seaborn-v0_8-talk',\n",
       " 'seaborn-v0_8-ticks',\n",
       " 'seaborn-v0_8-white',\n",
       " 'seaborn-v0_8-whitegrid',\n",
       " 'tableau-colorblind10']"
      ]
     },
     "execution_count": 37,
     "metadata": {},
     "output_type": "execute_result"
    }
   ],
   "source": [
    "# 13. Usa un estilo 'whitegrid'\n",
    "plt.style.available"
   ]
  },
  {
   "cell_type": "code",
   "execution_count": 38,
   "metadata": {},
   "outputs": [],
   "source": [
    "plt.style.use(\"seaborn-v0_8-whitegrid\")"
   ]
  },
  {
   "cell_type": "code",
   "execution_count": 39,
   "metadata": {},
   "outputs": [],
   "source": [
    "# 14. Pinta diagramas de violín con el DataFrame filtrado por los 3 tipos"
   ]
  },
  {
   "cell_type": "code",
   "execution_count": 44,
   "metadata": {},
   "outputs": [
    {
     "data": {
      "image/png": "[encoded data removed]",
      "text/plain": [
       "<Figure size 640x480 with 1 Axes>"
      ]
     },
     "metadata": {},
     "output_type": "display_data"
    }
   ],
   "source": [
    "sns.violinplot(data = wfg, y = \"Attack\", hue=\"Type 1\");"
   ]
  },
  {
   "cell_type": "code",
   "execution_count": 41,
   "metadata": {},
   "outputs": [],
   "source": [
    "# 15. Escribe una lista de colores con valores '#78C850', '#F08030',  '#6890F0'"
   ]
  },
  {
   "cell_type": "code",
   "execution_count": 45,
   "metadata": {},
   "outputs": [
    {
     "data": {
      "text/plain": [
       "['#78C850', '#F08030', '#6890F0']"
      ]
     },
     "execution_count": 45,
     "metadata": {},
     "output_type": "execute_result"
    }
   ],
   "source": [
    "colores = ['#78C850', '#F08030',  '#6890F0']\n",
    "colores"
   ]
  },
  {
   "cell_type": "code",
   "execution_count": 43,
   "metadata": {},
   "outputs": [],
   "source": [
    "# 16. Pinta de nuevo los diagramas de violín añadiendo esos colores en la paleta (palette)"
   ]
  },
  {
   "cell_type": "code",
   "execution_count": 46,
   "metadata": {},
   "outputs": [
    {
     "data": {
      "image/png": "[encoded data removed]",
      "text/plain": [
       "<Figure size 640x480 with 1 Axes>"
      ]
     },
     "metadata": {},
     "output_type": "display_data"
    }
   ],
   "source": [
    "sns.violinplot(data = wfg, y = \"Attack\", hue=\"Type 1\",palette=colores);"
   ]
  },
  {
   "cell_type": "code",
   "execution_count": 45,
   "metadata": {},
   "outputs": [],
   "source": [
    "# 17. Con el diagrama de violín vemos la forma de la distribución, pero no sabemos si Grass tiene muchos puntos y Fire tiene muy pocos.\n",
    "# Para ver esto, usamos el swarmplot.\n",
    "# Pinta el último diagrama de violines pero con un swarmplot en lugar de un violin"
   ]
  },
  {
   "cell_type": "code",
   "execution_count": 52,
   "metadata": {},
   "outputs": [
    {
     "data": {
      "image/png": "[encoded data removed]",
      "text/plain": [
       "<Figure size 640x480 with 1 Axes>"
      ]
     },
     "metadata": {},
     "output_type": "display_data"
    }
   ],
   "source": [
    "sns.swarmplot(data = wfg, y = \"Attack\", hue=\"Type 1\",palette=colores);"
   ]
  },
  {
   "cell_type": "code",
   "execution_count": 47,
   "metadata": {},
   "outputs": [],
   "source": [
    "# 18. Queremos ver los violines a la vez que los swarm, los podemos pintar juntos. \n",
    "# Elimina los diagramas de caja dentro de los violines con el parámetro inner = None y pon una transparencia de 0.9 en el swarmplot\n",
    "# Pon un título con pyplot (como siempre)"
   ]
  },
  {
   "cell_type": "code",
   "execution_count": 60,
   "metadata": {},
   "outputs": [
    {
     "name": "stderr",
     "output_type": "stream",
     "text": [
      "C:\\Users\\pacof\\AppData\\Local\\Temp\\ipykernel_16340\\2957888596.py:2: FutureWarning: \n",
      "\n",
      "Setting a gradient palette using color= is deprecated and will be removed in v0.14.0. Set `palette='dark:k'` for the same effect.\n",
      "\n",
      "  sns.swarmplot(data = wfg, x = \"Type 1\",y = \"Attack\", hue=\"Type 1\", color='k', alpha = 0.9);\n"
     ]
    },
    {
     "data": {
      "image/png": "[encoded data removed]",
      "text/plain": [
       "<Figure size 640x480 with 1 Axes>"
      ]
     },
     "metadata": {},
     "output_type": "display_data"
    }
   ],
   "source": [
    "sns.violinplot(data = wfg, x = \"Type 1\",y = \"Attack\", hue=\"Type 1\",palette=colores, inner=None);\n",
    "sns.swarmplot(data = wfg, x = \"Type 1\",y = \"Attack\", hue=\"Type 1\", color='k', alpha = 0.9);\n",
    "plt.title(\"Ataque por tipos 1\");"
   ]
  },
  {
   "cell_type": "code",
   "execution_count": 49,
   "metadata": {},
   "outputs": [],
   "source": [
    "# 19. Veamos la función melt() de pandas. Melt toma los valores de varias columnas y los junta todos en una misma columna nueva.\n",
    "# Dado un DataFrame, melt recibe varios parámetros:\n",
    "# * qué columnas del DataFrame se quedan igual\n",
    "# * qué nombres de columnas del dataframe pasan a ser una columna nueva\n",
    "# * cómo queremos llamar esas nuevas columnas\n",
    "\n",
    "# Primero recuerda el Dataframe df_grass_fire_water con las primeras 5 filas"
   ]
  },
  {
   "cell_type": "code",
   "execution_count": 69,
   "metadata": {},
   "outputs": [
    {
     "name": "stdout",
     "output_type": "stream",
     "text": [
      "\u001b[31mSignature:\u001b[39m\n",
      "pd.melt(\n",
      "    frame: \u001b[33m'DataFrame'\u001b[39m,\n",
      "    id_vars=\u001b[38;5;28;01mNone\u001b[39;00m,\n",
      "    value_vars=\u001b[38;5;28;01mNone\u001b[39;00m,\n",
      "    var_name=\u001b[38;5;28;01mNone\u001b[39;00m,\n",
      "    value_name: \u001b[33m'Hashable'\u001b[39m = \u001b[33m'value'\u001b[39m,\n",
      "    col_level=\u001b[38;5;28;01mNone\u001b[39;00m,\n",
      "    ignore_index: \u001b[33m'bool'\u001b[39m = \u001b[38;5;28;01mTrue\u001b[39;00m,\n",
      ") -> \u001b[33m'DataFrame'\u001b[39m\n",
      "\u001b[31mDocstring:\u001b[39m\n",
      "Unpivot a DataFrame from wide to long format, optionally leaving identifiers set.\n",
      "\n",
      "This function is useful to massage a DataFrame into a format where one\n",
      "or more columns are identifier variables (`id_vars`), while all other\n",
      "columns, considered measured variables (`value_vars`), are \"unpivoted\" to\n",
      "the row axis, leaving just two non-identifier columns, 'variable' and\n",
      "'value'.\n",
      "\n",
      "Parameters\n",
      "----------\n",
      "id_vars : scalar, tuple, list, or ndarray, optional\n",
      "    Column(s) to use as identifier variables.\n",
      "value_vars : scalar, tuple, list, or ndarray, optional\n",
      "    Column(s) to unpivot. If not specified, uses all columns that\n",
      "    are not set as `id_vars`.\n",
      "var_name : scalar, default None\n",
      "    Name to use for the 'variable' column. If None it uses\n",
      "    ``frame.columns.name`` or 'variable'.\n",
      "value_name : scalar, default 'value'\n",
      "    Name to use for the 'value' column, can't be an existing column label.\n",
      "col_level : scalar, optional\n",
      "    If columns are a MultiIndex then use this level to melt.\n",
      "ignore_index : bool, default True\n",
      "    If True, original index is ignored. If False, the original index is retained.\n",
      "    Index labels will be repeated as necessary.\n",
      "\n",
      "Returns\n",
      "-------\n",
      "DataFrame\n",
      "    Unpivoted DataFrame.\n",
      "\n",
      "See Also\n",
      "--------\n",
      "DataFrame.melt : Identical method.\n",
      "pivot_table : Create a spreadsheet-style pivot table as a DataFrame.\n",
      "DataFrame.pivot : Return reshaped DataFrame organized\n",
      "    by given index / column values.\n",
      "DataFrame.explode : Explode a DataFrame from list-like\n",
      "        columns to long format.\n",
      "\n",
      "Notes\n",
      "-----\n",
      "Reference :ref:`the user guide <reshaping.melt>` for more examples.\n",
      "\n",
      "Examples\n",
      "--------\n",
      ">>> df = pd.DataFrame({'A': {0: 'a', 1: 'b', 2: 'c'},\n",
      "...                    'B': {0: 1, 1: 3, 2: 5},\n",
      "...                    'C': {0: 2, 1: 4, 2: 6}})\n",
      ">>> df\n",
      "   A  B  C\n",
      "0  a  1  2\n",
      "1  b  3  4\n",
      "2  c  5  6\n",
      "\n",
      ">>> pd.melt(df, id_vars=['A'], value_vars=['B'])\n",
      "   A variable  value\n",
      "0  a        B      1\n",
      "1  b        B      3\n",
      "2  c        B      5\n",
      "\n",
      ">>> pd.melt(df, id_vars=['A'], value_vars=['B', 'C'])\n",
      "   A variable  value\n",
      "0  a        B      1\n",
      "1  b        B      3\n",
      "2  c        B      5\n",
      "3  a        C      2\n",
      "4  b        C      4\n",
      "5  c        C      6\n",
      "\n",
      "The names of 'variable' and 'value' columns can be customized:\n",
      "\n",
      ">>> pd.melt(df, id_vars=['A'], value_vars=['B'],\n",
      "...         var_name='myVarname', value_name='myValname')\n",
      "   A myVarname  myValname\n",
      "0  a         B          1\n",
      "1  b         B          3\n",
      "2  c         B          5\n",
      "\n",
      "Original index values can be kept around:\n",
      "\n",
      ">>> pd.melt(df, id_vars=['A'], value_vars=['B', 'C'], ignore_index=False)\n",
      "   A variable  value\n",
      "0  a        B      1\n",
      "1  b        B      3\n",
      "2  c        B      5\n",
      "0  a        C      2\n",
      "1  b        C      4\n",
      "2  c        C      6\n",
      "\n",
      "If you have multi-index columns:\n",
      "\n",
      ">>> df.columns = [list('ABC'), list('DEF')]\n",
      ">>> df\n",
      "   A  B  C\n",
      "   D  E  F\n",
      "0  a  1  2\n",
      "1  b  3  4\n",
      "2  c  5  6\n",
      "\n",
      ">>> pd.melt(df, col_level=0, id_vars=['A'], value_vars=['B'])\n",
      "   A variable  value\n",
      "0  a        B      1\n",
      "1  b        B      3\n",
      "2  c        B      5\n",
      "\n",
      ">>> pd.melt(df, id_vars=[('A', 'D')], value_vars=[('B', 'E')])\n",
      "  (A, D) variable_0 variable_1  value\n",
      "0      a          B          E      1\n",
      "1      b          B          E      3\n",
      "2      c          B          E      5\n",
      "\u001b[31mFile:\u001b[39m      c:\\users\\pacof\\appdata\\roaming\\python\\python311\\site-packages\\pandas\\core\\reshape\\melt.py\n",
      "\u001b[31mType:\u001b[39m      function"
     ]
    }
   ],
   "source": [
    "pd.melt?"
   ]
  },
  {
   "cell_type": "code",
   "execution_count": 67,
   "metadata": {},
   "outputs": [
    {
     "data": {
      "application/vnd.microsoft.datawrangler.viewer.v0+json": {
       "columns": [
        {
         "name": "index",
         "rawType": "int64",
         "type": "integer"
        },
        {
         "name": "#",
         "rawType": "int64",
         "type": "integer"
        },
        {
         "name": "Name",
         "rawType": "object",
         "type": "string"
        },
        {
         "name": "Type 1",
         "rawType": "object",
         "type": "string"
        },
        {
         "name": "Type 2",
         "rawType": "object",
         "type": "unknown"
        },
        {
         "name": "HP",
         "rawType": "int64",
         "type": "integer"
        },
        {
         "name": "Attack",
         "rawType": "int64",
         "type": "integer"
        },
        {
         "name": "Defense",
         "rawType": "int64",
         "type": "integer"
        },
        {
         "name": "Sp. Atk",
         "rawType": "int64",
         "type": "integer"
        },
        {
         "name": "Sp. Def",
         "rawType": "int64",
         "type": "integer"
        },
        {
         "name": "Speed",
         "rawType": "int64",
         "type": "integer"
        }
       ],
       "conversionMethod": "pd.DataFrame",
       "ref": "771ab9d5-57dc-41c3-86ee-aecdec4c8e23",
       "rows": [
        [
         "0",
         "1",
         "Bulbasaur",
         "Grass",
         "Poison",
         "45",
         "49",
         "49",
         "65",
         "65",
         "45"
        ],
        [
         "1",
         "2",
         "Ivysaur",
         "Grass",
         "Poison",
         "60",
         "62",
         "63",
         "80",
         "80",
         "60"
        ],
        [
         "2",
         "3",
         "Venusaur",
         "Grass",
         "Poison",
         "80",
         "82",
         "83",
         "100",
         "100",
         "80"
        ],
        [
         "3",
         "4",
         "Charmander",
         "Fire",
         null,
         "39",
         "52",
         "43",
         "60",
         "50",
         "65"
        ],
        [
         "4",
         "5",
         "Charmeleon",
         "Fire",
         null,
         "58",
         "64",
         "58",
         "80",
         "65",
         "80"
        ]
       ],
       "shape": {
        "columns": 10,
        "rows": 5
       }
      },
      "text/html": [
       "<div>\n",
       "<style scoped>\n",
       "    .dataframe tbody tr th:only-of-type {\n",
       "        vertical-align: middle;\n",
       "    }\n",
       "\n",
       "    .dataframe tbody tr th {\n",
       "        vertical-align: top;\n",
       "    }\n",
       "\n",
       "    .dataframe thead th {\n",
       "        text-align: right;\n",
       "    }\n",
       "</style>\n",
       "<table border=\"1\" class=\"dataframe\">\n",
       "  <thead>\n",
       "    <tr style=\"text-align: right;\">\n",
       "      <th></th>\n",
       "      <th>#</th>\n",
       "      <th>Name</th>\n",
       "      <th>Type 1</th>\n",
       "      <th>Type 2</th>\n",
       "      <th>HP</th>\n",
       "      <th>Attack</th>\n",
       "      <th>Defense</th>\n",
       "      <th>Sp. Atk</th>\n",
       "      <th>Sp. Def</th>\n",
       "      <th>Speed</th>\n",
       "    </tr>\n",
       "  </thead>\n",
       "  <tbody>\n",
       "    <tr>\n",
       "      <th>0</th>\n",
       "      <td>1</td>\n",
       "      <td>Bulbasaur</td>\n",
       "      <td>Grass</td>\n",
       "      <td>Poison</td>\n",
       "      <td>45</td>\n",
       "      <td>49</td>\n",
       "      <td>49</td>\n",
       "      <td>65</td>\n",
       "      <td>65</td>\n",
       "      <td>45</td>\n",
       "    </tr>\n",
       "    <tr>\n",
       "      <th>1</th>\n",
       "      <td>2</td>\n",
       "      <td>Ivysaur</td>\n",
       "      <td>Grass</td>\n",
       "      <td>Poison</td>\n",
       "      <td>60</td>\n",
       "      <td>62</td>\n",
       "      <td>63</td>\n",
       "      <td>80</td>\n",
       "      <td>80</td>\n",
       "      <td>60</td>\n",
       "    </tr>\n",
       "    <tr>\n",
       "      <th>2</th>\n",
       "      <td>3</td>\n",
       "      <td>Venusaur</td>\n",
       "      <td>Grass</td>\n",
       "      <td>Poison</td>\n",
       "      <td>80</td>\n",
       "      <td>82</td>\n",
       "      <td>83</td>\n",
       "      <td>100</td>\n",
       "      <td>100</td>\n",
       "      <td>80</td>\n",
       "    </tr>\n",
       "    <tr>\n",
       "      <th>3</th>\n",
       "      <td>4</td>\n",
       "      <td>Charmander</td>\n",
       "      <td>Fire</td>\n",
       "      <td>NaN</td>\n",
       "      <td>39</td>\n",
       "      <td>52</td>\n",
       "      <td>43</td>\n",
       "      <td>60</td>\n",
       "      <td>50</td>\n",
       "      <td>65</td>\n",
       "    </tr>\n",
       "    <tr>\n",
       "      <th>4</th>\n",
       "      <td>5</td>\n",
       "      <td>Charmeleon</td>\n",
       "      <td>Fire</td>\n",
       "      <td>NaN</td>\n",
       "      <td>58</td>\n",
       "      <td>64</td>\n",
       "      <td>58</td>\n",
       "      <td>80</td>\n",
       "      <td>65</td>\n",
       "      <td>80</td>\n",
       "    </tr>\n",
       "  </tbody>\n",
       "</table>\n",
       "</div>"
      ],
      "text/plain": [
       "   #        Name Type 1  Type 2  HP  Attack  Defense  Sp. Atk  Sp. Def  Speed\n",
       "0  1   Bulbasaur  Grass  Poison  45      49       49       65       65     45\n",
       "1  2     Ivysaur  Grass  Poison  60      62       63       80       80     60\n",
       "2  3    Venusaur  Grass  Poison  80      82       83      100      100     80\n",
       "3  4  Charmander   Fire     NaN  39      52       43       60       50     65\n",
       "4  5  Charmeleon   Fire     NaN  58      64       58       80       65     80"
      ]
     },
     "execution_count": 67,
     "metadata": {},
     "output_type": "execute_result"
    }
   ],
   "source": [
    "wfg.head(5)"
   ]
  },
  {
   "cell_type": "code",
   "execution_count": 89,
   "metadata": {},
   "outputs": [
    {
     "data": {
      "application/vnd.microsoft.datawrangler.viewer.v0+json": {
       "columns": [
        {
         "name": "index",
         "rawType": "int64",
         "type": "integer"
        },
        {
         "name": "Name",
         "rawType": "object",
         "type": "string"
        },
        {
         "name": "Type 1",
         "rawType": "object",
         "type": "string"
        },
        {
         "name": "variable",
         "rawType": "object",
         "type": "string"
        },
        {
         "name": "value",
         "rawType": "int64",
         "type": "integer"
        }
       ],
       "conversionMethod": "pd.DataFrame",
       "ref": "458640c5-84cf-46f1-b2bf-50681d4f8c73",
       "rows": [
        [
         "0",
         "Bulbasaur",
         "Grass",
         "HP",
         "45"
        ],
        [
         "1",
         "Ivysaur",
         "Grass",
         "HP",
         "60"
        ],
        [
         "2",
         "Venusaur",
         "Grass",
         "HP",
         "80"
        ],
        [
         "3",
         "Charmander",
         "Fire",
         "HP",
         "39"
        ],
        [
         "4",
         "Charmeleon",
         "Fire",
         "HP",
         "58"
        ],
        [
         "5",
         "Charizard",
         "Fire",
         "HP",
         "78"
        ],
        [
         "6",
         "Squirtle",
         "Water",
         "HP",
         "44"
        ],
        [
         "7",
         "Wartortle",
         "Water",
         "HP",
         "59"
        ],
        [
         "8",
         "Blastoise",
         "Water",
         "HP",
         "79"
        ],
        [
         "9",
         "Vulpix",
         "Fire",
         "HP",
         "38"
        ],
        [
         "10",
         "Ninetales",
         "Fire",
         "HP",
         "73"
        ],
        [
         "11",
         "Oddish",
         "Grass",
         "HP",
         "45"
        ],
        [
         "12",
         "Gloom",
         "Grass",
         "HP",
         "60"
        ],
        [
         "13",
         "Vileplume",
         "Grass",
         "HP",
         "75"
        ],
        [
         "14",
         "Psyduck",
         "Water",
         "HP",
         "50"
        ],
        [
         "15",
         "Golduck",
         "Water",
         "HP",
         "80"
        ],
        [
         "16",
         "Growlithe",
         "Fire",
         "HP",
         "55"
        ],
        [
         "17",
         "Arcanine",
         "Fire",
         "HP",
         "90"
        ],
        [
         "18",
         "Poliwag",
         "Water",
         "HP",
         "40"
        ],
        [
         "19",
         "Poliwhirl",
         "Water",
         "HP",
         "65"
        ],
        [
         "20",
         "Poliwrath",
         "Water",
         "HP",
         "90"
        ],
        [
         "21",
         "Bellsprout",
         "Grass",
         "HP",
         "50"
        ],
        [
         "22",
         "Weepinbell",
         "Grass",
         "HP",
         "65"
        ],
        [
         "23",
         "Victreebel",
         "Grass",
         "HP",
         "80"
        ],
        [
         "24",
         "Tentacool",
         "Water",
         "HP",
         "40"
        ],
        [
         "25",
         "Tentacruel",
         "Water",
         "HP",
         "80"
        ],
        [
         "26",
         "Ponyta",
         "Fire",
         "HP",
         "50"
        ],
        [
         "27",
         "Rapidash",
         "Fire",
         "HP",
         "65"
        ],
        [
         "28",
         "Slowpoke",
         "Water",
         "HP",
         "90"
        ],
        [
         "29",
         "Slowbro",
         "Water",
         "HP",
         "95"
        ],
        [
         "30",
         "Seel",
         "Water",
         "HP",
         "65"
        ],
        [
         "31",
         "Dewgong",
         "Water",
         "HP",
         "90"
        ],
        [
         "32",
         "Shellder",
         "Water",
         "HP",
         "30"
        ],
        [
         "33",
         "Cloyster",
         "Water",
         "HP",
         "50"
        ],
        [
         "34",
         "Krabby",
         "Water",
         "HP",
         "30"
        ],
        [
         "35",
         "Kingler",
         "Water",
         "HP",
         "55"
        ],
        [
         "36",
         "Exeggcute",
         "Grass",
         "HP",
         "60"
        ],
        [
         "37",
         "Exeggutor",
         "Grass",
         "HP",
         "95"
        ],
        [
         "38",
         "Tangela",
         "Grass",
         "HP",
         "65"
        ],
        [
         "39",
         "Horsea",
         "Water",
         "HP",
         "30"
        ],
        [
         "40",
         "Seadra",
         "Water",
         "HP",
         "55"
        ],
        [
         "41",
         "Goldeen",
         "Water",
         "HP",
         "45"
        ],
        [
         "42",
         "Seaking",
         "Water",
         "HP",
         "80"
        ],
        [
         "43",
         "Staryu",
         "Water",
         "HP",
         "30"
        ],
        [
         "44",
         "Starmie",
         "Water",
         "HP",
         "60"
        ],
        [
         "45",
         "Magmar",
         "Fire",
         "HP",
         "65"
        ],
        [
         "46",
         "Magikarp",
         "Water",
         "HP",
         "20"
        ],
        [
         "47",
         "Gyarados",
         "Water",
         "HP",
         "95"
        ],
        [
         "48",
         "Lapras",
         "Water",
         "HP",
         "130"
        ],
        [
         "49",
         "Vaporeon",
         "Water",
         "HP",
         "130"
        ]
       ],
       "shape": {
        "columns": 4,
        "rows": 312
       }
      },
      "text/html": [
       "<div>\n",
       "<style scoped>\n",
       "    .dataframe tbody tr th:only-of-type {\n",
       "        vertical-align: middle;\n",
       "    }\n",
       "\n",
       "    .dataframe tbody tr th {\n",
       "        vertical-align: top;\n",
       "    }\n",
       "\n",
       "    .dataframe thead th {\n",
       "        text-align: right;\n",
       "    }\n",
       "</style>\n",
       "<table border=\"1\" class=\"dataframe\">\n",
       "  <thead>\n",
       "    <tr style=\"text-align: right;\">\n",
       "      <th></th>\n",
       "      <th>Name</th>\n",
       "      <th>Type 1</th>\n",
       "      <th>variable</th>\n",
       "      <th>value</th>\n",
       "    </tr>\n",
       "  </thead>\n",
       "  <tbody>\n",
       "    <tr>\n",
       "      <th>0</th>\n",
       "      <td>Bulbasaur</td>\n",
       "      <td>Grass</td>\n",
       "      <td>HP</td>\n",
       "      <td>45</td>\n",
       "    </tr>\n",
       "    <tr>\n",
       "      <th>1</th>\n",
       "      <td>Ivysaur</td>\n",
       "      <td>Grass</td>\n",
       "      <td>HP</td>\n",
       "      <td>60</td>\n",
       "    </tr>\n",
       "    <tr>\n",
       "      <th>2</th>\n",
       "      <td>Venusaur</td>\n",
       "      <td>Grass</td>\n",
       "      <td>HP</td>\n",
       "      <td>80</td>\n",
       "    </tr>\n",
       "    <tr>\n",
       "      <th>3</th>\n",
       "      <td>Charmander</td>\n",
       "      <td>Fire</td>\n",
       "      <td>HP</td>\n",
       "      <td>39</td>\n",
       "    </tr>\n",
       "    <tr>\n",
       "      <th>4</th>\n",
       "      <td>Charmeleon</td>\n",
       "      <td>Fire</td>\n",
       "      <td>HP</td>\n",
       "      <td>58</td>\n",
       "    </tr>\n",
       "    <tr>\n",
       "      <th>...</th>\n",
       "      <td>...</td>\n",
       "      <td>...</td>\n",
       "      <td>...</td>\n",
       "      <td>...</td>\n",
       "    </tr>\n",
       "    <tr>\n",
       "      <th>307</th>\n",
       "      <td>Gyarados</td>\n",
       "      <td>Water</td>\n",
       "      <td>Speed</td>\n",
       "      <td>81</td>\n",
       "    </tr>\n",
       "    <tr>\n",
       "      <th>308</th>\n",
       "      <td>Lapras</td>\n",
       "      <td>Water</td>\n",
       "      <td>Speed</td>\n",
       "      <td>60</td>\n",
       "    </tr>\n",
       "    <tr>\n",
       "      <th>309</th>\n",
       "      <td>Vaporeon</td>\n",
       "      <td>Water</td>\n",
       "      <td>Speed</td>\n",
       "      <td>65</td>\n",
       "    </tr>\n",
       "    <tr>\n",
       "      <th>310</th>\n",
       "      <td>Flareon</td>\n",
       "      <td>Fire</td>\n",
       "      <td>Speed</td>\n",
       "      <td>65</td>\n",
       "    </tr>\n",
       "    <tr>\n",
       "      <th>311</th>\n",
       "      <td>Moltres</td>\n",
       "      <td>Fire</td>\n",
       "      <td>Speed</td>\n",
       "      <td>90</td>\n",
       "    </tr>\n",
       "  </tbody>\n",
       "</table>\n",
       "<p>312 rows × 4 columns</p>\n",
       "</div>"
      ],
      "text/plain": [
       "           Name Type 1 variable  value\n",
       "0     Bulbasaur  Grass       HP     45\n",
       "1       Ivysaur  Grass       HP     60\n",
       "2      Venusaur  Grass       HP     80\n",
       "3    Charmander   Fire       HP     39\n",
       "4    Charmeleon   Fire       HP     58\n",
       "..          ...    ...      ...    ...\n",
       "307    Gyarados  Water    Speed     81\n",
       "308      Lapras  Water    Speed     60\n",
       "309    Vaporeon  Water    Speed     65\n",
       "310     Flareon   Fire    Speed     65\n",
       "311     Moltres   Fire    Speed     90\n",
       "\n",
       "[312 rows x 4 columns]"
      ]
     },
     "execution_count": 89,
     "metadata": {},
     "output_type": "execute_result"
    }
   ],
   "source": [
    "melted = wfg.melt(id_vars=[\"Name\",\"Type 1\"], value_vars=wfg.columns[4:])\n",
    "melted"
   ]
  },
  {
   "cell_type": "code",
   "execution_count": 51,
   "metadata": {},
   "outputs": [],
   "source": [
    "# 20. Queremos dejar igual las variables 'Name' y 'Type 1'\n",
    "# Queremos añadir una columa nueva cuyos valores sean las columnas que queremos apilar y que se llame 'New Column'\n",
    "# Escribimos df_gfw.melt(id_vars=['Name', 'Type 1'], value_vars=[...], var_name='New Column')"
   ]
  },
  {
   "cell_type": "code",
   "execution_count": 73,
   "metadata": {},
   "outputs": [
    {
     "data": {
      "application/vnd.microsoft.datawrangler.viewer.v0+json": {
       "columns": [
        {
         "name": "index",
         "rawType": "int64",
         "type": "integer"
        },
        {
         "name": "Name",
         "rawType": "object",
         "type": "string"
        },
        {
         "name": "Type 1",
         "rawType": "object",
         "type": "string"
        },
        {
         "name": "New Column",
         "rawType": "object",
         "type": "string"
        },
        {
         "name": "value",
         "rawType": "int64",
         "type": "integer"
        }
       ],
       "conversionMethod": "pd.DataFrame",
       "ref": "1b027920-1ea1-43b1-a4aa-53b9e0274cdf",
       "rows": [
        [
         "0",
         "Bulbasaur",
         "Grass",
         "HP",
         "45"
        ],
        [
         "1",
         "Ivysaur",
         "Grass",
         "HP",
         "60"
        ],
        [
         "2",
         "Venusaur",
         "Grass",
         "HP",
         "80"
        ],
        [
         "3",
         "Charmander",
         "Fire",
         "HP",
         "39"
        ],
        [
         "4",
         "Charmeleon",
         "Fire",
         "HP",
         "58"
        ],
        [
         "5",
         "Charizard",
         "Fire",
         "HP",
         "78"
        ],
        [
         "6",
         "Squirtle",
         "Water",
         "HP",
         "44"
        ],
        [
         "7",
         "Wartortle",
         "Water",
         "HP",
         "59"
        ],
        [
         "8",
         "Blastoise",
         "Water",
         "HP",
         "79"
        ],
        [
         "9",
         "Vulpix",
         "Fire",
         "HP",
         "38"
        ],
        [
         "10",
         "Ninetales",
         "Fire",
         "HP",
         "73"
        ],
        [
         "11",
         "Oddish",
         "Grass",
         "HP",
         "45"
        ],
        [
         "12",
         "Gloom",
         "Grass",
         "HP",
         "60"
        ],
        [
         "13",
         "Vileplume",
         "Grass",
         "HP",
         "75"
        ],
        [
         "14",
         "Psyduck",
         "Water",
         "HP",
         "50"
        ],
        [
         "15",
         "Golduck",
         "Water",
         "HP",
         "80"
        ],
        [
         "16",
         "Growlithe",
         "Fire",
         "HP",
         "55"
        ],
        [
         "17",
         "Arcanine",
         "Fire",
         "HP",
         "90"
        ],
        [
         "18",
         "Poliwag",
         "Water",
         "HP",
         "40"
        ],
        [
         "19",
         "Poliwhirl",
         "Water",
         "HP",
         "65"
        ],
        [
         "20",
         "Poliwrath",
         "Water",
         "HP",
         "90"
        ],
        [
         "21",
         "Bellsprout",
         "Grass",
         "HP",
         "50"
        ],
        [
         "22",
         "Weepinbell",
         "Grass",
         "HP",
         "65"
        ],
        [
         "23",
         "Victreebel",
         "Grass",
         "HP",
         "80"
        ],
        [
         "24",
         "Tentacool",
         "Water",
         "HP",
         "40"
        ],
        [
         "25",
         "Tentacruel",
         "Water",
         "HP",
         "80"
        ],
        [
         "26",
         "Ponyta",
         "Fire",
         "HP",
         "50"
        ],
        [
         "27",
         "Rapidash",
         "Fire",
         "HP",
         "65"
        ],
        [
         "28",
         "Slowpoke",
         "Water",
         "HP",
         "90"
        ],
        [
         "29",
         "Slowbro",
         "Water",
         "HP",
         "95"
        ],
        [
         "30",
         "Seel",
         "Water",
         "HP",
         "65"
        ],
        [
         "31",
         "Dewgong",
         "Water",
         "HP",
         "90"
        ],
        [
         "32",
         "Shellder",
         "Water",
         "HP",
         "30"
        ],
        [
         "33",
         "Cloyster",
         "Water",
         "HP",
         "50"
        ],
        [
         "34",
         "Krabby",
         "Water",
         "HP",
         "30"
        ],
        [
         "35",
         "Kingler",
         "Water",
         "HP",
         "55"
        ],
        [
         "36",
         "Exeggcute",
         "Grass",
         "HP",
         "60"
        ],
        [
         "37",
         "Exeggutor",
         "Grass",
         "HP",
         "95"
        ],
        [
         "38",
         "Tangela",
         "Grass",
         "HP",
         "65"
        ],
        [
         "39",
         "Horsea",
         "Water",
         "HP",
         "30"
        ],
        [
         "40",
         "Seadra",
         "Water",
         "HP",
         "55"
        ],
        [
         "41",
         "Goldeen",
         "Water",
         "HP",
         "45"
        ],
        [
         "42",
         "Seaking",
         "Water",
         "HP",
         "80"
        ],
        [
         "43",
         "Staryu",
         "Water",
         "HP",
         "30"
        ],
        [
         "44",
         "Starmie",
         "Water",
         "HP",
         "60"
        ],
        [
         "45",
         "Magmar",
         "Fire",
         "HP",
         "65"
        ],
        [
         "46",
         "Magikarp",
         "Water",
         "HP",
         "20"
        ],
        [
         "47",
         "Gyarados",
         "Water",
         "HP",
         "95"
        ],
        [
         "48",
         "Lapras",
         "Water",
         "HP",
         "130"
        ],
        [
         "49",
         "Vaporeon",
         "Water",
         "HP",
         "130"
        ]
       ],
       "shape": {
        "columns": 4,
        "rows": 312
       }
      },
      "text/html": [
       "<div>\n",
       "<style scoped>\n",
       "    .dataframe tbody tr th:only-of-type {\n",
       "        vertical-align: middle;\n",
       "    }\n",
       "\n",
       "    .dataframe tbody tr th {\n",
       "        vertical-align: top;\n",
       "    }\n",
       "\n",
       "    .dataframe thead th {\n",
       "        text-align: right;\n",
       "    }\n",
       "</style>\n",
       "<table border=\"1\" class=\"dataframe\">\n",
       "  <thead>\n",
       "    <tr style=\"text-align: right;\">\n",
       "      <th></th>\n",
       "      <th>Name</th>\n",
       "      <th>Type 1</th>\n",
       "      <th>New Column</th>\n",
       "      <th>value</th>\n",
       "    </tr>\n",
       "  </thead>\n",
       "  <tbody>\n",
       "    <tr>\n",
       "      <th>0</th>\n",
       "      <td>Bulbasaur</td>\n",
       "      <td>Grass</td>\n",
       "      <td>HP</td>\n",
       "      <td>45</td>\n",
       "    </tr>\n",
       "    <tr>\n",
       "      <th>1</th>\n",
       "      <td>Ivysaur</td>\n",
       "      <td>Grass</td>\n",
       "      <td>HP</td>\n",
       "      <td>60</td>\n",
       "    </tr>\n",
       "    <tr>\n",
       "      <th>2</th>\n",
       "      <td>Venusaur</td>\n",
       "      <td>Grass</td>\n",
       "      <td>HP</td>\n",
       "      <td>80</td>\n",
       "    </tr>\n",
       "    <tr>\n",
       "      <th>3</th>\n",
       "      <td>Charmander</td>\n",
       "      <td>Fire</td>\n",
       "      <td>HP</td>\n",
       "      <td>39</td>\n",
       "    </tr>\n",
       "    <tr>\n",
       "      <th>4</th>\n",
       "      <td>Charmeleon</td>\n",
       "      <td>Fire</td>\n",
       "      <td>HP</td>\n",
       "      <td>58</td>\n",
       "    </tr>\n",
       "    <tr>\n",
       "      <th>...</th>\n",
       "      <td>...</td>\n",
       "      <td>...</td>\n",
       "      <td>...</td>\n",
       "      <td>...</td>\n",
       "    </tr>\n",
       "    <tr>\n",
       "      <th>307</th>\n",
       "      <td>Gyarados</td>\n",
       "      <td>Water</td>\n",
       "      <td>Speed</td>\n",
       "      <td>81</td>\n",
       "    </tr>\n",
       "    <tr>\n",
       "      <th>308</th>\n",
       "      <td>Lapras</td>\n",
       "      <td>Water</td>\n",
       "      <td>Speed</td>\n",
       "      <td>60</td>\n",
       "    </tr>\n",
       "    <tr>\n",
       "      <th>309</th>\n",
       "      <td>Vaporeon</td>\n",
       "      <td>Water</td>\n",
       "      <td>Speed</td>\n",
       "      <td>65</td>\n",
       "    </tr>\n",
       "    <tr>\n",
       "      <th>310</th>\n",
       "      <td>Flareon</td>\n",
       "      <td>Fire</td>\n",
       "      <td>Speed</td>\n",
       "      <td>65</td>\n",
       "    </tr>\n",
       "    <tr>\n",
       "      <th>311</th>\n",
       "      <td>Moltres</td>\n",
       "      <td>Fire</td>\n",
       "      <td>Speed</td>\n",
       "      <td>90</td>\n",
       "    </tr>\n",
       "  </tbody>\n",
       "</table>\n",
       "<p>312 rows × 4 columns</p>\n",
       "</div>"
      ],
      "text/plain": [
       "           Name Type 1 New Column  value\n",
       "0     Bulbasaur  Grass         HP     45\n",
       "1       Ivysaur  Grass         HP     60\n",
       "2      Venusaur  Grass         HP     80\n",
       "3    Charmander   Fire         HP     39\n",
       "4    Charmeleon   Fire         HP     58\n",
       "..          ...    ...        ...    ...\n",
       "307    Gyarados  Water      Speed     81\n",
       "308      Lapras  Water      Speed     60\n",
       "309    Vaporeon  Water      Speed     65\n",
       "310     Flareon   Fire      Speed     65\n",
       "311     Moltres   Fire      Speed     90\n",
       "\n",
       "[312 rows x 4 columns]"
      ]
     },
     "execution_count": 73,
     "metadata": {},
     "output_type": "execute_result"
    }
   ],
   "source": [
    "wfg.melt(id_vars=['Name', 'Type 1'], value_vars=wfg.columns[4:], var_name='New Column')"
   ]
  },
  {
   "cell_type": "code",
   "execution_count": 55,
   "metadata": {},
   "outputs": [],
   "source": [
    "# 21. Pintamos el swarmplot con el melted y entendemos la información"
   ]
  },
  {
   "cell_type": "code",
   "execution_count": 91,
   "metadata": {},
   "outputs": [
    {
     "name": "stdout",
     "output_type": "stream",
     "text": [
      "<class 'pandas.core.frame.DataFrame'>\n",
      "RangeIndex: 312 entries, 0 to 311\n",
      "Data columns (total 4 columns):\n",
      " #   Column    Non-Null Count  Dtype \n",
      "---  ------    --------------  ----- \n",
      " 0   Name      312 non-null    object\n",
      " 1   Type 1    312 non-null    object\n",
      " 2   variable  312 non-null    object\n",
      " 3   value     312 non-null    int64 \n",
      "dtypes: int64(1), object(3)\n",
      "memory usage: 9.9+ KB\n"
     ]
    }
   ],
   "source": [
    "melted.info()"
   ]
  },
  {
   "cell_type": "code",
   "execution_count": 92,
   "metadata": {},
   "outputs": [
    {
     "data": {
      "image/png": "[encoded data removed]",
      "text/plain": [
       "<Figure size 640x480 with 1 Axes>"
      ]
     },
     "metadata": {},
     "output_type": "display_data"
    }
   ],
   "source": [
    "sns.swarmplot(x = \"variable\", y = \"value\",data = melted,  hue = \"variable\");"
   ]
  },
  {
   "cell_type": "code",
   "execution_count": 57,
   "metadata": {},
   "outputs": [],
   "source": [
    "# 22. Basándote en el gráfico anterior, define el tamaño de la figura en (10,6) (usa plt)\n",
    "# En el swarmplot añade el argumento dodge a True y usa la anterior paleta de colores Pokemon\n",
    "\n",
    "# Dodge en inglés es \"esquivar\", ¿qué diferencia ves?\n",
    "\n",
    "# Usando plt \n",
    "# fija el límite del eje Y entre 0 y 200\n",
    "# fija la leyenda con bbox_to_anchor en upper left. Pista: upper left es el código 2 y se usa el parámetro loc.\n"
   ]
  },
  {
   "cell_type": "code",
   "execution_count": 95,
   "metadata": {},
   "outputs": [
    {
     "data": {
      "image/png": "[encoded data removed]",
      "text/plain": [
       "<Figure size 1000x600 with 1 Axes>"
      ]
     },
     "metadata": {},
     "output_type": "display_data"
    }
   ],
   "source": [
    "plt.figure(figsize=(10,6))\n",
    "sns.swarmplot(x = \"variable\", y = \"value\",data = melted,  hue = \"variable\")\n",
    "plt.title(\"Stats\");"
   ]
  },
  {
   "cell_type": "markdown",
   "metadata": {},
   "source": []
  },
  {
   "cell_type": "code",
   "execution_count": 59,
   "metadata": {},
   "outputs": [],
   "source": [
    "# Observa que incluso usando Seaborn, usamos Pyplot para trabajar con los ejes, la leyenda y el tamaño\n",
    "# Lo importante es que Seaborn y Pyplot conviven bien juntos"
   ]
  },
  {
   "cell_type": "code",
   "execution_count": 60,
   "metadata": {},
   "outputs": [],
   "source": [
    "# 23. Mapas de calor\n",
    "# Calcula las correlaciones del primer DataFrame original df\n",
    "# Pista: las correlaciones se calculan con el método corr()\n",
    "# Recuerda: las correlaciones miden entre dos variables, si varío una, cuánto me varía la otra (cómo están de relacionadas)"
   ]
  },
  {
   "cell_type": "code",
   "execution_count": 98,
   "metadata": {},
   "outputs": [
    {
     "name": "stdout",
     "output_type": "stream",
     "text": [
      "<class 'pandas.core.frame.DataFrame'>\n",
      "RangeIndex: 151 entries, 0 to 150\n",
      "Data columns (total 13 columns):\n",
      " #   Column     Non-Null Count  Dtype \n",
      "---  ------     --------------  ----- \n",
      " 0   #          151 non-null    int64 \n",
      " 1   Name       151 non-null    object\n",
      " 2   Type 1     151 non-null    object\n",
      " 3   Type 2     67 non-null     object\n",
      " 4   Total      151 non-null    int64 \n",
      " 5   HP         151 non-null    int64 \n",
      " 6   Attack     151 non-null    int64 \n",
      " 7   Defense    151 non-null    int64 \n",
      " 8   Sp. Atk    151 non-null    int64 \n",
      " 9   Sp. Def    151 non-null    int64 \n",
      " 10  Speed      151 non-null    int64 \n",
      " 11  Stage      151 non-null    int64 \n",
      " 12  Legendary  151 non-null    bool  \n",
      "dtypes: bool(1), int64(9), object(3)\n",
      "memory usage: 14.4+ KB\n"
     ]
    }
   ],
   "source": [
    "pokemon.info()"
   ]
  },
  {
   "cell_type": "code",
   "execution_count": 104,
   "metadata": {},
   "outputs": [
    {
     "data": {
      "application/vnd.microsoft.datawrangler.viewer.v0+json": {
       "columns": [
        {
         "name": "index",
         "rawType": "int64",
         "type": "integer"
        },
        {
         "name": "Total",
         "rawType": "int64",
         "type": "integer"
        },
        {
         "name": "HP",
         "rawType": "int64",
         "type": "integer"
        },
        {
         "name": "Attack",
         "rawType": "int64",
         "type": "integer"
        },
        {
         "name": "Defense",
         "rawType": "int64",
         "type": "integer"
        },
        {
         "name": "Sp. Atk",
         "rawType": "int64",
         "type": "integer"
        },
        {
         "name": "Sp. Def",
         "rawType": "int64",
         "type": "integer"
        },
        {
         "name": "Speed",
         "rawType": "int64",
         "type": "integer"
        },
        {
         "name": "Stage",
         "rawType": "int64",
         "type": "integer"
        },
        {
         "name": "Legendary",
         "rawType": "bool",
         "type": "boolean"
        }
       ],
       "conversionMethod": "pd.DataFrame",
       "ref": "ac340ec8-9fee-4194-a4ad-2da872766a58",
       "rows": [
        [
         "0",
         "318",
         "45",
         "49",
         "49",
         "65",
         "65",
         "45",
         "1",
         "False"
        ],
        [
         "1",
         "405",
         "60",
         "62",
         "63",
         "80",
         "80",
         "60",
         "2",
         "False"
        ],
        [
         "2",
         "525",
         "80",
         "82",
         "83",
         "100",
         "100",
         "80",
         "3",
         "False"
        ],
        [
         "3",
         "309",
         "39",
         "52",
         "43",
         "60",
         "50",
         "65",
         "1",
         "False"
        ],
        [
         "4",
         "405",
         "58",
         "64",
         "58",
         "80",
         "65",
         "80",
         "2",
         "False"
        ],
        [
         "5",
         "534",
         "78",
         "84",
         "78",
         "109",
         "85",
         "100",
         "3",
         "False"
        ],
        [
         "6",
         "314",
         "44",
         "48",
         "65",
         "50",
         "64",
         "43",
         "1",
         "False"
        ],
        [
         "7",
         "405",
         "59",
         "63",
         "80",
         "65",
         "80",
         "58",
         "2",
         "False"
        ],
        [
         "8",
         "530",
         "79",
         "83",
         "100",
         "85",
         "105",
         "78",
         "3",
         "False"
        ],
        [
         "9",
         "195",
         "45",
         "30",
         "35",
         "20",
         "20",
         "45",
         "1",
         "False"
        ],
        [
         "10",
         "205",
         "50",
         "20",
         "55",
         "25",
         "25",
         "30",
         "2",
         "False"
        ],
        [
         "11",
         "395",
         "60",
         "45",
         "50",
         "90",
         "80",
         "70",
         "3",
         "False"
        ],
        [
         "12",
         "195",
         "40",
         "35",
         "30",
         "20",
         "20",
         "50",
         "1",
         "False"
        ],
        [
         "13",
         "205",
         "45",
         "25",
         "50",
         "25",
         "25",
         "35",
         "2",
         "False"
        ],
        [
         "14",
         "395",
         "65",
         "90",
         "40",
         "45",
         "80",
         "75",
         "3",
         "False"
        ],
        [
         "15",
         "251",
         "40",
         "45",
         "40",
         "35",
         "35",
         "56",
         "1",
         "False"
        ],
        [
         "16",
         "349",
         "63",
         "60",
         "55",
         "50",
         "50",
         "71",
         "2",
         "False"
        ],
        [
         "17",
         "479",
         "83",
         "80",
         "75",
         "70",
         "70",
         "101",
         "3",
         "False"
        ],
        [
         "18",
         "253",
         "30",
         "56",
         "35",
         "25",
         "35",
         "72",
         "1",
         "False"
        ],
        [
         "19",
         "413",
         "55",
         "81",
         "60",
         "50",
         "70",
         "97",
         "2",
         "False"
        ],
        [
         "20",
         "262",
         "40",
         "60",
         "30",
         "31",
         "31",
         "70",
         "1",
         "False"
        ],
        [
         "21",
         "442",
         "65",
         "90",
         "65",
         "61",
         "61",
         "100",
         "2",
         "False"
        ],
        [
         "22",
         "288",
         "35",
         "60",
         "44",
         "40",
         "54",
         "55",
         "1",
         "False"
        ],
        [
         "23",
         "438",
         "60",
         "85",
         "69",
         "65",
         "79",
         "80",
         "2",
         "False"
        ],
        [
         "24",
         "320",
         "35",
         "55",
         "40",
         "50",
         "50",
         "90",
         "1",
         "False"
        ],
        [
         "25",
         "485",
         "60",
         "90",
         "55",
         "90",
         "80",
         "110",
         "2",
         "False"
        ],
        [
         "26",
         "300",
         "50",
         "75",
         "85",
         "20",
         "30",
         "40",
         "1",
         "False"
        ],
        [
         "27",
         "450",
         "75",
         "100",
         "110",
         "45",
         "55",
         "65",
         "2",
         "False"
        ],
        [
         "28",
         "275",
         "55",
         "47",
         "52",
         "40",
         "40",
         "41",
         "1",
         "False"
        ],
        [
         "29",
         "365",
         "70",
         "62",
         "67",
         "55",
         "55",
         "56",
         "2",
         "False"
        ],
        [
         "30",
         "505",
         "90",
         "92",
         "87",
         "75",
         "85",
         "76",
         "3",
         "False"
        ],
        [
         "31",
         "273",
         "46",
         "57",
         "40",
         "40",
         "40",
         "50",
         "1",
         "False"
        ],
        [
         "32",
         "365",
         "61",
         "72",
         "57",
         "55",
         "55",
         "65",
         "2",
         "False"
        ],
        [
         "33",
         "505",
         "81",
         "102",
         "77",
         "85",
         "75",
         "85",
         "3",
         "False"
        ],
        [
         "34",
         "323",
         "70",
         "45",
         "48",
         "60",
         "65",
         "35",
         "1",
         "False"
        ],
        [
         "35",
         "483",
         "95",
         "70",
         "73",
         "95",
         "90",
         "60",
         "2",
         "False"
        ],
        [
         "36",
         "299",
         "38",
         "41",
         "40",
         "50",
         "65",
         "65",
         "1",
         "False"
        ],
        [
         "37",
         "505",
         "73",
         "76",
         "75",
         "81",
         "100",
         "100",
         "2",
         "False"
        ],
        [
         "38",
         "270",
         "115",
         "45",
         "20",
         "45",
         "25",
         "20",
         "1",
         "False"
        ],
        [
         "39",
         "435",
         "140",
         "70",
         "45",
         "85",
         "50",
         "45",
         "2",
         "False"
        ],
        [
         "40",
         "245",
         "40",
         "45",
         "35",
         "30",
         "40",
         "55",
         "1",
         "False"
        ],
        [
         "41",
         "455",
         "75",
         "80",
         "70",
         "65",
         "75",
         "90",
         "2",
         "False"
        ],
        [
         "42",
         "320",
         "45",
         "50",
         "55",
         "75",
         "65",
         "30",
         "1",
         "False"
        ],
        [
         "43",
         "395",
         "60",
         "65",
         "70",
         "85",
         "75",
         "40",
         "2",
         "False"
        ],
        [
         "44",
         "490",
         "75",
         "80",
         "85",
         "110",
         "90",
         "50",
         "3",
         "False"
        ],
        [
         "45",
         "285",
         "35",
         "70",
         "55",
         "45",
         "55",
         "25",
         "1",
         "False"
        ],
        [
         "46",
         "405",
         "60",
         "95",
         "80",
         "60",
         "80",
         "30",
         "2",
         "False"
        ],
        [
         "47",
         "305",
         "60",
         "55",
         "50",
         "40",
         "55",
         "45",
         "1",
         "False"
        ],
        [
         "48",
         "450",
         "70",
         "65",
         "60",
         "90",
         "75",
         "90",
         "2",
         "False"
        ],
        [
         "49",
         "265",
         "10",
         "55",
         "25",
         "35",
         "45",
         "95",
         "1",
         "False"
        ]
       ],
       "shape": {
        "columns": 9,
        "rows": 151
       }
      },
      "text/html": [
       "<div>\n",
       "<style scoped>\n",
       "    .dataframe tbody tr th:only-of-type {\n",
       "        vertical-align: middle;\n",
       "    }\n",
       "\n",
       "    .dataframe tbody tr th {\n",
       "        vertical-align: top;\n",
       "    }\n",
       "\n",
       "    .dataframe thead th {\n",
       "        text-align: right;\n",
       "    }\n",
       "</style>\n",
       "<table border=\"1\" class=\"dataframe\">\n",
       "  <thead>\n",
       "    <tr style=\"text-align: right;\">\n",
       "      <th></th>\n",
       "      <th>Total</th>\n",
       "      <th>HP</th>\n",
       "      <th>Attack</th>\n",
       "      <th>Defense</th>\n",
       "      <th>Sp. Atk</th>\n",
       "      <th>Sp. Def</th>\n",
       "      <th>Speed</th>\n",
       "      <th>Stage</th>\n",
       "      <th>Legendary</th>\n",
       "    </tr>\n",
       "  </thead>\n",
       "  <tbody>\n",
       "    <tr>\n",
       "      <th>0</th>\n",
       "      <td>318</td>\n",
       "      <td>45</td>\n",
       "      <td>49</td>\n",
       "      <td>49</td>\n",
       "      <td>65</td>\n",
       "      <td>65</td>\n",
       "      <td>45</td>\n",
       "      <td>1</td>\n",
       "      <td>False</td>\n",
       "    </tr>\n",
       "    <tr>\n",
       "      <th>1</th>\n",
       "      <td>405</td>\n",
       "      <td>60</td>\n",
       "      <td>62</td>\n",
       "      <td>63</td>\n",
       "      <td>80</td>\n",
       "      <td>80</td>\n",
       "      <td>60</td>\n",
       "      <td>2</td>\n",
       "      <td>False</td>\n",
       "    </tr>\n",
       "    <tr>\n",
       "      <th>2</th>\n",
       "      <td>525</td>\n",
       "      <td>80</td>\n",
       "      <td>82</td>\n",
       "      <td>83</td>\n",
       "      <td>100</td>\n",
       "      <td>100</td>\n",
       "      <td>80</td>\n",
       "      <td>3</td>\n",
       "      <td>False</td>\n",
       "    </tr>\n",
       "    <tr>\n",
       "      <th>3</th>\n",
       "      <td>309</td>\n",
       "      <td>39</td>\n",
       "      <td>52</td>\n",
       "      <td>43</td>\n",
       "      <td>60</td>\n",
       "      <td>50</td>\n",
       "      <td>65</td>\n",
       "      <td>1</td>\n",
       "      <td>False</td>\n",
       "    </tr>\n",
       "    <tr>\n",
       "      <th>4</th>\n",
       "      <td>405</td>\n",
       "      <td>58</td>\n",
       "      <td>64</td>\n",
       "      <td>58</td>\n",
       "      <td>80</td>\n",
       "      <td>65</td>\n",
       "      <td>80</td>\n",
       "      <td>2</td>\n",
       "      <td>False</td>\n",
       "    </tr>\n",
       "    <tr>\n",
       "      <th>...</th>\n",
       "      <td>...</td>\n",
       "      <td>...</td>\n",
       "      <td>...</td>\n",
       "      <td>...</td>\n",
       "      <td>...</td>\n",
       "      <td>...</td>\n",
       "      <td>...</td>\n",
       "      <td>...</td>\n",
       "      <td>...</td>\n",
       "    </tr>\n",
       "    <tr>\n",
       "      <th>146</th>\n",
       "      <td>300</td>\n",
       "      <td>41</td>\n",
       "      <td>64</td>\n",
       "      <td>45</td>\n",
       "      <td>50</td>\n",
       "      <td>50</td>\n",
       "      <td>50</td>\n",
       "      <td>1</td>\n",
       "      <td>False</td>\n",
       "    </tr>\n",
       "    <tr>\n",
       "      <th>147</th>\n",
       "      <td>420</td>\n",
       "      <td>61</td>\n",
       "      <td>84</td>\n",
       "      <td>65</td>\n",
       "      <td>70</td>\n",
       "      <td>70</td>\n",
       "      <td>70</td>\n",
       "      <td>2</td>\n",
       "      <td>False</td>\n",
       "    </tr>\n",
       "    <tr>\n",
       "      <th>148</th>\n",
       "      <td>600</td>\n",
       "      <td>91</td>\n",
       "      <td>134</td>\n",
       "      <td>95</td>\n",
       "      <td>100</td>\n",
       "      <td>100</td>\n",
       "      <td>80</td>\n",
       "      <td>3</td>\n",
       "      <td>False</td>\n",
       "    </tr>\n",
       "    <tr>\n",
       "      <th>149</th>\n",
       "      <td>680</td>\n",
       "      <td>106</td>\n",
       "      <td>110</td>\n",
       "      <td>90</td>\n",
       "      <td>154</td>\n",
       "      <td>90</td>\n",
       "      <td>130</td>\n",
       "      <td>1</td>\n",
       "      <td>True</td>\n",
       "    </tr>\n",
       "    <tr>\n",
       "      <th>150</th>\n",
       "      <td>600</td>\n",
       "      <td>100</td>\n",
       "      <td>100</td>\n",
       "      <td>100</td>\n",
       "      <td>100</td>\n",
       "      <td>100</td>\n",
       "      <td>100</td>\n",
       "      <td>1</td>\n",
       "      <td>False</td>\n",
       "    </tr>\n",
       "  </tbody>\n",
       "</table>\n",
       "<p>151 rows × 9 columns</p>\n",
       "</div>"
      ],
      "text/plain": [
       "     Total   HP  Attack  Defense  Sp. Atk  Sp. Def  Speed  Stage  Legendary\n",
       "0      318   45      49       49       65       65     45      1      False\n",
       "1      405   60      62       63       80       80     60      2      False\n",
       "2      525   80      82       83      100      100     80      3      False\n",
       "3      309   39      52       43       60       50     65      1      False\n",
       "4      405   58      64       58       80       65     80      2      False\n",
       "..     ...  ...     ...      ...      ...      ...    ...    ...        ...\n",
       "146    300   41      64       45       50       50     50      1      False\n",
       "147    420   61      84       65       70       70     70      2      False\n",
       "148    600   91     134       95      100      100     80      3      False\n",
       "149    680  106     110       90      154       90    130      1       True\n",
       "150    600  100     100      100      100      100    100      1      False\n",
       "\n",
       "[151 rows x 9 columns]"
      ]
     },
     "execution_count": 104,
     "metadata": {},
     "output_type": "execute_result"
    }
   ],
   "source": [
    "poke_num = pokemon.drop(columns=[\"#\",\"Name\",\"Type 1\", \"Type 2\"])\n",
    "poke_num"
   ]
  },
  {
   "cell_type": "code",
   "execution_count": 105,
   "metadata": {},
   "outputs": [
    {
     "data": {
      "image/png": "[encoded data removed]",
      "text/plain": [
       "<Figure size 1000x1000 with 2 Axes>"
      ]
     },
     "metadata": {},
     "output_type": "display_data"
    }
   ],
   "source": [
    "plt.figure(figsize=(10,10))\n",
    "sns.heatmap(poke_num.corr(),\n",
    "            vmin=-1,\n",
    "            vmax=1,\n",
    "            cmap=sns.diverging_palette(145, 280, s=85, l=25, n=7),\n",
    "            square=True,\n",
    "            linewidths=.1,\n",
    "            annot=True);"
   ]
  },
  {
   "cell_type": "code",
   "execution_count": 64,
   "metadata": {},
   "outputs": [],
   "source": [
    "# ¿la correlación entre qué valores se encuentra?\n",
    "# la autocorrelación es la correlación de una variable consigo misma, ¿qué aprecias?\n",
    "# Encuentra dos variables que veas que están fuertemente relacionadas según la correlación\n",
    "# Si tuvieras una matriz de correlación muy grande y te cobrasen por cada dato que lees, ¿qué harías? (ML)"
   ]
  },
  {
   "cell_type": "markdown",
   "metadata": {},
   "source": [
    "La correlación se encuentra entre los valores numéricos, la autocorrelación siempre toma valor igual a 1, observamos la mayor correlación entre Sp. Def. y Total. Descartaría las variables Stage y Legendary de la matriz. "
   ]
  },
  {
   "cell_type": "code",
   "execution_count": 66,
   "metadata": {},
   "outputs": [],
   "source": [
    "# 24. Pinta el histograma y la densidad de probabilidad del nivel de defensa usando el DataFrame original"
   ]
  },
  {
   "cell_type": "code",
   "execution_count": 111,
   "metadata": {},
   "outputs": [
    {
     "name": "stderr",
     "output_type": "stream",
     "text": [
      "C:\\Users\\pacof\\AppData\\Local\\Temp\\ipykernel_16340\\2009773346.py:1: UserWarning: \n",
      "\n",
      "`distplot` is a deprecated function and will be removed in seaborn v0.14.0.\n",
      "\n",
      "Please adapt your code to use either `displot` (a figure-level function with\n",
      "similar flexibility) or `histplot` (an axes-level function for histograms).\n",
      "\n",
      "For a guide to updating your code to use the new functions, please see\n",
      "https://gist.github.com/mwaskom/de44147ed2974457ad6372750bbe5751\n",
      "\n",
      "  sns.distplot(pokemon[\"Defense\"],\n"
     ]
    },
    {
     "data": {
      "image/png": "[encoded data removed]",
      "text/plain": [
       "<Figure size 640x480 with 1 Axes>"
      ]
     },
     "metadata": {},
     "output_type": "display_data"
    }
   ],
   "source": [
    "sns.distplot(pokemon[\"Defense\"],\n",
    "            kde_kws={\"label\": \"KDE\"},\n",
    "            hist_kws={\"alpha\": 0.5});"
   ]
  },
  {
   "cell_type": "code",
   "execution_count": 68,
   "metadata": {},
   "outputs": [],
   "source": [
    "# 25. Pinta un diagrama de barras de la columna 'Type 1' usando el DataFrame original\n",
    "# Usa un sns.countplot\n",
    "# Usa plt.xticks y gira las etiquetas"
   ]
  },
  {
   "cell_type": "code",
   "execution_count": 116,
   "metadata": {},
   "outputs": [
    {
     "data": {
      "image/png": "[encoded data removed]",
      "text/plain": [
       "<Figure size 640x480 with 1 Axes>"
      ]
     },
     "metadata": {},
     "output_type": "display_data"
    }
   ],
   "source": [
    "sns.countplot(x = pokemon[\"Type 1\"])\n",
    "plt.xticks(rotation='vertical');"
   ]
  },
  {
   "cell_type": "code",
   "execution_count": 70,
   "metadata": {},
   "outputs": [],
   "source": [
    "# 26. Usa catplot con el DataFrame original. Muestra el valor de Defense según el 'Type 1', muestra un subplot para legendarios y otro para no legendarios\n",
    "# y divide los colores según el Type 2"
   ]
  },
  {
   "cell_type": "code",
   "execution_count": null,
   "metadata": {},
   "outputs": [],
   "source": [
    "\"\"\"\n",
    "sns.catplot(x='species', y='value', col='variable', data=df_long, kind='violin')\n",
    "plt.tight_layout()\n",
    "plt.show()\n",
    "\"\"\""
   ]
  },
  {
   "cell_type": "code",
   "execution_count": 136,
   "metadata": {},
   "outputs": [
    {
     "data": {
      "image/png": "[encoded data removed]",
      "text/plain": [
       "<Figure size 1011.11x500 with 2 Axes>"
      ]
     },
     "metadata": {},
     "output_type": "display_data"
    }
   ],
   "source": [
    "#f, axes = plt.subplots(1,2, figsize=(15,10), sharex=True)\n",
    "sns.catplot(data = pokemon,x = \"Type 1\", y = \"Defense\", col = \"Legendary\")\n",
    "plt.xticks(rotation = \"vertical\");"
   ]
  },
  {
   "cell_type": "code",
   "execution_count": 74,
   "metadata": {},
   "outputs": [],
   "source": [
    "# 27. Muestra una función distribución de probabilidad con kdeplot (curvas de nivel) de la defensa respecto al ataque.\n",
    "# Di un bin 2D donde caigan muchos puntos (ataque, defensa)."
   ]
  },
  {
   "cell_type": "code",
   "execution_count": 139,
   "metadata": {},
   "outputs": [
    {
     "data": {
      "image/png": "[encoded data removed]",
      "text/plain": [
       "<Figure size 600x600 with 3 Axes>"
      ]
     },
     "metadata": {},
     "output_type": "display_data"
    }
   ],
   "source": [
    "sns.jointplot(x = \"Attack\", y = \"Defense\", data = pokemon, kind = \"kde\");"
   ]
  },
  {
   "cell_type": "markdown",
   "metadata": {},
   "source": [
    "Los puntos donde más se concentran los puntos de Ataque y Defensa están comprendidos en los intervalos [40,60] "
   ]
  },
  {
   "cell_type": "code",
   "execution_count": 77,
   "metadata": {},
   "outputs": [],
   "source": [
    "# 28. Pinta una distribución de probabilidad conjunta con jointplot, pintando la defensa respecto al ataque del DataFrame original"
   ]
  },
  {
   "cell_type": "code",
   "execution_count": 141,
   "metadata": {},
   "outputs": [
    {
     "data": {
      "image/png": "[encoded data removed]",
      "text/plain": [
       "<Figure size 600x600 with 3 Axes>"
      ]
     },
     "metadata": {},
     "output_type": "display_data"
    }
   ],
   "source": [
    "sns.jointplot(x = \"Attack\", y = \"Defense\", data = pokemon, kind= \"reg\");"
   ]
  }
 ],
 "metadata": {
  "kernelspec": {
   "display_name": "Python 3",
   "language": "python",
   "name": "python3"
  },
  "language_info": {
   "codemirror_mode": {
    "name": "ipython",
    "version": 3
   },
   "file_extension": ".py",
   "mimetype": "text/x-python",
   "name": "python",
   "nbconvert_exporter": "python",
   "pygments_lexer": "ipython3",
   "version": "3.11.9"
  }
 },
 "nbformat": 4,
 "nbformat_minor": 4
}
