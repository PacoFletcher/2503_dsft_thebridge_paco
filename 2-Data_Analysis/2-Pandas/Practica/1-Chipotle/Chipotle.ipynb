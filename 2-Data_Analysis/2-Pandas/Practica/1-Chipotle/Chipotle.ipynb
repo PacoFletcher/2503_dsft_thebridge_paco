{
 "cells": [
  {
   "attachments": {},
   "cell_type": "markdown",
   "metadata": {},
   "source": [
    "# Ex1 - Filtering and Sorting Data"
   ]
  },
  {
   "attachments": {},
   "cell_type": "markdown",
   "metadata": {},
   "source": [
    "\n",
    "\n",
    "### Step 1. Import the necessary libraries"
   ]
  },
  {
   "cell_type": "code",
   "execution_count": 2,
   "metadata": {},
   "outputs": [],
   "source": [
    "import pandas as pd\n",
    "import numpy as np"
   ]
  },
  {
   "attachments": {},
   "cell_type": "markdown",
   "metadata": {},
   "source": [
    "### Step 2. Import the dataset from this [address](https://raw.githubusercontent.com/justmarkham/DAT8/master/data/chipotle.tsv) and assign it to a variable called chipo."
   ]
  },
  {
   "cell_type": "code",
   "execution_count": 3,
   "metadata": {},
   "outputs": [
    {
     "data": {
      "application/vnd.microsoft.datawrangler.viewer.v0+json": {
       "columns": [
        {
         "name": "index",
         "rawType": "int64",
         "type": "integer"
        },
        {
         "name": "order_id",
         "rawType": "int64",
         "type": "integer"
        },
        {
         "name": "quantity",
         "rawType": "int64",
         "type": "integer"
        },
        {
         "name": "item_name",
         "rawType": "object",
         "type": "string"
        },
        {
         "name": "choice_description",
         "rawType": "object",
         "type": "unknown"
        },
        {
         "name": "item_price",
         "rawType": "object",
         "type": "string"
        }
       ],
       "conversionMethod": "pd.DataFrame",
       "ref": "78bdbbcc-5cfa-4440-82c5-4bed4c305665",
       "rows": [
        [
         "0",
         "1",
         "1",
         "Chips and Fresh Tomato Salsa",
         null,
         "$2.39 "
        ],
        [
         "1",
         "1",
         "1",
         "Izze",
         "[Clementine]",
         "$3.39 "
        ],
        [
         "2",
         "1",
         "1",
         "Nantucket Nectar",
         "[Apple]",
         "$3.39 "
        ],
        [
         "3",
         "1",
         "1",
         "Chips and Tomatillo-Green Chili Salsa",
         null,
         "$2.39 "
        ],
        [
         "4",
         "2",
         "2",
         "Chicken Bowl",
         "[Tomatillo-Red Chili Salsa (Hot), [Black Beans, Rice, Cheese, Sour Cream]]",
         "$16.98 "
        ],
        [
         "5",
         "3",
         "1",
         "Chicken Bowl",
         "[Fresh Tomato Salsa (Mild), [Rice, Cheese, Sour Cream, Guacamole, Lettuce]]",
         "$10.98 "
        ],
        [
         "6",
         "3",
         "1",
         "Side of Chips",
         null,
         "$1.69 "
        ],
        [
         "7",
         "4",
         "1",
         "Steak Burrito",
         "[Tomatillo Red Chili Salsa, [Fajita Vegetables, Black Beans, Pinto Beans, Cheese, Sour Cream, Guacamole, Lettuce]]",
         "$11.75 "
        ],
        [
         "8",
         "4",
         "1",
         "Steak Soft Tacos",
         "[Tomatillo Green Chili Salsa, [Pinto Beans, Cheese, Sour Cream, Lettuce]]",
         "$9.25 "
        ],
        [
         "9",
         "5",
         "1",
         "Steak Burrito",
         "[Fresh Tomato Salsa, [Rice, Black Beans, Pinto Beans, Cheese, Sour Cream, Lettuce]]",
         "$9.25 "
        ],
        [
         "10",
         "5",
         "1",
         "Chips and Guacamole",
         null,
         "$4.45 "
        ],
        [
         "11",
         "6",
         "1",
         "Chicken Crispy Tacos",
         "[Roasted Chili Corn Salsa, [Fajita Vegetables, Rice, Black Beans, Cheese, Sour Cream]]",
         "$8.75 "
        ],
        [
         "12",
         "6",
         "1",
         "Chicken Soft Tacos",
         "[Roasted Chili Corn Salsa, [Rice, Black Beans, Cheese, Sour Cream]]",
         "$8.75 "
        ],
        [
         "13",
         "7",
         "1",
         "Chicken Bowl",
         "[Fresh Tomato Salsa, [Fajita Vegetables, Rice, Cheese, Sour Cream, Guacamole]]",
         "$11.25 "
        ],
        [
         "14",
         "7",
         "1",
         "Chips and Guacamole",
         null,
         "$4.45 "
        ],
        [
         "15",
         "8",
         "1",
         "Chips and Tomatillo-Green Chili Salsa",
         null,
         "$2.39 "
        ],
        [
         "16",
         "8",
         "1",
         "Chicken Burrito",
         "[Tomatillo-Green Chili Salsa (Medium), [Pinto Beans, Cheese, Sour Cream]]",
         "$8.49 "
        ],
        [
         "17",
         "9",
         "1",
         "Chicken Burrito",
         "[Fresh Tomato Salsa (Mild), [Black Beans, Rice, Cheese, Sour Cream, Lettuce]]",
         "$8.49 "
        ],
        [
         "18",
         "9",
         "2",
         "Canned Soda",
         "[Sprite]",
         "$2.18 "
        ],
        [
         "19",
         "10",
         "1",
         "Chicken Bowl",
         "[Tomatillo Red Chili Salsa, [Fajita Vegetables, Black Beans, Sour Cream, Cheese, Lettuce]]",
         "$8.75 "
        ],
        [
         "20",
         "10",
         "1",
         "Chips and Guacamole",
         null,
         "$4.45 "
        ],
        [
         "21",
         "11",
         "1",
         "Barbacoa Burrito",
         "[[Fresh Tomato Salsa (Mild), Tomatillo-Green Chili Salsa (Medium), Tomatillo-Red Chili Salsa (Hot)], [Rice, Cheese, Sour Cream, Lettuce]]",
         "$8.99 "
        ],
        [
         "22",
         "11",
         "1",
         "Nantucket Nectar",
         "[Pomegranate Cherry]",
         "$3.39 "
        ],
        [
         "23",
         "12",
         "1",
         "Chicken Burrito",
         "[[Tomatillo-Green Chili Salsa (Medium), Tomatillo-Red Chili Salsa (Hot)], [Pinto Beans, Rice, Cheese, Sour Cream, Guacamole, Lettuce]]",
         "$10.98 "
        ],
        [
         "24",
         "12",
         "1",
         "Izze",
         "[Grapefruit]",
         "$3.39 "
        ],
        [
         "25",
         "13",
         "1",
         "Chips and Fresh Tomato Salsa",
         null,
         "$2.39 "
        ],
        [
         "26",
         "13",
         "1",
         "Chicken Bowl",
         "[Roasted Chili Corn Salsa (Medium), [Pinto Beans, Rice, Fajita Veggies, Cheese, Sour Cream, Lettuce]]",
         "$8.49 "
        ],
        [
         "27",
         "14",
         "1",
         "Carnitas Burrito",
         "[[Tomatillo-Green Chili Salsa (Medium), Roasted Chili Corn Salsa (Medium)], [Black Beans, Rice, Sour Cream, Lettuce]]",
         "$8.99 "
        ],
        [
         "28",
         "14",
         "1",
         "Canned Soda",
         "[Dr. Pepper]",
         "$1.09 "
        ],
        [
         "29",
         "15",
         "1",
         "Chicken Burrito",
         "[Tomatillo-Green Chili Salsa (Medium), [Pinto Beans, Rice, Cheese, Sour Cream]]",
         "$8.49 "
        ],
        [
         "30",
         "15",
         "1",
         "Chips and Tomatillo-Green Chili Salsa",
         null,
         "$2.39 "
        ],
        [
         "31",
         "16",
         "1",
         "Steak Burrito",
         "[[Roasted Chili Corn Salsa (Medium), Fresh Tomato Salsa (Mild)], [Rice, Black Beans, Sour Cream]]",
         "$8.99 "
        ],
        [
         "32",
         "16",
         "1",
         "Side of Chips",
         null,
         "$1.69 "
        ],
        [
         "33",
         "17",
         "1",
         "Carnitas Bowl",
         "[Tomatillo-Red Chili Salsa (Hot), [Black Beans, Rice, Fajita Veggies, Cheese, Sour Cream, Lettuce]]",
         "$8.99 "
        ],
        [
         "34",
         "17",
         "1",
         "Bottled Water",
         null,
         "$1.09 "
        ],
        [
         "35",
         "18",
         "1",
         "Chicken Soft Tacos",
         "[Roasted Chili Corn Salsa, Rice]",
         "$8.75 "
        ],
        [
         "36",
         "18",
         "1",
         "Chicken Soft Tacos",
         "[Roasted Chili Corn Salsa, [Cheese, Lettuce]]",
         "$8.75 "
        ],
        [
         "37",
         "18",
         "1",
         "Chips and Guacamole",
         null,
         "$4.45 "
        ],
        [
         "38",
         "18",
         "1",
         "Chips and Tomatillo Green Chili Salsa",
         null,
         "$2.95 "
        ],
        [
         "39",
         "19",
         "1",
         "Barbacoa Bowl",
         "[Roasted Chili Corn Salsa, [Fajita Vegetables, Rice, Black Beans, Cheese, Sour Cream, Guacamole, Lettuce]]",
         "$11.75 "
        ],
        [
         "40",
         "19",
         "1",
         "Chips",
         null,
         "$2.15 "
        ],
        [
         "41",
         "20",
         "1",
         "Chips and Guacamole",
         null,
         "$4.45 "
        ],
        [
         "42",
         "20",
         "1",
         "Chicken Bowl",
         "[Roasted Chili Corn Salsa, [Rice, Black Beans, Cheese, Sour Cream, Guacamole, Lettuce]]",
         "$11.25 "
        ],
        [
         "43",
         "20",
         "1",
         "Steak Burrito",
         "[Fresh Tomato Salsa, [Rice, Pinto Beans, Cheese, Sour Cream, Guacamole, Lettuce]]",
         "$11.75 "
        ],
        [
         "44",
         "20",
         "1",
         "Chicken Salad Bowl",
         "[Fresh Tomato Salsa, [Fajita Vegetables, Pinto Beans, Lettuce]]",
         "$8.75 "
        ],
        [
         "45",
         "21",
         "1",
         "Chicken Burrito",
         "[Tomatillo-Red Chili Salsa (Hot), [Black Beans, Fajita Veggies, Cheese, Sour Cream, Guacamole, Lettuce]]",
         "$10.98 "
        ],
        [
         "46",
         "21",
         "1",
         "Steak Burrito",
         "[Tomatillo-Red Chili Salsa (Hot), [Rice, Fajita Veggies, Cheese]]",
         "$8.99 "
        ],
        [
         "47",
         "21",
         "1",
         "Izze",
         "[Blackberry]",
         "$3.39 "
        ],
        [
         "48",
         "22",
         "1",
         "Steak Burrito",
         "[[Fresh Tomato Salsa (Mild), Roasted Chili Corn Salsa (Medium), Tomatillo-Red Chili Salsa (Hot)], [Black Beans, Rice, Sour Cream]]",
         "$8.99 "
        ],
        [
         "49",
         "22",
         "1",
         "Chips and Guacamole",
         null,
         "$3.99 "
        ]
       ],
       "shape": {
        "columns": 5,
        "rows": 4622
       }
      },
      "text/html": [
       "<div>\n",
       "<style scoped>\n",
       "    .dataframe tbody tr th:only-of-type {\n",
       "        vertical-align: middle;\n",
       "    }\n",
       "\n",
       "    .dataframe tbody tr th {\n",
       "        vertical-align: top;\n",
       "    }\n",
       "\n",
       "    .dataframe thead th {\n",
       "        text-align: right;\n",
       "    }\n",
       "</style>\n",
       "<table border=\"1\" class=\"dataframe\">\n",
       "  <thead>\n",
       "    <tr style=\"text-align: right;\">\n",
       "      <th></th>\n",
       "      <th>order_id</th>\n",
       "      <th>quantity</th>\n",
       "      <th>item_name</th>\n",
       "      <th>choice_description</th>\n",
       "      <th>item_price</th>\n",
       "    </tr>\n",
       "  </thead>\n",
       "  <tbody>\n",
       "    <tr>\n",
       "      <th>0</th>\n",
       "      <td>1</td>\n",
       "      <td>1</td>\n",
       "      <td>Chips and Fresh Tomato Salsa</td>\n",
       "      <td>NaN</td>\n",
       "      <td>$2.39</td>\n",
       "    </tr>\n",
       "    <tr>\n",
       "      <th>1</th>\n",
       "      <td>1</td>\n",
       "      <td>1</td>\n",
       "      <td>Izze</td>\n",
       "      <td>[Clementine]</td>\n",
       "      <td>$3.39</td>\n",
       "    </tr>\n",
       "    <tr>\n",
       "      <th>2</th>\n",
       "      <td>1</td>\n",
       "      <td>1</td>\n",
       "      <td>Nantucket Nectar</td>\n",
       "      <td>[Apple]</td>\n",
       "      <td>$3.39</td>\n",
       "    </tr>\n",
       "    <tr>\n",
       "      <th>3</th>\n",
       "      <td>1</td>\n",
       "      <td>1</td>\n",
       "      <td>Chips and Tomatillo-Green Chili Salsa</td>\n",
       "      <td>NaN</td>\n",
       "      <td>$2.39</td>\n",
       "    </tr>\n",
       "    <tr>\n",
       "      <th>4</th>\n",
       "      <td>2</td>\n",
       "      <td>2</td>\n",
       "      <td>Chicken Bowl</td>\n",
       "      <td>[Tomatillo-Red Chili Salsa (Hot), [Black Beans...</td>\n",
       "      <td>$16.98</td>\n",
       "    </tr>\n",
       "    <tr>\n",
       "      <th>...</th>\n",
       "      <td>...</td>\n",
       "      <td>...</td>\n",
       "      <td>...</td>\n",
       "      <td>...</td>\n",
       "      <td>...</td>\n",
       "    </tr>\n",
       "    <tr>\n",
       "      <th>4617</th>\n",
       "      <td>1833</td>\n",
       "      <td>1</td>\n",
       "      <td>Steak Burrito</td>\n",
       "      <td>[Fresh Tomato Salsa, [Rice, Black Beans, Sour ...</td>\n",
       "      <td>$11.75</td>\n",
       "    </tr>\n",
       "    <tr>\n",
       "      <th>4618</th>\n",
       "      <td>1833</td>\n",
       "      <td>1</td>\n",
       "      <td>Steak Burrito</td>\n",
       "      <td>[Fresh Tomato Salsa, [Rice, Sour Cream, Cheese...</td>\n",
       "      <td>$11.75</td>\n",
       "    </tr>\n",
       "    <tr>\n",
       "      <th>4619</th>\n",
       "      <td>1834</td>\n",
       "      <td>1</td>\n",
       "      <td>Chicken Salad Bowl</td>\n",
       "      <td>[Fresh Tomato Salsa, [Fajita Vegetables, Pinto...</td>\n",
       "      <td>$11.25</td>\n",
       "    </tr>\n",
       "    <tr>\n",
       "      <th>4620</th>\n",
       "      <td>1834</td>\n",
       "      <td>1</td>\n",
       "      <td>Chicken Salad Bowl</td>\n",
       "      <td>[Fresh Tomato Salsa, [Fajita Vegetables, Lettu...</td>\n",
       "      <td>$8.75</td>\n",
       "    </tr>\n",
       "    <tr>\n",
       "      <th>4621</th>\n",
       "      <td>1834</td>\n",
       "      <td>1</td>\n",
       "      <td>Chicken Salad Bowl</td>\n",
       "      <td>[Fresh Tomato Salsa, [Fajita Vegetables, Pinto...</td>\n",
       "      <td>$8.75</td>\n",
       "    </tr>\n",
       "  </tbody>\n",
       "</table>\n",
       "<p>4622 rows × 5 columns</p>\n",
       "</div>"
      ],
      "text/plain": [
       "      order_id  quantity                              item_name  \\\n",
       "0            1         1           Chips and Fresh Tomato Salsa   \n",
       "1            1         1                                   Izze   \n",
       "2            1         1                       Nantucket Nectar   \n",
       "3            1         1  Chips and Tomatillo-Green Chili Salsa   \n",
       "4            2         2                           Chicken Bowl   \n",
       "...        ...       ...                                    ...   \n",
       "4617      1833         1                          Steak Burrito   \n",
       "4618      1833         1                          Steak Burrito   \n",
       "4619      1834         1                     Chicken Salad Bowl   \n",
       "4620      1834         1                     Chicken Salad Bowl   \n",
       "4621      1834         1                     Chicken Salad Bowl   \n",
       "\n",
       "                                     choice_description item_price  \n",
       "0                                                   NaN     $2.39   \n",
       "1                                          [Clementine]     $3.39   \n",
       "2                                               [Apple]     $3.39   \n",
       "3                                                   NaN     $2.39   \n",
       "4     [Tomatillo-Red Chili Salsa (Hot), [Black Beans...    $16.98   \n",
       "...                                                 ...        ...  \n",
       "4617  [Fresh Tomato Salsa, [Rice, Black Beans, Sour ...    $11.75   \n",
       "4618  [Fresh Tomato Salsa, [Rice, Sour Cream, Cheese...    $11.75   \n",
       "4619  [Fresh Tomato Salsa, [Fajita Vegetables, Pinto...    $11.25   \n",
       "4620  [Fresh Tomato Salsa, [Fajita Vegetables, Lettu...     $8.75   \n",
       "4621  [Fresh Tomato Salsa, [Fajita Vegetables, Pinto...     $8.75   \n",
       "\n",
       "[4622 rows x 5 columns]"
      ]
     },
     "execution_count": 3,
     "metadata": {},
     "output_type": "execute_result"
    }
   ],
   "source": [
    "url = \"https://raw.githubusercontent.com/justmarkham/DAT8/master/data/chipotle.tsv\"\n",
    "chipo = pd.read_csv(url, sep=\"\\t\")\n",
    "chipo"
   ]
  },
  {
   "attachments": {},
   "cell_type": "markdown",
   "metadata": {},
   "source": [
    "### Step 3. Name of the max valued product"
   ]
  },
  {
   "cell_type": "code",
   "execution_count": 4,
   "metadata": {},
   "outputs": [
    {
     "name": "stdout",
     "output_type": "stream",
     "text": [
      "<class 'pandas.core.frame.DataFrame'>\n",
      "RangeIndex: 4622 entries, 0 to 4621\n",
      "Data columns (total 5 columns):\n",
      " #   Column              Non-Null Count  Dtype \n",
      "---  ------              --------------  ----- \n",
      " 0   order_id            4622 non-null   int64 \n",
      " 1   quantity            4622 non-null   int64 \n",
      " 2   item_name           4622 non-null   object\n",
      " 3   choice_description  3376 non-null   object\n",
      " 4   item_price          4622 non-null   object\n",
      "dtypes: int64(2), object(3)\n",
      "memory usage: 180.7+ KB\n"
     ]
    }
   ],
   "source": [
    "chipo.info()"
   ]
  },
  {
   "cell_type": "code",
   "execution_count": 26,
   "metadata": {},
   "outputs": [
    {
     "data": {
      "application/vnd.microsoft.datawrangler.viewer.v0+json": {
       "columns": [
        {
         "name": "index",
         "rawType": "object",
         "type": "string"
        },
        {
         "name": "order_id",
         "rawType": "float64",
         "type": "float"
        },
        {
         "name": "quantity",
         "rawType": "float64",
         "type": "float"
        },
        {
         "name": "item_price",
         "rawType": "float64",
         "type": "float"
        }
       ],
       "conversionMethod": "pd.DataFrame",
       "ref": "548f379e-aeb4-4457-870d-4ebbb4a0c036",
       "rows": [
        [
         "count",
         "4622.0",
         "4622.0",
         "4622.0"
        ],
        [
         "mean",
         "927.2548680225011",
         "1.0757247944612722",
         "7.464335785374297"
        ],
        [
         "std",
         "528.8907955866094",
         "0.41018633425753315",
         "4.245557197940302"
        ],
        [
         "min",
         "1.0",
         "1.0",
         "1.09"
        ],
        [
         "25%",
         "477.25",
         "1.0",
         "3.39"
        ],
        [
         "50%",
         "926.0",
         "1.0",
         "8.75"
        ],
        [
         "75%",
         "1393.0",
         "1.0",
         "9.25"
        ],
        [
         "max",
         "1834.0",
         "15.0",
         "44.25"
        ]
       ],
       "shape": {
        "columns": 3,
        "rows": 8
       }
      },
      "text/html": [
       "<div>\n",
       "<style scoped>\n",
       "    .dataframe tbody tr th:only-of-type {\n",
       "        vertical-align: middle;\n",
       "    }\n",
       "\n",
       "    .dataframe tbody tr th {\n",
       "        vertical-align: top;\n",
       "    }\n",
       "\n",
       "    .dataframe thead th {\n",
       "        text-align: right;\n",
       "    }\n",
       "</style>\n",
       "<table border=\"1\" class=\"dataframe\">\n",
       "  <thead>\n",
       "    <tr style=\"text-align: right;\">\n",
       "      <th></th>\n",
       "      <th>order_id</th>\n",
       "      <th>quantity</th>\n",
       "      <th>item_price</th>\n",
       "    </tr>\n",
       "  </thead>\n",
       "  <tbody>\n",
       "    <tr>\n",
       "      <th>count</th>\n",
       "      <td>4622.000000</td>\n",
       "      <td>4622.000000</td>\n",
       "      <td>4622.000000</td>\n",
       "    </tr>\n",
       "    <tr>\n",
       "      <th>mean</th>\n",
       "      <td>927.254868</td>\n",
       "      <td>1.075725</td>\n",
       "      <td>7.464336</td>\n",
       "    </tr>\n",
       "    <tr>\n",
       "      <th>std</th>\n",
       "      <td>528.890796</td>\n",
       "      <td>0.410186</td>\n",
       "      <td>4.245557</td>\n",
       "    </tr>\n",
       "    <tr>\n",
       "      <th>min</th>\n",
       "      <td>1.000000</td>\n",
       "      <td>1.000000</td>\n",
       "      <td>1.090000</td>\n",
       "    </tr>\n",
       "    <tr>\n",
       "      <th>25%</th>\n",
       "      <td>477.250000</td>\n",
       "      <td>1.000000</td>\n",
       "      <td>3.390000</td>\n",
       "    </tr>\n",
       "    <tr>\n",
       "      <th>50%</th>\n",
       "      <td>926.000000</td>\n",
       "      <td>1.000000</td>\n",
       "      <td>8.750000</td>\n",
       "    </tr>\n",
       "    <tr>\n",
       "      <th>75%</th>\n",
       "      <td>1393.000000</td>\n",
       "      <td>1.000000</td>\n",
       "      <td>9.250000</td>\n",
       "    </tr>\n",
       "    <tr>\n",
       "      <th>max</th>\n",
       "      <td>1834.000000</td>\n",
       "      <td>15.000000</td>\n",
       "      <td>44.250000</td>\n",
       "    </tr>\n",
       "  </tbody>\n",
       "</table>\n",
       "</div>"
      ],
      "text/plain": [
       "          order_id     quantity   item_price\n",
       "count  4622.000000  4622.000000  4622.000000\n",
       "mean    927.254868     1.075725     7.464336\n",
       "std     528.890796     0.410186     4.245557\n",
       "min       1.000000     1.000000     1.090000\n",
       "25%     477.250000     1.000000     3.390000\n",
       "50%     926.000000     1.000000     8.750000\n",
       "75%    1393.000000     1.000000     9.250000\n",
       "max    1834.000000    15.000000    44.250000"
      ]
     },
     "execution_count": 26,
     "metadata": {},
     "output_type": "execute_result"
    }
   ],
   "source": [
    "chipo.describe()"
   ]
  },
  {
   "cell_type": "code",
   "execution_count": 5,
   "metadata": {},
   "outputs": [
    {
     "name": "stdout",
     "output_type": "stream",
     "text": [
      "<class 'pandas.core.frame.DataFrame'>\n",
      "RangeIndex: 4622 entries, 0 to 4621\n",
      "Data columns (total 5 columns):\n",
      " #   Column              Non-Null Count  Dtype  \n",
      "---  ------              --------------  -----  \n",
      " 0   order_id            4622 non-null   int64  \n",
      " 1   quantity            4622 non-null   int64  \n",
      " 2   item_name           4622 non-null   object \n",
      " 3   choice_description  3376 non-null   object \n",
      " 4   item_price          4622 non-null   float64\n",
      "dtypes: float64(1), int64(2), object(2)\n",
      "memory usage: 180.7+ KB\n"
     ]
    }
   ],
   "source": [
    "chipo[\"item_price\"]= chipo[\"item_price\"].str.replace(\"$\",\"\").astype(float)\n",
    "chipo.info()"
   ]
  },
  {
   "cell_type": "code",
   "execution_count": 20,
   "metadata": {},
   "outputs": [],
   "source": [
    "chicken_q_i = chipo[chipo[\"item_name\"] == \"Chicken Bowl\"].sort_values(\"item_price\")[[\"quantity\",\"item_price\"]]"
   ]
  },
  {
   "cell_type": "code",
   "execution_count": 21,
   "metadata": {},
   "outputs": [
    {
     "data": {
      "application/vnd.microsoft.datawrangler.viewer.v0+json": {
       "columns": [
        {
         "name": "index",
         "rawType": "int64",
         "type": "integer"
        },
        {
         "name": "quantity",
         "rawType": "int64",
         "type": "integer"
        },
        {
         "name": "item_price",
         "rawType": "float64",
         "type": "float"
        }
       ],
       "conversionMethod": "pd.DataFrame",
       "ref": "2b59ad31-1536-4ca8-88b9-a56d57770ba9",
       "rows": [
        [
         "3101",
         "1",
         "8.19"
        ],
        [
         "348",
         "1",
         "8.49"
        ],
        [
         "4236",
         "1",
         "8.5"
        ],
        [
         "4511",
         "1",
         "8.75"
        ],
        [
         "2919",
         "1",
         "10.58"
        ],
        [
         "5",
         "1",
         "10.98"
        ],
        [
         "3249",
         "1",
         "11.25"
        ],
        [
         "2771",
         "2",
         "16.98"
        ],
        [
         "1017",
         "2",
         "17.5"
        ],
        [
         "2075",
         "2",
         "21.96"
        ],
        [
         "4423",
         "2",
         "22.5"
        ],
        [
         "1514",
         "3",
         "26.25"
        ],
        [
         "409",
         "3",
         "32.94"
        ]
       ],
       "shape": {
        "columns": 2,
        "rows": 13
       }
      },
      "text/html": [
       "<div>\n",
       "<style scoped>\n",
       "    .dataframe tbody tr th:only-of-type {\n",
       "        vertical-align: middle;\n",
       "    }\n",
       "\n",
       "    .dataframe tbody tr th {\n",
       "        vertical-align: top;\n",
       "    }\n",
       "\n",
       "    .dataframe thead th {\n",
       "        text-align: right;\n",
       "    }\n",
       "</style>\n",
       "<table border=\"1\" class=\"dataframe\">\n",
       "  <thead>\n",
       "    <tr style=\"text-align: right;\">\n",
       "      <th></th>\n",
       "      <th>quantity</th>\n",
       "      <th>item_price</th>\n",
       "    </tr>\n",
       "  </thead>\n",
       "  <tbody>\n",
       "    <tr>\n",
       "      <th>3101</th>\n",
       "      <td>1</td>\n",
       "      <td>8.19</td>\n",
       "    </tr>\n",
       "    <tr>\n",
       "      <th>348</th>\n",
       "      <td>1</td>\n",
       "      <td>8.49</td>\n",
       "    </tr>\n",
       "    <tr>\n",
       "      <th>4236</th>\n",
       "      <td>1</td>\n",
       "      <td>8.50</td>\n",
       "    </tr>\n",
       "    <tr>\n",
       "      <th>4511</th>\n",
       "      <td>1</td>\n",
       "      <td>8.75</td>\n",
       "    </tr>\n",
       "    <tr>\n",
       "      <th>2919</th>\n",
       "      <td>1</td>\n",
       "      <td>10.58</td>\n",
       "    </tr>\n",
       "    <tr>\n",
       "      <th>5</th>\n",
       "      <td>1</td>\n",
       "      <td>10.98</td>\n",
       "    </tr>\n",
       "    <tr>\n",
       "      <th>3249</th>\n",
       "      <td>1</td>\n",
       "      <td>11.25</td>\n",
       "    </tr>\n",
       "    <tr>\n",
       "      <th>2771</th>\n",
       "      <td>2</td>\n",
       "      <td>16.98</td>\n",
       "    </tr>\n",
       "    <tr>\n",
       "      <th>1017</th>\n",
       "      <td>2</td>\n",
       "      <td>17.50</td>\n",
       "    </tr>\n",
       "    <tr>\n",
       "      <th>2075</th>\n",
       "      <td>2</td>\n",
       "      <td>21.96</td>\n",
       "    </tr>\n",
       "    <tr>\n",
       "      <th>4423</th>\n",
       "      <td>2</td>\n",
       "      <td>22.50</td>\n",
       "    </tr>\n",
       "    <tr>\n",
       "      <th>1514</th>\n",
       "      <td>3</td>\n",
       "      <td>26.25</td>\n",
       "    </tr>\n",
       "    <tr>\n",
       "      <th>409</th>\n",
       "      <td>3</td>\n",
       "      <td>32.94</td>\n",
       "    </tr>\n",
       "  </tbody>\n",
       "</table>\n",
       "</div>"
      ],
      "text/plain": [
       "      quantity  item_price\n",
       "3101         1        8.19\n",
       "348          1        8.49\n",
       "4236         1        8.50\n",
       "4511         1        8.75\n",
       "2919         1       10.58\n",
       "5            1       10.98\n",
       "3249         1       11.25\n",
       "2771         2       16.98\n",
       "1017         2       17.50\n",
       "2075         2       21.96\n",
       "4423         2       22.50\n",
       "1514         3       26.25\n",
       "409          3       32.94"
      ]
     },
     "execution_count": 21,
     "metadata": {},
     "output_type": "execute_result"
    }
   ],
   "source": [
    "chicken_q_i.drop_duplicates()"
   ]
  },
  {
   "cell_type": "code",
   "execution_count": 29,
   "metadata": {},
   "outputs": [
    {
     "data": {
      "application/vnd.microsoft.datawrangler.viewer.v0+json": {
       "columns": [
        {
         "name": "index",
         "rawType": "int64",
         "type": "integer"
        },
        {
         "name": "quantity",
         "rawType": "int64",
         "type": "integer"
        },
        {
         "name": "item_price",
         "rawType": "float64",
         "type": "float"
        }
       ],
       "conversionMethod": "pd.DataFrame",
       "ref": "6f4d2fa9-b12c-413f-bef7-cf17c9167c92",
       "rows": [
        [
         "3101",
         "1",
         "8.19"
        ],
        [
         "348",
         "1",
         "8.49"
        ],
        [
         "4236",
         "1",
         "8.5"
        ],
        [
         "4511",
         "1",
         "8.75"
        ],
        [
         "2919",
         "1",
         "10.58"
        ],
        [
         "5",
         "1",
         "10.98"
        ],
        [
         "3249",
         "1",
         "11.25"
        ],
        [
         "2771",
         "2",
         "16.98"
        ],
        [
         "1017",
         "2",
         "17.5"
        ],
        [
         "2075",
         "2",
         "21.96"
        ],
        [
         "4423",
         "2",
         "22.5"
        ],
        [
         "1514",
         "3",
         "26.25"
        ],
        [
         "409",
         "3",
         "32.94"
        ]
       ],
       "shape": {
        "columns": 2,
        "rows": 13
       }
      },
      "text/html": [
       "<div>\n",
       "<style scoped>\n",
       "    .dataframe tbody tr th:only-of-type {\n",
       "        vertical-align: middle;\n",
       "    }\n",
       "\n",
       "    .dataframe tbody tr th {\n",
       "        vertical-align: top;\n",
       "    }\n",
       "\n",
       "    .dataframe thead th {\n",
       "        text-align: right;\n",
       "    }\n",
       "</style>\n",
       "<table border=\"1\" class=\"dataframe\">\n",
       "  <thead>\n",
       "    <tr style=\"text-align: right;\">\n",
       "      <th></th>\n",
       "      <th>quantity</th>\n",
       "      <th>item_price</th>\n",
       "    </tr>\n",
       "  </thead>\n",
       "  <tbody>\n",
       "    <tr>\n",
       "      <th>3101</th>\n",
       "      <td>1</td>\n",
       "      <td>8.19</td>\n",
       "    </tr>\n",
       "    <tr>\n",
       "      <th>348</th>\n",
       "      <td>1</td>\n",
       "      <td>8.49</td>\n",
       "    </tr>\n",
       "    <tr>\n",
       "      <th>4236</th>\n",
       "      <td>1</td>\n",
       "      <td>8.50</td>\n",
       "    </tr>\n",
       "    <tr>\n",
       "      <th>4511</th>\n",
       "      <td>1</td>\n",
       "      <td>8.75</td>\n",
       "    </tr>\n",
       "    <tr>\n",
       "      <th>2919</th>\n",
       "      <td>1</td>\n",
       "      <td>10.58</td>\n",
       "    </tr>\n",
       "    <tr>\n",
       "      <th>5</th>\n",
       "      <td>1</td>\n",
       "      <td>10.98</td>\n",
       "    </tr>\n",
       "    <tr>\n",
       "      <th>3249</th>\n",
       "      <td>1</td>\n",
       "      <td>11.25</td>\n",
       "    </tr>\n",
       "    <tr>\n",
       "      <th>2771</th>\n",
       "      <td>2</td>\n",
       "      <td>16.98</td>\n",
       "    </tr>\n",
       "    <tr>\n",
       "      <th>1017</th>\n",
       "      <td>2</td>\n",
       "      <td>17.50</td>\n",
       "    </tr>\n",
       "    <tr>\n",
       "      <th>2075</th>\n",
       "      <td>2</td>\n",
       "      <td>21.96</td>\n",
       "    </tr>\n",
       "    <tr>\n",
       "      <th>4423</th>\n",
       "      <td>2</td>\n",
       "      <td>22.50</td>\n",
       "    </tr>\n",
       "    <tr>\n",
       "      <th>1514</th>\n",
       "      <td>3</td>\n",
       "      <td>26.25</td>\n",
       "    </tr>\n",
       "    <tr>\n",
       "      <th>409</th>\n",
       "      <td>3</td>\n",
       "      <td>32.94</td>\n",
       "    </tr>\n",
       "  </tbody>\n",
       "</table>\n",
       "</div>"
      ],
      "text/plain": [
       "      quantity  item_price\n",
       "3101         1        8.19\n",
       "348          1        8.49\n",
       "4236         1        8.50\n",
       "4511         1        8.75\n",
       "2919         1       10.58\n",
       "5            1       10.98\n",
       "3249         1       11.25\n",
       "2771         2       16.98\n",
       "1017         2       17.50\n",
       "2075         2       21.96\n",
       "4423         2       22.50\n",
       "1514         3       26.25\n",
       "409          3       32.94"
      ]
     },
     "execution_count": 29,
     "metadata": {},
     "output_type": "execute_result"
    }
   ],
   "source": [
    "chipo.loc[chipo[\"item_name\"] == \"Chicken Bowl\",[\"quantity\",\"item_price\"]].sort_values(\"item_price\").drop_duplicates()"
   ]
  },
  {
   "cell_type": "code",
   "execution_count": 6,
   "metadata": {},
   "outputs": [
    {
     "data": {
      "application/vnd.microsoft.datawrangler.viewer.v0+json": {
       "columns": [
        {
         "name": "index",
         "rawType": "int64",
         "type": "integer"
        },
        {
         "name": "order_id",
         "rawType": "int64",
         "type": "integer"
        },
        {
         "name": "quantity",
         "rawType": "int64",
         "type": "integer"
        },
        {
         "name": "item_name",
         "rawType": "object",
         "type": "string"
        },
        {
         "name": "choice_description",
         "rawType": "object",
         "type": "unknown"
        },
        {
         "name": "item_price",
         "rawType": "float64",
         "type": "float"
        }
       ],
       "conversionMethod": "pd.DataFrame",
       "ref": "f90eb62b-a466-4abb-8202-c9b43c88423d",
       "rows": [
        [
         "0",
         "1",
         "1",
         "Chips and Fresh Tomato Salsa",
         null,
         "2.39"
        ],
        [
         "1",
         "1",
         "1",
         "Izze",
         "[Clementine]",
         "3.39"
        ],
        [
         "2",
         "1",
         "1",
         "Nantucket Nectar",
         "[Apple]",
         "3.39"
        ],
        [
         "3",
         "1",
         "1",
         "Chips and Tomatillo-Green Chili Salsa",
         null,
         "2.39"
        ],
        [
         "4",
         "2",
         "2",
         "Chicken Bowl",
         "[Tomatillo-Red Chili Salsa (Hot), [Black Beans, Rice, Cheese, Sour Cream]]",
         "16.98"
        ]
       ],
       "shape": {
        "columns": 5,
        "rows": 5
       }
      },
      "text/html": [
       "<div>\n",
       "<style scoped>\n",
       "    .dataframe tbody tr th:only-of-type {\n",
       "        vertical-align: middle;\n",
       "    }\n",
       "\n",
       "    .dataframe tbody tr th {\n",
       "        vertical-align: top;\n",
       "    }\n",
       "\n",
       "    .dataframe thead th {\n",
       "        text-align: right;\n",
       "    }\n",
       "</style>\n",
       "<table border=\"1\" class=\"dataframe\">\n",
       "  <thead>\n",
       "    <tr style=\"text-align: right;\">\n",
       "      <th></th>\n",
       "      <th>order_id</th>\n",
       "      <th>quantity</th>\n",
       "      <th>item_name</th>\n",
       "      <th>choice_description</th>\n",
       "      <th>item_price</th>\n",
       "    </tr>\n",
       "  </thead>\n",
       "  <tbody>\n",
       "    <tr>\n",
       "      <th>0</th>\n",
       "      <td>1</td>\n",
       "      <td>1</td>\n",
       "      <td>Chips and Fresh Tomato Salsa</td>\n",
       "      <td>NaN</td>\n",
       "      <td>2.39</td>\n",
       "    </tr>\n",
       "    <tr>\n",
       "      <th>1</th>\n",
       "      <td>1</td>\n",
       "      <td>1</td>\n",
       "      <td>Izze</td>\n",
       "      <td>[Clementine]</td>\n",
       "      <td>3.39</td>\n",
       "    </tr>\n",
       "    <tr>\n",
       "      <th>2</th>\n",
       "      <td>1</td>\n",
       "      <td>1</td>\n",
       "      <td>Nantucket Nectar</td>\n",
       "      <td>[Apple]</td>\n",
       "      <td>3.39</td>\n",
       "    </tr>\n",
       "    <tr>\n",
       "      <th>3</th>\n",
       "      <td>1</td>\n",
       "      <td>1</td>\n",
       "      <td>Chips and Tomatillo-Green Chili Salsa</td>\n",
       "      <td>NaN</td>\n",
       "      <td>2.39</td>\n",
       "    </tr>\n",
       "    <tr>\n",
       "      <th>4</th>\n",
       "      <td>2</td>\n",
       "      <td>2</td>\n",
       "      <td>Chicken Bowl</td>\n",
       "      <td>[Tomatillo-Red Chili Salsa (Hot), [Black Beans...</td>\n",
       "      <td>16.98</td>\n",
       "    </tr>\n",
       "  </tbody>\n",
       "</table>\n",
       "</div>"
      ],
      "text/plain": [
       "   order_id  quantity                              item_name  \\\n",
       "0         1         1           Chips and Fresh Tomato Salsa   \n",
       "1         1         1                                   Izze   \n",
       "2         1         1                       Nantucket Nectar   \n",
       "3         1         1  Chips and Tomatillo-Green Chili Salsa   \n",
       "4         2         2                           Chicken Bowl   \n",
       "\n",
       "                                  choice_description  item_price  \n",
       "0                                                NaN        2.39  \n",
       "1                                       [Clementine]        3.39  \n",
       "2                                            [Apple]        3.39  \n",
       "3                                                NaN        2.39  \n",
       "4  [Tomatillo-Red Chili Salsa (Hot), [Black Beans...       16.98  "
      ]
     },
     "execution_count": 6,
     "metadata": {},
     "output_type": "execute_result"
    }
   ],
   "source": [
    "chipo.head()"
   ]
  },
  {
   "cell_type": "code",
   "execution_count": 6,
   "metadata": {},
   "outputs": [
    {
     "data": {
      "text/plain": [
       "np.float64(44.25)"
      ]
     },
     "execution_count": 6,
     "metadata": {},
     "output_type": "execute_result"
    }
   ],
   "source": [
    "chipo[\"item_price\"].max()\n",
    "maximo = chipo[\"item_price\"].max()\n",
    "maximo"
   ]
  },
  {
   "cell_type": "code",
   "execution_count": 38,
   "metadata": {},
   "outputs": [
    {
     "data": {
      "application/vnd.microsoft.datawrangler.viewer.v0+json": {
       "columns": [
        {
         "name": "index",
         "rawType": "int64",
         "type": "integer"
        },
        {
         "name": "order_id",
         "rawType": "int64",
         "type": "integer"
        },
        {
         "name": "quantity",
         "rawType": "int64",
         "type": "integer"
        },
        {
         "name": "item_name",
         "rawType": "object",
         "type": "string"
        },
        {
         "name": "choice_description",
         "rawType": "object",
         "type": "unknown"
        },
        {
         "name": "item_price",
         "rawType": "float64",
         "type": "float"
        },
        {
         "name": "unit_price",
         "rawType": "float64",
         "type": "float"
        }
       ],
       "conversionMethod": "pd.DataFrame",
       "ref": "9e46f8c3-14ce-419a-880e-cc1ac22808bc",
       "rows": [
        [
         "0",
         "1",
         "1",
         "Chips and Fresh Tomato Salsa",
         null,
         "2.39",
         "2.39"
        ],
        [
         "1",
         "1",
         "1",
         "Izze",
         "[Clementine]",
         "3.39",
         "3.39"
        ],
        [
         "2",
         "1",
         "1",
         "Nantucket Nectar",
         "[Apple]",
         "3.39",
         "3.39"
        ],
        [
         "3",
         "1",
         "1",
         "Chips and Tomatillo-Green Chili Salsa",
         null,
         "2.39",
         "2.39"
        ],
        [
         "4",
         "2",
         "2",
         "Chicken Bowl",
         "[Tomatillo-Red Chili Salsa (Hot), [Black Beans, Rice, Cheese, Sour Cream]]",
         "16.98",
         "8.49"
        ]
       ],
       "shape": {
        "columns": 6,
        "rows": 5
       }
      },
      "text/html": [
       "<div>\n",
       "<style scoped>\n",
       "    .dataframe tbody tr th:only-of-type {\n",
       "        vertical-align: middle;\n",
       "    }\n",
       "\n",
       "    .dataframe tbody tr th {\n",
       "        vertical-align: top;\n",
       "    }\n",
       "\n",
       "    .dataframe thead th {\n",
       "        text-align: right;\n",
       "    }\n",
       "</style>\n",
       "<table border=\"1\" class=\"dataframe\">\n",
       "  <thead>\n",
       "    <tr style=\"text-align: right;\">\n",
       "      <th></th>\n",
       "      <th>order_id</th>\n",
       "      <th>quantity</th>\n",
       "      <th>item_name</th>\n",
       "      <th>choice_description</th>\n",
       "      <th>item_price</th>\n",
       "      <th>unit_price</th>\n",
       "    </tr>\n",
       "  </thead>\n",
       "  <tbody>\n",
       "    <tr>\n",
       "      <th>0</th>\n",
       "      <td>1</td>\n",
       "      <td>1</td>\n",
       "      <td>Chips and Fresh Tomato Salsa</td>\n",
       "      <td>NaN</td>\n",
       "      <td>2.39</td>\n",
       "      <td>2.39</td>\n",
       "    </tr>\n",
       "    <tr>\n",
       "      <th>1</th>\n",
       "      <td>1</td>\n",
       "      <td>1</td>\n",
       "      <td>Izze</td>\n",
       "      <td>[Clementine]</td>\n",
       "      <td>3.39</td>\n",
       "      <td>3.39</td>\n",
       "    </tr>\n",
       "    <tr>\n",
       "      <th>2</th>\n",
       "      <td>1</td>\n",
       "      <td>1</td>\n",
       "      <td>Nantucket Nectar</td>\n",
       "      <td>[Apple]</td>\n",
       "      <td>3.39</td>\n",
       "      <td>3.39</td>\n",
       "    </tr>\n",
       "    <tr>\n",
       "      <th>3</th>\n",
       "      <td>1</td>\n",
       "      <td>1</td>\n",
       "      <td>Chips and Tomatillo-Green Chili Salsa</td>\n",
       "      <td>NaN</td>\n",
       "      <td>2.39</td>\n",
       "      <td>2.39</td>\n",
       "    </tr>\n",
       "    <tr>\n",
       "      <th>4</th>\n",
       "      <td>2</td>\n",
       "      <td>2</td>\n",
       "      <td>Chicken Bowl</td>\n",
       "      <td>[Tomatillo-Red Chili Salsa (Hot), [Black Beans...</td>\n",
       "      <td>16.98</td>\n",
       "      <td>8.49</td>\n",
       "    </tr>\n",
       "  </tbody>\n",
       "</table>\n",
       "</div>"
      ],
      "text/plain": [
       "   order_id  quantity                              item_name  \\\n",
       "0         1         1           Chips and Fresh Tomato Salsa   \n",
       "1         1         1                                   Izze   \n",
       "2         1         1                       Nantucket Nectar   \n",
       "3         1         1  Chips and Tomatillo-Green Chili Salsa   \n",
       "4         2         2                           Chicken Bowl   \n",
       "\n",
       "                                  choice_description  item_price  unit_price  \n",
       "0                                                NaN        2.39        2.39  \n",
       "1                                       [Clementine]        3.39        3.39  \n",
       "2                                            [Apple]        3.39        3.39  \n",
       "3                                                NaN        2.39        2.39  \n",
       "4  [Tomatillo-Red Chili Salsa (Hot), [Black Beans...       16.98        8.49  "
      ]
     },
     "execution_count": 38,
     "metadata": {},
     "output_type": "execute_result"
    }
   ],
   "source": [
    "chipo[\"unit_price\"] = chipo[\"item_price\"]/chipo[\"quantity\"]\n",
    "chipo.head()"
   ]
  },
  {
   "cell_type": "code",
   "execution_count": 39,
   "metadata": {},
   "outputs": [
    {
     "data": {
      "text/plain": [
       "'Steak Salad Bowl'"
      ]
     },
     "execution_count": 39,
     "metadata": {},
     "output_type": "execute_result"
    }
   ],
   "source": [
    "chipo[chipo[\"unit_price\"] ==chipo[\"unit_price\"].max()][\"item_name\"].values[0]"
   ]
  },
  {
   "cell_type": "code",
   "execution_count": 8,
   "metadata": {},
   "outputs": [
    {
     "data": {
      "text/plain": [
       "item_name\n",
       "Chicken Bowl                             726\n",
       "Chicken Burrito                          553\n",
       "Chips and Guacamole                      479\n",
       "Steak Burrito                            368\n",
       "Canned Soft Drink                        301\n",
       "Chips                                    211\n",
       "Steak Bowl                               211\n",
       "Bottled Water                            162\n",
       "Chicken Soft Tacos                       115\n",
       "Chips and Fresh Tomato Salsa             110\n",
       "Chicken Salad Bowl                       110\n",
       "Canned Soda                              104\n",
       "Side of Chips                            101\n",
       "Veggie Burrito                            95\n",
       "Barbacoa Burrito                          91\n",
       "Veggie Bowl                               85\n",
       "Carnitas Bowl                             68\n",
       "Barbacoa Bowl                             66\n",
       "Carnitas Burrito                          59\n",
       "Steak Soft Tacos                          55\n",
       "6 Pack Soft Drink                         54\n",
       "Chips and Tomatillo Red Chili Salsa       48\n",
       "Chicken Crispy Tacos                      47\n",
       "Chips and Tomatillo Green Chili Salsa     43\n",
       "Carnitas Soft Tacos                       40\n",
       "Steak Crispy Tacos                        35\n",
       "Chips and Tomatillo-Green Chili Salsa     31\n",
       "Steak Salad Bowl                          29\n",
       "Nantucket Nectar                          27\n",
       "Barbacoa Soft Tacos                       25\n",
       "Chips and Roasted Chili Corn Salsa        22\n",
       "Izze                                      20\n",
       "Chips and Tomatillo-Red Chili Salsa       20\n",
       "Veggie Salad Bowl                         18\n",
       "Chips and Roasted Chili-Corn Salsa        18\n",
       "Barbacoa Crispy Tacos                     11\n",
       "Barbacoa Salad Bowl                       10\n",
       "Chicken Salad                              9\n",
       "Veggie Soft Tacos                          7\n",
       "Carnitas Crispy Tacos                      7\n",
       "Burrito                                    6\n",
       "Carnitas Salad Bowl                        6\n",
       "Veggie Salad                               6\n",
       "Steak Salad                                4\n",
       "Crispy Tacos                               2\n",
       "Bowl                                       2\n",
       "Salad                                      2\n",
       "Chips and Mild Fresh Tomato Salsa          1\n",
       "Veggie Crispy Tacos                        1\n",
       "Carnitas Salad                             1\n",
       "Name: count, dtype: int64"
      ]
     },
     "execution_count": 8,
     "metadata": {},
     "output_type": "execute_result"
    }
   ],
   "source": [
    "chipo[\"item_name\"].value_counts()"
   ]
  },
  {
   "cell_type": "code",
   "execution_count": 9,
   "metadata": {},
   "outputs": [
    {
     "data": {
      "application/vnd.microsoft.datawrangler.viewer.v0+json": {
       "columns": [
        {
         "name": "index",
         "rawType": "int64",
         "type": "integer"
        },
        {
         "name": "order_id",
         "rawType": "int64",
         "type": "integer"
        },
        {
         "name": "quantity",
         "rawType": "int64",
         "type": "integer"
        },
        {
         "name": "item_name",
         "rawType": "object",
         "type": "string"
        },
        {
         "name": "choice_description",
         "rawType": "object",
         "type": "string"
        },
        {
         "name": "item_price",
         "rawType": "float64",
         "type": "float"
        }
       ],
       "conversionMethod": "pd.DataFrame",
       "ref": "36d629e6-9702-4ea3-b5bc-eb2a6f29676f",
       "rows": [
        [
         "4",
         "2",
         "2",
         "Chicken Bowl",
         "[Tomatillo-Red Chili Salsa (Hot), [Black Beans, Rice, Cheese, Sour Cream]]",
         "16.98"
        ],
        [
         "5",
         "3",
         "1",
         "Chicken Bowl",
         "[Fresh Tomato Salsa (Mild), [Rice, Cheese, Sour Cream, Guacamole, Lettuce]]",
         "10.98"
        ],
        [
         "13",
         "7",
         "1",
         "Chicken Bowl",
         "[Fresh Tomato Salsa, [Fajita Vegetables, Rice, Cheese, Sour Cream, Guacamole]]",
         "11.25"
        ],
        [
         "19",
         "10",
         "1",
         "Chicken Bowl",
         "[Tomatillo Red Chili Salsa, [Fajita Vegetables, Black Beans, Sour Cream, Cheese, Lettuce]]",
         "8.75"
        ],
        [
         "26",
         "13",
         "1",
         "Chicken Bowl",
         "[Roasted Chili Corn Salsa (Medium), [Pinto Beans, Rice, Fajita Veggies, Cheese, Sour Cream, Lettuce]]",
         "8.49"
        ],
        [
         "42",
         "20",
         "1",
         "Chicken Bowl",
         "[Roasted Chili Corn Salsa, [Rice, Black Beans, Cheese, Sour Cream, Guacamole, Lettuce]]",
         "11.25"
        ],
        [
         "76",
         "34",
         "1",
         "Chicken Bowl",
         "[Fresh Tomato Salsa, [Rice, Black Beans, Pinto Beans, Cheese, Lettuce]]",
         "8.75"
        ],
        [
         "78",
         "34",
         "1",
         "Chicken Bowl",
         "[Fresh Tomato Salsa, [Rice, Black Beans, Cheese, Sour Cream, Lettuce]]",
         "8.75"
        ],
        [
         "99",
         "44",
         "1",
         "Chicken Bowl",
         "[Tomatillo Red Chili Salsa, [Rice, Fajita Vegetables, Sour Cream, Lettuce]]",
         "8.75"
        ],
        [
         "110",
         "49",
         "1",
         "Chicken Bowl",
         "[Tomatillo Red Chili Salsa, [Rice, Black Beans, Cheese, Sour Cream, Lettuce]]",
         "8.75"
        ],
        [
         "123",
         "54",
         "1",
         "Chicken Bowl",
         "[Fresh Tomato Salsa, [Guacamole, Cheese, Sour Cream, Fajita Vegetables, Rice]]",
         "11.25"
        ],
        [
         "138",
         "62",
         "1",
         "Chicken Bowl",
         "[Fresh Tomato Salsa, [Rice, Fajita Vegetables, Sour Cream, Cheese, Guacamole]]",
         "11.25"
        ],
        [
         "140",
         "63",
         "1",
         "Chicken Bowl",
         "[Tomatillo Green Chili Salsa, [Rice, Sour Cream, Cheese, Guacamole]]",
         "11.25"
        ],
        [
         "142",
         "64",
         "1",
         "Chicken Bowl",
         "[Fresh Tomato Salsa, [Fajita Vegetables, Rice, Black Beans, Cheese, Guacamole, Lettuce]]",
         "11.25"
        ],
        [
         "154",
         "70",
         "2",
         "Chicken Bowl",
         "[Fresh Tomato Salsa, [Fajita Vegetables, Rice, Lettuce]]",
         "17.5"
        ],
        [
         "160",
         "73",
         "1",
         "Chicken Bowl",
         "[Fresh Tomato Salsa (Mild), [Black Beans, Rice, Fajita Veggies, Cheese, Sour Cream, Lettuce]]",
         "8.49"
        ],
        [
         "176",
         "79",
         "1",
         "Chicken Bowl",
         "[Roasted Chili Corn Salsa (Medium), [Black Beans, Rice, Fajita Veggies, Cheese, Sour Cream, Guacamole, Lettuce]]",
         "10.98"
        ],
        [
         "182",
         "82",
         "1",
         "Chicken Bowl",
         "[Fresh Tomato Salsa, [Rice, Black Beans, Sour Cream]]",
         "8.75"
        ],
        [
         "193",
         "86",
         "1",
         "Chicken Bowl",
         "[Fresh Tomato Salsa, [Rice, Cheese, Sour Cream]]",
         "8.75"
        ],
        [
         "199",
         "89",
         "1",
         "Chicken Bowl",
         "[[Roasted Chili Corn Salsa (Medium), Tomatillo-Red Chili Salsa (Hot)], [Black Beans, Rice, Fajita Veggies, Guacamole, Lettuce]]",
         "10.98"
        ],
        [
         "206",
         "92",
         "1",
         "Chicken Bowl",
         "[Fresh Tomato Salsa, [Rice, Cheese, Lettuce]]",
         "8.75"
        ],
        [
         "209",
         "93",
         "1",
         "Chicken Bowl",
         "[Roasted Chili Corn Salsa, [Fajita Vegetables, Rice, Black Beans, Cheese, Sour Cream, Guacamole, Lettuce]]",
         "11.25"
        ],
        [
         "211",
         "93",
         "1",
         "Chicken Bowl",
         "[Roasted Chili Corn Salsa, [Fajita Vegetables, Rice, Black Beans, Pinto Beans, Cheese, Sour Cream, Guacamole, Lettuce]]",
         "11.25"
        ],
        [
         "218",
         "96",
         "1",
         "Chicken Bowl",
         "[Tomatillo Green Chili Salsa, [Rice, Black Beans, Cheese, Sour Cream]]",
         "8.75"
        ],
        [
         "220",
         "97",
         "1",
         "Chicken Bowl",
         "[Roasted Chili Corn Salsa, [Rice, Black Beans, Cheese, Sour Cream]]",
         "8.75"
        ],
        [
         "224",
         "98",
         "1",
         "Chicken Bowl",
         "[Tomatillo Green Chili Salsa, [Rice, Pinto Beans, Sour Cream, Lettuce]]",
         "8.75"
        ],
        [
         "231",
         "102",
         "1",
         "Chicken Bowl",
         "[Fresh Tomato Salsa, [Fajita Vegetables, Rice, Black Beans, Cheese, Sour Cream, Lettuce]]",
         "8.75"
        ],
        [
         "252",
         "110",
         "1",
         "Chicken Bowl",
         "[Tomatillo Red Chili Salsa, [Rice, Cheese, Lettuce]]",
         "8.75"
        ],
        [
         "257",
         "111",
         "1",
         "Chicken Bowl",
         "[Fresh Tomato Salsa, [Rice, Black Beans, Cheese]]",
         "8.75"
        ],
        [
         "282",
         "124",
         "2",
         "Chicken Bowl",
         "[Fresh Tomato Salsa, [Rice, Black Beans, Cheese, Sour Cream]]",
         "17.5"
        ],
        [
         "284",
         "124",
         "1",
         "Chicken Bowl",
         "[Fresh Tomato Salsa, [Rice, Cheese, Sour Cream]]",
         "8.75"
        ],
        [
         "290",
         "126",
         "1",
         "Chicken Bowl",
         "[Roasted Chili Corn Salsa, [Fajita Vegetables, Rice, Black Beans, Guacamole, Lettuce]]",
         "11.25"
        ],
        [
         "291",
         "127",
         "1",
         "Chicken Bowl",
         "[Tomatillo Green Chili Salsa, [Rice, Sour Cream, Guacamole, Lettuce]]",
         "11.25"
        ],
        [
         "301",
         "131",
         "1",
         "Chicken Bowl",
         "[Fresh Tomato Salsa (Mild), [Rice, Fajita Veggies, Cheese, Sour Cream, Lettuce]]",
         "8.49"
        ],
        [
         "303",
         "132",
         "1",
         "Chicken Bowl",
         "[Fresh Tomato Salsa, [Rice, Black Beans, Cheese, Sour Cream, Guacamole, Lettuce]]",
         "11.25"
        ],
        [
         "304",
         "132",
         "1",
         "Chicken Bowl",
         "[Fresh Tomato Salsa, [Rice, Black Beans, Cheese, Sour Cream, Lettuce]]",
         "8.75"
        ],
        [
         "312",
         "135",
         "1",
         "Chicken Bowl",
         "[Fresh Tomato Salsa, [Rice, Black Beans, Cheese, Sour Cream]]",
         "8.75"
        ],
        [
         "319",
         "139",
         "1",
         "Chicken Bowl",
         "[Fresh Tomato Salsa, [Fajita Vegetables, Rice, Black Beans, Sour Cream]]",
         "8.75"
        ],
        [
         "327",
         "143",
         "1",
         "Chicken Bowl",
         "[Tomatillo Red Chili Salsa, [Rice, Cheese]]",
         "8.75"
        ],
        [
         "348",
         "150",
         "1",
         "Chicken Bowl",
         "[Tomatillo-Red Chili Salsa (Hot), [Rice, Fajita Veggies, Cheese, Sour Cream, Lettuce]]",
         "8.49"
        ],
        [
         "371",
         "161",
         "1",
         "Chicken Bowl",
         "[Fresh Tomato Salsa, [Rice, Cheese, Sour Cream]]",
         "8.75"
        ],
        [
         "379",
         "165",
         "1",
         "Chicken Bowl",
         "[Fresh Tomato Salsa, [Rice, Black Beans, Cheese, Sour Cream, Guacamole]]",
         "11.25"
        ],
        [
         "407",
         "177",
         "1",
         "Chicken Bowl",
         "[Tomatillo Red Chili Salsa, [Rice, Black Beans, Cheese, Sour Cream, Guacamole, Lettuce]]",
         "11.25"
        ],
        [
         "409",
         "178",
         "3",
         "Chicken Bowl",
         "[[Fresh Tomato Salsa (Mild), Tomatillo-Green Chili Salsa (Medium), Roasted Chili Corn Salsa (Medium)], [Black Beans, Rice, Fajita Veggies, Cheese, Guacamole, Lettuce]]",
         "32.94"
        ],
        [
         "411",
         "179",
         "1",
         "Chicken Bowl",
         "[Tomatillo Green Chili Salsa, [Sour Cream, Cheese, Guacamole]]",
         "11.25"
        ],
        [
         "415",
         "181",
         "2",
         "Chicken Bowl",
         "[Tomatillo Red Chili Salsa]",
         "17.5"
        ],
        [
         "422",
         "184",
         "1",
         "Chicken Bowl",
         "[Roasted Chili Corn Salsa, [Rice, Lettuce]]",
         "8.75"
        ],
        [
         "449",
         "195",
         "1",
         "Chicken Bowl",
         "[Fresh Tomato Salsa, [Rice, Black Beans, Cheese, Lettuce]]",
         "8.75"
        ],
        [
         "454",
         "195",
         "1",
         "Chicken Bowl",
         "[Fresh Tomato Salsa, [Rice, Black Beans, Cheese, Sour Cream, Guacamole, Lettuce]]",
         "11.25"
        ],
        [
         "456",
         "196",
         "1",
         "Chicken Bowl",
         "[Fresh Tomato Salsa, [Rice, Black Beans, Cheese]]",
         "8.75"
        ]
       ],
       "shape": {
        "columns": 5,
        "rows": 726
       }
      },
      "text/html": [
       "<div>\n",
       "<style scoped>\n",
       "    .dataframe tbody tr th:only-of-type {\n",
       "        vertical-align: middle;\n",
       "    }\n",
       "\n",
       "    .dataframe tbody tr th {\n",
       "        vertical-align: top;\n",
       "    }\n",
       "\n",
       "    .dataframe thead th {\n",
       "        text-align: right;\n",
       "    }\n",
       "</style>\n",
       "<table border=\"1\" class=\"dataframe\">\n",
       "  <thead>\n",
       "    <tr style=\"text-align: right;\">\n",
       "      <th></th>\n",
       "      <th>order_id</th>\n",
       "      <th>quantity</th>\n",
       "      <th>item_name</th>\n",
       "      <th>choice_description</th>\n",
       "      <th>item_price</th>\n",
       "    </tr>\n",
       "  </thead>\n",
       "  <tbody>\n",
       "    <tr>\n",
       "      <th>4</th>\n",
       "      <td>2</td>\n",
       "      <td>2</td>\n",
       "      <td>Chicken Bowl</td>\n",
       "      <td>[Tomatillo-Red Chili Salsa (Hot), [Black Beans...</td>\n",
       "      <td>16.98</td>\n",
       "    </tr>\n",
       "    <tr>\n",
       "      <th>5</th>\n",
       "      <td>3</td>\n",
       "      <td>1</td>\n",
       "      <td>Chicken Bowl</td>\n",
       "      <td>[Fresh Tomato Salsa (Mild), [Rice, Cheese, Sou...</td>\n",
       "      <td>10.98</td>\n",
       "    </tr>\n",
       "    <tr>\n",
       "      <th>13</th>\n",
       "      <td>7</td>\n",
       "      <td>1</td>\n",
       "      <td>Chicken Bowl</td>\n",
       "      <td>[Fresh Tomato Salsa, [Fajita Vegetables, Rice,...</td>\n",
       "      <td>11.25</td>\n",
       "    </tr>\n",
       "    <tr>\n",
       "      <th>19</th>\n",
       "      <td>10</td>\n",
       "      <td>1</td>\n",
       "      <td>Chicken Bowl</td>\n",
       "      <td>[Tomatillo Red Chili Salsa, [Fajita Vegetables...</td>\n",
       "      <td>8.75</td>\n",
       "    </tr>\n",
       "    <tr>\n",
       "      <th>26</th>\n",
       "      <td>13</td>\n",
       "      <td>1</td>\n",
       "      <td>Chicken Bowl</td>\n",
       "      <td>[Roasted Chili Corn Salsa (Medium), [Pinto Bea...</td>\n",
       "      <td>8.49</td>\n",
       "    </tr>\n",
       "    <tr>\n",
       "      <th>...</th>\n",
       "      <td>...</td>\n",
       "      <td>...</td>\n",
       "      <td>...</td>\n",
       "      <td>...</td>\n",
       "      <td>...</td>\n",
       "    </tr>\n",
       "    <tr>\n",
       "      <th>4590</th>\n",
       "      <td>1825</td>\n",
       "      <td>1</td>\n",
       "      <td>Chicken Bowl</td>\n",
       "      <td>[Roasted Chili Corn Salsa, [Rice, Black Beans,...</td>\n",
       "      <td>11.25</td>\n",
       "    </tr>\n",
       "    <tr>\n",
       "      <th>4591</th>\n",
       "      <td>1825</td>\n",
       "      <td>1</td>\n",
       "      <td>Chicken Bowl</td>\n",
       "      <td>[Tomatillo Red Chili Salsa, [Rice, Black Beans...</td>\n",
       "      <td>8.75</td>\n",
       "    </tr>\n",
       "    <tr>\n",
       "      <th>4595</th>\n",
       "      <td>1826</td>\n",
       "      <td>1</td>\n",
       "      <td>Chicken Bowl</td>\n",
       "      <td>[Tomatillo Green Chili Salsa, [Rice, Black Bea...</td>\n",
       "      <td>8.75</td>\n",
       "    </tr>\n",
       "    <tr>\n",
       "      <th>4599</th>\n",
       "      <td>1827</td>\n",
       "      <td>1</td>\n",
       "      <td>Chicken Bowl</td>\n",
       "      <td>[Roasted Chili Corn Salsa, [Cheese, Lettuce]]</td>\n",
       "      <td>8.75</td>\n",
       "    </tr>\n",
       "    <tr>\n",
       "      <th>4604</th>\n",
       "      <td>1828</td>\n",
       "      <td>1</td>\n",
       "      <td>Chicken Bowl</td>\n",
       "      <td>[Fresh Tomato Salsa, [Rice, Black Beans, Chees...</td>\n",
       "      <td>8.75</td>\n",
       "    </tr>\n",
       "  </tbody>\n",
       "</table>\n",
       "<p>726 rows × 5 columns</p>\n",
       "</div>"
      ],
      "text/plain": [
       "      order_id  quantity     item_name  \\\n",
       "4            2         2  Chicken Bowl   \n",
       "5            3         1  Chicken Bowl   \n",
       "13           7         1  Chicken Bowl   \n",
       "19          10         1  Chicken Bowl   \n",
       "26          13         1  Chicken Bowl   \n",
       "...        ...       ...           ...   \n",
       "4590      1825         1  Chicken Bowl   \n",
       "4591      1825         1  Chicken Bowl   \n",
       "4595      1826         1  Chicken Bowl   \n",
       "4599      1827         1  Chicken Bowl   \n",
       "4604      1828         1  Chicken Bowl   \n",
       "\n",
       "                                     choice_description  item_price  \n",
       "4     [Tomatillo-Red Chili Salsa (Hot), [Black Beans...       16.98  \n",
       "5     [Fresh Tomato Salsa (Mild), [Rice, Cheese, Sou...       10.98  \n",
       "13    [Fresh Tomato Salsa, [Fajita Vegetables, Rice,...       11.25  \n",
       "19    [Tomatillo Red Chili Salsa, [Fajita Vegetables...        8.75  \n",
       "26    [Roasted Chili Corn Salsa (Medium), [Pinto Bea...        8.49  \n",
       "...                                                 ...         ...  \n",
       "4590  [Roasted Chili Corn Salsa, [Rice, Black Beans,...       11.25  \n",
       "4591  [Tomatillo Red Chili Salsa, [Rice, Black Beans...        8.75  \n",
       "4595  [Tomatillo Green Chili Salsa, [Rice, Black Bea...        8.75  \n",
       "4599      [Roasted Chili Corn Salsa, [Cheese, Lettuce]]        8.75  \n",
       "4604  [Fresh Tomato Salsa, [Rice, Black Beans, Chees...        8.75  \n",
       "\n",
       "[726 rows x 5 columns]"
      ]
     },
     "execution_count": 9,
     "metadata": {},
     "output_type": "execute_result"
    }
   ],
   "source": [
    "chipo[chipo[\"item_name\"] == \"Chicken Bowl\"]"
   ]
  },
  {
   "cell_type": "code",
   "execution_count": 10,
   "metadata": {},
   "outputs": [
    {
     "data": {
      "text/plain": [
       "726"
      ]
     },
     "execution_count": 10,
     "metadata": {},
     "output_type": "execute_result"
    }
   ],
   "source": [
    "len(chipo[chipo[\"item_name\"] == \"Chicken Bowl\"])"
   ]
  },
  {
   "cell_type": "code",
   "execution_count": 11,
   "metadata": {},
   "outputs": [
    {
     "data": {
      "text/plain": [
       "array(['Chips and Fresh Tomato Salsa', 'Izze', 'Nantucket Nectar',\n",
       "       'Chips and Tomatillo-Green Chili Salsa', 'Chicken Bowl',\n",
       "       'Side of Chips', 'Steak Burrito', 'Steak Soft Tacos',\n",
       "       'Chips and Guacamole', 'Chicken Crispy Tacos',\n",
       "       'Chicken Soft Tacos', 'Chicken Burrito', 'Canned Soda',\n",
       "       'Barbacoa Burrito', 'Carnitas Burrito', 'Carnitas Bowl',\n",
       "       'Bottled Water', 'Chips and Tomatillo Green Chili Salsa',\n",
       "       'Barbacoa Bowl', 'Chips', 'Chicken Salad Bowl', 'Steak Bowl',\n",
       "       'Barbacoa Soft Tacos', 'Veggie Burrito', 'Veggie Bowl',\n",
       "       'Steak Crispy Tacos', 'Chips and Tomatillo Red Chili Salsa',\n",
       "       'Barbacoa Crispy Tacos', 'Veggie Salad Bowl',\n",
       "       'Chips and Roasted Chili-Corn Salsa',\n",
       "       'Chips and Roasted Chili Corn Salsa', 'Carnitas Soft Tacos',\n",
       "       'Chicken Salad', 'Canned Soft Drink', 'Steak Salad Bowl',\n",
       "       '6 Pack Soft Drink', 'Chips and Tomatillo-Red Chili Salsa', 'Bowl',\n",
       "       'Burrito', 'Crispy Tacos', 'Carnitas Crispy Tacos', 'Steak Salad',\n",
       "       'Chips and Mild Fresh Tomato Salsa', 'Veggie Soft Tacos',\n",
       "       'Carnitas Salad Bowl', 'Barbacoa Salad Bowl', 'Salad',\n",
       "       'Veggie Crispy Tacos', 'Veggie Salad', 'Carnitas Salad'],\n",
       "      dtype=object)"
      ]
     },
     "execution_count": 11,
     "metadata": {},
     "output_type": "execute_result"
    }
   ],
   "source": [
    "chipo[\"item_name\"].unique()"
   ]
  },
  {
   "cell_type": "code",
   "execution_count": 12,
   "metadata": {},
   "outputs": [
    {
     "data": {
      "application/vnd.microsoft.datawrangler.viewer.v0+json": {
       "columns": [
        {
         "name": "index",
         "rawType": "int64",
         "type": "integer"
        },
        {
         "name": "order_id",
         "rawType": "int64",
         "type": "integer"
        },
        {
         "name": "quantity",
         "rawType": "int64",
         "type": "integer"
        },
        {
         "name": "item_name",
         "rawType": "object",
         "type": "string"
        },
        {
         "name": "choice_description",
         "rawType": "object",
         "type": "string"
        },
        {
         "name": "item_price",
         "rawType": "float64",
         "type": "float"
        }
       ],
       "conversionMethod": "pd.DataFrame",
       "ref": "92b07fdf-5327-4ea4-bc65-582126f20015",
       "rows": [
        [
         "16",
         "8",
         "1",
         "Chicken Burrito",
         "[Tomatillo-Green Chili Salsa (Medium), [Pinto Beans, Cheese, Sour Cream]]",
         "8.49"
        ],
        [
         "17",
         "9",
         "1",
         "Chicken Burrito",
         "[Fresh Tomato Salsa (Mild), [Black Beans, Rice, Cheese, Sour Cream, Lettuce]]",
         "8.49"
        ],
        [
         "23",
         "12",
         "1",
         "Chicken Burrito",
         "[[Tomatillo-Green Chili Salsa (Medium), Tomatillo-Red Chili Salsa (Hot)], [Pinto Beans, Rice, Cheese, Sour Cream, Guacamole, Lettuce]]",
         "10.98"
        ],
        [
         "29",
         "15",
         "1",
         "Chicken Burrito",
         "[Tomatillo-Green Chili Salsa (Medium), [Pinto Beans, Rice, Cheese, Sour Cream]]",
         "8.49"
        ],
        [
         "45",
         "21",
         "1",
         "Chicken Burrito",
         "[Tomatillo-Red Chili Salsa (Hot), [Black Beans, Fajita Veggies, Cheese, Sour Cream, Guacamole, Lettuce]]",
         "10.98"
        ],
        [
         "52",
         "24",
         "1",
         "Chicken Burrito",
         "[Roasted Chili Corn Salsa (Medium), [Black Beans, Rice, Fajita Veggies, Cheese, Sour Cream, Guacamole, Lettuce]]",
         "10.98"
        ],
        [
         "63",
         "28",
         "1",
         "Chicken Burrito",
         "[Fresh Tomato Salsa, [Rice, Black Beans, Cheese]]",
         "8.75"
        ],
        [
         "68",
         "30",
         "1",
         "Chicken Burrito",
         "[Tomatillo-Red Chili Salsa (Hot), [Black Beans, Fajita Veggies, Cheese, Sour Cream, Guacamole, Lettuce]]",
         "10.98"
        ],
        [
         "73",
         "33",
         "1",
         "Chicken Burrito",
         "[Tomatillo Red Chili Salsa, [Rice, Black Beans, Cheese, Sour Cream]]",
         "8.75"
        ],
        [
         "82",
         "36",
         "1",
         "Chicken Burrito",
         "[Fresh Tomato Salsa, [Rice, Black Beans, Cheese, Sour Cream, Lettuce]]",
         "8.75"
        ],
        [
         "83",
         "37",
         "1",
         "Chicken Burrito",
         "[Tomatillo Green Chili Salsa, [Rice, Black Beans, Sour Cream, Cheese]]",
         "8.75"
        ],
        [
         "98",
         "43",
         "1",
         "Chicken Burrito",
         "[Tomatillo Red Chili Salsa, [Rice, Black Beans, Cheese]]",
         "8.75"
        ],
        [
         "114",
         "50",
         "1",
         "Chicken Burrito",
         "[Tomatillo-Green Chili Salsa (Medium), [Pinto Beans, Rice, Cheese, Sour Cream]]",
         "8.49"
        ],
        [
         "116",
         "51",
         "1",
         "Chicken Burrito",
         "[[Tomatillo-Red Chili Salsa (Hot), Tomatillo-Green Chili Salsa (Medium)], [Rice, Pinto Beans, Cheese, Lettuce]]",
         "8.49"
        ],
        [
         "120",
         "53",
         "1",
         "Chicken Burrito",
         "[Tomatillo Red Chili Salsa, [Rice, Black Beans, Sour Cream, Cheese, Lettuce]]",
         "8.75"
        ],
        [
         "132",
         "58",
         "1",
         "Chicken Burrito",
         "[Tomatillo-Green Chili Salsa (Medium), [Pinto Beans, Rice, Cheese, Sour Cream]]",
         "8.49"
        ],
        [
         "134",
         "59",
         "1",
         "Chicken Burrito",
         "[Roasted Chili Corn Salsa (Medium), [Rice, Black Beans, Sour Cream, Guacamole]]",
         "10.98"
        ],
        [
         "150",
         "68",
         "2",
         "Chicken Burrito",
         "[Tomatillo Red Chili Salsa, [Rice, Black Beans, Sour Cream, Cheese, Lettuce]]",
         "17.5"
        ],
        [
         "152",
         "69",
         "1",
         "Chicken Burrito",
         "[Tomatillo-Green Chili Salsa (Medium), [Pinto Beans, Rice, Cheese, Sour Cream]]",
         "8.49"
        ],
        [
         "159",
         "72",
         "1",
         "Chicken Burrito",
         "[[Roasted Chili Corn Salsa (Medium), Tomatillo-Red Chili Salsa (Hot)], [Black Beans, Rice, Fajita Veggies, Cheese, Sour Cream, Guacamole, Lettuce]]",
         "10.98"
        ],
        [
         "161",
         "73",
         "1",
         "Chicken Burrito",
         "[[Roasted Chili Corn Salsa (Medium), Tomatillo-Red Chili Salsa (Hot)], [Black Beans, Rice, Fajita Veggies, Cheese, Guacamole, Lettuce]]",
         "10.98"
        ],
        [
         "167",
         "75",
         "1",
         "Chicken Burrito",
         "[Tomatillo Red Chili Salsa, [Rice, Black Beans, Cheese, Guacamole, Lettuce]]",
         "11.25"
        ],
        [
         "169",
         "75",
         "1",
         "Chicken Burrito",
         "[Tomatillo Red Chili Salsa, [Rice, Cheese, Sour Cream]]",
         "8.75"
        ],
        [
         "170",
         "76",
         "1",
         "Chicken Burrito",
         "[[Tomatillo-Red Chili Salsa (Hot), Fresh Tomato Salsa (Mild)], [Rice, Black Beans, Cheese, Lettuce]]",
         "8.49"
        ],
        [
         "172",
         "77",
         "1",
         "Chicken Burrito",
         "[Tomatillo-Red Chili Salsa (Hot), [Black Beans, Rice, Cheese, Sour Cream, Lettuce]]",
         "8.49"
        ],
        [
         "174",
         "78",
         "1",
         "Chicken Burrito",
         "[Tomatillo-Green Chili Salsa (Medium), Lettuce]",
         "8.49"
        ],
        [
         "178",
         "81",
         "1",
         "Chicken Burrito",
         "[Tomatillo-Green Chili Salsa (Medium), [Rice, Fajita Veggies, Cheese, Sour Cream]]",
         "8.49"
        ],
        [
         "188",
         "84",
         "1",
         "Chicken Burrito",
         "[Roasted Chili Corn Salsa (Medium), [Rice, Cheese, Sour Cream, Lettuce]]",
         "8.49"
        ],
        [
         "189",
         "84",
         "1",
         "Chicken Burrito",
         "[Roasted Chili Corn Salsa (Medium), [Rice, Cheese, Lettuce]]",
         "8.49"
        ],
        [
         "197",
         "88",
         "1",
         "Chicken Burrito",
         "[Tomatillo-Green Chili Salsa (Medium), [Pinto Beans, Rice, Cheese, Sour Cream]]",
         "8.49"
        ],
        [
         "202",
         "90",
         "1",
         "Chicken Burrito",
         "[Tomatillo Red Chili Salsa, [Rice, Black Beans, Sour Cream, Cheese, Lettuce, Guacamole]]",
         "11.25"
        ],
        [
         "203",
         "90",
         "1",
         "Chicken Burrito",
         "[Tomatillo Green Chili Salsa, [Rice, Pinto Beans, Sour Cream, Cheese, Lettuce]]",
         "8.75"
        ],
        [
         "204",
         "91",
         "1",
         "Chicken Burrito",
         "[Tomatillo-Red Chili Salsa (Hot), [Black Beans, Rice, Cheese, Sour Cream, Lettuce]]",
         "8.49"
        ],
        [
         "216",
         "96",
         "1",
         "Chicken Burrito",
         "[Tomatillo Red Chili Salsa, [Rice, Black Beans, Cheese, Sour Cream]]",
         "8.75"
        ],
        [
         "241",
         "105",
         "2",
         "Chicken Burrito",
         "[Tomatillo Red Chili Salsa, [Rice, Black Beans, Cheese, Sour Cream, Lettuce]]",
         "17.5"
        ],
        [
         "242",
         "106",
         "1",
         "Chicken Burrito",
         "[Fresh Tomato Salsa, [Rice, Pinto Beans, Cheese, Sour Cream]]",
         "8.75"
        ],
        [
         "244",
         "107",
         "1",
         "Chicken Burrito",
         "[Roasted Chili Corn Salsa (Medium), [Rice, Fajita Veggies, Cheese, Sour Cream, Guacamole, Lettuce]]",
         "10.98"
        ],
        [
         "270",
         "118",
         "1",
         "Chicken Burrito",
         "[Tomatillo-Green Chili Salsa (Medium), [Pinto Beans, Rice, Cheese, Sour Cream]]",
         "8.49"
        ],
        [
         "272",
         "119",
         "1",
         "Chicken Burrito",
         "[[Fresh Tomato Salsa (Mild), Roasted Chili Corn Salsa (Medium)], [Pinto Beans, Rice, Fajita Veggies, Cheese, Sour Cream, Lettuce]]",
         "8.49"
        ],
        [
         "273",
         "119",
         "1",
         "Chicken Burrito",
         "[Roasted Chili Corn Salsa (Medium), [Black Beans, Rice, Cheese, Sour Cream, Lettuce]]",
         "8.49"
        ],
        [
         "274",
         "120",
         "1",
         "Chicken Burrito",
         "[Tomatillo-Red Chili Salsa (Hot), [Black Beans, Rice, Cheese]]",
         "8.49"
        ],
        [
         "276",
         "121",
         "1",
         "Chicken Burrito",
         "[Fresh Tomato Salsa (Mild), [Black Beans, Rice, Cheese, Sour Cream]]",
         "8.49"
        ],
        [
         "289",
         "126",
         "1",
         "Chicken Burrito",
         "[Fresh Tomato Salsa, [Rice, Cheese, Sour Cream]]",
         "8.75"
        ],
        [
         "308",
         "134",
         "1",
         "Chicken Burrito",
         "[Tomatillo Red Chili Salsa, [Rice, Black Beans, Cheese, Lettuce]]",
         "8.75"
        ],
        [
         "309",
         "134",
         "1",
         "Chicken Burrito",
         "[Tomatillo Red Chili Salsa, [Rice, Black Beans, Cheese, Sour Cream, Guacamole, Lettuce]]",
         "11.25"
        ],
        [
         "316",
         "138",
         "1",
         "Chicken Burrito",
         "[Roasted Chili Corn Salsa (Medium), [Rice, Fajita Veggies, Cheese]]",
         "8.49"
        ],
        [
         "323",
         "141",
         "1",
         "Chicken Burrito",
         "[Roasted Chili Corn Salsa (Medium), [Pinto Beans, Black Beans, Rice, Fajita Veggies, Cheese, Sour Cream, Lettuce]]",
         "8.49"
        ],
        [
         "330",
         "144",
         "1",
         "Chicken Burrito",
         "[Fresh Tomato Salsa, [Rice, Black Beans, Cheese, Sour Cream, Guacamole, Lettuce]]",
         "11.25"
        ],
        [
         "338",
         "148",
         "1",
         "Chicken Burrito",
         "[Tomatillo Red Chili Salsa, [Rice, Black Beans, Sour Cream, Cheese, Lettuce, Guacamole]]",
         "11.25"
        ],
        [
         "339",
         "148",
         "1",
         "Chicken Burrito",
         "[Tomatillo Green Chili Salsa, [Rice, Pinto Beans, Sour Cream, Cheese, Lettuce]]",
         "8.75"
        ]
       ],
       "shape": {
        "columns": 5,
        "rows": 553
       }
      },
      "text/html": [
       "<div>\n",
       "<style scoped>\n",
       "    .dataframe tbody tr th:only-of-type {\n",
       "        vertical-align: middle;\n",
       "    }\n",
       "\n",
       "    .dataframe tbody tr th {\n",
       "        vertical-align: top;\n",
       "    }\n",
       "\n",
       "    .dataframe thead th {\n",
       "        text-align: right;\n",
       "    }\n",
       "</style>\n",
       "<table border=\"1\" class=\"dataframe\">\n",
       "  <thead>\n",
       "    <tr style=\"text-align: right;\">\n",
       "      <th></th>\n",
       "      <th>order_id</th>\n",
       "      <th>quantity</th>\n",
       "      <th>item_name</th>\n",
       "      <th>choice_description</th>\n",
       "      <th>item_price</th>\n",
       "    </tr>\n",
       "  </thead>\n",
       "  <tbody>\n",
       "    <tr>\n",
       "      <th>16</th>\n",
       "      <td>8</td>\n",
       "      <td>1</td>\n",
       "      <td>Chicken Burrito</td>\n",
       "      <td>[Tomatillo-Green Chili Salsa (Medium), [Pinto ...</td>\n",
       "      <td>8.49</td>\n",
       "    </tr>\n",
       "    <tr>\n",
       "      <th>17</th>\n",
       "      <td>9</td>\n",
       "      <td>1</td>\n",
       "      <td>Chicken Burrito</td>\n",
       "      <td>[Fresh Tomato Salsa (Mild), [Black Beans, Rice...</td>\n",
       "      <td>8.49</td>\n",
       "    </tr>\n",
       "    <tr>\n",
       "      <th>23</th>\n",
       "      <td>12</td>\n",
       "      <td>1</td>\n",
       "      <td>Chicken Burrito</td>\n",
       "      <td>[[Tomatillo-Green Chili Salsa (Medium), Tomati...</td>\n",
       "      <td>10.98</td>\n",
       "    </tr>\n",
       "    <tr>\n",
       "      <th>29</th>\n",
       "      <td>15</td>\n",
       "      <td>1</td>\n",
       "      <td>Chicken Burrito</td>\n",
       "      <td>[Tomatillo-Green Chili Salsa (Medium), [Pinto ...</td>\n",
       "      <td>8.49</td>\n",
       "    </tr>\n",
       "    <tr>\n",
       "      <th>45</th>\n",
       "      <td>21</td>\n",
       "      <td>1</td>\n",
       "      <td>Chicken Burrito</td>\n",
       "      <td>[Tomatillo-Red Chili Salsa (Hot), [Black Beans...</td>\n",
       "      <td>10.98</td>\n",
       "    </tr>\n",
       "    <tr>\n",
       "      <th>...</th>\n",
       "      <td>...</td>\n",
       "      <td>...</td>\n",
       "      <td>...</td>\n",
       "      <td>...</td>\n",
       "      <td>...</td>\n",
       "    </tr>\n",
       "    <tr>\n",
       "      <th>4556</th>\n",
       "      <td>1811</td>\n",
       "      <td>1</td>\n",
       "      <td>Chicken Burrito</td>\n",
       "      <td>[Tomatillo Green Chili Salsa, [Fajita Vegetabl...</td>\n",
       "      <td>11.25</td>\n",
       "    </tr>\n",
       "    <tr>\n",
       "      <th>4558</th>\n",
       "      <td>1812</td>\n",
       "      <td>1</td>\n",
       "      <td>Chicken Burrito</td>\n",
       "      <td>[Fresh Tomato Salsa, [Rice, Black Beans, Chees...</td>\n",
       "      <td>8.75</td>\n",
       "    </tr>\n",
       "    <tr>\n",
       "      <th>4559</th>\n",
       "      <td>1812</td>\n",
       "      <td>1</td>\n",
       "      <td>Chicken Burrito</td>\n",
       "      <td>[Tomatillo Red Chili Salsa, [Rice, Cheese, Gua...</td>\n",
       "      <td>11.25</td>\n",
       "    </tr>\n",
       "    <tr>\n",
       "      <th>4566</th>\n",
       "      <td>1816</td>\n",
       "      <td>1</td>\n",
       "      <td>Chicken Burrito</td>\n",
       "      <td>[Roasted Chili Corn Salsa, [Pinto Beans, Chees...</td>\n",
       "      <td>8.75</td>\n",
       "    </tr>\n",
       "    <tr>\n",
       "      <th>4569</th>\n",
       "      <td>1817</td>\n",
       "      <td>1</td>\n",
       "      <td>Chicken Burrito</td>\n",
       "      <td>[Fresh Tomato Salsa, [Fajita Vegetables, Rice]]</td>\n",
       "      <td>8.75</td>\n",
       "    </tr>\n",
       "  </tbody>\n",
       "</table>\n",
       "<p>553 rows × 5 columns</p>\n",
       "</div>"
      ],
      "text/plain": [
       "      order_id  quantity        item_name  \\\n",
       "16           8         1  Chicken Burrito   \n",
       "17           9         1  Chicken Burrito   \n",
       "23          12         1  Chicken Burrito   \n",
       "29          15         1  Chicken Burrito   \n",
       "45          21         1  Chicken Burrito   \n",
       "...        ...       ...              ...   \n",
       "4556      1811         1  Chicken Burrito   \n",
       "4558      1812         1  Chicken Burrito   \n",
       "4559      1812         1  Chicken Burrito   \n",
       "4566      1816         1  Chicken Burrito   \n",
       "4569      1817         1  Chicken Burrito   \n",
       "\n",
       "                                     choice_description  item_price  \n",
       "16    [Tomatillo-Green Chili Salsa (Medium), [Pinto ...        8.49  \n",
       "17    [Fresh Tomato Salsa (Mild), [Black Beans, Rice...        8.49  \n",
       "23    [[Tomatillo-Green Chili Salsa (Medium), Tomati...       10.98  \n",
       "29    [Tomatillo-Green Chili Salsa (Medium), [Pinto ...        8.49  \n",
       "45    [Tomatillo-Red Chili Salsa (Hot), [Black Beans...       10.98  \n",
       "...                                                 ...         ...  \n",
       "4556  [Tomatillo Green Chili Salsa, [Fajita Vegetabl...       11.25  \n",
       "4558  [Fresh Tomato Salsa, [Rice, Black Beans, Chees...        8.75  \n",
       "4559  [Tomatillo Red Chili Salsa, [Rice, Cheese, Gua...       11.25  \n",
       "4566  [Roasted Chili Corn Salsa, [Pinto Beans, Chees...        8.75  \n",
       "4569    [Fresh Tomato Salsa, [Fajita Vegetables, Rice]]        8.75  \n",
       "\n",
       "[553 rows x 5 columns]"
      ]
     },
     "execution_count": 12,
     "metadata": {},
     "output_type": "execute_result"
    }
   ],
   "source": [
    "chipo[chipo[\"item_name\"]==\"Chicken Burrito\"]"
   ]
  },
  {
   "attachments": {},
   "cell_type": "markdown",
   "metadata": {},
   "source": [
    "### Step 4. How many products cost more than $10.00?"
   ]
  },
  {
   "cell_type": "code",
   "execution_count": 40,
   "metadata": {},
   "outputs": [
    {
     "data": {
      "application/vnd.microsoft.datawrangler.viewer.v0+json": {
       "columns": [
        {
         "name": "index",
         "rawType": "int64",
         "type": "integer"
        },
        {
         "name": "order_id",
         "rawType": "int64",
         "type": "integer"
        },
        {
         "name": "quantity",
         "rawType": "int64",
         "type": "integer"
        },
        {
         "name": "item_name",
         "rawType": "object",
         "type": "string"
        },
        {
         "name": "choice_description",
         "rawType": "object",
         "type": "string"
        },
        {
         "name": "item_price",
         "rawType": "float64",
         "type": "float"
        },
        {
         "name": "unit_price",
         "rawType": "float64",
         "type": "float"
        }
       ],
       "conversionMethod": "pd.DataFrame",
       "ref": "6681f9ca-3ce0-4744-bc54-4952982f3f55",
       "rows": [
        [
         "5",
         "3",
         "1",
         "Chicken Bowl",
         "[Fresh Tomato Salsa (Mild), [Rice, Cheese, Sour Cream, Guacamole, Lettuce]]",
         "10.98",
         "10.98"
        ],
        [
         "7",
         "4",
         "1",
         "Steak Burrito",
         "[Tomatillo Red Chili Salsa, [Fajita Vegetables, Black Beans, Pinto Beans, Cheese, Sour Cream, Guacamole, Lettuce]]",
         "11.75",
         "11.75"
        ],
        [
         "13",
         "7",
         "1",
         "Chicken Bowl",
         "[Fresh Tomato Salsa, [Fajita Vegetables, Rice, Cheese, Sour Cream, Guacamole]]",
         "11.25",
         "11.25"
        ],
        [
         "23",
         "12",
         "1",
         "Chicken Burrito",
         "[[Tomatillo-Green Chili Salsa (Medium), Tomatillo-Red Chili Salsa (Hot)], [Pinto Beans, Rice, Cheese, Sour Cream, Guacamole, Lettuce]]",
         "10.98",
         "10.98"
        ],
        [
         "39",
         "19",
         "1",
         "Barbacoa Bowl",
         "[Roasted Chili Corn Salsa, [Fajita Vegetables, Rice, Black Beans, Cheese, Sour Cream, Guacamole, Lettuce]]",
         "11.75",
         "11.75"
        ],
        [
         "42",
         "20",
         "1",
         "Chicken Bowl",
         "[Roasted Chili Corn Salsa, [Rice, Black Beans, Cheese, Sour Cream, Guacamole, Lettuce]]",
         "11.25",
         "11.25"
        ],
        [
         "43",
         "20",
         "1",
         "Steak Burrito",
         "[Fresh Tomato Salsa, [Rice, Pinto Beans, Cheese, Sour Cream, Guacamole, Lettuce]]",
         "11.75",
         "11.75"
        ],
        [
         "45",
         "21",
         "1",
         "Chicken Burrito",
         "[Tomatillo-Red Chili Salsa (Hot), [Black Beans, Fajita Veggies, Cheese, Sour Cream, Guacamole, Lettuce]]",
         "10.98",
         "10.98"
        ],
        [
         "52",
         "24",
         "1",
         "Chicken Burrito",
         "[Roasted Chili Corn Salsa (Medium), [Black Beans, Rice, Fajita Veggies, Cheese, Sour Cream, Guacamole, Lettuce]]",
         "10.98",
         "10.98"
        ],
        [
         "57",
         "26",
         "1",
         "Veggie Burrito",
         "[Tomatillo Red Chili Salsa, [Fajita Vegetables, Rice, Black Beans, Cheese, Sour Cream, Guacamole, Lettuce]]",
         "11.25",
         "11.25"
        ],
        [
         "58",
         "27",
         "1",
         "Barbacoa Bowl",
         "[Roasted Chili Corn Salsa, [Fajita Vegetables, Rice, Black Beans, Cheese, Sour Cream, Guacamole, Lettuce]]",
         "11.75",
         "11.75"
        ],
        [
         "62",
         "28",
         "1",
         "Veggie Bowl",
         "[Fresh Tomato Salsa, [Fajita Vegetables, Rice, Black Beans, Cheese, Sour Cream, Guacamole, Lettuce]]",
         "11.25",
         "11.25"
        ],
        [
         "68",
         "30",
         "1",
         "Chicken Burrito",
         "[Tomatillo-Red Chili Salsa (Hot), [Black Beans, Fajita Veggies, Cheese, Sour Cream, Guacamole, Lettuce]]",
         "10.98",
         "10.98"
        ],
        [
         "79",
         "35",
         "1",
         "Chicken Soft Tacos",
         "[Roasted Chili Corn Salsa, [Rice, Cheese, Lettuce, Guacamole]]",
         "11.25",
         "11.25"
        ],
        [
         "90",
         "40",
         "1",
         "Steak Bowl",
         "[Fresh Tomato Salsa, [Rice, Black Beans, Cheese, Sour Cream, Guacamole]]",
         "11.75",
         "11.75"
        ],
        [
         "91",
         "40",
         "1",
         "Steak Bowl",
         "[Fresh Tomato Salsa, [Fajita Vegetables, Cheese, Sour Cream, Guacamole]]",
         "11.75",
         "11.75"
        ],
        [
         "93",
         "41",
         "1",
         "Carnitas Burrito",
         "[Roasted Chili Corn Salsa, [Sour Cream, Guacamole]]",
         "11.75",
         "11.75"
        ],
        [
         "97",
         "43",
         "1",
         "Carnitas Bowl",
         "[Fresh Tomato Salsa, [Fajita Vegetables, Rice, Black Beans, Cheese, Guacamole, Lettuce]]",
         "11.75",
         "11.75"
        ],
        [
         "123",
         "54",
         "1",
         "Chicken Bowl",
         "[Fresh Tomato Salsa, [Guacamole, Cheese, Sour Cream, Fajita Vegetables, Rice]]",
         "11.25",
         "11.25"
        ],
        [
         "130",
         "57",
         "1",
         "Barbacoa Burrito",
         "[Roasted Chili Corn Salsa, [Rice, Pinto Beans, Cheese, Guacamole, Lettuce]]",
         "11.75",
         "11.75"
        ],
        [
         "134",
         "59",
         "1",
         "Chicken Burrito",
         "[Roasted Chili Corn Salsa (Medium), [Rice, Black Beans, Sour Cream, Guacamole]]",
         "10.98",
         "10.98"
        ],
        [
         "135",
         "60",
         "2",
         "Chicken Salad Bowl",
         "[Tomatillo Green Chili Salsa, [Sour Cream, Cheese, Guacamole]]",
         "22.5",
         "11.25"
        ],
        [
         "136",
         "61",
         "1",
         "Barbacoa Bowl",
         "[Tomatillo Red Chili Salsa, [Fajita Vegetables, Rice, Black Beans, Cheese, Sour Cream, Guacamole, Lettuce]]",
         "11.75",
         "11.75"
        ],
        [
         "138",
         "62",
         "1",
         "Chicken Bowl",
         "[Fresh Tomato Salsa, [Rice, Fajita Vegetables, Sour Cream, Cheese, Guacamole]]",
         "11.25",
         "11.25"
        ],
        [
         "140",
         "63",
         "1",
         "Chicken Bowl",
         "[Tomatillo Green Chili Salsa, [Rice, Sour Cream, Cheese, Guacamole]]",
         "11.25",
         "11.25"
        ],
        [
         "142",
         "64",
         "1",
         "Chicken Bowl",
         "[Fresh Tomato Salsa, [Fajita Vegetables, Rice, Black Beans, Cheese, Guacamole, Lettuce]]",
         "11.25",
         "11.25"
        ],
        [
         "143",
         "64",
         "1",
         "Veggie Bowl",
         "[Tomatillo Red Chili Salsa, [Fajita Vegetables, Black Beans, Cheese, Guacamole, Lettuce]]",
         "11.25",
         "11.25"
        ],
        [
         "144",
         "65",
         "1",
         "Barbacoa Burrito",
         "[Tomatillo Red Chili Salsa, [Rice, Sour Cream, Cheese, Guacamole]]",
         "11.75",
         "11.75"
        ],
        [
         "147",
         "66",
         "1",
         "Steak Burrito",
         "[Tomatillo-Green Chili Salsa (Medium), [Rice, Black Beans, Sour Cream, Guacamole]]",
         "11.48",
         "11.48"
        ],
        [
         "157",
         "71",
         "1",
         "Veggie Bowl",
         "[Tomatillo Red Chili Salsa, [Fajita Vegetables, Rice, Black Beans, Cheese, Guacamole, Lettuce]]",
         "11.25",
         "11.25"
        ],
        [
         "158",
         "71",
         "1",
         "Steak Burrito",
         "[Tomatillo Green Chili Salsa, [Rice, Cheese, Guacamole, Lettuce]]",
         "11.75",
         "11.75"
        ],
        [
         "159",
         "72",
         "1",
         "Chicken Burrito",
         "[[Roasted Chili Corn Salsa (Medium), Tomatillo-Red Chili Salsa (Hot)], [Black Beans, Rice, Fajita Veggies, Cheese, Sour Cream, Guacamole, Lettuce]]",
         "10.98",
         "10.98"
        ],
        [
         "161",
         "73",
         "1",
         "Chicken Burrito",
         "[[Roasted Chili Corn Salsa (Medium), Tomatillo-Red Chili Salsa (Hot)], [Black Beans, Rice, Fajita Veggies, Cheese, Guacamole, Lettuce]]",
         "10.98",
         "10.98"
        ],
        [
         "163",
         "74",
         "1",
         "Carnitas Bowl",
         "[Roasted Chili Corn Salsa (Medium), [Pinto Beans, Rice, Fajita Veggies, Cheese, Sour Cream, Guacamole, Lettuce]]",
         "11.48",
         "11.48"
        ],
        [
         "167",
         "75",
         "1",
         "Chicken Burrito",
         "[Tomatillo Red Chili Salsa, [Rice, Black Beans, Cheese, Guacamole, Lettuce]]",
         "11.25",
         "11.25"
        ],
        [
         "168",
         "75",
         "1",
         "Barbacoa Crispy Tacos",
         "[Tomatillo Red Chili Salsa, [Rice, Black Beans, Cheese, Sour Cream, Guacamole]]",
         "11.75",
         "11.75"
        ],
        [
         "176",
         "79",
         "1",
         "Chicken Bowl",
         "[Roasted Chili Corn Salsa (Medium), [Black Beans, Rice, Fajita Veggies, Cheese, Sour Cream, Guacamole, Lettuce]]",
         "10.98",
         "10.98"
        ],
        [
         "177",
         "80",
         "1",
         "Steak Burrito",
         "[Fresh Tomato Salsa (Mild), [Rice, Black Beans, Sour Cream, Guacamole]]",
         "11.48",
         "11.48"
        ],
        [
         "186",
         "83",
         "1",
         "Veggie Salad Bowl",
         "[Fresh Tomato Salsa, [Fajita Vegetables, Rice, Black Beans, Cheese, Sour Cream, Guacamole, Lettuce]]",
         "11.25",
         "11.25"
        ],
        [
         "187",
         "84",
         "1",
         "Steak Bowl",
         "[Fresh Tomato Salsa (Mild), [Rice, Fajita Veggies, Guacamole, Lettuce]]",
         "11.48",
         "11.48"
        ],
        [
         "192",
         "86",
         "1",
         "Veggie Bowl",
         "[Roasted Chili Corn Salsa, [Fajita Vegetables, Rice, Cheese, Sour Cream, Guacamole, Lettuce]]",
         "11.25",
         "11.25"
        ],
        [
         "199",
         "89",
         "1",
         "Chicken Bowl",
         "[[Roasted Chili Corn Salsa (Medium), Tomatillo-Red Chili Salsa (Hot)], [Black Beans, Rice, Fajita Veggies, Guacamole, Lettuce]]",
         "10.98",
         "10.98"
        ],
        [
         "202",
         "90",
         "1",
         "Chicken Burrito",
         "[Tomatillo Red Chili Salsa, [Rice, Black Beans, Sour Cream, Cheese, Lettuce, Guacamole]]",
         "11.25",
         "11.25"
        ],
        [
         "209",
         "93",
         "1",
         "Chicken Bowl",
         "[Roasted Chili Corn Salsa, [Fajita Vegetables, Rice, Black Beans, Cheese, Sour Cream, Guacamole, Lettuce]]",
         "11.25",
         "11.25"
        ],
        [
         "210",
         "93",
         "1",
         "Veggie Bowl",
         "[Roasted Chili Corn Salsa, [Rice, Black Beans, Cheese, Sour Cream, Guacamole, Lettuce]]",
         "11.25",
         "11.25"
        ],
        [
         "211",
         "93",
         "1",
         "Chicken Bowl",
         "[Roasted Chili Corn Salsa, [Fajita Vegetables, Rice, Black Beans, Pinto Beans, Cheese, Sour Cream, Guacamole, Lettuce]]",
         "11.25",
         "11.25"
        ],
        [
         "213",
         "94",
         "2",
         "Chicken Salad Bowl",
         "[Fresh Tomato Salsa, [Fajita Vegetables, Pinto Beans, Guacamole]]",
         "22.5",
         "11.25"
        ],
        [
         "215",
         "95",
         "1",
         "Steak Bowl",
         "[Tomatillo Green Chili Salsa, [Fajita Vegetables, Rice, Black Beans, Cheese, Guacamole, Lettuce]]",
         "11.75",
         "11.75"
        ],
        [
         "225",
         "99",
         "1",
         "Veggie Burrito",
         "[Tomatillo Red Chili Salsa, [Black Beans, Cheese, Guacamole]]",
         "11.25",
         "11.25"
        ],
        [
         "234",
         "103",
         "1",
         "Steak Burrito",
         "[Tomatillo Red Chili Salsa, [Rice, Black Beans, Cheese, Sour Cream, Guacamole, Lettuce]]",
         "11.75",
         "11.75"
        ]
       ],
       "shape": {
        "columns": 6,
        "rows": 1034
       }
      },
      "text/html": [
       "<div>\n",
       "<style scoped>\n",
       "    .dataframe tbody tr th:only-of-type {\n",
       "        vertical-align: middle;\n",
       "    }\n",
       "\n",
       "    .dataframe tbody tr th {\n",
       "        vertical-align: top;\n",
       "    }\n",
       "\n",
       "    .dataframe thead th {\n",
       "        text-align: right;\n",
       "    }\n",
       "</style>\n",
       "<table border=\"1\" class=\"dataframe\">\n",
       "  <thead>\n",
       "    <tr style=\"text-align: right;\">\n",
       "      <th></th>\n",
       "      <th>order_id</th>\n",
       "      <th>quantity</th>\n",
       "      <th>item_name</th>\n",
       "      <th>choice_description</th>\n",
       "      <th>item_price</th>\n",
       "      <th>unit_price</th>\n",
       "    </tr>\n",
       "  </thead>\n",
       "  <tbody>\n",
       "    <tr>\n",
       "      <th>5</th>\n",
       "      <td>3</td>\n",
       "      <td>1</td>\n",
       "      <td>Chicken Bowl</td>\n",
       "      <td>[Fresh Tomato Salsa (Mild), [Rice, Cheese, Sou...</td>\n",
       "      <td>10.98</td>\n",
       "      <td>10.98</td>\n",
       "    </tr>\n",
       "    <tr>\n",
       "      <th>7</th>\n",
       "      <td>4</td>\n",
       "      <td>1</td>\n",
       "      <td>Steak Burrito</td>\n",
       "      <td>[Tomatillo Red Chili Salsa, [Fajita Vegetables...</td>\n",
       "      <td>11.75</td>\n",
       "      <td>11.75</td>\n",
       "    </tr>\n",
       "    <tr>\n",
       "      <th>13</th>\n",
       "      <td>7</td>\n",
       "      <td>1</td>\n",
       "      <td>Chicken Bowl</td>\n",
       "      <td>[Fresh Tomato Salsa, [Fajita Vegetables, Rice,...</td>\n",
       "      <td>11.25</td>\n",
       "      <td>11.25</td>\n",
       "    </tr>\n",
       "    <tr>\n",
       "      <th>23</th>\n",
       "      <td>12</td>\n",
       "      <td>1</td>\n",
       "      <td>Chicken Burrito</td>\n",
       "      <td>[[Tomatillo-Green Chili Salsa (Medium), Tomati...</td>\n",
       "      <td>10.98</td>\n",
       "      <td>10.98</td>\n",
       "    </tr>\n",
       "    <tr>\n",
       "      <th>39</th>\n",
       "      <td>19</td>\n",
       "      <td>1</td>\n",
       "      <td>Barbacoa Bowl</td>\n",
       "      <td>[Roasted Chili Corn Salsa, [Fajita Vegetables,...</td>\n",
       "      <td>11.75</td>\n",
       "      <td>11.75</td>\n",
       "    </tr>\n",
       "    <tr>\n",
       "      <th>...</th>\n",
       "      <td>...</td>\n",
       "      <td>...</td>\n",
       "      <td>...</td>\n",
       "      <td>...</td>\n",
       "      <td>...</td>\n",
       "      <td>...</td>\n",
       "    </tr>\n",
       "    <tr>\n",
       "      <th>4610</th>\n",
       "      <td>1830</td>\n",
       "      <td>1</td>\n",
       "      <td>Steak Burrito</td>\n",
       "      <td>[Fresh Tomato Salsa, [Rice, Sour Cream, Cheese...</td>\n",
       "      <td>11.75</td>\n",
       "      <td>11.75</td>\n",
       "    </tr>\n",
       "    <tr>\n",
       "      <th>4611</th>\n",
       "      <td>1830</td>\n",
       "      <td>1</td>\n",
       "      <td>Veggie Burrito</td>\n",
       "      <td>[Tomatillo Green Chili Salsa, [Rice, Fajita Ve...</td>\n",
       "      <td>11.25</td>\n",
       "      <td>11.25</td>\n",
       "    </tr>\n",
       "    <tr>\n",
       "      <th>4617</th>\n",
       "      <td>1833</td>\n",
       "      <td>1</td>\n",
       "      <td>Steak Burrito</td>\n",
       "      <td>[Fresh Tomato Salsa, [Rice, Black Beans, Sour ...</td>\n",
       "      <td>11.75</td>\n",
       "      <td>11.75</td>\n",
       "    </tr>\n",
       "    <tr>\n",
       "      <th>4618</th>\n",
       "      <td>1833</td>\n",
       "      <td>1</td>\n",
       "      <td>Steak Burrito</td>\n",
       "      <td>[Fresh Tomato Salsa, [Rice, Sour Cream, Cheese...</td>\n",
       "      <td>11.75</td>\n",
       "      <td>11.75</td>\n",
       "    </tr>\n",
       "    <tr>\n",
       "      <th>4619</th>\n",
       "      <td>1834</td>\n",
       "      <td>1</td>\n",
       "      <td>Chicken Salad Bowl</td>\n",
       "      <td>[Fresh Tomato Salsa, [Fajita Vegetables, Pinto...</td>\n",
       "      <td>11.25</td>\n",
       "      <td>11.25</td>\n",
       "    </tr>\n",
       "  </tbody>\n",
       "</table>\n",
       "<p>1034 rows × 6 columns</p>\n",
       "</div>"
      ],
      "text/plain": [
       "      order_id  quantity           item_name  \\\n",
       "5            3         1        Chicken Bowl   \n",
       "7            4         1       Steak Burrito   \n",
       "13           7         1        Chicken Bowl   \n",
       "23          12         1     Chicken Burrito   \n",
       "39          19         1       Barbacoa Bowl   \n",
       "...        ...       ...                 ...   \n",
       "4610      1830         1       Steak Burrito   \n",
       "4611      1830         1      Veggie Burrito   \n",
       "4617      1833         1       Steak Burrito   \n",
       "4618      1833         1       Steak Burrito   \n",
       "4619      1834         1  Chicken Salad Bowl   \n",
       "\n",
       "                                     choice_description  item_price  \\\n",
       "5     [Fresh Tomato Salsa (Mild), [Rice, Cheese, Sou...       10.98   \n",
       "7     [Tomatillo Red Chili Salsa, [Fajita Vegetables...       11.75   \n",
       "13    [Fresh Tomato Salsa, [Fajita Vegetables, Rice,...       11.25   \n",
       "23    [[Tomatillo-Green Chili Salsa (Medium), Tomati...       10.98   \n",
       "39    [Roasted Chili Corn Salsa, [Fajita Vegetables,...       11.75   \n",
       "...                                                 ...         ...   \n",
       "4610  [Fresh Tomato Salsa, [Rice, Sour Cream, Cheese...       11.75   \n",
       "4611  [Tomatillo Green Chili Salsa, [Rice, Fajita Ve...       11.25   \n",
       "4617  [Fresh Tomato Salsa, [Rice, Black Beans, Sour ...       11.75   \n",
       "4618  [Fresh Tomato Salsa, [Rice, Sour Cream, Cheese...       11.75   \n",
       "4619  [Fresh Tomato Salsa, [Fajita Vegetables, Pinto...       11.25   \n",
       "\n",
       "      unit_price  \n",
       "5          10.98  \n",
       "7          11.75  \n",
       "13         11.25  \n",
       "23         10.98  \n",
       "39         11.75  \n",
       "...          ...  \n",
       "4610       11.75  \n",
       "4611       11.25  \n",
       "4617       11.75  \n",
       "4618       11.75  \n",
       "4619       11.25  \n",
       "\n",
       "[1034 rows x 6 columns]"
      ]
     },
     "execution_count": 40,
     "metadata": {},
     "output_type": "execute_result"
    }
   ],
   "source": [
    "chipo[chipo[\"unit_price\"]>10]"
   ]
  },
  {
   "cell_type": "code",
   "execution_count": 44,
   "metadata": {},
   "outputs": [
    {
     "data": {
      "text/plain": [
       "array(['Chicken Bowl', 'Steak Burrito', 'Chicken Burrito',\n",
       "       'Barbacoa Bowl', 'Veggie Burrito', 'Veggie Bowl',\n",
       "       'Chicken Soft Tacos', 'Steak Bowl', 'Carnitas Burrito',\n",
       "       'Carnitas Bowl', 'Barbacoa Burrito', 'Chicken Salad Bowl',\n",
       "       'Barbacoa Crispy Tacos', 'Veggie Salad Bowl', 'Chicken Salad',\n",
       "       'Steak Salad Bowl', 'Chicken Crispy Tacos', 'Veggie Soft Tacos',\n",
       "       'Barbacoa Soft Tacos', 'Carnitas Crispy Tacos',\n",
       "       'Carnitas Salad Bowl', 'Barbacoa Salad Bowl', 'Steak Soft Tacos',\n",
       "       'Carnitas Soft Tacos', 'Steak Crispy Tacos'], dtype=object)"
      ]
     },
     "execution_count": 44,
     "metadata": {},
     "output_type": "execute_result"
    }
   ],
   "source": [
    "chipo[chipo[\"unit_price\"] > 10][\"item_name\"].unique()"
   ]
  },
  {
   "cell_type": "code",
   "execution_count": 48,
   "metadata": {},
   "outputs": [
    {
     "data": {
      "text/plain": [
       "25"
      ]
     },
     "execution_count": 48,
     "metadata": {},
     "output_type": "execute_result"
    }
   ],
   "source": [
    "chipo[chipo[\"unit_price\"] > 10][\"item_name\"].nunique()"
   ]
  },
  {
   "cell_type": "code",
   "execution_count": 45,
   "metadata": {},
   "outputs": [
    {
     "data": {
      "text/plain": [
       "25"
      ]
     },
     "execution_count": 45,
     "metadata": {},
     "output_type": "execute_result"
    }
   ],
   "source": [
    "len(chipo[chipo[\"unit_price\"] > 10][\"item_name\"].unique())"
   ]
  },
  {
   "cell_type": "code",
   "execution_count": 41,
   "metadata": {},
   "outputs": [
    {
     "data": {
      "text/plain": [
       "5       10.98\n",
       "7       11.75\n",
       "13      11.25\n",
       "23      10.98\n",
       "39      11.75\n",
       "        ...  \n",
       "4610    11.75\n",
       "4611    11.25\n",
       "4617    11.75\n",
       "4618    11.75\n",
       "4619    11.25\n",
       "Name: unit_price, Length: 1034, dtype: float64"
      ]
     },
     "execution_count": 41,
     "metadata": {},
     "output_type": "execute_result"
    }
   ],
   "source": [
    "chipo[chipo[\"unit_price\"]>10][\"unit_price\"]"
   ]
  },
  {
   "cell_type": "code",
   "execution_count": 42,
   "metadata": {},
   "outputs": [
    {
     "data": {
      "text/plain": [
       "np.float64(11773.029999999999)"
      ]
     },
     "execution_count": 42,
     "metadata": {},
     "output_type": "execute_result"
    }
   ],
   "source": [
    "chipo[chipo[\"unit_price\"]>10][\"unit_price\"].sum()"
   ]
  },
  {
   "attachments": {},
   "cell_type": "markdown",
   "metadata": {},
   "source": [
    "### Step 4.1: Y cuántos pedidos se han hecho con un producto de más de 10$? Es lo mismo?"
   ]
  },
  {
   "cell_type": "code",
   "execution_count": 50,
   "metadata": {},
   "outputs": [
    {
     "data": {
      "text/plain": [
       "787"
      ]
     },
     "execution_count": 50,
     "metadata": {},
     "output_type": "execute_result"
    }
   ],
   "source": [
    "len(chipo[chipo[\"unit_price\"]>10][\"order_id\"].unique())"
   ]
  },
  {
   "cell_type": "code",
   "execution_count": 52,
   "metadata": {},
   "outputs": [
    {
     "data": {
      "text/plain": [
       "787"
      ]
     },
     "execution_count": 52,
     "metadata": {},
     "output_type": "execute_result"
    }
   ],
   "source": [
    "chipo[chipo[\"unit_price\"] > 10][\"order_id\"].nunique()"
   ]
  },
  {
   "cell_type": "code",
   "execution_count": 51,
   "metadata": {},
   "outputs": [],
   "source": [
    "#chipo[(chipo[\"unit_price\"]>10) & ()]"
   ]
  },
  {
   "cell_type": "markdown",
   "metadata": {},
   "source": [
    "### Step 4.2: Y cuántos pedidos se han hecho de más de 10$? Es lo mismo?"
   ]
  },
  {
   "cell_type": "code",
   "execution_count": 27,
   "metadata": {},
   "outputs": [
    {
     "data": {
      "application/vnd.microsoft.datawrangler.viewer.v0+json": {
       "columns": [
        {
         "name": "index",
         "rawType": "int64",
         "type": "integer"
        },
        {
         "name": "order_id",
         "rawType": "int64",
         "type": "integer"
        },
        {
         "name": "quantity",
         "rawType": "int64",
         "type": "integer"
        },
        {
         "name": "item_name",
         "rawType": "object",
         "type": "string"
        },
        {
         "name": "choice_description",
         "rawType": "object",
         "type": "unknown"
        },
        {
         "name": "item_price",
         "rawType": "float64",
         "type": "float"
        }
       ],
       "conversionMethod": "pd.DataFrame",
       "ref": "9d0f410d-e250-44d9-9bbd-1d27c809458b",
       "rows": [
        [
         "0",
         "1",
         "1",
         "Chips and Fresh Tomato Salsa",
         null,
         "2.39"
        ],
        [
         "1",
         "1",
         "1",
         "Izze",
         "[Clementine]",
         "3.39"
        ],
        [
         "2",
         "1",
         "1",
         "Nantucket Nectar",
         "[Apple]",
         "3.39"
        ],
        [
         "3",
         "1",
         "1",
         "Chips and Tomatillo-Green Chili Salsa",
         null,
         "2.39"
        ],
        [
         "4",
         "2",
         "2",
         "Chicken Bowl",
         "[Tomatillo-Red Chili Salsa (Hot), [Black Beans, Rice, Cheese, Sour Cream]]",
         "16.98"
        ]
       ],
       "shape": {
        "columns": 5,
        "rows": 5
       }
      },
      "text/html": [
       "<div>\n",
       "<style scoped>\n",
       "    .dataframe tbody tr th:only-of-type {\n",
       "        vertical-align: middle;\n",
       "    }\n",
       "\n",
       "    .dataframe tbody tr th {\n",
       "        vertical-align: top;\n",
       "    }\n",
       "\n",
       "    .dataframe thead th {\n",
       "        text-align: right;\n",
       "    }\n",
       "</style>\n",
       "<table border=\"1\" class=\"dataframe\">\n",
       "  <thead>\n",
       "    <tr style=\"text-align: right;\">\n",
       "      <th></th>\n",
       "      <th>order_id</th>\n",
       "      <th>quantity</th>\n",
       "      <th>item_name</th>\n",
       "      <th>choice_description</th>\n",
       "      <th>item_price</th>\n",
       "    </tr>\n",
       "  </thead>\n",
       "  <tbody>\n",
       "    <tr>\n",
       "      <th>0</th>\n",
       "      <td>1</td>\n",
       "      <td>1</td>\n",
       "      <td>Chips and Fresh Tomato Salsa</td>\n",
       "      <td>NaN</td>\n",
       "      <td>2.39</td>\n",
       "    </tr>\n",
       "    <tr>\n",
       "      <th>1</th>\n",
       "      <td>1</td>\n",
       "      <td>1</td>\n",
       "      <td>Izze</td>\n",
       "      <td>[Clementine]</td>\n",
       "      <td>3.39</td>\n",
       "    </tr>\n",
       "    <tr>\n",
       "      <th>2</th>\n",
       "      <td>1</td>\n",
       "      <td>1</td>\n",
       "      <td>Nantucket Nectar</td>\n",
       "      <td>[Apple]</td>\n",
       "      <td>3.39</td>\n",
       "    </tr>\n",
       "    <tr>\n",
       "      <th>3</th>\n",
       "      <td>1</td>\n",
       "      <td>1</td>\n",
       "      <td>Chips and Tomatillo-Green Chili Salsa</td>\n",
       "      <td>NaN</td>\n",
       "      <td>2.39</td>\n",
       "    </tr>\n",
       "    <tr>\n",
       "      <th>4</th>\n",
       "      <td>2</td>\n",
       "      <td>2</td>\n",
       "      <td>Chicken Bowl</td>\n",
       "      <td>[Tomatillo-Red Chili Salsa (Hot), [Black Beans...</td>\n",
       "      <td>16.98</td>\n",
       "    </tr>\n",
       "  </tbody>\n",
       "</table>\n",
       "</div>"
      ],
      "text/plain": [
       "   order_id  quantity                              item_name  \\\n",
       "0         1         1           Chips and Fresh Tomato Salsa   \n",
       "1         1         1                                   Izze   \n",
       "2         1         1                       Nantucket Nectar   \n",
       "3         1         1  Chips and Tomatillo-Green Chili Salsa   \n",
       "4         2         2                           Chicken Bowl   \n",
       "\n",
       "                                  choice_description  item_price  \n",
       "0                                                NaN        2.39  \n",
       "1                                       [Clementine]        3.39  \n",
       "2                                            [Apple]        3.39  \n",
       "3                                                NaN        2.39  \n",
       "4  [Tomatillo-Red Chili Salsa (Hot), [Black Beans...       16.98  "
      ]
     },
     "execution_count": 27,
     "metadata": {},
     "output_type": "execute_result"
    }
   ],
   "source": [
    "chipo.head()"
   ]
  },
  {
   "cell_type": "markdown",
   "metadata": {},
   "source": [
    "El resultado debería ser el total de pedidos, ya que mirando el describe del conjunto obtenemos la siguiente información:\n"
   ]
  },
  {
   "cell_type": "code",
   "execution_count": 61,
   "metadata": {},
   "outputs": [
    {
     "data": {
      "text/plain": [
       "array([   1,    2,    3, ..., 1832, 1833, 1834], shape=(1834,))"
      ]
     },
     "execution_count": 61,
     "metadata": {},
     "output_type": "execute_result"
    }
   ],
   "source": [
    "ordenes_unicas = chipo[\"order_id\"].unique()\n",
    "mas_de_10 = 0\n",
    "ordenes_unicas"
   ]
  },
  {
   "cell_type": "code",
   "execution_count": 62,
   "metadata": {},
   "outputs": [
    {
     "name": "stdout",
     "output_type": "stream",
     "text": [
      "Orden 1, total: 11.56\n",
      "Orden 2, total: 16.98\n",
      "Orden 3, total: 12.67\n",
      "Orden 4, total: 21.0\n",
      "Orden 5, total: 13.7\n",
      "Orden 6, total: 17.5\n",
      "Orden 7, total: 15.7\n",
      "Orden 8, total: 10.88\n",
      "Orden 9, total: 10.67\n",
      "Orden 10, total: 13.2\n",
      "Orden 11, total: 12.38\n",
      "Orden 12, total: 14.370000000000001\n",
      "Orden 13, total: 10.88\n",
      "Orden 14, total: 10.08\n",
      "Orden 15, total: 10.88\n",
      "Orden 16, total: 10.68\n",
      "Orden 17, total: 10.08\n",
      "Orden 18, total: 24.9\n",
      "Orden 19, total: 13.9\n",
      "Orden 20, total: 36.2\n",
      "Orden 21, total: 23.36\n",
      "Orden 22, total: 12.98\n",
      "Orden 23, total: 11.17\n",
      "Orden 24, total: 12.07\n",
      "Orden 25, total: 11.38\n",
      "Orden 26, total: 20.5\n",
      "Orden 27, total: 13.9\n",
      "Orden 28, total: 33.7\n",
      "Orden 29, total: 17.98\n",
      "Orden 30, total: 23.36\n",
      "Orden 31, total: 10.68\n",
      "Orden 32, total: 12.98\n",
      "Orden 33, total: 13.2\n",
      "Orden 34, total: 28.4\n",
      "Orden 35, total: 13.4\n",
      "Orden 36, total: 18.0\n",
      "Orden 37, total: 18.0\n",
      "Orden 38, total: 18.57\n",
      "Orden 39, total: 12.2\n",
      "Orden 40, total: 32.75\n",
      "Orden 41, total: 16.2\n",
      "Orden 42, total: 13.7\n",
      "Orden 43, total: 20.5\n",
      "Orden 44, total: 13.2\n",
      "Orden 45, total: 21.97\n",
      "Orden 46, total: 11.88\n",
      "Orden 47, total: 10.08\n",
      "Orden 48, total: 13.7\n",
      "Orden 49, total: 16.15\n",
      "Orden 50, total: 10.88\n",
      "Orden 51, total: 18.57\n",
      "Orden 52, total: 12.98\n",
      "Orden 53, total: 22.45\n",
      "Orden 54, total: 15.7\n",
      "Orden 55, total: 10.08\n",
      "Orden 56, total: 16.65\n",
      "Orden 57, total: 16.2\n",
      "Orden 58, total: 10.88\n",
      "Orden 59, total: 10.98\n",
      "Orden 60, total: 22.5\n",
      "Orden 61, total: 16.2\n",
      "Orden 62, total: 15.7\n",
      "Orden 63, total: 15.7\n",
      "Orden 64, total: 22.5\n",
      "Orden 65, total: 25.45\n",
      "Orden 66, total: 11.48\n",
      "Orden 67, total: 19.67\n",
      "Orden 68, total: 21.95\n",
      "Orden 69, total: 10.88\n",
      "Orden 70, total: 21.95\n",
      "Orden 71, total: 27.45\n",
      "Orden 72, total: 10.98\n",
      "Orden 73, total: 21.65\n",
      "Orden 74, total: 22.36\n",
      "Orden 75, total: 36.2\n",
      "Orden 76, total: 10.67\n",
      "Orden 77, total: 11.88\n",
      "Orden 78, total: 17.48\n",
      "Orden 79, total: 10.98\n",
      "Orden 80, total: 11.48\n",
      "Orden 81, total: 10.67\n",
      "Orden 82, total: 20.95\n",
      "Orden 83, total: 24.95\n",
      "Orden 84, total: 28.46\n",
      "Orden 85, total: 11.38\n",
      "Orden 86, total: 22.95\n",
      "Orden 87, total: 10.08\n",
      "Orden 88, total: 10.88\n",
      "Orden 89, total: 16.060000000000002\n",
      "Orden 90, total: 20.0\n",
      "Orden 91, total: 11.88\n",
      "Orden 92, total: 20.15\n",
      "Orden 93, total: 38.2\n",
      "Orden 94, total: 22.5\n",
      "Orden 95, total: 16.2\n",
      "Orden 96, total: 35.0\n",
      "Orden 97, total: 20.15\n",
      "Orden 98, total: 22.3\n",
      "Orden 99, total: 13.4\n",
      "Orden 100, total: 10.08\n",
      "Orden 101, total: 12.98\n",
      "Orden 102, total: 14.649999999999999\n",
      "Orden 103, total: 47.9\n",
      "Orden 104, total: 12.2\n",
      "Orden 105, total: 17.5\n",
      "Orden 106, total: 18.0\n",
      "Orden 107, total: 10.98\n",
      "Orden 108, total: 21.25\n",
      "Orden 109, total: 12.07\n",
      "Orden 110, total: 36.0\n",
      "Orden 111, total: 17.5\n",
      "Orden 112, total: 17.98\n",
      "Orden 113, total: 10.08\n",
      "Orden 114, total: 13.0\n",
      "Orden 115, total: 11.38\n",
      "Orden 116, total: 12.2\n",
      "Orden 117, total: 12.98\n",
      "Orden 118, total: 10.88\n",
      "Orden 119, total: 16.98\n",
      "Orden 120, total: 10.18\n",
      "Orden 121, total: 12.48\n",
      "Orden 122, total: 11.77\n",
      "Orden 123, total: 23.78\n",
      "Orden 124, total: 28.4\n",
      "Orden 125, total: 31.7\n",
      "Orden 126, total: 20.0\n",
      "Orden 127, total: 12.5\n",
      "Orden 128, total: 24.95\n",
      "Orden 129, total: 29.990000000000002\n",
      "Orden 130, total: 11.38\n",
      "Orden 131, total: 10.88\n",
      "Orden 132, total: 22.15\n",
      "Orden 133, total: 10.68\n",
      "Orden 134, total: 22.15\n",
      "Orden 135, total: 13.2\n",
      "Orden 136, total: 17.48\n",
      "Orden 137, total: 17.5\n",
      "Orden 138, total: 10.67\n",
      "Orden 139, total: 12.15\n",
      "Orden 140, total: 11.08\n",
      "Orden 141, total: 16.98\n",
      "Orden 142, total: 11.38\n",
      "Orden 143, total: 12.4\n",
      "Orden 144, total: 13.4\n",
      "Orden 145, total: 16.98\n",
      "Orden 146, total: 21.0\n",
      "Orden 147, total: 13.0\n",
      "Orden 148, total: 30.939999999999998\n",
      "Orden 149, total: 30.4\n",
      "Orden 150, total: 13.06\n",
      "Orden 151, total: 10.67\n",
      "Orden 152, total: 22.16\n",
      "Orden 153, total: 17.5\n",
      "Orden 154, total: 18.189999999999998\n",
      "Orden 155, total: 15.770000000000001\n",
      "Orden 156, total: 17.48\n",
      "Orden 157, total: 13.4\n",
      "Orden 158, total: 14.2\n",
      "Orden 159, total: 12.5\n",
      "Orden 160, total: 10.08\n",
      "Orden 161, total: 17.5\n",
      "Orden 162, total: 12.2\n",
      "Orden 163, total: 13.25\n",
      "Orden 164, total: 10.08\n",
      "Orden 165, total: 13.75\n",
      "Orden 166, total: 25.15\n",
      "Orden 167, total: 10.68\n",
      "Orden 168, total: 18.240000000000002\n",
      "Orden 169, total: 18.0\n",
      "Orden 170, total: 16.95\n",
      "Orden 171, total: 15.7\n",
      "Orden 172, total: 17.48\n",
      "Orden 173, total: 17.48\n",
      "Orden 174, total: 12.5\n",
      "Orden 175, total: 13.0\n",
      "Orden 176, total: 25.45\n",
      "Orden 177, total: 13.4\n",
      "Orden 178, total: 32.94\n",
      "Orden 179, total: 12.5\n",
      "Orden 180, total: 14.26\n",
      "Orden 181, total: 17.5\n",
      "Orden 182, total: 20.19\n",
      "Orden 183, total: 18.0\n",
      "Orden 184, total: 31.849999999999998\n",
      "Orden 185, total: 17.5\n",
      "Orden 186, total: 37.33\n",
      "Orden 187, total: 10.68\n",
      "Orden 188, total: 10.08\n",
      "Orden 189, total: 14.370000000000001\n",
      "Orden 190, total: 10.08\n",
      "Orden 191, total: 18.0\n",
      "Orden 192, total: 27.9\n",
      "Orden 193, total: 22.2\n",
      "Orden 194, total: 17.48\n",
      "Orden 195, total: 81.0\n",
      "Orden 196, total: 24.2\n",
      "Orden 197, total: 10.18\n",
      "Orden 198, total: 23.0\n",
      "Orden 199, total: 21.95\n",
      "Orden 200, total: 12.48\n",
      "Orden 201, total: 12.48\n",
      "Orden 202, total: 14.26\n",
      "Orden 203, total: 12.75\n",
      "Orden 204, total: 12.27\n",
      "Orden 205, total: 109.9\n",
      "Orden 206, total: 29.95\n",
      "Orden 207, total: 24.95\n",
      "Orden 208, total: 12.48\n",
      "Orden 209, total: 18.5\n",
      "Orden 210, total: 20.5\n",
      "Orden 211, total: 23.0\n",
      "Orden 212, total: 26.0\n",
      "Orden 213, total: 17.48\n",
      "Orden 214, total: 14.8\n",
      "Orden 215, total: 25.349999999999998\n",
      "Orden 216, total: 13.2\n",
      "Orden 217, total: 22.200000000000003\n",
      "Orden 218, total: 12.98\n",
      "Orden 219, total: 10.68\n",
      "Orden 220, total: 17.5\n",
      "Orden 221, total: 17.5\n",
      "Orden 222, total: 25.45\n",
      "Orden 223, total: 27.25\n",
      "Orden 224, total: 12.48\n",
      "Orden 225, total: 25.7\n",
      "Orden 226, total: 22.45\n",
      "Orden 227, total: 24.45\n",
      "Orden 228, total: 10.98\n",
      "Orden 229, total: 22.16\n",
      "Orden 230, total: 38.19\n",
      "Orden 231, total: 45.1\n",
      "Orden 232, total: 12.2\n",
      "Orden 233, total: 29.75\n",
      "Orden 234, total: 31.2\n",
      "Orden 235, total: 35.25\n",
      "Orden 236, total: 18.5\n",
      "Orden 237, total: 26.150000000000002\n",
      "Orden 238, total: 21.0\n",
      "Orden 239, total: 13.4\n",
      "Orden 240, total: 22.45\n",
      "Orden 241, total: 10.98\n",
      "Orden 242, total: 20.5\n",
      "Orden 243, total: 22.5\n",
      "Orden 244, total: 13.7\n",
      "Orden 245, total: 11.48\n",
      "Orden 246, total: 10.18\n",
      "Orden 247, total: 32.25\n",
      "Orden 248, total: 16.2\n",
      "Orden 249, total: 13.2\n",
      "Orden 250, total: 21.28\n",
      "Orden 251, total: 12.95\n",
      "Orden 252, total: 18.0\n",
      "Orden 253, total: 23.78\n",
      "Orden 254, total: 23.549999999999997\n",
      "Orden 255, total: 12.48\n",
      "Orden 256, total: 12.07\n",
      "Orden 257, total: 13.2\n",
      "Orden 258, total: 27.9\n",
      "Orden 259, total: 18.0\n",
      "Orden 260, total: 12.48\n",
      "Orden 261, total: 22.5\n",
      "Orden 262, total: 12.5\n",
      "Orden 263, total: 17.5\n",
      "Orden 264, total: 24.990000000000002\n",
      "Orden 265, total: 21.95\n",
      "Orden 266, total: 12.48\n",
      "Orden 267, total: 10.08\n",
      "Orden 268, total: 10.88\n",
      "Orden 269, total: 13.17\n",
      "Orden 270, total: 13.25\n",
      "Orden 271, total: 20.45\n",
      "Orden 272, total: 13.2\n",
      "Orden 273, total: 20.5\n",
      "Orden 274, total: 10.18\n",
      "Orden 275, total: 12.48\n",
      "Orden 276, total: 30.96\n",
      "Orden 277, total: 16.95\n",
      "Orden 278, total: 14.97\n",
      "Orden 279, total: 21.8\n",
      "Orden 280, total: 12.48\n",
      "Orden 281, total: 13.7\n",
      "Orden 282, total: 25.5\n",
      "Orden 283, total: 13.4\n",
      "Orden 284, total: 31.2\n",
      "Orden 285, total: 11.38\n",
      "Orden 286, total: 14.45\n",
      "Orden 287, total: 19.66\n",
      "Orden 288, total: 11.76\n",
      "Orden 289, total: 12.95\n",
      "Orden 290, total: 12.75\n",
      "Orden 291, total: 13.45\n",
      "Orden 292, total: 12.48\n",
      "Orden 293, total: 11.48\n",
      "Orden 294, total: 12.48\n",
      "Orden 295, total: 12.5\n",
      "Orden 296, total: 10.68\n",
      "Orden 297, total: 12.5\n",
      "Orden 298, total: 15.24\n",
      "Orden 299, total: 20.95\n",
      "Orden 300, total: 20.5\n",
      "Orden 301, total: 19.669999999999998\n",
      "Orden 302, total: 12.48\n",
      "Orden 303, total: 17.5\n",
      "Orden 304, total: 35.5\n",
      "Orden 305, total: 21.75\n",
      "Orden 306, total: 18.240000000000002\n",
      "Orden 307, total: 12.48\n",
      "Orden 308, total: 13.4\n",
      "Orden 309, total: 23.14\n",
      "Orden 310, total: 10.68\n",
      "Orden 311, total: 30.96\n",
      "Orden 312, total: 20.65\n",
      "Orden 313, total: 14.8\n",
      "Orden 314, total: 17.5\n",
      "Orden 315, total: 13.7\n",
      "Orden 316, total: 12.5\n",
      "Orden 317, total: 24.25\n",
      "Orden 318, total: 12.48\n",
      "Orden 319, total: 25.97\n",
      "Orden 320, total: 12.15\n",
      "Orden 321, total: 10.67\n",
      "Orden 322, total: 12.95\n",
      "Orden 323, total: 12.65\n",
      "Orden 324, total: 12.5\n",
      "Orden 325, total: 15.7\n",
      "Orden 326, total: 35.15\n",
      "Orden 327, total: 22.5\n",
      "Orden 328, total: 14.97\n",
      "Orden 329, total: 14.97\n",
      "Orden 330, total: 10.68\n",
      "Orden 331, total: 18.0\n",
      "Orden 332, total: 10.08\n",
      "Orden 333, total: 12.2\n",
      "Orden 334, total: 18.0\n",
      "Orden 335, total: 12.48\n",
      "Orden 336, total: 17.5\n",
      "Orden 337, total: 22.5\n",
      "Orden 338, total: 28.320000000000004\n",
      "Orden 339, total: 11.08\n",
      "Orden 340, total: 13.2\n",
      "Orden 341, total: 11.08\n",
      "Orden 342, total: 12.48\n",
      "Orden 343, total: 54.05\n",
      "Orden 344, total: 25.97\n",
      "Orden 345, total: 16.15\n",
      "Orden 346, total: 30.2\n",
      "Orden 347, total: 15.7\n",
      "Orden 348, total: 16.98\n",
      "Orden 349, total: 10.88\n",
      "Orden 350, total: 15.0\n",
      "Orden 351, total: 13.7\n",
      "Orden 352, total: 22.95\n",
      "Orden 353, total: 18.0\n",
      "Orden 354, total: 18.0\n",
      "Orden 355, total: 18.5\n",
      "Orden 356, total: 20.47\n",
      "Orden 357, total: 22.5\n",
      "Orden 358, total: 24.25\n",
      "Orden 359, total: 12.15\n",
      "Orden 360, total: 21.25\n",
      "Orden 361, total: 12.75\n",
      "Orden 362, total: 22.5\n",
      "Orden 363, total: 24.64\n",
      "Orden 364, total: 13.2\n",
      "Orden 365, total: 12.5\n",
      "Orden 366, total: 26.75\n",
      "Orden 367, total: 23.5\n",
      "Orden 368, total: 16.98\n",
      "Orden 369, total: 23.96\n",
      "Orden 370, total: 13.2\n",
      "Orden 371, total: 10.68\n",
      "Orden 372, total: 20.5\n",
      "Orden 373, total: 15.7\n",
      "Orden 374, total: 13.0\n",
      "Orden 375, total: 14.7\n",
      "Orden 376, total: 20.16\n",
      "Orden 377, total: 26.97\n",
      "Orden 378, total: 10.18\n",
      "Orden 379, total: 38.95\n",
      "Orden 380, total: 24.15\n",
      "Orden 381, total: 20.37\n",
      "Orden 382, total: 12.58\n",
      "Orden 383, total: 13.2\n",
      "Orden 384, total: 30.9\n",
      "Orden 385, total: 10.18\n",
      "Orden 386, total: 16.98\n",
      "Orden 387, total: 33.5\n",
      "Orden 388, total: 10.08\n",
      "Orden 389, total: 35.8\n",
      "Orden 390, total: 12.48\n",
      "Orden 391, total: 12.98\n",
      "Orden 392, total: 11.27\n",
      "Orden 393, total: 10.08\n",
      "Orden 394, total: 18.0\n",
      "Orden 395, total: 11.38\n",
      "Orden 396, total: 25.0\n",
      "Orden 397, total: 18.5\n",
      "Orden 398, total: 12.75\n",
      "Orden 399, total: 12.48\n",
      "Orden 400, total: 31.75\n",
      "Orden 401, total: 17.5\n",
      "Orden 402, total: 35.15\n",
      "Orden 403, total: 11.38\n",
      "Orden 404, total: 22.65\n",
      "Orden 405, total: 12.5\n",
      "Orden 406, total: 13.0\n",
      "Orden 407, total: 23.0\n",
      "Orden 408, total: 23.75\n",
      "Orden 409, total: 19.47\n",
      "Orden 410, total: 18.75\n",
      "Orden 411, total: 16.98\n",
      "Orden 412, total: 16.2\n",
      "Orden 413, total: 24.25\n",
      "Orden 414, total: 10.88\n",
      "Orden 415, total: 13.7\n",
      "Orden 416, total: 18.0\n",
      "Orden 417, total: 10.68\n",
      "Orden 418, total: 17.5\n",
      "Orden 419, total: 20.37\n",
      "Orden 420, total: 15.7\n",
      "Orden 421, total: 13.2\n",
      "Orden 422, total: 15.74\n",
      "Orden 423, total: 19.47\n",
      "Orden 424, total: 11.27\n",
      "Orden 425, total: 13.7\n",
      "Orden 426, total: 12.95\n",
      "Orden 427, total: 12.48\n",
      "Orden 428, total: 25.65\n",
      "Orden 429, total: 11.48\n",
      "Orden 430, total: 12.15\n",
      "Orden 431, total: 14.65\n",
      "Orden 432, total: 23.990000000000002\n",
      "Orden 433, total: 10.68\n",
      "Orden 434, total: 20.5\n",
      "Orden 435, total: 12.07\n",
      "Orden 436, total: 11.88\n",
      "Orden 437, total: 12.15\n",
      "Orden 438, total: 22.46\n",
      "Orden 439, total: 19.47\n",
      "Orden 440, total: 21.45\n",
      "Orden 441, total: 16.2\n",
      "Orden 442, total: 11.48\n",
      "Orden 443, total: 24.45\n",
      "Orden 444, total: 10.68\n",
      "Orden 445, total: 14.7\n",
      "Orden 446, total: 13.9\n",
      "Orden 447, total: 11.38\n",
      "Orden 448, total: 12.95\n",
      "Orden 449, total: 12.15\n",
      "Orden 450, total: 15.84\n",
      "Orden 451, total: 23.45\n",
      "Orden 452, total: 13.0\n",
      "Orden 453, total: 10.58\n",
      "Orden 454, total: 11.38\n",
      "Orden 455, total: 16.2\n",
      "Orden 456, total: 22.5\n",
      "Orden 457, total: 26.25\n",
      "Orden 458, total: 17.5\n",
      "Orden 459, total: 22.5\n",
      "Orden 460, total: 22.45\n",
      "Orden 461, total: 13.0\n",
      "Orden 462, total: 25.45\n",
      "Orden 463, total: 10.68\n",
      "Orden 464, total: 15.7\n",
      "Orden 465, total: 15.24\n",
      "Orden 466, total: 22.45\n",
      "Orden 467, total: 27.95\n",
      "Orden 468, total: 28.09\n",
      "Orden 469, total: 15.7\n",
      "Orden 470, total: 13.2\n",
      "Orden 471, total: 24.15\n",
      "Orden 472, total: 19.97\n",
      "Orden 473, total: 13.7\n",
      "Orden 474, total: 11.48\n",
      "Orden 475, total: 21.45\n",
      "Orden 476, total: 17.48\n",
      "Orden 477, total: 17.48\n",
      "Orden 478, total: 28.04\n",
      "Orden 479, total: 20.46\n",
      "Orden 480, total: 12.15\n",
      "Orden 481, total: 35.39\n",
      "Orden 482, total: 23.2\n",
      "Orden 483, total: 22.96\n",
      "Orden 484, total: 11.17\n",
      "Orden 485, total: 24.44\n",
      "Orden 486, total: 13.2\n",
      "Orden 487, total: 20.5\n",
      "Orden 488, total: 50.900000000000006\n",
      "Orden 489, total: 16.98\n",
      "Orden 490, total: 10.68\n",
      "Orden 491, total: 102.0\n",
      "Orden 492, total: 10.98\n",
      "Orden 493, total: 15.7\n",
      "Orden 494, total: 19.47\n",
      "Orden 495, total: 12.38\n",
      "Orden 496, total: 17.55\n",
      "Orden 497, total: 21.95\n",
      "Orden 498, total: 26.95\n",
      "Orden 499, total: 13.7\n",
      "Orden 500, total: 12.15\n",
      "Orden 501, total: 14.84\n",
      "Orden 502, total: 13.0\n",
      "Orden 503, total: 15.7\n",
      "Orden 504, total: 22.96\n",
      "Orden 505, total: 12.2\n",
      "Orden 506, total: 20.95\n",
      "Orden 507, total: 25.5\n",
      "Orden 508, total: 11.38\n",
      "Orden 509, total: 25.0\n",
      "Orden 510, total: 12.48\n",
      "Orden 511, total: 104.59\n",
      "Orden 512, total: 10.98\n",
      "Orden 513, total: 20.37\n",
      "Orden 514, total: 20.15\n",
      "Orden 515, total: 13.2\n",
      "Orden 516, total: 10.18\n",
      "Orden 517, total: 16.88\n",
      "Orden 518, total: 10.98\n",
      "Orden 519, total: 26.950000000000003\n",
      "Orden 520, total: 19.689999999999998\n",
      "Orden 521, total: 17.5\n",
      "Orden 522, total: 14.95\n",
      "Orden 523, total: 10.18\n",
      "Orden 524, total: 13.7\n",
      "Orden 525, total: 10.08\n",
      "Orden 526, total: 14.2\n",
      "Orden 527, total: 26.05\n",
      "Orden 528, total: 10.98\n",
      "Orden 529, total: 31.25\n",
      "Orden 530, total: 22.3\n",
      "Orden 531, total: 12.48\n",
      "Orden 532, total: 10.68\n",
      "Orden 533, total: 10.18\n",
      "Orden 534, total: 34.89\n",
      "Orden 535, total: 24.4\n",
      "Orden 536, total: 13.2\n",
      "Orden 537, total: 13.2\n",
      "Orden 538, total: 10.98\n",
      "Orden 539, total: 19.97\n",
      "Orden 540, total: 13.7\n",
      "Orden 541, total: 23.64\n",
      "Orden 542, total: 17.48\n",
      "Orden 543, total: 18.0\n",
      "Orden 544, total: 17.5\n",
      "Orden 545, total: 27.95\n",
      "Orden 546, total: 25.5\n",
      "Orden 547, total: 10.68\n",
      "Orden 548, total: 13.9\n",
      "Orden 549, total: 28.15\n",
      "Orden 550, total: 12.2\n",
      "Orden 551, total: 20.0\n",
      "Orden 552, total: 31.9\n",
      "Orden 553, total: 16.56\n",
      "Orden 554, total: 12.2\n",
      "Orden 555, total: 19.17\n",
      "Orden 556, total: 10.98\n",
      "Orden 557, total: 14.2\n",
      "Orden 558, total: 10.68\n",
      "Orden 559, total: 12.15\n",
      "Orden 560, total: 23.45\n",
      "Orden 561, total: 52.45\n",
      "Orden 562, total: 22.96\n",
      "Orden 563, total: 19.65\n",
      "Orden 564, total: 13.0\n",
      "Orden 565, total: 18.5\n",
      "Orden 566, total: 18.240000000000002\n",
      "Orden 567, total: 18.07\n",
      "Orden 568, total: 10.98\n",
      "Orden 569, total: 12.15\n",
      "Orden 570, total: 12.75\n",
      "Orden 571, total: 22.5\n",
      "Orden 572, total: 16.98\n",
      "Orden 573, total: 13.0\n",
      "Orden 574, total: 13.4\n",
      "Orden 575, total: 18.8\n",
      "Orden 576, total: 46.53\n",
      "Orden 577, total: 71.15\n",
      "Orden 578, total: 22.5\n",
      "Orden 579, total: 12.57\n",
      "Orden 580, total: 16.98\n",
      "Orden 581, total: 17.5\n",
      "Orden 582, total: 12.75\n",
      "Orden 583, total: 18.0\n",
      "Orden 584, total: 12.48\n",
      "Orden 585, total: 26.25\n",
      "Orden 586, total: 17.5\n",
      "Orden 587, total: 13.25\n",
      "Orden 588, total: 25.45\n",
      "Orden 589, total: 19.97\n",
      "Orden 590, total: 22.45\n",
      "Orden 591, total: 11.97\n",
      "Orden 592, total: 17.5\n",
      "Orden 593, total: 11.48\n",
      "Orden 594, total: 17.48\n",
      "Orden 595, total: 10.88\n",
      "Orden 596, total: 23.46\n",
      "Orden 597, total: 16.2\n",
      "Orden 598, total: 12.15\n",
      "Orden 599, total: 19.97\n",
      "Orden 600, total: 12.75\n",
      "Orden 601, total: 12.15\n",
      "Orden 602, total: 26.75\n",
      "Orden 603, total: 12.75\n",
      "Orden 604, total: 14.45\n",
      "Orden 605, total: 10.98\n",
      "Orden 606, total: 12.95\n",
      "Orden 607, total: 12.95\n",
      "Orden 608, total: 19.37\n",
      "Orden 609, total: 12.5\n",
      "Orden 610, total: 17.5\n",
      "Orden 611, total: 18.0\n",
      "Orden 612, total: 13.14\n",
      "Orden 613, total: 12.15\n",
      "Orden 614, total: 10.08\n",
      "Orden 615, total: 13.2\n",
      "Orden 616, total: 26.25\n",
      "Orden 617, total: 13.2\n",
      "Orden 618, total: 14.7\n",
      "Orden 619, total: 17.5\n",
      "Orden 620, total: 20.5\n",
      "Orden 621, total: 22.5\n",
      "Orden 622, total: 16.95\n",
      "Orden 623, total: 34.46\n",
      "Orden 624, total: 17.76\n",
      "Orden 625, total: 13.2\n",
      "Orden 626, total: 12.65\n",
      "Orden 627, total: 23.0\n",
      "Orden 628, total: 39.8\n",
      "Orden 629, total: 18.75\n",
      "Orden 630, total: 13.4\n",
      "Orden 631, total: 14.65\n",
      "Orden 632, total: 13.0\n",
      "Orden 633, total: 13.0\n",
      "Orden 634, total: 14.45\n",
      "Orden 635, total: 48.45\n",
      "Orden 636, total: 20.45\n",
      "Orden 637, total: 29.29\n",
      "Orden 638, total: 17.4\n",
      "Orden 639, total: 12.15\n",
      "Orden 640, total: 14.7\n",
      "Orden 641, total: 12.38\n",
      "Orden 642, total: 18.5\n",
      "Orden 643, total: 20.45\n",
      "Orden 644, total: 13.39\n",
      "Orden 645, total: 14.2\n",
      "Orden 646, total: 20.5\n",
      "Orden 647, total: 14.2\n",
      "Orden 648, total: 22.3\n",
      "Orden 649, total: 41.8\n",
      "Orden 650, total: 12.15\n",
      "Orden 651, total: 23.76\n",
      "Orden 652, total: 24.35\n",
      "Orden 653, total: 23.0\n",
      "Orden 654, total: 38.9\n",
      "Orden 655, total: 15.2\n",
      "Orden 656, total: 14.770000000000001\n",
      "Orden 657, total: 13.4\n",
      "Orden 658, total: 23.0\n",
      "Orden 659, total: 16.2\n",
      "Orden 660, total: 16.2\n",
      "Orden 661, total: 18.0\n",
      "Orden 662, total: 17.48\n",
      "Orden 663, total: 17.48\n",
      "Orden 664, total: 20.5\n",
      "Orden 665, total: 12.48\n",
      "Orden 666, total: 14.97\n",
      "Orden 667, total: 25.97\n",
      "Orden 668, total: 16.98\n",
      "Orden 669, total: 13.4\n",
      "Orden 670, total: 29.2\n",
      "Orden 671, total: 16.98\n",
      "Orden 672, total: 12.07\n",
      "Orden 673, total: 13.4\n",
      "Orden 674, total: 12.95\n",
      "Orden 675, total: 18.5\n",
      "Orden 676, total: 12.2\n",
      "Orden 677, total: 12.15\n",
      "Orden 678, total: 12.98\n",
      "Orden 679, total: 13.9\n",
      "Orden 680, total: 12.38\n",
      "Orden 681, total: 18.0\n",
      "Orden 682, total: 26.95\n",
      "Orden 683, total: 12.15\n",
      "Orden 684, total: 16.2\n",
      "Orden 685, total: 12.2\n",
      "Orden 686, total: 16.98\n",
      "Orden 687, total: 24.45\n",
      "Orden 688, total: 49.45\n",
      "Orden 689, total: 10.18\n",
      "Orden 690, total: 11.88\n",
      "Orden 691, total: 118.25\n",
      "Orden 692, total: 21.96\n",
      "Orden 693, total: 12.67\n",
      "Orden 694, total: 20.47\n",
      "Orden 695, total: 10.18\n",
      "Orden 696, total: 12.9\n",
      "Orden 697, total: 12.75\n",
      "Orden 698, total: 20.45\n",
      "Orden 699, total: 10.18\n",
      "Orden 700, total: 12.95\n",
      "Orden 701, total: 13.4\n",
      "Orden 702, total: 11.08\n",
      "Orden 703, total: 25.47\n",
      "Orden 704, total: 13.0\n",
      "Orden 705, total: 20.5\n",
      "Orden 706, total: 21.95\n",
      "Orden 707, total: 12.75\n",
      "Orden 708, total: 41.74\n",
      "Orden 709, total: 19.689999999999998\n",
      "Orden 710, total: 13.4\n",
      "Orden 711, total: 10.88\n",
      "Orden 712, total: 24.95\n",
      "Orden 713, total: 19.97\n",
      "Orden 714, total: 12.2\n",
      "Orden 715, total: 18.5\n",
      "Orden 716, total: 20.5\n",
      "Orden 717, total: 17.5\n",
      "Orden 718, total: 10.98\n",
      "Orden 719, total: 20.5\n",
      "Orden 720, total: 19.65\n",
      "Orden 721, total: 13.4\n",
      "Orden 722, total: 16.2\n",
      "Orden 723, total: 10.88\n",
      "Orden 724, total: 13.0\n",
      "Orden 725, total: 12.15\n",
      "Orden 726, total: 10.18\n",
      "Orden 727, total: 12.75\n",
      "Orden 728, total: 17.5\n",
      "Orden 729, total: 12.48\n",
      "Orden 730, total: 10.08\n",
      "Orden 731, total: 12.5\n",
      "Orden 732, total: 19.37\n",
      "Orden 733, total: 18.0\n",
      "Orden 734, total: 38.84\n",
      "Orden 735, total: 17.48\n",
      "Orden 736, total: 13.2\n",
      "Orden 737, total: 41.15\n",
      "Orden 738, total: 12.34\n",
      "Orden 739, total: 12.48\n",
      "Orden 740, total: 12.15\n",
      "Orden 741, total: 21.96\n",
      "Orden 742, total: 10.18\n",
      "Orden 743, total: 13.2\n",
      "Orden 744, total: 17.48\n",
      "Orden 745, total: 12.48\n",
      "Orden 746, total: 29.2\n",
      "Orden 747, total: 17.5\n",
      "Orden 748, total: 12.2\n",
      "Orden 749, total: 15.24\n",
      "Orden 750, total: 13.05\n",
      "Orden 751, total: 12.4\n",
      "Orden 752, total: 19.37\n",
      "Orden 753, total: 13.7\n",
      "Orden 754, total: 22.69\n",
      "Orden 755, total: 12.67\n",
      "Orden 756, total: 18.64\n",
      "Orden 757, total: 12.2\n",
      "Orden 758, total: 12.15\n",
      "Orden 759, total: 86.30000000000001\n",
      "Orden 760, total: 22.5\n",
      "Orden 761, total: 19.47\n",
      "Orden 762, total: 12.4\n",
      "Orden 763, total: 14.15\n",
      "Orden 764, total: 12.95\n",
      "Orden 765, total: 12.48\n",
      "Orden 766, total: 15.55\n",
      "Orden 767, total: 13.9\n",
      "Orden 768, total: 18.5\n",
      "Orden 769, total: 10.88\n",
      "Orden 770, total: 24.95\n",
      "Orden 771, total: 12.98\n",
      "Orden 772, total: 18.5\n",
      "Orden 773, total: 13.2\n",
      "Orden 774, total: 18.240000000000002\n",
      "Orden 775, total: 17.48\n",
      "Orden 776, total: 19.689999999999998\n",
      "Orden 777, total: 22.5\n",
      "Orden 778, total: 12.2\n",
      "Orden 779, total: 10.18\n",
      "Orden 780, total: 10.98\n",
      "Orden 781, total: 13.2\n",
      "Orden 782, total: 14.2\n",
      "Orden 783, total: 19.87\n",
      "Orden 784, total: 29.490000000000002\n",
      "Orden 785, total: 14.7\n",
      "Orden 786, total: 10.68\n",
      "Orden 787, total: 30.240000000000002\n",
      "Orden 788, total: 10.08\n",
      "Orden 789, total: 17.48\n",
      "Orden 790, total: 12.07\n",
      "Orden 791, total: 45.65\n",
      "Orden 792, total: 27.4\n",
      "Orden 793, total: 13.25\n",
      "Orden 794, total: 22.36\n",
      "Orden 795, total: 20.15\n",
      "Orden 796, total: 12.4\n",
      "Orden 797, total: 12.98\n",
      "Orden 798, total: 24.14\n",
      "Orden 799, total: 12.98\n",
      "Orden 800, total: 17.5\n",
      "Orden 801, total: 12.5\n",
      "Orden 802, total: 10.98\n",
      "Orden 803, total: 17.95\n",
      "Orden 804, total: 15.7\n",
      "Orden 805, total: 16.65\n",
      "Orden 806, total: 40.35\n",
      "Orden 807, total: 24.7\n",
      "Orden 808, total: 12.95\n",
      "Orden 809, total: 13.2\n",
      "Orden 810, total: 22.96\n",
      "Orden 811, total: 10.88\n",
      "Orden 812, total: 25.15\n",
      "Orden 813, total: 12.4\n",
      "Orden 814, total: 31.4\n",
      "Orden 815, total: 12.5\n",
      "Orden 816, total: 31.7\n",
      "Orden 817, total: 26.75\n",
      "Orden 818, total: 70.85\n",
      "Orden 819, total: 10.98\n",
      "Orden 820, total: 16.98\n",
      "Orden 821, total: 10.98\n",
      "Orden 822, total: 17.98\n",
      "Orden 823, total: 41.0\n",
      "Orden 824, total: 12.48\n",
      "Orden 825, total: 12.67\n",
      "Orden 826, total: 17.5\n",
      "Orden 827, total: 11.38\n",
      "Orden 828, total: 11.38\n",
      "Orden 829, total: 12.95\n",
      "Orden 830, total: 23.0\n",
      "Orden 831, total: 17.5\n",
      "Orden 832, total: 19.37\n",
      "Orden 833, total: 12.75\n",
      "Orden 834, total: 13.0\n",
      "Orden 835, total: 13.2\n",
      "Orden 836, total: 27.95\n",
      "Orden 837, total: 21.96\n",
      "Orden 838, total: 21.95\n",
      "Orden 839, total: 20.5\n",
      "Orden 840, total: 11.38\n",
      "Orden 841, total: 18.0\n",
      "Orden 842, total: 26.85\n",
      "Orden 843, total: 13.25\n",
      "Orden 844, total: 22.45\n",
      "Orden 845, total: 13.0\n",
      "Orden 846, total: 19.0\n",
      "Orden 847, total: 12.4\n",
      "Orden 848, total: 55.45\n",
      "Orden 849, total: 22.19\n",
      "Orden 850, total: 24.3\n",
      "Orden 851, total: 15.7\n",
      "Orden 852, total: 11.38\n",
      "Orden 853, total: 18.5\n",
      "Orden 854, total: 13.7\n",
      "Orden 855, total: 28.099999999999998\n",
      "Orden 856, total: 22.5\n",
      "Orden 857, total: 12.4\n",
      "Orden 858, total: 13.7\n",
      "Orden 859, total: 22.15\n",
      "Orden 860, total: 14.45\n",
      "Orden 861, total: 11.38\n",
      "Orden 862, total: 13.2\n",
      "Orden 863, total: 10.98\n",
      "Orden 864, total: 13.25\n",
      "Orden 865, total: 10.98\n",
      "Orden 866, total: 21.47\n",
      "Orden 867, total: 17.48\n",
      "Orden 868, total: 29.96\n",
      "Orden 869, total: 22.5\n",
      "Orden 870, total: 10.98\n",
      "Orden 871, total: 10.98\n",
      "Orden 872, total: 16.76\n",
      "Orden 873, total: 12.95\n",
      "Orden 874, total: 13.25\n",
      "Orden 875, total: 12.67\n",
      "Orden 876, total: 13.2\n",
      "Orden 877, total: 17.5\n",
      "Orden 878, total: 13.2\n",
      "Orden 879, total: 38.0\n",
      "Orden 880, total: 21.47\n",
      "Orden 881, total: 31.25\n",
      "Orden 882, total: 13.2\n",
      "Orden 883, total: 14.45\n",
      "Orden 884, total: 12.4\n",
      "Orden 885, total: 23.5\n",
      "Orden 886, total: 23.5\n",
      "Orden 887, total: 13.25\n",
      "Orden 888, total: 30.15\n",
      "Orden 889, total: 10.08\n",
      "Orden 890, total: 27.45\n",
      "Orden 891, total: 19.65\n",
      "Orden 892, total: 12.65\n",
      "Orden 893, total: 23.0\n",
      "Orden 894, total: 24.45\n",
      "Orden 895, total: 10.18\n",
      "Orden 896, total: 17.5\n",
      "Orden 897, total: 17.48\n",
      "Orden 898, total: 23.45\n",
      "Orden 899, total: 22.689999999999998\n",
      "Orden 900, total: 20.47\n",
      "Orden 901, total: 33.32\n",
      "Orden 902, total: 11.48\n",
      "Orden 903, total: 12.4\n",
      "Orden 904, total: 10.68\n",
      "Orden 905, total: 12.5\n",
      "Orden 906, total: 18.5\n",
      "Orden 907, total: 38.3\n",
      "Orden 908, total: 19.47\n",
      "Orden 909, total: 22.3\n",
      "Orden 910, total: 18.0\n",
      "Orden 911, total: 12.15\n",
      "Orden 912, total: 24.65\n",
      "Orden 913, total: 31.7\n",
      "Orden 914, total: 21.0\n",
      "Orden 915, total: 13.9\n",
      "Orden 916, total: 52.45\n",
      "Orden 917, total: 10.98\n",
      "Orden 918, total: 17.5\n",
      "Orden 919, total: 12.15\n",
      "Orden 920, total: 10.98\n",
      "Orden 921, total: 12.4\n",
      "Orden 922, total: 12.95\n",
      "Orden 923, total: 18.5\n",
      "Orden 924, total: 10.88\n",
      "Orden 925, total: 13.2\n",
      "Orden 926, total: 205.25\n",
      "Orden 927, total: 17.98\n",
      "Orden 928, total: 12.95\n",
      "Orden 929, total: 13.25\n",
      "Orden 930, total: 22.5\n",
      "Orden 931, total: 12.4\n",
      "Orden 932, total: 16.98\n",
      "Orden 933, total: 13.25\n",
      "Orden 934, total: 14.55\n",
      "Orden 935, total: 12.95\n",
      "Orden 936, total: 14.95\n",
      "Orden 937, total: 24.45\n",
      "Orden 938, total: 12.15\n",
      "Orden 939, total: 12.67\n",
      "Orden 940, total: 20.0\n",
      "Orden 941, total: 28.75\n",
      "Orden 942, total: 10.18\n",
      "Orden 943, total: 21.0\n",
      "Orden 944, total: 10.88\n",
      "Orden 945, total: 27.439999999999998\n",
      "Orden 946, total: 26.75\n",
      "Orden 947, total: 28.150000000000002\n",
      "Orden 948, total: 31.75\n",
      "Orden 949, total: 40.690000000000005\n",
      "Orden 950, total: 11.38\n",
      "Orden 951, total: 20.0\n",
      "Orden 952, total: 27.099999999999998\n",
      "Orden 953, total: 81.14\n",
      "Orden 954, total: 17.5\n",
      "Orden 955, total: 11.27\n",
      "Orden 956, total: 12.75\n",
      "Orden 957, total: 22.5\n",
      "Orden 958, total: 13.25\n",
      "Orden 959, total: 17.48\n",
      "Orden 960, total: 22.5\n",
      "Orden 961, total: 13.05\n",
      "Orden 962, total: 22.15\n",
      "Orden 963, total: 14.2\n",
      "Orden 964, total: 15.7\n",
      "Orden 965, total: 14.270000000000001\n",
      "Orden 966, total: 25.65\n",
      "Orden 967, total: 11.38\n",
      "Orden 968, total: 20.5\n",
      "Orden 969, total: 13.14\n",
      "Orden 970, total: 19.39\n",
      "Orden 971, total: 11.97\n",
      "Orden 972, total: 26.25\n",
      "Orden 973, total: 46.9\n",
      "Orden 974, total: 18.0\n",
      "Orden 975, total: 23.5\n",
      "Orden 976, total: 24.5\n",
      "Orden 977, total: 19.97\n",
      "Orden 978, total: 15.35\n",
      "Orden 979, total: 24.95\n",
      "Orden 980, total: 12.67\n",
      "Orden 981, total: 21.0\n",
      "Orden 982, total: 13.7\n",
      "Orden 983, total: 23.46\n",
      "Orden 984, total: 14.95\n",
      "Orden 985, total: 10.98\n",
      "Orden 986, total: 17.5\n",
      "Orden 987, total: 23.0\n",
      "Orden 988, total: 19.97\n",
      "Orden 989, total: 16.95\n",
      "Orden 990, total: 12.47\n",
      "Orden 991, total: 13.4\n",
      "Orden 992, total: 13.2\n",
      "Orden 993, total: 10.18\n",
      "Orden 994, total: 12.67\n",
      "Orden 995, total: 24.95\n",
      "Orden 996, total: 43.0\n",
      "Orden 997, total: 22.5\n",
      "Orden 998, total: 10.88\n",
      "Orden 999, total: 29.25\n",
      "Orden 1000, total: 20.5\n",
      "Orden 1001, total: 10.08\n",
      "Orden 1002, total: 10.68\n",
      "Orden 1003, total: 13.0\n",
      "Orden 1004, total: 21.96\n",
      "Orden 1005, total: 12.15\n",
      "Orden 1006, total: 71.4\n",
      "Orden 1007, total: 11.77\n",
      "Orden 1008, total: 12.15\n",
      "Orden 1009, total: 12.36\n",
      "Orden 1010, total: 33.24\n",
      "Orden 1011, total: 13.0\n",
      "Orden 1012, total: 22.5\n",
      "Orden 1013, total: 31.9\n",
      "Orden 1014, total: 10.08\n",
      "Orden 1015, total: 13.4\n",
      "Orden 1016, total: 32.25\n",
      "Orden 1017, total: 22.5\n",
      "Orden 1018, total: 12.2\n",
      "Orden 1019, total: 15.7\n",
      "Orden 1020, total: 14.649999999999999\n",
      "Orden 1021, total: 12.75\n",
      "Orden 1022, total: 10.98\n",
      "Orden 1023, total: 16.98\n",
      "Orden 1024, total: 18.5\n",
      "Orden 1025, total: 16.060000000000002\n",
      "Orden 1026, total: 31.7\n",
      "Orden 1027, total: 17.5\n",
      "Orden 1028, total: 13.2\n",
      "Orden 1029, total: 14.45\n",
      "Orden 1030, total: 26.75\n",
      "Orden 1031, total: 21.95\n",
      "Orden 1032, total: 13.59\n",
      "Orden 1033, total: 28.75\n",
      "Orden 1034, total: 13.4\n",
      "Orden 1035, total: 32.04\n",
      "Orden 1036, total: 10.98\n",
      "Orden 1037, total: 15.7\n",
      "Orden 1038, total: 22.5\n",
      "Orden 1039, total: 19.47\n",
      "Orden 1040, total: 11.88\n",
      "Orden 1041, total: 20.95\n",
      "Orden 1042, total: 12.39\n",
      "Orden 1043, total: 14.7\n",
      "Orden 1044, total: 24.5\n",
      "Orden 1045, total: 12.4\n",
      "Orden 1046, total: 11.88\n",
      "Orden 1047, total: 13.0\n",
      "Orden 1048, total: 17.5\n",
      "Orden 1049, total: 12.5\n",
      "Orden 1050, total: 12.95\n",
      "Orden 1051, total: 59.35\n",
      "Orden 1052, total: 38.2\n",
      "Orden 1053, total: 11.88\n",
      "Orden 1054, total: 12.2\n",
      "Orden 1055, total: 11.16\n",
      "Orden 1056, total: 17.98\n",
      "Orden 1057, total: 31.25\n",
      "Orden 1058, total: 18.65\n",
      "Orden 1059, total: 22.45\n",
      "Orden 1060, total: 16.98\n",
      "Orden 1061, total: 10.98\n",
      "Orden 1062, total: 14.97\n",
      "Orden 1063, total: 20.5\n",
      "Orden 1064, total: 18.95\n",
      "Orden 1065, total: 16.98\n",
      "Orden 1066, total: 17.5\n",
      "Orden 1067, total: 18.0\n",
      "Orden 1068, total: 12.95\n",
      "Orden 1069, total: 12.75\n",
      "Orden 1070, total: 33.7\n",
      "Orden 1071, total: 32.7\n",
      "Orden 1072, total: 17.5\n",
      "Orden 1073, total: 10.18\n",
      "Orden 1074, total: 22.299999999999997\n",
      "Orden 1075, total: 12.75\n",
      "Orden 1076, total: 20.39\n",
      "Orden 1077, total: 18.5\n",
      "Orden 1078, total: 22.5\n",
      "Orden 1079, total: 23.5\n",
      "Orden 1080, total: 23.0\n",
      "Orden 1081, total: 12.15\n",
      "Orden 1082, total: 32.25\n",
      "Orden 1083, total: 14.65\n",
      "Orden 1084, total: 13.2\n",
      "Orden 1085, total: 22.95\n",
      "Orden 1086, total: 15.7\n",
      "Orden 1087, total: 22.15\n",
      "Orden 1088, total: 23.14\n",
      "Orden 1089, total: 13.2\n",
      "Orden 1090, total: 13.05\n",
      "Orden 1091, total: 31.75\n",
      "Orden 1092, total: 25.15\n",
      "Orden 1093, total: 10.08\n",
      "Orden 1094, total: 16.98\n",
      "Orden 1095, total: 20.87\n",
      "Orden 1096, total: 14.97\n",
      "Orden 1097, total: 29.599999999999998\n",
      "Orden 1098, total: 12.57\n",
      "Orden 1099, total: 16.98\n",
      "Orden 1100, total: 16.98\n",
      "Orden 1101, total: 16.060000000000002\n",
      "Orden 1102, total: 20.45\n",
      "Orden 1103, total: 20.95\n",
      "Orden 1104, total: 13.4\n",
      "Orden 1105, total: 13.7\n",
      "Orden 1106, total: 25.45\n",
      "Orden 1107, total: 13.9\n",
      "Orden 1108, total: 18.0\n",
      "Orden 1109, total: 17.740000000000002\n",
      "Orden 1110, total: 22.95\n",
      "Orden 1111, total: 14.97\n",
      "Orden 1112, total: 12.9\n",
      "Orden 1113, total: 20.0\n",
      "Orden 1114, total: 19.09\n",
      "Orden 1115, total: 21.95\n",
      "Orden 1116, total: 23.0\n",
      "Orden 1117, total: 12.36\n",
      "Orden 1118, total: 12.38\n",
      "Orden 1119, total: 10.68\n",
      "Orden 1120, total: 17.48\n",
      "Orden 1121, total: 12.26\n",
      "Orden 1122, total: 10.08\n",
      "Orden 1123, total: 12.67\n",
      "Orden 1124, total: 13.57\n",
      "Orden 1125, total: 17.5\n",
      "Orden 1126, total: 20.5\n",
      "Orden 1127, total: 18.0\n",
      "Orden 1128, total: 23.76\n",
      "Orden 1129, total: 18.0\n",
      "Orden 1130, total: 18.5\n",
      "Orden 1131, total: 15.370000000000001\n",
      "Orden 1132, total: 18.07\n",
      "Orden 1133, total: 12.38\n",
      "Orden 1134, total: 12.5\n",
      "Orden 1135, total: 12.98\n",
      "Orden 1136, total: 24.14\n",
      "Orden 1137, total: 18.0\n",
      "Orden 1138, total: 22.5\n",
      "Orden 1139, total: 12.5\n",
      "Orden 1140, total: 23.7\n",
      "Orden 1141, total: 12.15\n",
      "Orden 1142, total: 26.97\n",
      "Orden 1143, total: 12.95\n",
      "Orden 1144, total: 14.75\n",
      "Orden 1145, total: 17.5\n",
      "Orden 1146, total: 11.08\n",
      "Orden 1147, total: 10.68\n",
      "Orden 1148, total: 10.68\n",
      "Orden 1149, total: 18.36\n",
      "Orden 1150, total: 13.9\n",
      "Orden 1151, total: 14.7\n",
      "Orden 1152, total: 17.5\n",
      "Orden 1153, total: 23.0\n",
      "Orden 1154, total: 27.45\n",
      "Orden 1155, total: 12.5\n",
      "Orden 1156, total: 26.62\n",
      "Orden 1157, total: 20.0\n",
      "Orden 1158, total: 23.5\n",
      "Orden 1159, total: 17.849999999999998\n",
      "Orden 1160, total: 18.77\n",
      "Orden 1161, total: 13.7\n",
      "Orden 1162, total: 10.08\n",
      "Orden 1163, total: 12.75\n",
      "Orden 1164, total: 12.98\n",
      "Orden 1165, total: 18.349999999999998\n",
      "Orden 1166, total: 24.45\n",
      "Orden 1167, total: 33.2\n",
      "Orden 1168, total: 22.5\n",
      "Orden 1169, total: 20.5\n",
      "Orden 1170, total: 44.510000000000005\n",
      "Orden 1171, total: 24.95\n",
      "Orden 1172, total: 11.88\n",
      "Orden 1173, total: 17.48\n",
      "Orden 1174, total: 17.5\n",
      "Orden 1175, total: 22.96\n",
      "Orden 1176, total: 43.14\n",
      "Orden 1177, total: 11.27\n",
      "Orden 1178, total: 17.98\n",
      "Orden 1179, total: 18.0\n",
      "Orden 1180, total: 12.2\n",
      "Orden 1181, total: 12.48\n",
      "Orden 1182, total: 42.13\n",
      "Orden 1183, total: 17.5\n",
      "Orden 1184, total: 18.5\n",
      "Orden 1185, total: 12.5\n",
      "Orden 1186, total: 10.08\n",
      "Orden 1187, total: 13.2\n",
      "Orden 1188, total: 25.15\n",
      "Orden 1189, total: 31.25\n",
      "Orden 1190, total: 14.45\n",
      "Orden 1191, total: 26.0\n",
      "Orden 1192, total: 19.66\n",
      "Orden 1193, total: 38.7\n",
      "Orden 1194, total: 19.17\n",
      "Orden 1195, total: 19.07\n",
      "Orden 1196, total: 28.990000000000002\n",
      "Orden 1197, total: 13.2\n",
      "Orden 1198, total: 10.68\n",
      "Orden 1199, total: 11.48\n",
      "Orden 1200, total: 14.25\n",
      "Orden 1201, total: 12.36\n",
      "Orden 1202, total: 10.88\n",
      "Orden 1203, total: 13.0\n",
      "Orden 1204, total: 10.18\n",
      "Orden 1205, total: 10.18\n",
      "Orden 1206, total: 24.95\n",
      "Orden 1207, total: 13.2\n",
      "Orden 1208, total: 20.0\n",
      "Orden 1209, total: 20.0\n",
      "Orden 1210, total: 17.56\n",
      "Orden 1211, total: 12.48\n",
      "Orden 1212, total: 12.48\n",
      "Orden 1213, total: 12.98\n",
      "Orden 1214, total: 15.7\n",
      "Orden 1215, total: 10.88\n",
      "Orden 1216, total: 10.88\n",
      "Orden 1217, total: 12.48\n",
      "Orden 1218, total: 16.95\n",
      "Orden 1219, total: 13.7\n",
      "Orden 1220, total: 14.07\n",
      "Orden 1221, total: 29.4\n",
      "Orden 1222, total: 20.0\n",
      "Orden 1223, total: 33.75\n",
      "Orden 1224, total: 22.5\n",
      "Orden 1225, total: 17.48\n",
      "Orden 1226, total: 21.95\n",
      "Orden 1227, total: 16.98\n",
      "Orden 1228, total: 36.7\n",
      "Orden 1229, total: 12.2\n",
      "Orden 1230, total: 10.18\n",
      "Orden 1231, total: 17.45\n",
      "Orden 1232, total: 12.75\n",
      "Orden 1233, total: 11.48\n",
      "Orden 1234, total: 13.4\n",
      "Orden 1235, total: 18.14\n",
      "Orden 1236, total: 12.48\n",
      "Orden 1237, total: 10.48\n",
      "Orden 1238, total: 13.17\n",
      "Orden 1239, total: 15.47\n",
      "Orden 1240, total: 10.18\n",
      "Orden 1241, total: 12.2\n",
      "Orden 1242, total: 10.18\n",
      "Orden 1243, total: 43.09\n",
      "Orden 1244, total: 29.54\n",
      "Orden 1245, total: 13.2\n",
      "Orden 1246, total: 19.65\n",
      "Orden 1247, total: 12.5\n",
      "Orden 1248, total: 31.439999999999998\n",
      "Orden 1249, total: 16.98\n",
      "Orden 1250, total: 23.95\n",
      "Orden 1251, total: 12.48\n",
      "Orden 1252, total: 19.27\n",
      "Orden 1253, total: 18.240000000000002\n",
      "Orden 1254, total: 12.47\n",
      "Orden 1255, total: 26.95\n",
      "Orden 1256, total: 10.68\n",
      "Orden 1257, total: 21.96\n",
      "Orden 1258, total: 11.17\n",
      "Orden 1259, total: 11.38\n",
      "Orden 1260, total: 10.379999999999999\n",
      "Orden 1261, total: 20.15\n",
      "Orden 1262, total: 10.08\n",
      "Orden 1263, total: 16.98\n",
      "Orden 1264, total: 13.2\n",
      "Orden 1265, total: 17.5\n",
      "Orden 1266, total: 18.0\n",
      "Orden 1267, total: 10.88\n",
      "Orden 1268, total: 13.2\n",
      "Orden 1269, total: 22.5\n",
      "Orden 1270, total: 20.5\n",
      "Orden 1271, total: 34.46\n",
      "Orden 1272, total: 13.2\n",
      "Orden 1273, total: 11.48\n",
      "Orden 1274, total: 12.15\n",
      "Orden 1275, total: 13.7\n",
      "Orden 1276, total: 25.15\n",
      "Orden 1277, total: 11.38\n",
      "Orden 1278, total: 17.38\n",
      "Orden 1279, total: 14.7\n",
      "Orden 1280, total: 13.25\n",
      "Orden 1281, total: 15.2\n",
      "Orden 1282, total: 22.86\n",
      "Orden 1283, total: 26.54\n",
      "Orden 1284, total: 16.2\n",
      "Orden 1285, total: 17.5\n",
      "Orden 1286, total: 15.7\n",
      "Orden 1287, total: 17.85\n",
      "Orden 1288, total: 13.57\n",
      "Orden 1289, total: 22.5\n",
      "Orden 1290, total: 10.88\n",
      "Orden 1291, total: 11.38\n",
      "Orden 1292, total: 13.4\n",
      "Orden 1293, total: 12.95\n",
      "Orden 1294, total: 20.0\n",
      "Orden 1295, total: 17.5\n",
      "Orden 1296, total: 23.5\n",
      "Orden 1297, total: 22.5\n",
      "Orden 1298, total: 15.7\n",
      "Orden 1299, total: 19.67\n",
      "Orden 1300, total: 10.68\n",
      "Orden 1301, total: 12.5\n",
      "Orden 1302, total: 19.77\n",
      "Orden 1303, total: 10.08\n",
      "Orden 1304, total: 26.7\n",
      "Orden 1305, total: 18.75\n",
      "Orden 1306, total: 12.15\n",
      "Orden 1307, total: 12.48\n",
      "Orden 1308, total: 10.88\n",
      "Orden 1309, total: 15.66\n",
      "Orden 1310, total: 13.2\n",
      "Orden 1311, total: 11.48\n",
      "Orden 1312, total: 17.5\n",
      "Orden 1313, total: 11.48\n",
      "Orden 1314, total: 18.0\n",
      "Orden 1315, total: 12.48\n",
      "Orden 1316, total: 12.75\n",
      "Orden 1317, total: 20.0\n",
      "Orden 1318, total: 13.2\n",
      "Orden 1319, total: 13.7\n",
      "Orden 1320, total: 24.75\n",
      "Orden 1321, total: 13.25\n",
      "Orden 1322, total: 24.95\n",
      "Orden 1323, total: 40.5\n",
      "Orden 1324, total: 12.15\n",
      "Orden 1325, total: 12.15\n",
      "Orden 1326, total: 17.48\n",
      "Orden 1327, total: 18.75\n",
      "Orden 1328, total: 16.25\n",
      "Orden 1329, total: 17.5\n",
      "Orden 1330, total: 27.25\n",
      "Orden 1331, total: 24.0\n",
      "Orden 1332, total: 19.65\n",
      "Orden 1333, total: 12.15\n",
      "Orden 1334, total: 21.96\n",
      "Orden 1335, total: 10.18\n",
      "Orden 1336, total: 26.07\n",
      "Orden 1337, total: 13.25\n",
      "Orden 1338, total: 17.98\n",
      "Orden 1339, total: 11.48\n",
      "Orden 1340, total: 18.5\n",
      "Orden 1341, total: 44.25\n",
      "Orden 1342, total: 12.15\n",
      "Orden 1343, total: 20.64\n",
      "Orden 1344, total: 16.2\n",
      "Orden 1345, total: 18.5\n",
      "Orden 1346, total: 18.64\n",
      "Orden 1347, total: 10.88\n",
      "Orden 1348, total: 11.27\n",
      "Orden 1349, total: 19.66\n",
      "Orden 1350, total: 12.5\n",
      "Orden 1351, total: 11.88\n",
      "Orden 1352, total: 12.48\n",
      "Orden 1353, total: 20.0\n",
      "Orden 1354, total: 10.18\n",
      "Orden 1355, total: 16.98\n",
      "Orden 1356, total: 31.5\n",
      "Orden 1357, total: 20.0\n",
      "Orden 1358, total: 16.98\n",
      "Orden 1359, total: 12.5\n",
      "Orden 1360, total: 52.18000000000001\n",
      "Orden 1361, total: 23.0\n",
      "Orden 1362, total: 19.47\n",
      "Orden 1363, total: 10.88\n",
      "Orden 1364, total: 20.5\n",
      "Orden 1365, total: 13.2\n",
      "Orden 1366, total: 14.2\n",
      "Orden 1367, total: 30.2\n",
      "Orden 1368, total: 20.0\n",
      "Orden 1369, total: 13.2\n",
      "Orden 1370, total: 12.5\n",
      "Orden 1371, total: 14.2\n",
      "Orden 1372, total: 18.5\n",
      "Orden 1373, total: 15.74\n",
      "Orden 1374, total: 17.5\n",
      "Orden 1375, total: 10.18\n",
      "Orden 1376, total: 12.48\n",
      "Orden 1377, total: 14.649999999999999\n",
      "Orden 1378, total: 17.48\n",
      "Orden 1379, total: 10.08\n",
      "Orden 1380, total: 14.45\n",
      "Orden 1381, total: 23.0\n",
      "Orden 1382, total: 20.5\n",
      "Orden 1383, total: 12.75\n",
      "Orden 1384, total: 13.4\n",
      "Orden 1385, total: 10.98\n",
      "Orden 1386, total: 20.5\n",
      "Orden 1387, total: 14.2\n",
      "Orden 1388, total: 20.5\n",
      "Orden 1389, total: 26.75\n",
      "Orden 1390, total: 18.75\n",
      "Orden 1391, total: 14.9\n",
      "Orden 1392, total: 28.75\n",
      "Orden 1393, total: 17.5\n",
      "Orden 1394, total: 15.7\n",
      "Orden 1395, total: 25.47\n",
      "Orden 1396, total: 23.740000000000002\n",
      "Orden 1397, total: 14.2\n",
      "Orden 1398, total: 35.25\n",
      "Orden 1399, total: 12.95\n",
      "Orden 1400, total: 13.4\n",
      "Orden 1401, total: 13.7\n",
      "Orden 1402, total: 30.7\n",
      "Orden 1403, total: 13.14\n",
      "Orden 1404, total: 12.15\n",
      "Orden 1405, total: 12.36\n",
      "Orden 1406, total: 17.38\n",
      "Orden 1407, total: 12.2\n",
      "Orden 1408, total: 13.370000000000001\n",
      "Orden 1409, total: 22.5\n",
      "Orden 1410, total: 21.96\n",
      "Orden 1411, total: 21.16\n",
      "Orden 1412, total: 14.7\n",
      "Orden 1413, total: 20.0\n",
      "Orden 1414, total: 26.75\n",
      "Orden 1415, total: 18.77\n",
      "Orden 1416, total: 13.2\n",
      "Orden 1417, total: 16.2\n",
      "Orden 1418, total: 20.5\n",
      "Orden 1419, total: 21.27\n",
      "Orden 1420, total: 10.379999999999999\n",
      "Orden 1421, total: 13.7\n",
      "Orden 1422, total: 17.849999999999998\n",
      "Orden 1423, total: 16.88\n",
      "Orden 1424, total: 15.7\n",
      "Orden 1425, total: 21.25\n",
      "Orden 1426, total: 44.64\n",
      "Orden 1427, total: 12.4\n",
      "Orden 1428, total: 16.2\n",
      "Orden 1429, total: 26.35\n",
      "Orden 1430, total: 12.95\n",
      "Orden 1431, total: 41.6\n",
      "Orden 1432, total: 18.5\n",
      "Orden 1433, total: 22.76\n",
      "Orden 1434, total: 21.65\n",
      "Orden 1435, total: 12.5\n",
      "Orden 1436, total: 10.08\n",
      "Orden 1437, total: 12.4\n",
      "Orden 1438, total: 12.48\n",
      "Orden 1439, total: 12.4\n",
      "Orden 1440, total: 21.65\n",
      "Orden 1441, total: 12.4\n",
      "Orden 1442, total: 13.7\n",
      "Orden 1443, total: 160.74\n",
      "Orden 1444, total: 23.0\n",
      "Orden 1445, total: 13.370000000000001\n",
      "Orden 1446, total: 15.7\n",
      "Orden 1447, total: 16.98\n",
      "Orden 1448, total: 15.24\n",
      "Orden 1449, total: 95.38999999999999\n",
      "Orden 1450, total: 20.95\n",
      "Orden 1451, total: 13.870000000000001\n",
      "Orden 1452, total: 11.38\n",
      "Orden 1453, total: 33.7\n",
      "Orden 1454, total: 85.24000000000001\n",
      "Orden 1455, total: 24.65\n",
      "Orden 1456, total: 13.0\n",
      "Orden 1457, total: 12.4\n",
      "Orden 1458, total: 13.4\n",
      "Orden 1459, total: 11.38\n",
      "Orden 1460, total: 24.65\n",
      "Orden 1461, total: 31.25\n",
      "Orden 1462, total: 26.740000000000002\n",
      "Orden 1463, total: 10.88\n",
      "Orden 1464, total: 12.2\n",
      "Orden 1465, total: 16.98\n",
      "Orden 1466, total: 12.08\n",
      "Orden 1467, total: 10.08\n",
      "Orden 1468, total: 12.38\n",
      "Orden 1469, total: 13.7\n",
      "Orden 1470, total: 21.96\n",
      "Orden 1471, total: 17.5\n",
      "Orden 1472, total: 21.25\n",
      "Orden 1473, total: 16.2\n",
      "Orden 1474, total: 22.5\n",
      "Orden 1475, total: 10.08\n",
      "Orden 1476, total: 21.16\n",
      "Orden 1477, total: 20.5\n",
      "Orden 1478, total: 16.98\n",
      "Orden 1479, total: 13.2\n",
      "Orden 1480, total: 29.490000000000002\n",
      "Orden 1481, total: 18.5\n",
      "Orden 1482, total: 15.7\n",
      "Orden 1483, total: 139.0\n",
      "Orden 1484, total: 10.67\n",
      "Orden 1485, total: 11.27\n",
      "Orden 1486, total: 12.5\n",
      "Orden 1487, total: 12.4\n",
      "Orden 1488, total: 10.18\n",
      "Orden 1489, total: 12.95\n",
      "Orden 1490, total: 12.48\n",
      "Orden 1491, total: 16.98\n",
      "Orden 1492, total: 22.15\n",
      "Orden 1493, total: 13.25\n",
      "Orden 1494, total: 10.08\n",
      "Orden 1495, total: 10.98\n",
      "Orden 1496, total: 10.98\n",
      "Orden 1497, total: 12.5\n",
      "Orden 1498, total: 13.2\n",
      "Orden 1499, total: 17.59\n",
      "Orden 1500, total: 17.98\n",
      "Orden 1501, total: 15.7\n",
      "Orden 1502, total: 23.5\n",
      "Orden 1503, total: 12.48\n",
      "Orden 1504, total: 13.7\n",
      "Orden 1505, total: 13.7\n",
      "Orden 1506, total: 13.2\n",
      "Orden 1507, total: 17.5\n",
      "Orden 1508, total: 18.240000000000002\n",
      "Orden 1509, total: 21.95\n",
      "Orden 1510, total: 13.2\n",
      "Orden 1511, total: 41.95\n",
      "Orden 1512, total: 23.0\n",
      "Orden 1513, total: 14.2\n",
      "Orden 1514, total: 19.95\n",
      "Orden 1515, total: 12.2\n",
      "Orden 1516, total: 11.38\n",
      "Orden 1517, total: 24.14\n",
      "Orden 1518, total: 12.57\n",
      "Orden 1519, total: 10.98\n",
      "Orden 1520, total: 18.5\n",
      "Orden 1521, total: 20.0\n",
      "Orden 1522, total: 23.0\n",
      "Orden 1523, total: 12.5\n",
      "Orden 1524, total: 13.7\n",
      "Orden 1525, total: 15.74\n",
      "Orden 1526, total: 23.5\n",
      "Orden 1527, total: 11.38\n",
      "Orden 1528, total: 16.98\n",
      "Orden 1529, total: 18.5\n",
      "Orden 1530, total: 12.95\n",
      "Orden 1531, total: 13.9\n",
      "Orden 1532, total: 16.98\n",
      "Orden 1533, total: 39.44\n",
      "Orden 1534, total: 29.25\n",
      "Orden 1535, total: 13.2\n",
      "Orden 1536, total: 16.98\n",
      "Orden 1537, total: 27.44\n",
      "Orden 1538, total: 24.65\n",
      "Orden 1539, total: 21.0\n",
      "Orden 1540, total: 21.96\n",
      "Orden 1541, total: 22.060000000000002\n",
      "Orden 1542, total: 13.2\n",
      "Orden 1543, total: 12.48\n",
      "Orden 1544, total: 20.0\n",
      "Orden 1545, total: 13.4\n",
      "Orden 1546, total: 16.2\n",
      "Orden 1547, total: 29.25\n",
      "Orden 1548, total: 18.5\n",
      "Orden 1549, total: 12.4\n",
      "Orden 1550, total: 17.65\n",
      "Orden 1551, total: 12.75\n",
      "Orden 1552, total: 11.38\n",
      "Orden 1553, total: 13.25\n",
      "Orden 1554, total: 33.44\n",
      "Orden 1555, total: 12.48\n",
      "Orden 1556, total: 20.5\n",
      "Orden 1557, total: 12.98\n",
      "Orden 1558, total: 15.24\n",
      "Orden 1559, total: 82.44000000000001\n",
      "Orden 1560, total: 17.5\n",
      "Orden 1561, total: 22.5\n",
      "Orden 1562, total: 11.27\n",
      "Orden 1563, total: 13.45\n",
      "Orden 1564, total: 16.88\n",
      "Orden 1565, total: 10.88\n",
      "Orden 1566, total: 10.88\n",
      "Orden 1567, total: 10.98\n",
      "Orden 1568, total: 17.98\n",
      "Orden 1569, total: 10.18\n",
      "Orden 1570, total: 17.5\n",
      "Orden 1571, total: 15.7\n",
      "Orden 1572, total: 21.95\n",
      "Orden 1573, total: 13.2\n",
      "Orden 1574, total: 13.9\n",
      "Orden 1575, total: 10.08\n",
      "Orden 1576, total: 13.2\n",
      "Orden 1577, total: 33.05\n",
      "Orden 1578, total: 12.36\n",
      "Orden 1579, total: 12.4\n",
      "Orden 1580, total: 21.47\n",
      "Orden 1581, total: 12.15\n",
      "Orden 1582, total: 12.2\n",
      "Orden 1583, total: 15.7\n",
      "Orden 1584, total: 12.2\n",
      "Orden 1585, total: 21.47\n",
      "Orden 1586, total: 51.2\n",
      "Orden 1587, total: 12.5\n",
      "Orden 1588, total: 27.9\n",
      "Orden 1589, total: 10.98\n",
      "Orden 1590, total: 17.5\n",
      "Orden 1591, total: 18.5\n",
      "Orden 1592, total: 35.2\n",
      "Orden 1593, total: 16.98\n",
      "Orden 1594, total: 14.2\n",
      "Orden 1595, total: 12.4\n",
      "Orden 1596, total: 10.88\n",
      "Orden 1597, total: 12.65\n",
      "Orden 1598, total: 33.26\n",
      "Orden 1599, total: 12.95\n",
      "Orden 1600, total: 12.2\n",
      "Orden 1601, total: 42.5\n",
      "Orden 1602, total: 10.08\n",
      "Orden 1603, total: 22.95\n",
      "Orden 1604, total: 15.96\n",
      "Orden 1605, total: 17.48\n",
      "Orden 1606, total: 17.5\n",
      "Orden 1607, total: 23.0\n",
      "Orden 1608, total: 15.7\n",
      "Orden 1609, total: 11.88\n",
      "Orden 1610, total: 23.7\n",
      "Orden 1611, total: 20.35\n",
      "Orden 1612, total: 12.98\n",
      "Orden 1613, total: 22.65\n",
      "Orden 1614, total: 13.0\n",
      "Orden 1615, total: 38.64\n",
      "Orden 1616, total: 12.2\n",
      "Orden 1617, total: 13.7\n",
      "Orden 1618, total: 19.25\n",
      "Orden 1619, total: 13.25\n",
      "Orden 1620, total: 13.2\n",
      "Orden 1621, total: 10.08\n",
      "Orden 1622, total: 12.2\n",
      "Orden 1623, total: 10.68\n",
      "Orden 1624, total: 10.379999999999999\n",
      "Orden 1625, total: 15.7\n",
      "Orden 1626, total: 21.95\n",
      "Orden 1627, total: 24.45\n",
      "Orden 1628, total: 16.88\n",
      "Orden 1629, total: 11.27\n",
      "Orden 1630, total: 12.95\n",
      "Orden 1631, total: 12.48\n",
      "Orden 1632, total: 14.370000000000001\n",
      "Orden 1633, total: 24.65\n",
      "Orden 1634, total: 18.5\n",
      "Orden 1635, total: 16.98\n",
      "Orden 1636, total: 12.75\n",
      "Orden 1637, total: 10.88\n",
      "Orden 1638, total: 11.38\n",
      "Orden 1639, total: 16.2\n",
      "Orden 1640, total: 17.5\n",
      "Orden 1641, total: 18.5\n",
      "Orden 1642, total: 16.95\n",
      "Orden 1643, total: 27.9\n",
      "Orden 1644, total: 14.45\n",
      "Orden 1645, total: 12.0\n",
      "Orden 1646, total: 22.5\n",
      "Orden 1647, total: 22.5\n",
      "Orden 1648, total: 33.7\n",
      "Orden 1649, total: 18.0\n",
      "Orden 1650, total: 13.2\n",
      "Orden 1651, total: 12.15\n",
      "Orden 1652, total: 21.8\n",
      "Orden 1653, total: 12.95\n",
      "Orden 1654, total: 12.2\n",
      "Orden 1655, total: 49.95\n",
      "Orden 1656, total: 13.0\n",
      "Orden 1657, total: 26.0\n",
      "Orden 1658, total: 13.7\n",
      "Orden 1659, total: 23.0\n",
      "Orden 1660, total: 70.25\n",
      "Orden 1661, total: 13.4\n",
      "Orden 1662, total: 25.7\n",
      "Orden 1663, total: 12.5\n",
      "Orden 1664, total: 29.14\n",
      "Orden 1665, total: 12.15\n",
      "Orden 1666, total: 15.24\n",
      "Orden 1667, total: 12.75\n",
      "Orden 1668, total: 13.2\n",
      "Orden 1669, total: 13.2\n",
      "Orden 1670, total: 21.0\n",
      "Orden 1671, total: 13.25\n",
      "Orden 1672, total: 12.5\n",
      "Orden 1673, total: 28.599999999999998\n",
      "Orden 1674, total: 15.7\n",
      "Orden 1675, total: 13.2\n",
      "Orden 1676, total: 14.95\n",
      "Orden 1677, total: 15.7\n",
      "Orden 1678, total: 13.2\n",
      "Orden 1679, total: 32.849999999999994\n",
      "Orden 1680, total: 13.25\n",
      "Orden 1681, total: 15.7\n",
      "Orden 1682, total: 12.4\n",
      "Orden 1683, total: 13.2\n",
      "Orden 1684, total: 20.5\n",
      "Orden 1685, total: 17.5\n",
      "Orden 1686, total: 22.5\n",
      "Orden 1687, total: 12.4\n",
      "Orden 1688, total: 13.9\n",
      "Orden 1689, total: 12.2\n",
      "Orden 1690, total: 24.2\n",
      "Orden 1691, total: 25.5\n",
      "Orden 1692, total: 24.39\n",
      "Orden 1693, total: 13.84\n",
      "Orden 1694, total: 12.4\n",
      "Orden 1695, total: 29.75\n",
      "Orden 1696, total: 26.2\n",
      "Orden 1697, total: 12.2\n",
      "Orden 1698, total: 19.65\n",
      "Orden 1699, total: 31.25\n",
      "Orden 1700, total: 23.0\n",
      "Orden 1701, total: 26.799999999999997\n",
      "Orden 1702, total: 17.98\n",
      "Orden 1703, total: 38.5\n",
      "Orden 1704, total: 13.2\n",
      "Orden 1705, total: 14.45\n",
      "Orden 1706, total: 12.5\n",
      "Orden 1707, total: 17.5\n",
      "Orden 1708, total: 20.0\n",
      "Orden 1709, total: 13.0\n",
      "Orden 1710, total: 13.9\n",
      "Orden 1711, total: 13.2\n",
      "Orden 1712, total: 13.2\n",
      "Orden 1713, total: 20.5\n",
      "Orden 1714, total: 22.45\n",
      "Orden 1715, total: 17.45\n",
      "Orden 1716, total: 16.2\n",
      "Orden 1717, total: 22.65\n",
      "Orden 1718, total: 34.9\n",
      "Orden 1719, total: 33.15\n",
      "Orden 1720, total: 16.34\n",
      "Orden 1721, total: 13.2\n",
      "Orden 1722, total: 12.2\n",
      "Orden 1723, total: 14.2\n",
      "Orden 1724, total: 22.5\n",
      "Orden 1725, total: 14.2\n",
      "Orden 1726, total: 21.0\n",
      "Orden 1727, total: 12.2\n",
      "Orden 1728, total: 13.4\n",
      "Orden 1729, total: 18.15\n",
      "Orden 1730, total: 20.0\n",
      "Orden 1731, total: 22.5\n",
      "Orden 1732, total: 12.15\n",
      "Orden 1733, total: 12.5\n",
      "Orden 1734, total: 13.2\n",
      "Orden 1735, total: 23.75\n",
      "Orden 1736, total: 13.0\n",
      "Orden 1737, total: 33.75\n",
      "Orden 1738, total: 36.0\n",
      "Orden 1739, total: 13.0\n",
      "Orden 1740, total: 13.7\n",
      "Orden 1741, total: 19.69\n",
      "Orden 1742, total: 29.490000000000002\n",
      "Orden 1743, total: 18.0\n",
      "Orden 1744, total: 13.4\n",
      "Orden 1745, total: 28.9\n",
      "Orden 1746, total: 24.95\n",
      "Orden 1747, total: 20.0\n",
      "Orden 1748, total: 25.65\n",
      "Orden 1749, total: 17.45\n",
      "Orden 1750, total: 23.5\n",
      "Orden 1751, total: 24.94\n",
      "Orden 1752, total: 18.14\n",
      "Orden 1753, total: 14.95\n",
      "Orden 1754, total: 12.5\n",
      "Orden 1755, total: 12.95\n",
      "Orden 1756, total: 15.7\n",
      "Orden 1757, total: 14.7\n",
      "Orden 1758, total: 13.7\n",
      "Orden 1759, total: 12.95\n",
      "Orden 1760, total: 14.2\n",
      "Orden 1761, total: 39.3\n",
      "Orden 1762, total: 18.64\n",
      "Orden 1763, total: 14.95\n",
      "Orden 1764, total: 55.55\n",
      "Orden 1765, total: 15.15\n",
      "Orden 1766, total: 36.7\n",
      "Orden 1767, total: 17.5\n",
      "Orden 1768, total: 31.75\n",
      "Orden 1769, total: 13.2\n",
      "Orden 1770, total: 13.25\n",
      "Orden 1771, total: 17.5\n",
      "Orden 1772, total: 32.25\n",
      "Orden 1773, total: 16.2\n",
      "Orden 1774, total: 13.7\n",
      "Orden 1775, total: 28.75\n",
      "Orden 1776, total: 12.4\n",
      "Orden 1777, total: 13.7\n",
      "Orden 1778, total: 12.75\n",
      "Orden 1779, total: 12.95\n",
      "Orden 1780, total: 22.5\n",
      "Orden 1781, total: 13.25\n",
      "Orden 1782, total: 13.4\n",
      "Orden 1783, total: 18.0\n",
      "Orden 1784, total: 14.7\n",
      "Orden 1785, total: 13.0\n",
      "Orden 1786, total: 114.3\n",
      "Orden 1787, total: 12.95\n",
      "Orden 1788, total: 14.65\n",
      "Orden 1789, total: 23.0\n",
      "Orden 1790, total: 15.45\n",
      "Orden 1791, total: 13.9\n",
      "Orden 1792, total: 12.75\n",
      "Orden 1793, total: 22.47\n",
      "Orden 1794, total: 14.45\n",
      "Orden 1795, total: 14.45\n",
      "Orden 1796, total: 13.25\n",
      "Orden 1797, total: 17.5\n",
      "Orden 1798, total: 29.490000000000002\n",
      "Orden 1799, total: 12.15\n",
      "Orden 1800, total: 19.69\n",
      "Orden 1801, total: 13.2\n",
      "Orden 1802, total: 20.0\n",
      "Orden 1803, total: 20.19\n",
      "Orden 1804, total: 14.45\n",
      "Orden 1805, total: 20.0\n",
      "Orden 1806, total: 13.0\n",
      "Orden 1807, total: 18.64\n",
      "Orden 1808, total: 13.7\n",
      "Orden 1809, total: 14.45\n",
      "Orden 1810, total: 23.0\n",
      "Orden 1811, total: 29.25\n",
      "Orden 1812, total: 22.5\n",
      "Orden 1813, total: 17.5\n",
      "Orden 1814, total: 13.7\n",
      "Orden 1815, total: 12.5\n",
      "Orden 1816, total: 13.2\n",
      "Orden 1817, total: 13.0\n",
      "Orden 1818, total: 18.14\n",
      "Orden 1819, total: 13.2\n",
      "Orden 1820, total: 12.5\n",
      "Orden 1821, total: 13.7\n",
      "Orden 1822, total: 23.0\n",
      "Orden 1823, total: 12.15\n",
      "Orden 1824, total: 26.95\n",
      "Orden 1825, total: 66.5\n",
      "Orden 1826, total: 15.95\n",
      "Orden 1827, total: 32.95\n",
      "Orden 1828, total: 14.45\n",
      "Orden 1829, total: 24.25\n",
      "Orden 1830, total: 23.0\n",
      "Orden 1831, total: 12.9\n",
      "Orden 1832, total: 13.2\n",
      "Orden 1833, total: 23.5\n",
      "Orden 1834, total: 28.75\n",
      "1834\n"
     ]
    }
   ],
   "source": [
    "for id in ordenes_unicas:\n",
    "    order_df = chipo[chipo[\"order_id\"] == id]\n",
    "    total = order_df[\"item_price\"].sum()\n",
    "    print(f\"Orden {id}, total: {total}\")\n",
    "    if total >= 10:\n",
    "        mas_de_10 += 1\n",
    "print(mas_de_10)"
   ]
  },
  {
   "cell_type": "code",
   "execution_count": null,
   "metadata": {},
   "outputs": [
    {
     "data": {
      "text/plain": [
       "count    1130.000000\n",
       "mean       12.392513\n",
       "std         3.199968\n",
       "min        10.500000\n",
       "25%        11.250000\n",
       "50%        11.250000\n",
       "75%        11.750000\n",
       "max        44.250000\n",
       "Name: item_price, dtype: float64"
      ]
     },
     "execution_count": 40,
     "metadata": {},
     "output_type": "execute_result"
    }
   ],
   "source": [
    "chipo[chipo[\"item_price\"]>10][\"item_price\"].describe()"
   ]
  },
  {
   "cell_type": "markdown",
   "metadata": {},
   "source": [
    "Como observamos aquí, la compra total mínima realizada es de 10.5"
   ]
  },
  {
   "cell_type": "markdown",
   "metadata": {},
   "source": [
    "Ni caso, repasando la sintaxis anterior el programa no está realizando la acción que estoy describiendo."
   ]
  },
  {
   "cell_type": "code",
   "execution_count": 35,
   "metadata": {},
   "outputs": [
    {
     "name": "stdout",
     "output_type": "stream",
     "text": [
      "order_id\n",
      "1       11.56\n",
      "2       16.98\n",
      "3       12.67\n",
      "4       21.00\n",
      "5       13.70\n",
      "        ...  \n",
      "1830    23.00\n",
      "1831    12.90\n",
      "1832    13.20\n",
      "1833    23.50\n",
      "1834    28.75\n",
      "Name: item_price, Length: 1834, dtype: float64\n"
     ]
    }
   ],
   "source": [
    "gasto_pedido = chipo.groupby(\"order_id\",as_index=\"Gasto total\").item_price.sum()\n",
    "print(gasto_pedido)"
   ]
  },
  {
   "cell_type": "code",
   "execution_count": 38,
   "metadata": {},
   "outputs": [
    {
     "name": "stdout",
     "output_type": "stream",
     "text": [
      "1834\n"
     ]
    }
   ],
   "source": [
    "print(gasto_pedido[gasto_pedido > 10].count())"
   ]
  },
  {
   "cell_type": "code",
   "execution_count": null,
   "metadata": {},
   "outputs": [
    {
     "data": {
      "text/plain": [
       "order_id\n",
       "1       False\n",
       "2       False\n",
       "3       False\n",
       "4       False\n",
       "5       False\n",
       "        ...  \n",
       "1830    False\n",
       "1831    False\n",
       "1832    False\n",
       "1833    False\n",
       "1834    False\n",
       "Name: item_price, Length: 1834, dtype: bool"
      ]
     },
     "execution_count": 93,
     "metadata": {},
     "output_type": "execute_result"
    }
   ],
   "source": [
    "orders_mas_de_10 = chipo.groupby(\"order_id\")[\"item_price\"].sum() > 10\n",
    "orders_mas_de_10"
   ]
  },
  {
   "cell_type": "code",
   "execution_count": 75,
   "metadata": {},
   "outputs": [
    {
     "data": {
      "text/plain": [
       "order_id\n",
       "926     205.25\n",
       "1443    160.74\n",
       "1483    139.00\n",
       "691     118.25\n",
       "1786    114.30\n",
       "         ...  \n",
       "1262     10.08\n",
       "1436     10.08\n",
       "889      10.08\n",
       "14       10.08\n",
       "17       10.08\n",
       "Name: item_price, Length: 1834, dtype: float64"
      ]
     },
     "execution_count": 75,
     "metadata": {},
     "output_type": "execute_result"
    }
   ],
   "source": [
    "chipo.groupby(\"order_id\")[\"item_price\"].sum().sort_values(ascending=False)"
   ]
  },
  {
   "cell_type": "code",
   "execution_count": 96,
   "metadata": {},
   "outputs": [
    {
     "data": {
      "text/plain": [
       "np.int64(566)"
      ]
     },
     "execution_count": 96,
     "metadata": {},
     "output_type": "execute_result"
    }
   ],
   "source": [
    "serie_mas_de_x = chipo.groupby(\"order_id\")[\"item_price\"].sum() > 20\n",
    "serie_mas_de_x.sum()"
   ]
  },
  {
   "cell_type": "markdown",
   "metadata": {},
   "source": [
    "### Step 4.3: Y en cuántos pedidos se ha pagado más de 10$ por un mismo producto? Es lo mismo?"
   ]
  },
  {
   "cell_type": "code",
   "execution_count": 49,
   "metadata": {},
   "outputs": [
    {
     "data": {
      "text/plain": [
       "863"
      ]
     },
     "execution_count": 49,
     "metadata": {},
     "output_type": "execute_result"
    }
   ],
   "source": [
    "len(chipo.order_id[chipo.item_price > 10].unique())"
   ]
  },
  {
   "cell_type": "code",
   "execution_count": 77,
   "metadata": {},
   "outputs": [
    {
     "data": {
      "text/plain": [
       "array([   2,    3,    4,    7,   12,   19,   20,   21,   24,   26,   27,\n",
       "         28,   30,   35,   40,   41,   43,   54,   57,   59,   60,   61,\n",
       "         62,   63,   64,   65,   66,   67,   68,   70,   71,   72,   73,\n",
       "         74,   75,   79,   80,   83,   84,   86,   89,   90,   93,   94,\n",
       "         95,   96,   99,  103,  105,  107,  109,  114,  123,  124,  126,\n",
       "        127,  128,  129,  132,  134,  137,  140,  144,  146,  147,  148,\n",
       "        149,  152,  153,  157,  158,  159,  163,  165,  166,  168,  170,\n",
       "        171,  174,  175,  176,  177,  178,  179,  180,  181,  185,  186,\n",
       "        189,  192,  193,  195,  196,  198,  202,  203,  204,  205,  206,\n",
       "        207,  210,  211,  212,  222,  223,  227,  228,  229,  231,  235,\n",
       "        237,  238,  239,  241,  242,  243,  245,  248,  250,  253,  256,\n",
       "        258,  261,  262,  264,  269,  271,  273,  277,  278,  282,  283,\n",
       "        284,  290,  293,  295,  297,  300,  304,  305,  306,  308,  309,\n",
       "        316,  317,  324,  327,  328,  329,  337,  338,  339,  341,  343,\n",
       "        347,  348,  350,  356,  357,  358,  360,  361,  362,  365,  366,\n",
       "        367,  369,  372,  373,  374,  375,  377,  379,  380,  384,  387,\n",
       "        396,  398,  400,  401,  404,  405,  406,  407,  408,  409,  413,\n",
       "        418,  420,  423,  428,  429,  431,  434,  435,  438,  439,  441,\n",
       "        442,  443,  446,  450,  451,  452,  453,  455,  456,  457,  459,\n",
       "        461,  462,  464,  467,  468,  469,  472,  474,  478,  479,  481,\n",
       "        483,  487,  488,  491,  492,  493,  494,  497,  498,  501,  502,\n",
       "        503,  504,  507,  509,  511,  512,  513,  518,  519,  526,  527,\n",
       "        528,  529,  534,  538,  539,  541,  545,  546,  548,  551,  552,\n",
       "        553,  556,  557,  561,  562,  564,  566,  568,  570,  571,  577,\n",
       "        578,  579,  581,  582,  587,  588,  589,  593,  596,  597,  599,\n",
       "        600,  603,  605,  609,  612,  616,  618,  620,  621,  622,  627,\n",
       "        628,  630,  632,  635,  637,  640,  643,  644,  645,  646,  647,\n",
       "        649,  652,  653,  654,  657,  658,  659,  660,  664,  666,  669,\n",
       "        670,  672,  673,  679,  682,  684,  687,  688,  691,  692,  693,\n",
       "        694,  697,  701,  702,  704,  705,  707,  708,  712,  713,  716,\n",
       "        718,  719,  721,  722,  727,  731,  734,  737,  741,  747,  754,\n",
       "        755,  759,  760,  761,  766,  767,  768,  770,  774,  777,  780,\n",
       "        782,  784,  785,  790,  791,  792,  793,  794,  800,  801,  802,\n",
       "        804,  806,  807,  810,  812,  814,  815,  818,  819,  821,  823,\n",
       "        825,  826,  830,  831,  833,  836,  837,  839,  842,  843,  845,\n",
       "        848,  849,  850,  851,  855,  856,  859,  863,  864,  865,  869,\n",
       "        870,  871,  872,  874,  875,  879,  881,  885,  886,  887,  890,\n",
       "        893,  894,  898,  899,  900,  901,  902,  905,  908,  914,  916,\n",
       "        917,  920,  929,  930,  932,  933,  937,  939,  941,  943,  947,\n",
       "        948,  949,  951,  952,  953,  956,  957,  958,  960,  962,  963,\n",
       "        964,  966,  968,  969,  970,  973,  975,  976,  977,  979,  980,\n",
       "        981,  983,  985,  987,  988,  989,  991,  994,  995,  996,  997,\n",
       "       1000, 1003, 1004, 1006, 1010, 1012, 1013, 1015, 1016, 1017, 1019,\n",
       "       1021, 1022, 1023, 1024, 1025, 1027, 1031, 1033, 1034, 1035, 1036,\n",
       "       1037, 1038, 1039, 1043, 1044, 1047, 1048, 1049, 1051, 1052, 1057,\n",
       "       1058, 1061, 1062, 1063, 1064, 1069, 1070, 1075, 1076, 1078, 1079,\n",
       "       1080, 1082, 1086, 1087, 1088, 1091, 1092, 1096, 1097, 1098, 1100,\n",
       "       1101, 1104, 1106, 1107, 1109, 1110, 1111, 1113, 1114, 1116, 1123,\n",
       "       1126, 1134, 1138, 1139, 1142, 1144, 1146, 1149, 1150, 1151, 1153,\n",
       "       1154, 1155, 1157, 1158, 1159, 1160, 1163, 1165, 1166, 1168, 1169,\n",
       "       1170, 1171, 1174, 1175, 1176, 1183, 1185, 1188, 1189, 1191, 1193,\n",
       "       1196, 1199, 1200, 1203, 1206, 1208, 1209, 1214, 1218, 1221, 1222,\n",
       "       1223, 1224, 1227, 1228, 1232, 1233, 1234, 1238, 1239, 1243, 1244,\n",
       "       1248, 1249, 1250, 1252, 1253, 1255, 1257, 1265, 1269, 1270, 1273,\n",
       "       1276, 1279, 1280, 1282, 1283, 1284, 1286, 1287, 1289, 1292, 1294,\n",
       "       1295, 1296, 1297, 1301, 1302, 1304, 1311, 1313, 1316, 1317, 1322,\n",
       "       1323, 1328, 1331, 1334, 1336, 1337, 1339, 1343, 1344, 1345, 1350,\n",
       "       1353, 1355, 1356, 1357, 1360, 1361, 1362, 1364, 1366, 1368, 1370,\n",
       "       1374, 1381, 1382, 1383, 1384, 1385, 1386, 1387, 1388, 1391, 1392,\n",
       "       1394, 1397, 1398, 1400, 1403, 1408, 1409, 1410, 1411, 1412, 1413,\n",
       "       1415, 1418, 1422, 1424, 1425, 1426, 1428, 1429, 1434, 1435, 1440,\n",
       "       1443, 1444, 1445, 1447, 1449, 1451, 1453, 1454, 1455, 1456, 1458,\n",
       "       1460, 1461, 1462, 1465, 1470, 1471, 1472, 1473, 1474, 1476, 1477,\n",
       "       1478, 1480, 1483, 1486, 1492, 1493, 1495, 1496, 1497, 1499, 1501,\n",
       "       1502, 1508, 1509, 1511, 1512, 1513, 1514, 1518, 1519, 1521, 1522,\n",
       "       1523, 1526, 1531, 1533, 1534, 1538, 1539, 1540, 1544, 1545, 1546,\n",
       "       1547, 1548, 1550, 1551, 1553, 1554, 1559, 1561, 1567, 1571, 1572,\n",
       "       1577, 1583, 1586, 1587, 1588, 1589, 1591, 1593, 1594, 1601, 1607,\n",
       "       1611, 1613, 1614, 1615, 1619, 1625, 1627, 1632, 1633, 1634, 1636,\n",
       "       1639, 1640, 1643, 1646, 1647, 1648, 1655, 1656, 1657, 1659, 1660,\n",
       "       1661, 1662, 1663, 1664, 1667, 1672, 1673, 1674, 1677, 1680, 1681,\n",
       "       1684, 1686, 1688, 1690, 1692, 1695, 1696, 1699, 1700, 1701, 1703,\n",
       "       1706, 1708, 1710, 1713, 1715, 1716, 1717, 1718, 1719, 1720, 1723,\n",
       "       1724, 1725, 1726, 1728, 1730, 1731, 1733, 1735, 1736, 1737, 1738,\n",
       "       1739, 1742, 1744, 1745, 1747, 1748, 1749, 1750, 1751, 1754, 1756,\n",
       "       1760, 1764, 1765, 1766, 1767, 1768, 1770, 1772, 1773, 1775, 1780,\n",
       "       1781, 1782, 1784, 1786, 1788, 1789, 1790, 1791, 1792, 1793, 1796,\n",
       "       1798, 1802, 1805, 1810, 1811, 1812, 1813, 1815, 1820, 1822, 1824,\n",
       "       1825, 1829, 1830, 1833, 1834])"
      ]
     },
     "execution_count": 77,
     "metadata": {},
     "output_type": "execute_result"
    }
   ],
   "source": [
    "chipo[chipo[\"item_price\"] > 10][\"order_id\"].unique()"
   ]
  },
  {
   "cell_type": "code",
   "execution_count": 78,
   "metadata": {},
   "outputs": [
    {
     "data": {
      "text/plain": [
       "863"
      ]
     },
     "execution_count": 78,
     "metadata": {},
     "output_type": "execute_result"
    }
   ],
   "source": [
    "chipo[chipo[\"item_price\"] > 10][\"order_id\"].nunique()"
   ]
  },
  {
   "attachments": {},
   "cell_type": "markdown",
   "metadata": {},
   "source": [
    "### Step 5. What is the price of each item and name it unit_price. Get only item_name and unit_price"
   ]
  },
  {
   "cell_type": "code",
   "execution_count": null,
   "metadata": {},
   "outputs": [
    {
     "data": {
      "text/plain": [
       "'\\naux = pd.DataFrame(chipo.groupby(\"item_name\")[[\"item_price\"]].mean())\\naux.item_price.rename(\"unit_price\")\\naux\\n'"
      ]
     },
     "execution_count": 98,
     "metadata": {},
     "output_type": "execute_result"
    }
   ],
   "source": [
    "chipo.groupby(\"item_name\")[[\"item_price\"]].mean()\n",
    "\"\"\"\n",
    "aux = pd.DataFrame(chipo.groupby(\"item_name\")[[\"item_price\"]].mean())\n",
    "aux.item_price.rename(\"unit_price\")\n",
    "aux\n",
    "\"\"\""
   ]
  },
  {
   "cell_type": "code",
   "execution_count": 82,
   "metadata": {},
   "outputs": [
    {
     "data": {
      "application/vnd.microsoft.datawrangler.viewer.v0+json": {
       "columns": [
        {
         "name": "index",
         "rawType": "int64",
         "type": "integer"
        },
        {
         "name": "item_name",
         "rawType": "object",
         "type": "string"
        },
        {
         "name": "unit_price",
         "rawType": "float64",
         "type": "float"
        }
       ],
       "conversionMethod": "pd.DataFrame",
       "ref": "187c1523-f38b-4f35-a314-cb67ea28de6c",
       "rows": [
        [
         "18",
         "Canned Soda",
         "1.09"
        ],
        [
         "3581",
         "Bottled Water",
         "1.09"
        ],
        [
         "3366",
         "Canned Soft Drink",
         "1.25"
        ],
        [
         "2130",
         "Bottled Water",
         "1.5"
        ],
        [
         "650",
         "Side of Chips",
         "1.69"
        ],
        [
         "2944",
         "Side of Chips",
         "1.6900000000000002"
        ],
        [
         "4509",
         "Chips",
         "1.99"
        ],
        [
         "4525",
         "Chips",
         "2.15"
        ],
        [
         "730",
         "Chips and Fresh Tomato Salsa",
         "2.29"
        ],
        [
         "0",
         "Chips and Fresh Tomato Salsa",
         "2.39"
        ],
        [
         "15",
         "Chips and Tomatillo-Green Chili Salsa",
         "2.39"
        ],
        [
         "3628",
         "Chips and Roasted Chili-Corn Salsa",
         "2.39"
        ],
        [
         "3171",
         "Chips and Tomatillo-Red Chili Salsa",
         "2.39"
        ],
        [
         "38",
         "Chips and Tomatillo Green Chili Salsa",
         "2.95"
        ],
        [
         "3110",
         "Chips and Fresh Tomato Salsa",
         "2.95"
        ],
        [
         "1736",
         "Chips and Tomatillo Red Chili Salsa",
         "2.95"
        ],
        [
         "1555",
         "Chips and Roasted Chili Corn Salsa",
         "2.95"
        ],
        [
         "674",
         "Chips and Mild Fresh Tomato Salsa",
         "3.0"
        ],
        [
         "1",
         "Izze",
         "3.39"
        ],
        [
         "2",
         "Nantucket Nectar",
         "3.39"
        ],
        [
         "927",
         "Chips and Guacamole",
         "3.89"
        ],
        [
         "971",
         "Chips and Guacamole",
         "3.99"
        ],
        [
         "1416",
         "Chips and Guacamole",
         "4.0"
        ],
        [
         "4237",
         "Chips and Guacamole",
         "4.25"
        ],
        [
         "1335",
         "Chips and Guacamole",
         "4.45"
        ],
        [
         "2713",
         "6 Pack Soft Drink",
         "6.49"
        ],
        [
         "445",
         "Bowl",
         "7.3999999999999995"
        ],
        [
         "519",
         "Burrito",
         "7.4"
        ],
        [
         "520",
         "Crispy Tacos",
         "7.4"
        ],
        [
         "1415",
         "Salad",
         "7.4"
        ],
        [
         "673",
         "Bowl",
         "7.4"
        ],
        [
         "3990",
         "Chicken Burrito",
         "8.19"
        ],
        [
         "3989",
         "Chicken Salad",
         "8.19"
        ],
        [
         "2918",
         "Chicken Bowl",
         "8.19"
        ],
        [
         "3080",
         "Chicken Bowl",
         "8.49"
        ],
        [
         "2671",
         "Chicken Soft Tacos",
         "8.49"
        ],
        [
         "2670",
         "Chicken Burrito",
         "8.49"
        ],
        [
         "3755",
         "Veggie Burrito",
         "8.49"
        ],
        [
         "3163",
         "Veggie Salad",
         "8.49"
        ],
        [
         "3617",
         "Veggie Bowl",
         "8.49"
        ],
        [
         "600",
         "Chicken Crispy Tacos",
         "8.49"
        ],
        [
         "1653",
         "Veggie Crispy Tacos",
         "8.49"
        ],
        [
         "3889",
         "Veggie Soft Tacos",
         "8.49"
        ],
        [
         "3982",
         "Chicken Salad",
         "8.49"
        ],
        [
         "4236",
         "Chicken Bowl",
         "8.5"
        ],
        [
         "3156",
         "Barbacoa Burrito",
         "8.69"
        ],
        [
         "3988",
         "Steak Burrito",
         "8.69"
        ],
        [
         "926",
         "Steak Bowl",
         "8.69"
        ],
        [
         "3529",
         "Carnitas Burrito",
         "8.69"
        ],
        [
         "4056",
         "Barbacoa Bowl",
         "8.69"
        ]
       ],
       "shape": {
        "columns": 2,
        "rows": 139
       }
      },
      "text/html": [
       "<div>\n",
       "<style scoped>\n",
       "    .dataframe tbody tr th:only-of-type {\n",
       "        vertical-align: middle;\n",
       "    }\n",
       "\n",
       "    .dataframe tbody tr th {\n",
       "        vertical-align: top;\n",
       "    }\n",
       "\n",
       "    .dataframe thead th {\n",
       "        text-align: right;\n",
       "    }\n",
       "</style>\n",
       "<table border=\"1\" class=\"dataframe\">\n",
       "  <thead>\n",
       "    <tr style=\"text-align: right;\">\n",
       "      <th></th>\n",
       "      <th>item_name</th>\n",
       "      <th>unit_price</th>\n",
       "    </tr>\n",
       "  </thead>\n",
       "  <tbody>\n",
       "    <tr>\n",
       "      <th>18</th>\n",
       "      <td>Canned Soda</td>\n",
       "      <td>1.09</td>\n",
       "    </tr>\n",
       "    <tr>\n",
       "      <th>3581</th>\n",
       "      <td>Bottled Water</td>\n",
       "      <td>1.09</td>\n",
       "    </tr>\n",
       "    <tr>\n",
       "      <th>3366</th>\n",
       "      <td>Canned Soft Drink</td>\n",
       "      <td>1.25</td>\n",
       "    </tr>\n",
       "    <tr>\n",
       "      <th>2130</th>\n",
       "      <td>Bottled Water</td>\n",
       "      <td>1.50</td>\n",
       "    </tr>\n",
       "    <tr>\n",
       "      <th>650</th>\n",
       "      <td>Side of Chips</td>\n",
       "      <td>1.69</td>\n",
       "    </tr>\n",
       "    <tr>\n",
       "      <th>...</th>\n",
       "      <td>...</td>\n",
       "      <td>...</td>\n",
       "    </tr>\n",
       "    <tr>\n",
       "      <th>485</th>\n",
       "      <td>Barbacoa Crispy Tacos</td>\n",
       "      <td>11.75</td>\n",
       "    </tr>\n",
       "    <tr>\n",
       "      <th>1008</th>\n",
       "      <td>Carnitas Crispy Tacos</td>\n",
       "      <td>11.75</td>\n",
       "    </tr>\n",
       "    <tr>\n",
       "      <th>3749</th>\n",
       "      <td>Carnitas Salad Bowl</td>\n",
       "      <td>11.89</td>\n",
       "    </tr>\n",
       "    <tr>\n",
       "      <th>2740</th>\n",
       "      <td>Steak Salad Bowl</td>\n",
       "      <td>11.89</td>\n",
       "    </tr>\n",
       "    <tr>\n",
       "      <th>2442</th>\n",
       "      <td>Barbacoa Salad Bowl</td>\n",
       "      <td>11.89</td>\n",
       "    </tr>\n",
       "  </tbody>\n",
       "</table>\n",
       "<p>139 rows × 2 columns</p>\n",
       "</div>"
      ],
      "text/plain": [
       "                  item_name  unit_price\n",
       "18              Canned Soda        1.09\n",
       "3581          Bottled Water        1.09\n",
       "3366      Canned Soft Drink        1.25\n",
       "2130          Bottled Water        1.50\n",
       "650           Side of Chips        1.69\n",
       "...                     ...         ...\n",
       "485   Barbacoa Crispy Tacos       11.75\n",
       "1008  Carnitas Crispy Tacos       11.75\n",
       "3749    Carnitas Salad Bowl       11.89\n",
       "2740       Steak Salad Bowl       11.89\n",
       "2442    Barbacoa Salad Bowl       11.89\n",
       "\n",
       "[139 rows x 2 columns]"
      ]
     },
     "execution_count": 82,
     "metadata": {},
     "output_type": "execute_result"
    }
   ],
   "source": [
    "chipo[[\"item_name\", \"unit_price\"]].sort_values(\"unit_price\").drop_duplicates()"
   ]
  },
  {
   "attachments": {},
   "cell_type": "markdown",
   "metadata": {},
   "source": [
    "### Step 6. Sort by the name of the item"
   ]
  },
  {
   "cell_type": "code",
   "execution_count": 79,
   "metadata": {},
   "outputs": [
    {
     "data": {
      "application/vnd.microsoft.datawrangler.viewer.v0+json": {
       "columns": [
        {
         "name": "item_name",
         "rawType": "object",
         "type": "string"
        },
        {
         "name": "item_price",
         "rawType": "float64",
         "type": "float"
        }
       ],
       "conversionMethod": "pd.DataFrame",
       "ref": "20ac2673-db67-4590-bde9-ec7287cf3343",
       "rows": [
        [
         "6 Pack Soft Drink",
         "6.610185185185185"
        ],
        [
         "Barbacoa Bowl",
         "10.187272727272727"
        ],
        [
         "Barbacoa Burrito",
         "9.832417582417582"
        ],
        [
         "Barbacoa Crispy Tacos",
         "10.928181818181818"
        ],
        [
         "Barbacoa Salad Bowl",
         "10.64"
        ],
        [
         "Barbacoa Soft Tacos",
         "10.0184"
        ],
        [
         "Bottled Water",
         "1.8676543209876544"
        ],
        [
         "Bowl",
         "14.8"
        ],
        [
         "Burrito",
         "7.400000000000001"
        ],
        [
         "Canned Soda",
         "1.320576923076923"
        ],
        [
         "Canned Soft Drink",
         "1.4576411960132891"
        ],
        [
         "Carnitas Bowl",
         "10.833970588235294"
        ],
        [
         "Carnitas Burrito",
         "10.13271186440678"
        ],
        [
         "Carnitas Crispy Tacos",
         "11.137142857142859"
        ],
        [
         "Carnitas Salad",
         "8.99"
        ],
        [
         "Carnitas Salad Bowl",
         "11.056666666666667"
        ],
        [
         "Carnitas Soft Tacos",
         "9.3985"
        ],
        [
         "Chicken Bowl",
         "10.113953168044079"
        ],
        [
         "Chicken Burrito",
         "10.082857142857142"
        ],
        [
         "Chicken Crispy Tacos",
         "10.04531914893617"
        ],
        [
         "Chicken Salad",
         "9.01"
        ],
        [
         "Chicken Salad Bowl",
         "11.170454545454545"
        ],
        [
         "Chicken Soft Tacos",
         "9.635565217391303"
        ],
        [
         "Chips",
         "2.3428436018957344"
        ],
        [
         "Chips and Fresh Tomato Salsa",
         "3.285090909090909"
        ],
        [
         "Chips and Guacamole",
         "4.595073068893528"
        ],
        [
         "Chips and Mild Fresh Tomato Salsa",
         "3.0"
        ],
        [
         "Chips and Roasted Chili Corn Salsa",
         "3.0840909090909094"
        ],
        [
         "Chips and Roasted Chili-Corn Salsa",
         "2.39"
        ],
        [
         "Chips and Tomatillo Green Chili Salsa",
         "3.0872093023255816"
        ],
        [
         "Chips and Tomatillo Red Chili Salsa",
         "3.0729166666666665"
        ],
        [
         "Chips and Tomatillo-Green Chili Salsa",
         "2.544193548387097"
        ],
        [
         "Chips and Tomatillo-Red Chili Salsa",
         "2.9875"
        ],
        [
         "Crispy Tacos",
         "7.4"
        ],
        [
         "Izze",
         "3.3899999999999997"
        ],
        [
         "Nantucket Nectar",
         "3.6411111111111114"
        ],
        [
         "Salad",
         "7.4"
        ],
        [
         "Side of Chips",
         "1.8405940594059407"
        ],
        [
         "Steak Bowl",
         "10.7118009478673"
        ],
        [
         "Steak Burrito",
         "10.465842391304347"
        ],
        [
         "Steak Crispy Tacos",
         "10.209714285714284"
        ],
        [
         "Steak Salad",
         "8.915"
        ],
        [
         "Steak Salad Bowl",
         "11.847931034482759"
        ],
        [
         "Steak Soft Tacos",
         "9.746363636363636"
        ],
        [
         "Veggie Bowl",
         "10.21164705882353"
        ],
        [
         "Veggie Burrito",
         "9.839684210526316"
        ],
        [
         "Veggie Crispy Tacos",
         "8.49"
        ],
        [
         "Veggie Salad",
         "8.49"
        ],
        [
         "Veggie Salad Bowl",
         "10.13888888888889"
        ],
        [
         "Veggie Soft Tacos",
         "10.565714285714288"
        ]
       ],
       "shape": {
        "columns": 1,
        "rows": 50
       }
      },
      "text/html": [
       "<div>\n",
       "<style scoped>\n",
       "    .dataframe tbody tr th:only-of-type {\n",
       "        vertical-align: middle;\n",
       "    }\n",
       "\n",
       "    .dataframe tbody tr th {\n",
       "        vertical-align: top;\n",
       "    }\n",
       "\n",
       "    .dataframe thead th {\n",
       "        text-align: right;\n",
       "    }\n",
       "</style>\n",
       "<table border=\"1\" class=\"dataframe\">\n",
       "  <thead>\n",
       "    <tr style=\"text-align: right;\">\n",
       "      <th></th>\n",
       "      <th>item_price</th>\n",
       "    </tr>\n",
       "    <tr>\n",
       "      <th>item_name</th>\n",
       "      <th></th>\n",
       "    </tr>\n",
       "  </thead>\n",
       "  <tbody>\n",
       "    <tr>\n",
       "      <th>6 Pack Soft Drink</th>\n",
       "      <td>6.610185</td>\n",
       "    </tr>\n",
       "    <tr>\n",
       "      <th>Barbacoa Bowl</th>\n",
       "      <td>10.187273</td>\n",
       "    </tr>\n",
       "    <tr>\n",
       "      <th>Barbacoa Burrito</th>\n",
       "      <td>9.832418</td>\n",
       "    </tr>\n",
       "    <tr>\n",
       "      <th>Barbacoa Crispy Tacos</th>\n",
       "      <td>10.928182</td>\n",
       "    </tr>\n",
       "    <tr>\n",
       "      <th>Barbacoa Salad Bowl</th>\n",
       "      <td>10.640000</td>\n",
       "    </tr>\n",
       "    <tr>\n",
       "      <th>Barbacoa Soft Tacos</th>\n",
       "      <td>10.018400</td>\n",
       "    </tr>\n",
       "    <tr>\n",
       "      <th>Bottled Water</th>\n",
       "      <td>1.867654</td>\n",
       "    </tr>\n",
       "    <tr>\n",
       "      <th>Bowl</th>\n",
       "      <td>14.800000</td>\n",
       "    </tr>\n",
       "    <tr>\n",
       "      <th>Burrito</th>\n",
       "      <td>7.400000</td>\n",
       "    </tr>\n",
       "    <tr>\n",
       "      <th>Canned Soda</th>\n",
       "      <td>1.320577</td>\n",
       "    </tr>\n",
       "    <tr>\n",
       "      <th>Canned Soft Drink</th>\n",
       "      <td>1.457641</td>\n",
       "    </tr>\n",
       "    <tr>\n",
       "      <th>Carnitas Bowl</th>\n",
       "      <td>10.833971</td>\n",
       "    </tr>\n",
       "    <tr>\n",
       "      <th>Carnitas Burrito</th>\n",
       "      <td>10.132712</td>\n",
       "    </tr>\n",
       "    <tr>\n",
       "      <th>Carnitas Crispy Tacos</th>\n",
       "      <td>11.137143</td>\n",
       "    </tr>\n",
       "    <tr>\n",
       "      <th>Carnitas Salad</th>\n",
       "      <td>8.990000</td>\n",
       "    </tr>\n",
       "    <tr>\n",
       "      <th>Carnitas Salad Bowl</th>\n",
       "      <td>11.056667</td>\n",
       "    </tr>\n",
       "    <tr>\n",
       "      <th>Carnitas Soft Tacos</th>\n",
       "      <td>9.398500</td>\n",
       "    </tr>\n",
       "    <tr>\n",
       "      <th>Chicken Bowl</th>\n",
       "      <td>10.113953</td>\n",
       "    </tr>\n",
       "    <tr>\n",
       "      <th>Chicken Burrito</th>\n",
       "      <td>10.082857</td>\n",
       "    </tr>\n",
       "    <tr>\n",
       "      <th>Chicken Crispy Tacos</th>\n",
       "      <td>10.045319</td>\n",
       "    </tr>\n",
       "    <tr>\n",
       "      <th>Chicken Salad</th>\n",
       "      <td>9.010000</td>\n",
       "    </tr>\n",
       "    <tr>\n",
       "      <th>Chicken Salad Bowl</th>\n",
       "      <td>11.170455</td>\n",
       "    </tr>\n",
       "    <tr>\n",
       "      <th>Chicken Soft Tacos</th>\n",
       "      <td>9.635565</td>\n",
       "    </tr>\n",
       "    <tr>\n",
       "      <th>Chips</th>\n",
       "      <td>2.342844</td>\n",
       "    </tr>\n",
       "    <tr>\n",
       "      <th>Chips and Fresh Tomato Salsa</th>\n",
       "      <td>3.285091</td>\n",
       "    </tr>\n",
       "    <tr>\n",
       "      <th>Chips and Guacamole</th>\n",
       "      <td>4.595073</td>\n",
       "    </tr>\n",
       "    <tr>\n",
       "      <th>Chips and Mild Fresh Tomato Salsa</th>\n",
       "      <td>3.000000</td>\n",
       "    </tr>\n",
       "    <tr>\n",
       "      <th>Chips and Roasted Chili Corn Salsa</th>\n",
       "      <td>3.084091</td>\n",
       "    </tr>\n",
       "    <tr>\n",
       "      <th>Chips and Roasted Chili-Corn Salsa</th>\n",
       "      <td>2.390000</td>\n",
       "    </tr>\n",
       "    <tr>\n",
       "      <th>Chips and Tomatillo Green Chili Salsa</th>\n",
       "      <td>3.087209</td>\n",
       "    </tr>\n",
       "    <tr>\n",
       "      <th>Chips and Tomatillo Red Chili Salsa</th>\n",
       "      <td>3.072917</td>\n",
       "    </tr>\n",
       "    <tr>\n",
       "      <th>Chips and Tomatillo-Green Chili Salsa</th>\n",
       "      <td>2.544194</td>\n",
       "    </tr>\n",
       "    <tr>\n",
       "      <th>Chips and Tomatillo-Red Chili Salsa</th>\n",
       "      <td>2.987500</td>\n",
       "    </tr>\n",
       "    <tr>\n",
       "      <th>Crispy Tacos</th>\n",
       "      <td>7.400000</td>\n",
       "    </tr>\n",
       "    <tr>\n",
       "      <th>Izze</th>\n",
       "      <td>3.390000</td>\n",
       "    </tr>\n",
       "    <tr>\n",
       "      <th>Nantucket Nectar</th>\n",
       "      <td>3.641111</td>\n",
       "    </tr>\n",
       "    <tr>\n",
       "      <th>Salad</th>\n",
       "      <td>7.400000</td>\n",
       "    </tr>\n",
       "    <tr>\n",
       "      <th>Side of Chips</th>\n",
       "      <td>1.840594</td>\n",
       "    </tr>\n",
       "    <tr>\n",
       "      <th>Steak Bowl</th>\n",
       "      <td>10.711801</td>\n",
       "    </tr>\n",
       "    <tr>\n",
       "      <th>Steak Burrito</th>\n",
       "      <td>10.465842</td>\n",
       "    </tr>\n",
       "    <tr>\n",
       "      <th>Steak Crispy Tacos</th>\n",
       "      <td>10.209714</td>\n",
       "    </tr>\n",
       "    <tr>\n",
       "      <th>Steak Salad</th>\n",
       "      <td>8.915000</td>\n",
       "    </tr>\n",
       "    <tr>\n",
       "      <th>Steak Salad Bowl</th>\n",
       "      <td>11.847931</td>\n",
       "    </tr>\n",
       "    <tr>\n",
       "      <th>Steak Soft Tacos</th>\n",
       "      <td>9.746364</td>\n",
       "    </tr>\n",
       "    <tr>\n",
       "      <th>Veggie Bowl</th>\n",
       "      <td>10.211647</td>\n",
       "    </tr>\n",
       "    <tr>\n",
       "      <th>Veggie Burrito</th>\n",
       "      <td>9.839684</td>\n",
       "    </tr>\n",
       "    <tr>\n",
       "      <th>Veggie Crispy Tacos</th>\n",
       "      <td>8.490000</td>\n",
       "    </tr>\n",
       "    <tr>\n",
       "      <th>Veggie Salad</th>\n",
       "      <td>8.490000</td>\n",
       "    </tr>\n",
       "    <tr>\n",
       "      <th>Veggie Salad Bowl</th>\n",
       "      <td>10.138889</td>\n",
       "    </tr>\n",
       "    <tr>\n",
       "      <th>Veggie Soft Tacos</th>\n",
       "      <td>10.565714</td>\n",
       "    </tr>\n",
       "  </tbody>\n",
       "</table>\n",
       "</div>"
      ],
      "text/plain": [
       "                                       item_price\n",
       "item_name                                        \n",
       "6 Pack Soft Drink                        6.610185\n",
       "Barbacoa Bowl                           10.187273\n",
       "Barbacoa Burrito                         9.832418\n",
       "Barbacoa Crispy Tacos                   10.928182\n",
       "Barbacoa Salad Bowl                     10.640000\n",
       "Barbacoa Soft Tacos                     10.018400\n",
       "Bottled Water                            1.867654\n",
       "Bowl                                    14.800000\n",
       "Burrito                                  7.400000\n",
       "Canned Soda                              1.320577\n",
       "Canned Soft Drink                        1.457641\n",
       "Carnitas Bowl                           10.833971\n",
       "Carnitas Burrito                        10.132712\n",
       "Carnitas Crispy Tacos                   11.137143\n",
       "Carnitas Salad                           8.990000\n",
       "Carnitas Salad Bowl                     11.056667\n",
       "Carnitas Soft Tacos                      9.398500\n",
       "Chicken Bowl                            10.113953\n",
       "Chicken Burrito                         10.082857\n",
       "Chicken Crispy Tacos                    10.045319\n",
       "Chicken Salad                            9.010000\n",
       "Chicken Salad Bowl                      11.170455\n",
       "Chicken Soft Tacos                       9.635565\n",
       "Chips                                    2.342844\n",
       "Chips and Fresh Tomato Salsa             3.285091\n",
       "Chips and Guacamole                      4.595073\n",
       "Chips and Mild Fresh Tomato Salsa        3.000000\n",
       "Chips and Roasted Chili Corn Salsa       3.084091\n",
       "Chips and Roasted Chili-Corn Salsa       2.390000\n",
       "Chips and Tomatillo Green Chili Salsa    3.087209\n",
       "Chips and Tomatillo Red Chili Salsa      3.072917\n",
       "Chips and Tomatillo-Green Chili Salsa    2.544194\n",
       "Chips and Tomatillo-Red Chili Salsa      2.987500\n",
       "Crispy Tacos                             7.400000\n",
       "Izze                                     3.390000\n",
       "Nantucket Nectar                         3.641111\n",
       "Salad                                    7.400000\n",
       "Side of Chips                            1.840594\n",
       "Steak Bowl                              10.711801\n",
       "Steak Burrito                           10.465842\n",
       "Steak Crispy Tacos                      10.209714\n",
       "Steak Salad                              8.915000\n",
       "Steak Salad Bowl                        11.847931\n",
       "Steak Soft Tacos                         9.746364\n",
       "Veggie Bowl                             10.211647\n",
       "Veggie Burrito                           9.839684\n",
       "Veggie Crispy Tacos                      8.490000\n",
       "Veggie Salad                             8.490000\n",
       "Veggie Salad Bowl                       10.138889\n",
       "Veggie Soft Tacos                       10.565714"
      ]
     },
     "execution_count": 79,
     "metadata": {},
     "output_type": "execute_result"
    }
   ],
   "source": [
    "aux = chipo.groupby(\"item_name\")[[\"item_price\"]].mean().sort_values(\"item_name\")\n",
    "aux"
   ]
  },
  {
   "attachments": {},
   "cell_type": "markdown",
   "metadata": {},
   "source": [
    "### Step 7. What was the quantity of the most expensive item ordered? 2 ways"
   ]
  },
  {
   "cell_type": "code",
   "execution_count": 103,
   "metadata": {},
   "outputs": [
    {
     "data": {
      "application/vnd.microsoft.datawrangler.viewer.v0+json": {
       "columns": [
        {
         "name": "item_name",
         "rawType": "object",
         "type": "string"
        },
        {
         "name": "item_price",
         "rawType": "float64",
         "type": "float"
        },
        {
         "name": "quantity",
         "rawType": "int64",
         "type": "integer"
        }
       ],
       "conversionMethod": "pd.DataFrame",
       "ref": "0783b054-7d29-4de7-885b-4708c49893b3",
       "rows": [
        [
         "6 Pack Soft Drink",
         "6.610185185185185",
         "55"
        ],
        [
         "Barbacoa Bowl",
         "10.187272727272727",
         "66"
        ],
        [
         "Barbacoa Burrito",
         "9.832417582417582",
         "91"
        ],
        [
         "Barbacoa Crispy Tacos",
         "10.928181818181818",
         "12"
        ],
        [
         "Barbacoa Salad Bowl",
         "10.64",
         "10"
        ],
        [
         "Barbacoa Soft Tacos",
         "10.0184",
         "25"
        ],
        [
         "Bottled Water",
         "1.8676543209876544",
         "211"
        ],
        [
         "Bowl",
         "14.8",
         "4"
        ],
        [
         "Burrito",
         "7.400000000000001",
         "6"
        ],
        [
         "Canned Soda",
         "1.320576923076923",
         "126"
        ],
        [
         "Canned Soft Drink",
         "1.4576411960132891",
         "351"
        ],
        [
         "Carnitas Bowl",
         "10.833970588235294",
         "71"
        ],
        [
         "Carnitas Burrito",
         "10.13271186440678",
         "60"
        ],
        [
         "Carnitas Crispy Tacos",
         "11.137142857142859",
         "8"
        ],
        [
         "Carnitas Salad",
         "8.99",
         "1"
        ],
        [
         "Carnitas Salad Bowl",
         "11.056666666666667",
         "6"
        ],
        [
         "Carnitas Soft Tacos",
         "9.3985",
         "40"
        ],
        [
         "Chicken Bowl",
         "10.113953168044079",
         "761"
        ],
        [
         "Chicken Burrito",
         "10.082857142857142",
         "591"
        ],
        [
         "Chicken Crispy Tacos",
         "10.04531914893617",
         "50"
        ],
        [
         "Chicken Salad",
         "9.01",
         "9"
        ],
        [
         "Chicken Salad Bowl",
         "11.170454545454545",
         "123"
        ],
        [
         "Chicken Soft Tacos",
         "9.635565217391303",
         "120"
        ],
        [
         "Chips",
         "2.3428436018957344",
         "230"
        ],
        [
         "Chips and Fresh Tomato Salsa",
         "3.285090909090909",
         "130"
        ],
        [
         "Chips and Guacamole",
         "4.595073068893528",
         "506"
        ],
        [
         "Chips and Mild Fresh Tomato Salsa",
         "3.0",
         "1"
        ],
        [
         "Chips and Roasted Chili Corn Salsa",
         "3.0840909090909094",
         "23"
        ],
        [
         "Chips and Roasted Chili-Corn Salsa",
         "2.39",
         "18"
        ],
        [
         "Chips and Tomatillo Green Chili Salsa",
         "3.0872093023255816",
         "45"
        ],
        [
         "Chips and Tomatillo Red Chili Salsa",
         "3.0729166666666665",
         "50"
        ],
        [
         "Chips and Tomatillo-Green Chili Salsa",
         "2.544193548387097",
         "33"
        ],
        [
         "Chips and Tomatillo-Red Chili Salsa",
         "2.9875",
         "25"
        ],
        [
         "Crispy Tacos",
         "7.4",
         "2"
        ],
        [
         "Izze",
         "3.3899999999999997",
         "20"
        ],
        [
         "Nantucket Nectar",
         "3.6411111111111114",
         "29"
        ],
        [
         "Salad",
         "7.4",
         "2"
        ],
        [
         "Side of Chips",
         "1.8405940594059407",
         "110"
        ],
        [
         "Steak Bowl",
         "10.7118009478673",
         "221"
        ],
        [
         "Steak Burrito",
         "10.465842391304347",
         "386"
        ],
        [
         "Steak Crispy Tacos",
         "10.209714285714284",
         "36"
        ],
        [
         "Steak Salad",
         "8.915",
         "4"
        ],
        [
         "Steak Salad Bowl",
         "11.847931034482759",
         "31"
        ],
        [
         "Steak Soft Tacos",
         "9.746363636363636",
         "56"
        ],
        [
         "Veggie Bowl",
         "10.21164705882353",
         "87"
        ],
        [
         "Veggie Burrito",
         "9.839684210526316",
         "97"
        ],
        [
         "Veggie Crispy Tacos",
         "8.49",
         "1"
        ],
        [
         "Veggie Salad",
         "8.49",
         "6"
        ],
        [
         "Veggie Salad Bowl",
         "10.13888888888889",
         "18"
        ],
        [
         "Veggie Soft Tacos",
         "10.565714285714288",
         "8"
        ]
       ],
       "shape": {
        "columns": 2,
        "rows": 50
       }
      },
      "text/html": [
       "<div>\n",
       "<style scoped>\n",
       "    .dataframe tbody tr th:only-of-type {\n",
       "        vertical-align: middle;\n",
       "    }\n",
       "\n",
       "    .dataframe tbody tr th {\n",
       "        vertical-align: top;\n",
       "    }\n",
       "\n",
       "    .dataframe thead th {\n",
       "        text-align: right;\n",
       "    }\n",
       "</style>\n",
       "<table border=\"1\" class=\"dataframe\">\n",
       "  <thead>\n",
       "    <tr style=\"text-align: right;\">\n",
       "      <th></th>\n",
       "      <th>item_price</th>\n",
       "      <th>quantity</th>\n",
       "    </tr>\n",
       "    <tr>\n",
       "      <th>item_name</th>\n",
       "      <th></th>\n",
       "      <th></th>\n",
       "    </tr>\n",
       "  </thead>\n",
       "  <tbody>\n",
       "    <tr>\n",
       "      <th>6 Pack Soft Drink</th>\n",
       "      <td>6.610185</td>\n",
       "      <td>55</td>\n",
       "    </tr>\n",
       "    <tr>\n",
       "      <th>Barbacoa Bowl</th>\n",
       "      <td>10.187273</td>\n",
       "      <td>66</td>\n",
       "    </tr>\n",
       "    <tr>\n",
       "      <th>Barbacoa Burrito</th>\n",
       "      <td>9.832418</td>\n",
       "      <td>91</td>\n",
       "    </tr>\n",
       "    <tr>\n",
       "      <th>Barbacoa Crispy Tacos</th>\n",
       "      <td>10.928182</td>\n",
       "      <td>12</td>\n",
       "    </tr>\n",
       "    <tr>\n",
       "      <th>Barbacoa Salad Bowl</th>\n",
       "      <td>10.640000</td>\n",
       "      <td>10</td>\n",
       "    </tr>\n",
       "    <tr>\n",
       "      <th>Barbacoa Soft Tacos</th>\n",
       "      <td>10.018400</td>\n",
       "      <td>25</td>\n",
       "    </tr>\n",
       "    <tr>\n",
       "      <th>Bottled Water</th>\n",
       "      <td>1.867654</td>\n",
       "      <td>211</td>\n",
       "    </tr>\n",
       "    <tr>\n",
       "      <th>Bowl</th>\n",
       "      <td>14.800000</td>\n",
       "      <td>4</td>\n",
       "    </tr>\n",
       "    <tr>\n",
       "      <th>Burrito</th>\n",
       "      <td>7.400000</td>\n",
       "      <td>6</td>\n",
       "    </tr>\n",
       "    <tr>\n",
       "      <th>Canned Soda</th>\n",
       "      <td>1.320577</td>\n",
       "      <td>126</td>\n",
       "    </tr>\n",
       "    <tr>\n",
       "      <th>Canned Soft Drink</th>\n",
       "      <td>1.457641</td>\n",
       "      <td>351</td>\n",
       "    </tr>\n",
       "    <tr>\n",
       "      <th>Carnitas Bowl</th>\n",
       "      <td>10.833971</td>\n",
       "      <td>71</td>\n",
       "    </tr>\n",
       "    <tr>\n",
       "      <th>Carnitas Burrito</th>\n",
       "      <td>10.132712</td>\n",
       "      <td>60</td>\n",
       "    </tr>\n",
       "    <tr>\n",
       "      <th>Carnitas Crispy Tacos</th>\n",
       "      <td>11.137143</td>\n",
       "      <td>8</td>\n",
       "    </tr>\n",
       "    <tr>\n",
       "      <th>Carnitas Salad</th>\n",
       "      <td>8.990000</td>\n",
       "      <td>1</td>\n",
       "    </tr>\n",
       "    <tr>\n",
       "      <th>Carnitas Salad Bowl</th>\n",
       "      <td>11.056667</td>\n",
       "      <td>6</td>\n",
       "    </tr>\n",
       "    <tr>\n",
       "      <th>Carnitas Soft Tacos</th>\n",
       "      <td>9.398500</td>\n",
       "      <td>40</td>\n",
       "    </tr>\n",
       "    <tr>\n",
       "      <th>Chicken Bowl</th>\n",
       "      <td>10.113953</td>\n",
       "      <td>761</td>\n",
       "    </tr>\n",
       "    <tr>\n",
       "      <th>Chicken Burrito</th>\n",
       "      <td>10.082857</td>\n",
       "      <td>591</td>\n",
       "    </tr>\n",
       "    <tr>\n",
       "      <th>Chicken Crispy Tacos</th>\n",
       "      <td>10.045319</td>\n",
       "      <td>50</td>\n",
       "    </tr>\n",
       "    <tr>\n",
       "      <th>Chicken Salad</th>\n",
       "      <td>9.010000</td>\n",
       "      <td>9</td>\n",
       "    </tr>\n",
       "    <tr>\n",
       "      <th>Chicken Salad Bowl</th>\n",
       "      <td>11.170455</td>\n",
       "      <td>123</td>\n",
       "    </tr>\n",
       "    <tr>\n",
       "      <th>Chicken Soft Tacos</th>\n",
       "      <td>9.635565</td>\n",
       "      <td>120</td>\n",
       "    </tr>\n",
       "    <tr>\n",
       "      <th>Chips</th>\n",
       "      <td>2.342844</td>\n",
       "      <td>230</td>\n",
       "    </tr>\n",
       "    <tr>\n",
       "      <th>Chips and Fresh Tomato Salsa</th>\n",
       "      <td>3.285091</td>\n",
       "      <td>130</td>\n",
       "    </tr>\n",
       "    <tr>\n",
       "      <th>Chips and Guacamole</th>\n",
       "      <td>4.595073</td>\n",
       "      <td>506</td>\n",
       "    </tr>\n",
       "    <tr>\n",
       "      <th>Chips and Mild Fresh Tomato Salsa</th>\n",
       "      <td>3.000000</td>\n",
       "      <td>1</td>\n",
       "    </tr>\n",
       "    <tr>\n",
       "      <th>Chips and Roasted Chili Corn Salsa</th>\n",
       "      <td>3.084091</td>\n",
       "      <td>23</td>\n",
       "    </tr>\n",
       "    <tr>\n",
       "      <th>Chips and Roasted Chili-Corn Salsa</th>\n",
       "      <td>2.390000</td>\n",
       "      <td>18</td>\n",
       "    </tr>\n",
       "    <tr>\n",
       "      <th>Chips and Tomatillo Green Chili Salsa</th>\n",
       "      <td>3.087209</td>\n",
       "      <td>45</td>\n",
       "    </tr>\n",
       "    <tr>\n",
       "      <th>Chips and Tomatillo Red Chili Salsa</th>\n",
       "      <td>3.072917</td>\n",
       "      <td>50</td>\n",
       "    </tr>\n",
       "    <tr>\n",
       "      <th>Chips and Tomatillo-Green Chili Salsa</th>\n",
       "      <td>2.544194</td>\n",
       "      <td>33</td>\n",
       "    </tr>\n",
       "    <tr>\n",
       "      <th>Chips and Tomatillo-Red Chili Salsa</th>\n",
       "      <td>2.987500</td>\n",
       "      <td>25</td>\n",
       "    </tr>\n",
       "    <tr>\n",
       "      <th>Crispy Tacos</th>\n",
       "      <td>7.400000</td>\n",
       "      <td>2</td>\n",
       "    </tr>\n",
       "    <tr>\n",
       "      <th>Izze</th>\n",
       "      <td>3.390000</td>\n",
       "      <td>20</td>\n",
       "    </tr>\n",
       "    <tr>\n",
       "      <th>Nantucket Nectar</th>\n",
       "      <td>3.641111</td>\n",
       "      <td>29</td>\n",
       "    </tr>\n",
       "    <tr>\n",
       "      <th>Salad</th>\n",
       "      <td>7.400000</td>\n",
       "      <td>2</td>\n",
       "    </tr>\n",
       "    <tr>\n",
       "      <th>Side of Chips</th>\n",
       "      <td>1.840594</td>\n",
       "      <td>110</td>\n",
       "    </tr>\n",
       "    <tr>\n",
       "      <th>Steak Bowl</th>\n",
       "      <td>10.711801</td>\n",
       "      <td>221</td>\n",
       "    </tr>\n",
       "    <tr>\n",
       "      <th>Steak Burrito</th>\n",
       "      <td>10.465842</td>\n",
       "      <td>386</td>\n",
       "    </tr>\n",
       "    <tr>\n",
       "      <th>Steak Crispy Tacos</th>\n",
       "      <td>10.209714</td>\n",
       "      <td>36</td>\n",
       "    </tr>\n",
       "    <tr>\n",
       "      <th>Steak Salad</th>\n",
       "      <td>8.915000</td>\n",
       "      <td>4</td>\n",
       "    </tr>\n",
       "    <tr>\n",
       "      <th>Steak Salad Bowl</th>\n",
       "      <td>11.847931</td>\n",
       "      <td>31</td>\n",
       "    </tr>\n",
       "    <tr>\n",
       "      <th>Steak Soft Tacos</th>\n",
       "      <td>9.746364</td>\n",
       "      <td>56</td>\n",
       "    </tr>\n",
       "    <tr>\n",
       "      <th>Veggie Bowl</th>\n",
       "      <td>10.211647</td>\n",
       "      <td>87</td>\n",
       "    </tr>\n",
       "    <tr>\n",
       "      <th>Veggie Burrito</th>\n",
       "      <td>9.839684</td>\n",
       "      <td>97</td>\n",
       "    </tr>\n",
       "    <tr>\n",
       "      <th>Veggie Crispy Tacos</th>\n",
       "      <td>8.490000</td>\n",
       "      <td>1</td>\n",
       "    </tr>\n",
       "    <tr>\n",
       "      <th>Veggie Salad</th>\n",
       "      <td>8.490000</td>\n",
       "      <td>6</td>\n",
       "    </tr>\n",
       "    <tr>\n",
       "      <th>Veggie Salad Bowl</th>\n",
       "      <td>10.138889</td>\n",
       "      <td>18</td>\n",
       "    </tr>\n",
       "    <tr>\n",
       "      <th>Veggie Soft Tacos</th>\n",
       "      <td>10.565714</td>\n",
       "      <td>8</td>\n",
       "    </tr>\n",
       "  </tbody>\n",
       "</table>\n",
       "</div>"
      ],
      "text/plain": [
       "                                       item_price  quantity\n",
       "item_name                                                  \n",
       "6 Pack Soft Drink                        6.610185        55\n",
       "Barbacoa Bowl                           10.187273        66\n",
       "Barbacoa Burrito                         9.832418        91\n",
       "Barbacoa Crispy Tacos                   10.928182        12\n",
       "Barbacoa Salad Bowl                     10.640000        10\n",
       "Barbacoa Soft Tacos                     10.018400        25\n",
       "Bottled Water                            1.867654       211\n",
       "Bowl                                    14.800000         4\n",
       "Burrito                                  7.400000         6\n",
       "Canned Soda                              1.320577       126\n",
       "Canned Soft Drink                        1.457641       351\n",
       "Carnitas Bowl                           10.833971        71\n",
       "Carnitas Burrito                        10.132712        60\n",
       "Carnitas Crispy Tacos                   11.137143         8\n",
       "Carnitas Salad                           8.990000         1\n",
       "Carnitas Salad Bowl                     11.056667         6\n",
       "Carnitas Soft Tacos                      9.398500        40\n",
       "Chicken Bowl                            10.113953       761\n",
       "Chicken Burrito                         10.082857       591\n",
       "Chicken Crispy Tacos                    10.045319        50\n",
       "Chicken Salad                            9.010000         9\n",
       "Chicken Salad Bowl                      11.170455       123\n",
       "Chicken Soft Tacos                       9.635565       120\n",
       "Chips                                    2.342844       230\n",
       "Chips and Fresh Tomato Salsa             3.285091       130\n",
       "Chips and Guacamole                      4.595073       506\n",
       "Chips and Mild Fresh Tomato Salsa        3.000000         1\n",
       "Chips and Roasted Chili Corn Salsa       3.084091        23\n",
       "Chips and Roasted Chili-Corn Salsa       2.390000        18\n",
       "Chips and Tomatillo Green Chili Salsa    3.087209        45\n",
       "Chips and Tomatillo Red Chili Salsa      3.072917        50\n",
       "Chips and Tomatillo-Green Chili Salsa    2.544194        33\n",
       "Chips and Tomatillo-Red Chili Salsa      2.987500        25\n",
       "Crispy Tacos                             7.400000         2\n",
       "Izze                                     3.390000        20\n",
       "Nantucket Nectar                         3.641111        29\n",
       "Salad                                    7.400000         2\n",
       "Side of Chips                            1.840594       110\n",
       "Steak Bowl                              10.711801       221\n",
       "Steak Burrito                           10.465842       386\n",
       "Steak Crispy Tacos                      10.209714        36\n",
       "Steak Salad                              8.915000         4\n",
       "Steak Salad Bowl                        11.847931        31\n",
       "Steak Soft Tacos                         9.746364        56\n",
       "Veggie Bowl                             10.211647        87\n",
       "Veggie Burrito                           9.839684        97\n",
       "Veggie Crispy Tacos                      8.490000         1\n",
       "Veggie Salad                             8.490000         6\n",
       "Veggie Salad Bowl                       10.138889        18\n",
       "Veggie Soft Tacos                       10.565714         8"
      ]
     },
     "execution_count": 103,
     "metadata": {},
     "output_type": "execute_result"
    }
   ],
   "source": [
    "aux[\"quantity\"] = chipo.groupby(\"item_name\")[[\"quantity\"]].sum()\n",
    "aux"
   ]
  },
  {
   "cell_type": "code",
   "execution_count": 104,
   "metadata": {},
   "outputs": [
    {
     "data": {
      "text/plain": [
       "item_name\n",
       "Bowl    4\n",
       "Name: quantity, dtype: int64"
      ]
     },
     "execution_count": 104,
     "metadata": {},
     "output_type": "execute_result"
    }
   ],
   "source": [
    "aux.quantity[aux.item_price == aux.item_price.max()]"
   ]
  },
  {
   "cell_type": "code",
   "execution_count": 92,
   "metadata": {},
   "outputs": [
    {
     "data": {
      "text/plain": [
       "item_name\n",
       "Barbacoa Salad Bowl     5\n",
       "Carnitas Salad Bowl     4\n",
       "Steak Salad Bowl       21\n",
       "Name: quantity, dtype: int64"
      ]
     },
     "execution_count": 92,
     "metadata": {},
     "output_type": "execute_result"
    }
   ],
   "source": [
    "chipo[chipo[\"unit_price\"] == chipo[\"unit_price\"].max()].groupby(\"item_name\")[\"quantity\"].sum()"
   ]
  },
  {
   "cell_type": "code",
   "execution_count": 105,
   "metadata": {},
   "outputs": [
    {
     "name": "stdout",
     "output_type": "stream",
     "text": [
      "<class 'pandas.core.frame.DataFrame'>\n",
      "Index: 50 entries, 6 Pack Soft Drink to Veggie Soft Tacos\n",
      "Data columns (total 2 columns):\n",
      " #   Column      Non-Null Count  Dtype  \n",
      "---  ------      --------------  -----  \n",
      " 0   item_price  50 non-null     float64\n",
      " 1   quantity    50 non-null     int64  \n",
      "dtypes: float64(1), int64(1)\n",
      "memory usage: 3.2+ KB\n"
     ]
    }
   ],
   "source": [
    "aux.info()"
   ]
  },
  {
   "attachments": {},
   "cell_type": "markdown",
   "metadata": {},
   "source": [
    "### Step 8. How many times was a Veggie Salad Bowl ordered?"
   ]
  },
  {
   "cell_type": "code",
   "execution_count": 109,
   "metadata": {},
   "outputs": [
    {
     "data": {
      "text/plain": [
       "item_name\n",
       "Veggie Salad Bowl    18\n",
       "Name: quantity, dtype: int64"
      ]
     },
     "execution_count": 109,
     "metadata": {},
     "output_type": "execute_result"
    }
   ],
   "source": [
    "\n",
    "aux[\"quantity\"][aux.index == \"Veggie Salad Bowl\"]"
   ]
  },
  {
   "attachments": {},
   "cell_type": "markdown",
   "metadata": {},
   "source": [
    "### Step 9. How many times did someone order more than one Canned Soda?"
   ]
  },
  {
   "cell_type": "code",
   "execution_count": 97,
   "metadata": {},
   "outputs": [
    {
     "data": {
      "application/vnd.microsoft.datawrangler.viewer.v0+json": {
       "columns": [
        {
         "name": "index",
         "rawType": "int64",
         "type": "integer"
        },
        {
         "name": "order_id",
         "rawType": "int64",
         "type": "integer"
        },
        {
         "name": "quantity",
         "rawType": "int64",
         "type": "integer"
        },
        {
         "name": "item_name",
         "rawType": "object",
         "type": "string"
        },
        {
         "name": "choice_description",
         "rawType": "object",
         "type": "unknown"
        },
        {
         "name": "item_price",
         "rawType": "float64",
         "type": "float"
        },
        {
         "name": "unit_price",
         "rawType": "float64",
         "type": "float"
        }
       ],
       "conversionMethod": "pd.DataFrame",
       "ref": "d044b6a6-f29c-4112-bdaa-d9c126b034e4",
       "rows": [
        [
         "0",
         "1",
         "1",
         "Chips and Fresh Tomato Salsa",
         null,
         "2.39",
         null
        ],
        [
         "1",
         "1",
         "1",
         "Izze",
         "[Clementine]",
         "3.39",
         null
        ],
        [
         "2",
         "1",
         "1",
         "Nantucket Nectar",
         "[Apple]",
         "3.39",
         null
        ],
        [
         "3",
         "1",
         "1",
         "Chips and Tomatillo-Green Chili Salsa",
         null,
         "2.39",
         null
        ],
        [
         "4",
         "2",
         "2",
         "Chicken Bowl",
         "[Tomatillo-Red Chili Salsa (Hot), [Black Beans, Rice, Cheese, Sour Cream]]",
         "16.98",
         null
        ]
       ],
       "shape": {
        "columns": 6,
        "rows": 5
       }
      },
      "text/html": [
       "<div>\n",
       "<style scoped>\n",
       "    .dataframe tbody tr th:only-of-type {\n",
       "        vertical-align: middle;\n",
       "    }\n",
       "\n",
       "    .dataframe tbody tr th {\n",
       "        vertical-align: top;\n",
       "    }\n",
       "\n",
       "    .dataframe thead th {\n",
       "        text-align: right;\n",
       "    }\n",
       "</style>\n",
       "<table border=\"1\" class=\"dataframe\">\n",
       "  <thead>\n",
       "    <tr style=\"text-align: right;\">\n",
       "      <th></th>\n",
       "      <th>order_id</th>\n",
       "      <th>quantity</th>\n",
       "      <th>item_name</th>\n",
       "      <th>choice_description</th>\n",
       "      <th>item_price</th>\n",
       "      <th>unit_price</th>\n",
       "    </tr>\n",
       "  </thead>\n",
       "  <tbody>\n",
       "    <tr>\n",
       "      <th>0</th>\n",
       "      <td>1</td>\n",
       "      <td>1</td>\n",
       "      <td>Chips and Fresh Tomato Salsa</td>\n",
       "      <td>NaN</td>\n",
       "      <td>2.39</td>\n",
       "      <td>NaN</td>\n",
       "    </tr>\n",
       "    <tr>\n",
       "      <th>1</th>\n",
       "      <td>1</td>\n",
       "      <td>1</td>\n",
       "      <td>Izze</td>\n",
       "      <td>[Clementine]</td>\n",
       "      <td>3.39</td>\n",
       "      <td>NaN</td>\n",
       "    </tr>\n",
       "    <tr>\n",
       "      <th>2</th>\n",
       "      <td>1</td>\n",
       "      <td>1</td>\n",
       "      <td>Nantucket Nectar</td>\n",
       "      <td>[Apple]</td>\n",
       "      <td>3.39</td>\n",
       "      <td>NaN</td>\n",
       "    </tr>\n",
       "    <tr>\n",
       "      <th>3</th>\n",
       "      <td>1</td>\n",
       "      <td>1</td>\n",
       "      <td>Chips and Tomatillo-Green Chili Salsa</td>\n",
       "      <td>NaN</td>\n",
       "      <td>2.39</td>\n",
       "      <td>NaN</td>\n",
       "    </tr>\n",
       "    <tr>\n",
       "      <th>4</th>\n",
       "      <td>2</td>\n",
       "      <td>2</td>\n",
       "      <td>Chicken Bowl</td>\n",
       "      <td>[Tomatillo-Red Chili Salsa (Hot), [Black Beans...</td>\n",
       "      <td>16.98</td>\n",
       "      <td>NaN</td>\n",
       "    </tr>\n",
       "  </tbody>\n",
       "</table>\n",
       "</div>"
      ],
      "text/plain": [
       "   order_id  quantity                              item_name  \\\n",
       "0         1         1           Chips and Fresh Tomato Salsa   \n",
       "1         1         1                                   Izze   \n",
       "2         1         1                       Nantucket Nectar   \n",
       "3         1         1  Chips and Tomatillo-Green Chili Salsa   \n",
       "4         2         2                           Chicken Bowl   \n",
       "\n",
       "                                  choice_description  item_price  unit_price  \n",
       "0                                                NaN        2.39         NaN  \n",
       "1                                       [Clementine]        3.39         NaN  \n",
       "2                                            [Apple]        3.39         NaN  \n",
       "3                                                NaN        2.39         NaN  \n",
       "4  [Tomatillo-Red Chili Salsa (Hot), [Black Beans...       16.98         NaN  "
      ]
     },
     "execution_count": 97,
     "metadata": {},
     "output_type": "execute_result"
    }
   ],
   "source": [
    "chipo.head()"
   ]
  },
  {
   "cell_type": "code",
   "execution_count": 98,
   "metadata": {},
   "outputs": [
    {
     "data": {
      "text/plain": [
       "np.int64(20)"
      ]
     },
     "execution_count": 98,
     "metadata": {},
     "output_type": "execute_result"
    }
   ],
   "source": [
    "chipo.order_id[(chipo.quantity >= 2) & (chipo.item_name == \"Canned Soda\")].count()"
   ]
  }
 ],
 "metadata": {
  "anaconda-cloud": {},
  "kernelspec": {
   "display_name": "Python 3",
   "language": "python",
   "name": "python3"
  },
  "language_info": {
   "codemirror_mode": {
    "name": "ipython",
    "version": 3
   },
   "file_extension": ".py",
   "mimetype": "text/x-python",
   "name": "python",
   "nbconvert_exporter": "python",
   "pygments_lexer": "ipython3",
   "version": "3.11.9"
  }
 },
 "nbformat": 4,
 "nbformat_minor": 4
}
