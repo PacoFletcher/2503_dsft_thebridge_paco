{
 "cells": [
  {
   "attachments": {},
   "cell_type": "markdown",
   "metadata": {},
   "source": [
    "# Fictional Army - Filtering and Sorting"
   ]
  },
  {
   "attachments": {},
   "cell_type": "markdown",
   "metadata": {},
   "source": [
    "### Import libraries"
   ]
  },
  {
   "cell_type": "code",
   "execution_count": 1,
   "metadata": {},
   "outputs": [],
   "source": [
    "import numpy as np\n",
    "import pandas as pd"
   ]
  },
  {
   "attachments": {},
   "cell_type": "markdown",
   "metadata": {},
   "source": [
    "### Step 1. This is the data given as a dictionary. Create a dataframe and assign it to a variable called army. "
   ]
  },
  {
   "cell_type": "code",
   "execution_count": 2,
   "metadata": {},
   "outputs": [],
   "source": [
    "# Create an example dataframe about a fictional army\n",
    "raw_data = {'regiment': ['Nighthawks', 'Nighthawks', 'Nighthawks', 'Nighthawks', 'Dragoons', 'Dragoons', 'Dragoons', 'Dragoons', 'Scouts', 'Scouts', 'Scouts', 'Scouts'],\n",
    "            'company': ['1st', '1st', '2nd', '2nd', '1st', '1st', '2nd', '2nd','1st', '1st', '2nd', '2nd'],\n",
    "            'deaths': [523, 52, 25, 616, 43, 234, 523, 62, None, 73, 37, 35],\n",
    "            'battles': [5, 42, 2, 2, 4, 7, 8, 3, 4, 7, 8, 9],\n",
    "            'size': [1045, 957, 1099, 1400, 1592, 1006, 987, 849, 973, 1005, 1099, 1523],\n",
    "            'veterans': [1, 5, 62, 26, 73, 37, 949, 48, 48, 435, 63, 345],\n",
    "            'readiness': [1, None, 3, None, 2, None, 2, None, None, 1, 2, None],\n",
    "            'armored': [1, 0, 1, 1, 0, 1, 0, 1, 0, 0, 1, 1],\n",
    "            'deserters': [4, 24, 31, 2, 3, 4, 24, 31, 2, 3, 2, 3],\n",
    "            'origin': ['Arizona', 'California', 'Texas', 'Florida', 'Maine', 'Iowa', 'Alaska', 'Washington', 'Oregon', 'Wyoming', 'Louisana', 'Georgia']}"
   ]
  },
  {
   "attachments": {},
   "cell_type": "markdown",
   "metadata": {},
   "source": [
    "### Step 2. Check missing values"
   ]
  },
  {
   "cell_type": "code",
   "execution_count": 3,
   "metadata": {},
   "outputs": [],
   "source": [
    "df = pd.DataFrame(raw_data)"
   ]
  },
  {
   "cell_type": "code",
   "execution_count": 4,
   "metadata": {},
   "outputs": [
    {
     "name": "stdout",
     "output_type": "stream",
     "text": [
      "<class 'pandas.core.frame.DataFrame'>\n",
      "RangeIndex: 12 entries, 0 to 11\n",
      "Data columns (total 10 columns):\n",
      " #   Column     Non-Null Count  Dtype  \n",
      "---  ------     --------------  -----  \n",
      " 0   regiment   12 non-null     object \n",
      " 1   company    12 non-null     object \n",
      " 2   deaths     11 non-null     float64\n",
      " 3   battles    12 non-null     int64  \n",
      " 4   size       12 non-null     int64  \n",
      " 5   veterans   12 non-null     int64  \n",
      " 6   readiness  6 non-null      float64\n",
      " 7   armored    12 non-null     int64  \n",
      " 8   deserters  12 non-null     int64  \n",
      " 9   origin     12 non-null     object \n",
      "dtypes: float64(2), int64(5), object(3)\n",
      "memory usage: 1.1+ KB\n"
     ]
    }
   ],
   "source": [
    "df.info()"
   ]
  },
  {
   "cell_type": "code",
   "execution_count": 5,
   "metadata": {},
   "outputs": [
    {
     "data": {
      "application/vnd.microsoft.datawrangler.viewer.v0+json": {
       "columns": [
        {
         "name": "index",
         "rawType": "object",
         "type": "string"
        },
        {
         "name": "regiment",
         "rawType": "object",
         "type": "unknown"
        },
        {
         "name": "company",
         "rawType": "object",
         "type": "unknown"
        },
        {
         "name": "deaths",
         "rawType": "float64",
         "type": "float"
        },
        {
         "name": "battles",
         "rawType": "float64",
         "type": "float"
        },
        {
         "name": "size",
         "rawType": "float64",
         "type": "float"
        },
        {
         "name": "veterans",
         "rawType": "float64",
         "type": "float"
        },
        {
         "name": "readiness",
         "rawType": "float64",
         "type": "float"
        },
        {
         "name": "armored",
         "rawType": "float64",
         "type": "float"
        },
        {
         "name": "deserters",
         "rawType": "float64",
         "type": "float"
        },
        {
         "name": "origin",
         "rawType": "object",
         "type": "unknown"
        }
       ],
       "conversionMethod": "pd.DataFrame",
       "ref": "aa076960-3b39-49a0-b57c-ddad6bf6516e",
       "rows": [
        [
         "count",
         "12",
         "12",
         "11.0",
         "12.0",
         "12.0",
         "12.0",
         "6.0",
         "12.0",
         "12.0",
         "12"
        ],
        [
         "unique",
         "3",
         "2",
         null,
         null,
         null,
         null,
         null,
         null,
         null,
         "12"
        ],
        [
         "top",
         "Nighthawks",
         "1st",
         null,
         null,
         null,
         null,
         null,
         null,
         null,
         "Arizona"
        ],
        [
         "freq",
         "4",
         "6",
         null,
         null,
         null,
         null,
         null,
         null,
         null,
         "1"
        ],
        [
         "mean",
         null,
         null,
         "202.0909090909091",
         "8.416666666666666",
         "1127.9166666666667",
         "174.33333333333334",
         "1.8333333333333333",
         "0.5833333333333334",
         "11.083333333333334",
         null
        ],
        [
         "std",
         null,
         null,
         "234.30042874286613",
         "10.849870827327713",
         "240.24171855307173",
         "280.2542136033359",
         "0.752772652709081",
         "0.5149286505444373",
         "12.324833270739004",
         null
        ],
        [
         "min",
         null,
         null,
         "25.0",
         "2.0",
         "849.0",
         "1.0",
         "1.0",
         "0.0",
         "2.0",
         null
        ],
        [
         "25%",
         null,
         null,
         "40.0",
         "3.75",
         "983.5",
         "34.25",
         "1.25",
         "0.0",
         "2.75",
         null
        ],
        [
         "50%",
         null,
         null,
         "62.0",
         "6.0",
         "1025.5",
         "55.0",
         "2.0",
         "1.0",
         "3.5",
         null
        ],
        [
         "75%",
         null,
         null,
         "378.5",
         "8.0",
         "1174.25",
         "141.0",
         "2.0",
         "1.0",
         "24.0",
         null
        ],
        [
         "max",
         null,
         null,
         "616.0",
         "42.0",
         "1592.0",
         "949.0",
         "3.0",
         "1.0",
         "31.0",
         null
        ]
       ],
       "shape": {
        "columns": 10,
        "rows": 11
       }
      },
      "text/html": [
       "<div>\n",
       "<style scoped>\n",
       "    .dataframe tbody tr th:only-of-type {\n",
       "        vertical-align: middle;\n",
       "    }\n",
       "\n",
       "    .dataframe tbody tr th {\n",
       "        vertical-align: top;\n",
       "    }\n",
       "\n",
       "    .dataframe thead th {\n",
       "        text-align: right;\n",
       "    }\n",
       "</style>\n",
       "<table border=\"1\" class=\"dataframe\">\n",
       "  <thead>\n",
       "    <tr style=\"text-align: right;\">\n",
       "      <th></th>\n",
       "      <th>regiment</th>\n",
       "      <th>company</th>\n",
       "      <th>deaths</th>\n",
       "      <th>battles</th>\n",
       "      <th>size</th>\n",
       "      <th>veterans</th>\n",
       "      <th>readiness</th>\n",
       "      <th>armored</th>\n",
       "      <th>deserters</th>\n",
       "      <th>origin</th>\n",
       "    </tr>\n",
       "  </thead>\n",
       "  <tbody>\n",
       "    <tr>\n",
       "      <th>count</th>\n",
       "      <td>12</td>\n",
       "      <td>12</td>\n",
       "      <td>11.000000</td>\n",
       "      <td>12.000000</td>\n",
       "      <td>12.000000</td>\n",
       "      <td>12.000000</td>\n",
       "      <td>6.000000</td>\n",
       "      <td>12.000000</td>\n",
       "      <td>12.000000</td>\n",
       "      <td>12</td>\n",
       "    </tr>\n",
       "    <tr>\n",
       "      <th>unique</th>\n",
       "      <td>3</td>\n",
       "      <td>2</td>\n",
       "      <td>NaN</td>\n",
       "      <td>NaN</td>\n",
       "      <td>NaN</td>\n",
       "      <td>NaN</td>\n",
       "      <td>NaN</td>\n",
       "      <td>NaN</td>\n",
       "      <td>NaN</td>\n",
       "      <td>12</td>\n",
       "    </tr>\n",
       "    <tr>\n",
       "      <th>top</th>\n",
       "      <td>Nighthawks</td>\n",
       "      <td>1st</td>\n",
       "      <td>NaN</td>\n",
       "      <td>NaN</td>\n",
       "      <td>NaN</td>\n",
       "      <td>NaN</td>\n",
       "      <td>NaN</td>\n",
       "      <td>NaN</td>\n",
       "      <td>NaN</td>\n",
       "      <td>Arizona</td>\n",
       "    </tr>\n",
       "    <tr>\n",
       "      <th>freq</th>\n",
       "      <td>4</td>\n",
       "      <td>6</td>\n",
       "      <td>NaN</td>\n",
       "      <td>NaN</td>\n",
       "      <td>NaN</td>\n",
       "      <td>NaN</td>\n",
       "      <td>NaN</td>\n",
       "      <td>NaN</td>\n",
       "      <td>NaN</td>\n",
       "      <td>1</td>\n",
       "    </tr>\n",
       "    <tr>\n",
       "      <th>mean</th>\n",
       "      <td>NaN</td>\n",
       "      <td>NaN</td>\n",
       "      <td>202.090909</td>\n",
       "      <td>8.416667</td>\n",
       "      <td>1127.916667</td>\n",
       "      <td>174.333333</td>\n",
       "      <td>1.833333</td>\n",
       "      <td>0.583333</td>\n",
       "      <td>11.083333</td>\n",
       "      <td>NaN</td>\n",
       "    </tr>\n",
       "    <tr>\n",
       "      <th>std</th>\n",
       "      <td>NaN</td>\n",
       "      <td>NaN</td>\n",
       "      <td>234.300429</td>\n",
       "      <td>10.849871</td>\n",
       "      <td>240.241719</td>\n",
       "      <td>280.254214</td>\n",
       "      <td>0.752773</td>\n",
       "      <td>0.514929</td>\n",
       "      <td>12.324833</td>\n",
       "      <td>NaN</td>\n",
       "    </tr>\n",
       "    <tr>\n",
       "      <th>min</th>\n",
       "      <td>NaN</td>\n",
       "      <td>NaN</td>\n",
       "      <td>25.000000</td>\n",
       "      <td>2.000000</td>\n",
       "      <td>849.000000</td>\n",
       "      <td>1.000000</td>\n",
       "      <td>1.000000</td>\n",
       "      <td>0.000000</td>\n",
       "      <td>2.000000</td>\n",
       "      <td>NaN</td>\n",
       "    </tr>\n",
       "    <tr>\n",
       "      <th>25%</th>\n",
       "      <td>NaN</td>\n",
       "      <td>NaN</td>\n",
       "      <td>40.000000</td>\n",
       "      <td>3.750000</td>\n",
       "      <td>983.500000</td>\n",
       "      <td>34.250000</td>\n",
       "      <td>1.250000</td>\n",
       "      <td>0.000000</td>\n",
       "      <td>2.750000</td>\n",
       "      <td>NaN</td>\n",
       "    </tr>\n",
       "    <tr>\n",
       "      <th>50%</th>\n",
       "      <td>NaN</td>\n",
       "      <td>NaN</td>\n",
       "      <td>62.000000</td>\n",
       "      <td>6.000000</td>\n",
       "      <td>1025.500000</td>\n",
       "      <td>55.000000</td>\n",
       "      <td>2.000000</td>\n",
       "      <td>1.000000</td>\n",
       "      <td>3.500000</td>\n",
       "      <td>NaN</td>\n",
       "    </tr>\n",
       "    <tr>\n",
       "      <th>75%</th>\n",
       "      <td>NaN</td>\n",
       "      <td>NaN</td>\n",
       "      <td>378.500000</td>\n",
       "      <td>8.000000</td>\n",
       "      <td>1174.250000</td>\n",
       "      <td>141.000000</td>\n",
       "      <td>2.000000</td>\n",
       "      <td>1.000000</td>\n",
       "      <td>24.000000</td>\n",
       "      <td>NaN</td>\n",
       "    </tr>\n",
       "    <tr>\n",
       "      <th>max</th>\n",
       "      <td>NaN</td>\n",
       "      <td>NaN</td>\n",
       "      <td>616.000000</td>\n",
       "      <td>42.000000</td>\n",
       "      <td>1592.000000</td>\n",
       "      <td>949.000000</td>\n",
       "      <td>3.000000</td>\n",
       "      <td>1.000000</td>\n",
       "      <td>31.000000</td>\n",
       "      <td>NaN</td>\n",
       "    </tr>\n",
       "  </tbody>\n",
       "</table>\n",
       "</div>"
      ],
      "text/plain": [
       "          regiment company      deaths    battles         size    veterans  \\\n",
       "count           12      12   11.000000  12.000000    12.000000   12.000000   \n",
       "unique           3       2         NaN        NaN          NaN         NaN   \n",
       "top     Nighthawks     1st         NaN        NaN          NaN         NaN   \n",
       "freq             4       6         NaN        NaN          NaN         NaN   \n",
       "mean           NaN     NaN  202.090909   8.416667  1127.916667  174.333333   \n",
       "std            NaN     NaN  234.300429  10.849871   240.241719  280.254214   \n",
       "min            NaN     NaN   25.000000   2.000000   849.000000    1.000000   \n",
       "25%            NaN     NaN   40.000000   3.750000   983.500000   34.250000   \n",
       "50%            NaN     NaN   62.000000   6.000000  1025.500000   55.000000   \n",
       "75%            NaN     NaN  378.500000   8.000000  1174.250000  141.000000   \n",
       "max            NaN     NaN  616.000000  42.000000  1592.000000  949.000000   \n",
       "\n",
       "        readiness    armored  deserters   origin  \n",
       "count    6.000000  12.000000  12.000000       12  \n",
       "unique        NaN        NaN        NaN       12  \n",
       "top           NaN        NaN        NaN  Arizona  \n",
       "freq          NaN        NaN        NaN        1  \n",
       "mean     1.833333   0.583333  11.083333      NaN  \n",
       "std      0.752773   0.514929  12.324833      NaN  \n",
       "min      1.000000   0.000000   2.000000      NaN  \n",
       "25%      1.250000   0.000000   2.750000      NaN  \n",
       "50%      2.000000   1.000000   3.500000      NaN  \n",
       "75%      2.000000   1.000000  24.000000      NaN  \n",
       "max      3.000000   1.000000  31.000000      NaN  "
      ]
     },
     "execution_count": 5,
     "metadata": {},
     "output_type": "execute_result"
    }
   ],
   "source": [
    "df.describe(include=\"all\")"
   ]
  },
  {
   "cell_type": "code",
   "execution_count": 6,
   "metadata": {},
   "outputs": [
    {
     "data": {
      "application/vnd.microsoft.datawrangler.viewer.v0+json": {
       "columns": [
        {
         "name": "index",
         "rawType": "int64",
         "type": "integer"
        },
        {
         "name": "regiment",
         "rawType": "object",
         "type": "string"
        },
        {
         "name": "company",
         "rawType": "object",
         "type": "string"
        },
        {
         "name": "deaths",
         "rawType": "float64",
         "type": "float"
        },
        {
         "name": "battles",
         "rawType": "int64",
         "type": "integer"
        },
        {
         "name": "size",
         "rawType": "int64",
         "type": "integer"
        },
        {
         "name": "veterans",
         "rawType": "int64",
         "type": "integer"
        },
        {
         "name": "readiness",
         "rawType": "float64",
         "type": "float"
        },
        {
         "name": "armored",
         "rawType": "int64",
         "type": "integer"
        },
        {
         "name": "deserters",
         "rawType": "int64",
         "type": "integer"
        },
        {
         "name": "origin",
         "rawType": "object",
         "type": "string"
        }
       ],
       "conversionMethod": "pd.DataFrame",
       "ref": "7d3b09b2-43bb-4474-8ded-45bd4283eb68",
       "rows": [
        [
         "0",
         "Nighthawks",
         "1st",
         "523.0",
         "5",
         "1045",
         "1",
         "1.0",
         "1",
         "4",
         "Arizona"
        ],
        [
         "1",
         "Nighthawks",
         "1st",
         "52.0",
         "42",
         "957",
         "5",
         null,
         "0",
         "24",
         "California"
        ],
        [
         "2",
         "Nighthawks",
         "2nd",
         "25.0",
         "2",
         "1099",
         "62",
         "3.0",
         "1",
         "31",
         "Texas"
        ],
        [
         "3",
         "Nighthawks",
         "2nd",
         "616.0",
         "2",
         "1400",
         "26",
         null,
         "1",
         "2",
         "Florida"
        ],
        [
         "4",
         "Dragoons",
         "1st",
         "43.0",
         "4",
         "1592",
         "73",
         "2.0",
         "0",
         "3",
         "Maine"
        ]
       ],
       "shape": {
        "columns": 10,
        "rows": 5
       }
      },
      "text/html": [
       "<div>\n",
       "<style scoped>\n",
       "    .dataframe tbody tr th:only-of-type {\n",
       "        vertical-align: middle;\n",
       "    }\n",
       "\n",
       "    .dataframe tbody tr th {\n",
       "        vertical-align: top;\n",
       "    }\n",
       "\n",
       "    .dataframe thead th {\n",
       "        text-align: right;\n",
       "    }\n",
       "</style>\n",
       "<table border=\"1\" class=\"dataframe\">\n",
       "  <thead>\n",
       "    <tr style=\"text-align: right;\">\n",
       "      <th></th>\n",
       "      <th>regiment</th>\n",
       "      <th>company</th>\n",
       "      <th>deaths</th>\n",
       "      <th>battles</th>\n",
       "      <th>size</th>\n",
       "      <th>veterans</th>\n",
       "      <th>readiness</th>\n",
       "      <th>armored</th>\n",
       "      <th>deserters</th>\n",
       "      <th>origin</th>\n",
       "    </tr>\n",
       "  </thead>\n",
       "  <tbody>\n",
       "    <tr>\n",
       "      <th>0</th>\n",
       "      <td>Nighthawks</td>\n",
       "      <td>1st</td>\n",
       "      <td>523.0</td>\n",
       "      <td>5</td>\n",
       "      <td>1045</td>\n",
       "      <td>1</td>\n",
       "      <td>1.0</td>\n",
       "      <td>1</td>\n",
       "      <td>4</td>\n",
       "      <td>Arizona</td>\n",
       "    </tr>\n",
       "    <tr>\n",
       "      <th>1</th>\n",
       "      <td>Nighthawks</td>\n",
       "      <td>1st</td>\n",
       "      <td>52.0</td>\n",
       "      <td>42</td>\n",
       "      <td>957</td>\n",
       "      <td>5</td>\n",
       "      <td>NaN</td>\n",
       "      <td>0</td>\n",
       "      <td>24</td>\n",
       "      <td>California</td>\n",
       "    </tr>\n",
       "    <tr>\n",
       "      <th>2</th>\n",
       "      <td>Nighthawks</td>\n",
       "      <td>2nd</td>\n",
       "      <td>25.0</td>\n",
       "      <td>2</td>\n",
       "      <td>1099</td>\n",
       "      <td>62</td>\n",
       "      <td>3.0</td>\n",
       "      <td>1</td>\n",
       "      <td>31</td>\n",
       "      <td>Texas</td>\n",
       "    </tr>\n",
       "    <tr>\n",
       "      <th>3</th>\n",
       "      <td>Nighthawks</td>\n",
       "      <td>2nd</td>\n",
       "      <td>616.0</td>\n",
       "      <td>2</td>\n",
       "      <td>1400</td>\n",
       "      <td>26</td>\n",
       "      <td>NaN</td>\n",
       "      <td>1</td>\n",
       "      <td>2</td>\n",
       "      <td>Florida</td>\n",
       "    </tr>\n",
       "    <tr>\n",
       "      <th>4</th>\n",
       "      <td>Dragoons</td>\n",
       "      <td>1st</td>\n",
       "      <td>43.0</td>\n",
       "      <td>4</td>\n",
       "      <td>1592</td>\n",
       "      <td>73</td>\n",
       "      <td>2.0</td>\n",
       "      <td>0</td>\n",
       "      <td>3</td>\n",
       "      <td>Maine</td>\n",
       "    </tr>\n",
       "  </tbody>\n",
       "</table>\n",
       "</div>"
      ],
      "text/plain": [
       "     regiment company  deaths  battles  size  veterans  readiness  armored  \\\n",
       "0  Nighthawks     1st   523.0        5  1045         1        1.0        1   \n",
       "1  Nighthawks     1st    52.0       42   957         5        NaN        0   \n",
       "2  Nighthawks     2nd    25.0        2  1099        62        3.0        1   \n",
       "3  Nighthawks     2nd   616.0        2  1400        26        NaN        1   \n",
       "4    Dragoons     1st    43.0        4  1592        73        2.0        0   \n",
       "\n",
       "   deserters      origin  \n",
       "0          4     Arizona  \n",
       "1         24  California  \n",
       "2         31       Texas  \n",
       "3          2     Florida  \n",
       "4          3       Maine  "
      ]
     },
     "execution_count": 6,
     "metadata": {},
     "output_type": "execute_result"
    }
   ],
   "source": [
    "df.head()"
   ]
  },
  {
   "cell_type": "code",
   "execution_count": 7,
   "metadata": {},
   "outputs": [
    {
     "data": {
      "application/vnd.microsoft.datawrangler.viewer.v0+json": {
       "columns": [
        {
         "name": "index",
         "rawType": "int64",
         "type": "integer"
        },
        {
         "name": "regiment",
         "rawType": "object",
         "type": "string"
        },
        {
         "name": "company",
         "rawType": "object",
         "type": "string"
        },
        {
         "name": "deaths",
         "rawType": "float64",
         "type": "float"
        },
        {
         "name": "battles",
         "rawType": "int64",
         "type": "integer"
        },
        {
         "name": "size",
         "rawType": "int64",
         "type": "integer"
        },
        {
         "name": "veterans",
         "rawType": "int64",
         "type": "integer"
        },
        {
         "name": "readiness",
         "rawType": "float64",
         "type": "float"
        },
        {
         "name": "armored",
         "rawType": "int64",
         "type": "integer"
        },
        {
         "name": "deserters",
         "rawType": "int64",
         "type": "integer"
        },
        {
         "name": "origin",
         "rawType": "object",
         "type": "string"
        }
       ],
       "conversionMethod": "pd.DataFrame",
       "ref": "75fa7825-e07a-432b-ba7b-a19105125b8c",
       "rows": [
        [
         "1",
         "Nighthawks",
         "1st",
         "52.0",
         "42",
         "957",
         "5",
         null,
         "0",
         "24",
         "California"
        ],
        [
         "3",
         "Nighthawks",
         "2nd",
         "616.0",
         "2",
         "1400",
         "26",
         null,
         "1",
         "2",
         "Florida"
        ],
        [
         "5",
         "Dragoons",
         "1st",
         "234.0",
         "7",
         "1006",
         "37",
         null,
         "1",
         "4",
         "Iowa"
        ],
        [
         "7",
         "Dragoons",
         "2nd",
         "62.0",
         "3",
         "849",
         "48",
         null,
         "1",
         "31",
         "Washington"
        ],
        [
         "8",
         "Scouts",
         "1st",
         null,
         "4",
         "973",
         "48",
         null,
         "0",
         "2",
         "Oregon"
        ],
        [
         "11",
         "Scouts",
         "2nd",
         "35.0",
         "9",
         "1523",
         "345",
         null,
         "1",
         "3",
         "Georgia"
        ]
       ],
       "shape": {
        "columns": 10,
        "rows": 6
       }
      },
      "text/html": [
       "<div>\n",
       "<style scoped>\n",
       "    .dataframe tbody tr th:only-of-type {\n",
       "        vertical-align: middle;\n",
       "    }\n",
       "\n",
       "    .dataframe tbody tr th {\n",
       "        vertical-align: top;\n",
       "    }\n",
       "\n",
       "    .dataframe thead th {\n",
       "        text-align: right;\n",
       "    }\n",
       "</style>\n",
       "<table border=\"1\" class=\"dataframe\">\n",
       "  <thead>\n",
       "    <tr style=\"text-align: right;\">\n",
       "      <th></th>\n",
       "      <th>regiment</th>\n",
       "      <th>company</th>\n",
       "      <th>deaths</th>\n",
       "      <th>battles</th>\n",
       "      <th>size</th>\n",
       "      <th>veterans</th>\n",
       "      <th>readiness</th>\n",
       "      <th>armored</th>\n",
       "      <th>deserters</th>\n",
       "      <th>origin</th>\n",
       "    </tr>\n",
       "  </thead>\n",
       "  <tbody>\n",
       "    <tr>\n",
       "      <th>1</th>\n",
       "      <td>Nighthawks</td>\n",
       "      <td>1st</td>\n",
       "      <td>52.0</td>\n",
       "      <td>42</td>\n",
       "      <td>957</td>\n",
       "      <td>5</td>\n",
       "      <td>NaN</td>\n",
       "      <td>0</td>\n",
       "      <td>24</td>\n",
       "      <td>California</td>\n",
       "    </tr>\n",
       "    <tr>\n",
       "      <th>3</th>\n",
       "      <td>Nighthawks</td>\n",
       "      <td>2nd</td>\n",
       "      <td>616.0</td>\n",
       "      <td>2</td>\n",
       "      <td>1400</td>\n",
       "      <td>26</td>\n",
       "      <td>NaN</td>\n",
       "      <td>1</td>\n",
       "      <td>2</td>\n",
       "      <td>Florida</td>\n",
       "    </tr>\n",
       "    <tr>\n",
       "      <th>5</th>\n",
       "      <td>Dragoons</td>\n",
       "      <td>1st</td>\n",
       "      <td>234.0</td>\n",
       "      <td>7</td>\n",
       "      <td>1006</td>\n",
       "      <td>37</td>\n",
       "      <td>NaN</td>\n",
       "      <td>1</td>\n",
       "      <td>4</td>\n",
       "      <td>Iowa</td>\n",
       "    </tr>\n",
       "    <tr>\n",
       "      <th>7</th>\n",
       "      <td>Dragoons</td>\n",
       "      <td>2nd</td>\n",
       "      <td>62.0</td>\n",
       "      <td>3</td>\n",
       "      <td>849</td>\n",
       "      <td>48</td>\n",
       "      <td>NaN</td>\n",
       "      <td>1</td>\n",
       "      <td>31</td>\n",
       "      <td>Washington</td>\n",
       "    </tr>\n",
       "    <tr>\n",
       "      <th>8</th>\n",
       "      <td>Scouts</td>\n",
       "      <td>1st</td>\n",
       "      <td>NaN</td>\n",
       "      <td>4</td>\n",
       "      <td>973</td>\n",
       "      <td>48</td>\n",
       "      <td>NaN</td>\n",
       "      <td>0</td>\n",
       "      <td>2</td>\n",
       "      <td>Oregon</td>\n",
       "    </tr>\n",
       "    <tr>\n",
       "      <th>11</th>\n",
       "      <td>Scouts</td>\n",
       "      <td>2nd</td>\n",
       "      <td>35.0</td>\n",
       "      <td>9</td>\n",
       "      <td>1523</td>\n",
       "      <td>345</td>\n",
       "      <td>NaN</td>\n",
       "      <td>1</td>\n",
       "      <td>3</td>\n",
       "      <td>Georgia</td>\n",
       "    </tr>\n",
       "  </tbody>\n",
       "</table>\n",
       "</div>"
      ],
      "text/plain": [
       "      regiment company  deaths  battles  size  veterans  readiness  armored  \\\n",
       "1   Nighthawks     1st    52.0       42   957         5        NaN        0   \n",
       "3   Nighthawks     2nd   616.0        2  1400        26        NaN        1   \n",
       "5     Dragoons     1st   234.0        7  1006        37        NaN        1   \n",
       "7     Dragoons     2nd    62.0        3   849        48        NaN        1   \n",
       "8       Scouts     1st     NaN        4   973        48        NaN        0   \n",
       "11      Scouts     2nd    35.0        9  1523       345        NaN        1   \n",
       "\n",
       "    deserters      origin  \n",
       "1          24  California  \n",
       "3           2     Florida  \n",
       "5           4        Iowa  \n",
       "7          31  Washington  \n",
       "8           2      Oregon  \n",
       "11          3     Georgia  "
      ]
     },
     "execution_count": 7,
     "metadata": {},
     "output_type": "execute_result"
    }
   ],
   "source": [
    "df[df[\"readiness\"].isnull()]"
   ]
  },
  {
   "attachments": {},
   "cell_type": "markdown",
   "metadata": {},
   "source": [
    "### Step 3. Drop features, if there are more than 30% missing values."
   ]
  },
  {
   "cell_type": "markdown",
   "metadata": {},
   "source": [
    "Al ser 12 entradas, debemos establecer el punto de corte en 4 entradas nulas (3 entradas nulas supondría un 25% de valores nulos)"
   ]
  },
  {
   "cell_type": "code",
   "execution_count": 8,
   "metadata": {},
   "outputs": [
    {
     "data": {
      "application/vnd.microsoft.datawrangler.viewer.v0+json": {
       "columns": [
        {
         "name": "index",
         "rawType": "int64",
         "type": "integer"
        },
        {
         "name": "regiment",
         "rawType": "object",
         "type": "string"
        },
        {
         "name": "company",
         "rawType": "object",
         "type": "string"
        },
        {
         "name": "deaths",
         "rawType": "float64",
         "type": "float"
        },
        {
         "name": "battles",
         "rawType": "int64",
         "type": "integer"
        },
        {
         "name": "size",
         "rawType": "int64",
         "type": "integer"
        },
        {
         "name": "veterans",
         "rawType": "int64",
         "type": "integer"
        },
        {
         "name": "armored",
         "rawType": "int64",
         "type": "integer"
        },
        {
         "name": "deserters",
         "rawType": "int64",
         "type": "integer"
        },
        {
         "name": "origin",
         "rawType": "object",
         "type": "string"
        }
       ],
       "conversionMethod": "pd.DataFrame",
       "ref": "6beffa28-868d-48fa-aa6c-bfd43c462721",
       "rows": [
        [
         "0",
         "Nighthawks",
         "1st",
         "523.0",
         "5",
         "1045",
         "1",
         "1",
         "4",
         "Arizona"
        ],
        [
         "1",
         "Nighthawks",
         "1st",
         "52.0",
         "42",
         "957",
         "5",
         "0",
         "24",
         "California"
        ],
        [
         "2",
         "Nighthawks",
         "2nd",
         "25.0",
         "2",
         "1099",
         "62",
         "1",
         "31",
         "Texas"
        ],
        [
         "3",
         "Nighthawks",
         "2nd",
         "616.0",
         "2",
         "1400",
         "26",
         "1",
         "2",
         "Florida"
        ],
        [
         "4",
         "Dragoons",
         "1st",
         "43.0",
         "4",
         "1592",
         "73",
         "0",
         "3",
         "Maine"
        ],
        [
         "5",
         "Dragoons",
         "1st",
         "234.0",
         "7",
         "1006",
         "37",
         "1",
         "4",
         "Iowa"
        ],
        [
         "6",
         "Dragoons",
         "2nd",
         "523.0",
         "8",
         "987",
         "949",
         "0",
         "24",
         "Alaska"
        ],
        [
         "7",
         "Dragoons",
         "2nd",
         "62.0",
         "3",
         "849",
         "48",
         "1",
         "31",
         "Washington"
        ],
        [
         "8",
         "Scouts",
         "1st",
         null,
         "4",
         "973",
         "48",
         "0",
         "2",
         "Oregon"
        ],
        [
         "9",
         "Scouts",
         "1st",
         "73.0",
         "7",
         "1005",
         "435",
         "0",
         "3",
         "Wyoming"
        ],
        [
         "10",
         "Scouts",
         "2nd",
         "37.0",
         "8",
         "1099",
         "63",
         "1",
         "2",
         "Louisana"
        ],
        [
         "11",
         "Scouts",
         "2nd",
         "35.0",
         "9",
         "1523",
         "345",
         "1",
         "3",
         "Georgia"
        ]
       ],
       "shape": {
        "columns": 9,
        "rows": 12
       }
      },
      "text/html": [
       "<div>\n",
       "<style scoped>\n",
       "    .dataframe tbody tr th:only-of-type {\n",
       "        vertical-align: middle;\n",
       "    }\n",
       "\n",
       "    .dataframe tbody tr th {\n",
       "        vertical-align: top;\n",
       "    }\n",
       "\n",
       "    .dataframe thead th {\n",
       "        text-align: right;\n",
       "    }\n",
       "</style>\n",
       "<table border=\"1\" class=\"dataframe\">\n",
       "  <thead>\n",
       "    <tr style=\"text-align: right;\">\n",
       "      <th></th>\n",
       "      <th>regiment</th>\n",
       "      <th>company</th>\n",
       "      <th>deaths</th>\n",
       "      <th>battles</th>\n",
       "      <th>size</th>\n",
       "      <th>veterans</th>\n",
       "      <th>armored</th>\n",
       "      <th>deserters</th>\n",
       "      <th>origin</th>\n",
       "    </tr>\n",
       "  </thead>\n",
       "  <tbody>\n",
       "    <tr>\n",
       "      <th>0</th>\n",
       "      <td>Nighthawks</td>\n",
       "      <td>1st</td>\n",
       "      <td>523.0</td>\n",
       "      <td>5</td>\n",
       "      <td>1045</td>\n",
       "      <td>1</td>\n",
       "      <td>1</td>\n",
       "      <td>4</td>\n",
       "      <td>Arizona</td>\n",
       "    </tr>\n",
       "    <tr>\n",
       "      <th>1</th>\n",
       "      <td>Nighthawks</td>\n",
       "      <td>1st</td>\n",
       "      <td>52.0</td>\n",
       "      <td>42</td>\n",
       "      <td>957</td>\n",
       "      <td>5</td>\n",
       "      <td>0</td>\n",
       "      <td>24</td>\n",
       "      <td>California</td>\n",
       "    </tr>\n",
       "    <tr>\n",
       "      <th>2</th>\n",
       "      <td>Nighthawks</td>\n",
       "      <td>2nd</td>\n",
       "      <td>25.0</td>\n",
       "      <td>2</td>\n",
       "      <td>1099</td>\n",
       "      <td>62</td>\n",
       "      <td>1</td>\n",
       "      <td>31</td>\n",
       "      <td>Texas</td>\n",
       "    </tr>\n",
       "    <tr>\n",
       "      <th>3</th>\n",
       "      <td>Nighthawks</td>\n",
       "      <td>2nd</td>\n",
       "      <td>616.0</td>\n",
       "      <td>2</td>\n",
       "      <td>1400</td>\n",
       "      <td>26</td>\n",
       "      <td>1</td>\n",
       "      <td>2</td>\n",
       "      <td>Florida</td>\n",
       "    </tr>\n",
       "    <tr>\n",
       "      <th>4</th>\n",
       "      <td>Dragoons</td>\n",
       "      <td>1st</td>\n",
       "      <td>43.0</td>\n",
       "      <td>4</td>\n",
       "      <td>1592</td>\n",
       "      <td>73</td>\n",
       "      <td>0</td>\n",
       "      <td>3</td>\n",
       "      <td>Maine</td>\n",
       "    </tr>\n",
       "    <tr>\n",
       "      <th>5</th>\n",
       "      <td>Dragoons</td>\n",
       "      <td>1st</td>\n",
       "      <td>234.0</td>\n",
       "      <td>7</td>\n",
       "      <td>1006</td>\n",
       "      <td>37</td>\n",
       "      <td>1</td>\n",
       "      <td>4</td>\n",
       "      <td>Iowa</td>\n",
       "    </tr>\n",
       "    <tr>\n",
       "      <th>6</th>\n",
       "      <td>Dragoons</td>\n",
       "      <td>2nd</td>\n",
       "      <td>523.0</td>\n",
       "      <td>8</td>\n",
       "      <td>987</td>\n",
       "      <td>949</td>\n",
       "      <td>0</td>\n",
       "      <td>24</td>\n",
       "      <td>Alaska</td>\n",
       "    </tr>\n",
       "    <tr>\n",
       "      <th>7</th>\n",
       "      <td>Dragoons</td>\n",
       "      <td>2nd</td>\n",
       "      <td>62.0</td>\n",
       "      <td>3</td>\n",
       "      <td>849</td>\n",
       "      <td>48</td>\n",
       "      <td>1</td>\n",
       "      <td>31</td>\n",
       "      <td>Washington</td>\n",
       "    </tr>\n",
       "    <tr>\n",
       "      <th>8</th>\n",
       "      <td>Scouts</td>\n",
       "      <td>1st</td>\n",
       "      <td>NaN</td>\n",
       "      <td>4</td>\n",
       "      <td>973</td>\n",
       "      <td>48</td>\n",
       "      <td>0</td>\n",
       "      <td>2</td>\n",
       "      <td>Oregon</td>\n",
       "    </tr>\n",
       "    <tr>\n",
       "      <th>9</th>\n",
       "      <td>Scouts</td>\n",
       "      <td>1st</td>\n",
       "      <td>73.0</td>\n",
       "      <td>7</td>\n",
       "      <td>1005</td>\n",
       "      <td>435</td>\n",
       "      <td>0</td>\n",
       "      <td>3</td>\n",
       "      <td>Wyoming</td>\n",
       "    </tr>\n",
       "    <tr>\n",
       "      <th>10</th>\n",
       "      <td>Scouts</td>\n",
       "      <td>2nd</td>\n",
       "      <td>37.0</td>\n",
       "      <td>8</td>\n",
       "      <td>1099</td>\n",
       "      <td>63</td>\n",
       "      <td>1</td>\n",
       "      <td>2</td>\n",
       "      <td>Louisana</td>\n",
       "    </tr>\n",
       "    <tr>\n",
       "      <th>11</th>\n",
       "      <td>Scouts</td>\n",
       "      <td>2nd</td>\n",
       "      <td>35.0</td>\n",
       "      <td>9</td>\n",
       "      <td>1523</td>\n",
       "      <td>345</td>\n",
       "      <td>1</td>\n",
       "      <td>3</td>\n",
       "      <td>Georgia</td>\n",
       "    </tr>\n",
       "  </tbody>\n",
       "</table>\n",
       "</div>"
      ],
      "text/plain": [
       "      regiment company  deaths  battles  size  veterans  armored  deserters  \\\n",
       "0   Nighthawks     1st   523.0        5  1045         1        1          4   \n",
       "1   Nighthawks     1st    52.0       42   957         5        0         24   \n",
       "2   Nighthawks     2nd    25.0        2  1099        62        1         31   \n",
       "3   Nighthawks     2nd   616.0        2  1400        26        1          2   \n",
       "4     Dragoons     1st    43.0        4  1592        73        0          3   \n",
       "5     Dragoons     1st   234.0        7  1006        37        1          4   \n",
       "6     Dragoons     2nd   523.0        8   987       949        0         24   \n",
       "7     Dragoons     2nd    62.0        3   849        48        1         31   \n",
       "8       Scouts     1st     NaN        4   973        48        0          2   \n",
       "9       Scouts     1st    73.0        7  1005       435        0          3   \n",
       "10      Scouts     2nd    37.0        8  1099        63        1          2   \n",
       "11      Scouts     2nd    35.0        9  1523       345        1          3   \n",
       "\n",
       "        origin  \n",
       "0      Arizona  \n",
       "1   California  \n",
       "2        Texas  \n",
       "3      Florida  \n",
       "4        Maine  \n",
       "5         Iowa  \n",
       "6       Alaska  \n",
       "7   Washington  \n",
       "8       Oregon  \n",
       "9      Wyoming  \n",
       "10    Louisana  \n",
       "11     Georgia  "
      ]
     },
     "execution_count": 8,
     "metadata": {},
     "output_type": "execute_result"
    }
   ],
   "source": [
    "df.dropna(axis = 1, thresh=len(df.index)*0.7)"
   ]
  },
  {
   "attachments": {},
   "cell_type": "markdown",
   "metadata": {},
   "source": [
    "### Step 4. Fill missing values with the mean of their regiment."
   ]
  },
  {
   "cell_type": "code",
   "execution_count": 9,
   "metadata": {},
   "outputs": [
    {
     "name": "stdout",
     "output_type": "stream",
     "text": [
      "<class 'pandas.core.frame.DataFrame'>\n",
      "RangeIndex: 12 entries, 0 to 11\n",
      "Data columns (total 10 columns):\n",
      " #   Column     Non-Null Count  Dtype  \n",
      "---  ------     --------------  -----  \n",
      " 0   regiment   12 non-null     object \n",
      " 1   company    12 non-null     object \n",
      " 2   deaths     12 non-null     float64\n",
      " 3   battles    12 non-null     int64  \n",
      " 4   size       12 non-null     int64  \n",
      " 5   veterans   12 non-null     int64  \n",
      " 6   readiness  6 non-null      float64\n",
      " 7   armored    12 non-null     int64  \n",
      " 8   deserters  12 non-null     int64  \n",
      " 9   origin     12 non-null     object \n",
      "dtypes: float64(2), int64(5), object(3)\n",
      "memory usage: 1.1+ KB\n"
     ]
    },
    {
     "data": {
      "text/plain": [
       "0     523.000000\n",
       "1      52.000000\n",
       "2      25.000000\n",
       "3     616.000000\n",
       "4      43.000000\n",
       "5     234.000000\n",
       "6     523.000000\n",
       "7      62.000000\n",
       "8      48.333333\n",
       "9      73.000000\n",
       "10     37.000000\n",
       "11     35.000000\n",
       "Name: deaths, dtype: float64"
      ]
     },
     "execution_count": 9,
     "metadata": {},
     "output_type": "execute_result"
    }
   ],
   "source": [
    "df[\"deaths\"] = df.groupby(\"regiment\")[\"deaths\"].transform(lambda val: val.fillna(val.mean()))\n",
    "df.info()\n",
    "df[\"deaths\"]"
   ]
  },
  {
   "cell_type": "code",
   "execution_count": 30,
   "metadata": {},
   "outputs": [
    {
     "data": {
      "text/plain": [
       "{'Dragoons': np.float64(2.0),\n",
       " 'Nighthawks': np.float64(2.0),\n",
       " 'Scouts': np.float64(1.5)}"
      ]
     },
     "execution_count": 30,
     "metadata": {},
     "output_type": "execute_result"
    }
   ],
   "source": [
    "medias = dict(df.groupby(\"regiment\")[\"readiness\"].mean())\n",
    "medias\n"
   ]
  },
  {
   "cell_type": "code",
   "execution_count": 11,
   "metadata": {},
   "outputs": [
    {
     "data": {
      "application/vnd.microsoft.datawrangler.viewer.v0+json": {
       "columns": [
        {
         "name": "index",
         "rawType": "int64",
         "type": "integer"
        },
        {
         "name": "regiment",
         "rawType": "object",
         "type": "string"
        },
        {
         "name": "company",
         "rawType": "object",
         "type": "string"
        },
        {
         "name": "deaths",
         "rawType": "float64",
         "type": "float"
        },
        {
         "name": "battles",
         "rawType": "int64",
         "type": "integer"
        },
        {
         "name": "size",
         "rawType": "int64",
         "type": "integer"
        },
        {
         "name": "veterans",
         "rawType": "int64",
         "type": "integer"
        },
        {
         "name": "readiness",
         "rawType": "float64",
         "type": "float"
        },
        {
         "name": "armored",
         "rawType": "int64",
         "type": "integer"
        },
        {
         "name": "deserters",
         "rawType": "int64",
         "type": "integer"
        },
        {
         "name": "origin",
         "rawType": "object",
         "type": "string"
        }
       ],
       "conversionMethod": "pd.DataFrame",
       "ref": "f287f39c-1e35-4c89-880b-09d9d8ca8368",
       "rows": [
        [
         "0",
         "Nighthawks",
         "1st",
         "523.0",
         "5",
         "1045",
         "1",
         "1.0",
         "1",
         "4",
         "Arizona"
        ],
        [
         "1",
         "Nighthawks",
         "1st",
         "52.0",
         "42",
         "957",
         "5",
         "2.0",
         "0",
         "24",
         "California"
        ],
        [
         "2",
         "Nighthawks",
         "2nd",
         "25.0",
         "2",
         "1099",
         "62",
         "3.0",
         "1",
         "31",
         "Texas"
        ],
        [
         "3",
         "Nighthawks",
         "2nd",
         "616.0",
         "2",
         "1400",
         "26",
         "2.0",
         "1",
         "2",
         "Florida"
        ],
        [
         "4",
         "Dragoons",
         "1st",
         "43.0",
         "4",
         "1592",
         "73",
         "2.0",
         "0",
         "3",
         "Maine"
        ],
        [
         "5",
         "Dragoons",
         "1st",
         "234.0",
         "7",
         "1006",
         "37",
         "2.0",
         "1",
         "4",
         "Iowa"
        ],
        [
         "6",
         "Dragoons",
         "2nd",
         "523.0",
         "8",
         "987",
         "949",
         "2.0",
         "0",
         "24",
         "Alaska"
        ],
        [
         "7",
         "Dragoons",
         "2nd",
         "62.0",
         "3",
         "849",
         "48",
         "2.0",
         "1",
         "31",
         "Washington"
        ],
        [
         "8",
         "Scouts",
         "1st",
         "48.333333333333336",
         "4",
         "973",
         "48",
         "1.5",
         "0",
         "2",
         "Oregon"
        ],
        [
         "9",
         "Scouts",
         "1st",
         "73.0",
         "7",
         "1005",
         "435",
         "1.0",
         "0",
         "3",
         "Wyoming"
        ],
        [
         "10",
         "Scouts",
         "2nd",
         "37.0",
         "8",
         "1099",
         "63",
         "2.0",
         "1",
         "2",
         "Louisana"
        ],
        [
         "11",
         "Scouts",
         "2nd",
         "35.0",
         "9",
         "1523",
         "345",
         "1.5",
         "1",
         "3",
         "Georgia"
        ]
       ],
       "shape": {
        "columns": 10,
        "rows": 12
       }
      },
      "text/html": [
       "<div>\n",
       "<style scoped>\n",
       "    .dataframe tbody tr th:only-of-type {\n",
       "        vertical-align: middle;\n",
       "    }\n",
       "\n",
       "    .dataframe tbody tr th {\n",
       "        vertical-align: top;\n",
       "    }\n",
       "\n",
       "    .dataframe thead th {\n",
       "        text-align: right;\n",
       "    }\n",
       "</style>\n",
       "<table border=\"1\" class=\"dataframe\">\n",
       "  <thead>\n",
       "    <tr style=\"text-align: right;\">\n",
       "      <th></th>\n",
       "      <th>regiment</th>\n",
       "      <th>company</th>\n",
       "      <th>deaths</th>\n",
       "      <th>battles</th>\n",
       "      <th>size</th>\n",
       "      <th>veterans</th>\n",
       "      <th>readiness</th>\n",
       "      <th>armored</th>\n",
       "      <th>deserters</th>\n",
       "      <th>origin</th>\n",
       "    </tr>\n",
       "  </thead>\n",
       "  <tbody>\n",
       "    <tr>\n",
       "      <th>0</th>\n",
       "      <td>Nighthawks</td>\n",
       "      <td>1st</td>\n",
       "      <td>523.000000</td>\n",
       "      <td>5</td>\n",
       "      <td>1045</td>\n",
       "      <td>1</td>\n",
       "      <td>1.0</td>\n",
       "      <td>1</td>\n",
       "      <td>4</td>\n",
       "      <td>Arizona</td>\n",
       "    </tr>\n",
       "    <tr>\n",
       "      <th>1</th>\n",
       "      <td>Nighthawks</td>\n",
       "      <td>1st</td>\n",
       "      <td>52.000000</td>\n",
       "      <td>42</td>\n",
       "      <td>957</td>\n",
       "      <td>5</td>\n",
       "      <td>2.0</td>\n",
       "      <td>0</td>\n",
       "      <td>24</td>\n",
       "      <td>California</td>\n",
       "    </tr>\n",
       "    <tr>\n",
       "      <th>2</th>\n",
       "      <td>Nighthawks</td>\n",
       "      <td>2nd</td>\n",
       "      <td>25.000000</td>\n",
       "      <td>2</td>\n",
       "      <td>1099</td>\n",
       "      <td>62</td>\n",
       "      <td>3.0</td>\n",
       "      <td>1</td>\n",
       "      <td>31</td>\n",
       "      <td>Texas</td>\n",
       "    </tr>\n",
       "    <tr>\n",
       "      <th>3</th>\n",
       "      <td>Nighthawks</td>\n",
       "      <td>2nd</td>\n",
       "      <td>616.000000</td>\n",
       "      <td>2</td>\n",
       "      <td>1400</td>\n",
       "      <td>26</td>\n",
       "      <td>2.0</td>\n",
       "      <td>1</td>\n",
       "      <td>2</td>\n",
       "      <td>Florida</td>\n",
       "    </tr>\n",
       "    <tr>\n",
       "      <th>4</th>\n",
       "      <td>Dragoons</td>\n",
       "      <td>1st</td>\n",
       "      <td>43.000000</td>\n",
       "      <td>4</td>\n",
       "      <td>1592</td>\n",
       "      <td>73</td>\n",
       "      <td>2.0</td>\n",
       "      <td>0</td>\n",
       "      <td>3</td>\n",
       "      <td>Maine</td>\n",
       "    </tr>\n",
       "    <tr>\n",
       "      <th>5</th>\n",
       "      <td>Dragoons</td>\n",
       "      <td>1st</td>\n",
       "      <td>234.000000</td>\n",
       "      <td>7</td>\n",
       "      <td>1006</td>\n",
       "      <td>37</td>\n",
       "      <td>2.0</td>\n",
       "      <td>1</td>\n",
       "      <td>4</td>\n",
       "      <td>Iowa</td>\n",
       "    </tr>\n",
       "    <tr>\n",
       "      <th>6</th>\n",
       "      <td>Dragoons</td>\n",
       "      <td>2nd</td>\n",
       "      <td>523.000000</td>\n",
       "      <td>8</td>\n",
       "      <td>987</td>\n",
       "      <td>949</td>\n",
       "      <td>2.0</td>\n",
       "      <td>0</td>\n",
       "      <td>24</td>\n",
       "      <td>Alaska</td>\n",
       "    </tr>\n",
       "    <tr>\n",
       "      <th>7</th>\n",
       "      <td>Dragoons</td>\n",
       "      <td>2nd</td>\n",
       "      <td>62.000000</td>\n",
       "      <td>3</td>\n",
       "      <td>849</td>\n",
       "      <td>48</td>\n",
       "      <td>2.0</td>\n",
       "      <td>1</td>\n",
       "      <td>31</td>\n",
       "      <td>Washington</td>\n",
       "    </tr>\n",
       "    <tr>\n",
       "      <th>8</th>\n",
       "      <td>Scouts</td>\n",
       "      <td>1st</td>\n",
       "      <td>48.333333</td>\n",
       "      <td>4</td>\n",
       "      <td>973</td>\n",
       "      <td>48</td>\n",
       "      <td>1.5</td>\n",
       "      <td>0</td>\n",
       "      <td>2</td>\n",
       "      <td>Oregon</td>\n",
       "    </tr>\n",
       "    <tr>\n",
       "      <th>9</th>\n",
       "      <td>Scouts</td>\n",
       "      <td>1st</td>\n",
       "      <td>73.000000</td>\n",
       "      <td>7</td>\n",
       "      <td>1005</td>\n",
       "      <td>435</td>\n",
       "      <td>1.0</td>\n",
       "      <td>0</td>\n",
       "      <td>3</td>\n",
       "      <td>Wyoming</td>\n",
       "    </tr>\n",
       "    <tr>\n",
       "      <th>10</th>\n",
       "      <td>Scouts</td>\n",
       "      <td>2nd</td>\n",
       "      <td>37.000000</td>\n",
       "      <td>8</td>\n",
       "      <td>1099</td>\n",
       "      <td>63</td>\n",
       "      <td>2.0</td>\n",
       "      <td>1</td>\n",
       "      <td>2</td>\n",
       "      <td>Louisana</td>\n",
       "    </tr>\n",
       "    <tr>\n",
       "      <th>11</th>\n",
       "      <td>Scouts</td>\n",
       "      <td>2nd</td>\n",
       "      <td>35.000000</td>\n",
       "      <td>9</td>\n",
       "      <td>1523</td>\n",
       "      <td>345</td>\n",
       "      <td>1.5</td>\n",
       "      <td>1</td>\n",
       "      <td>3</td>\n",
       "      <td>Georgia</td>\n",
       "    </tr>\n",
       "  </tbody>\n",
       "</table>\n",
       "</div>"
      ],
      "text/plain": [
       "      regiment company      deaths  battles  size  veterans  readiness  \\\n",
       "0   Nighthawks     1st  523.000000        5  1045         1        1.0   \n",
       "1   Nighthawks     1st   52.000000       42   957         5        2.0   \n",
       "2   Nighthawks     2nd   25.000000        2  1099        62        3.0   \n",
       "3   Nighthawks     2nd  616.000000        2  1400        26        2.0   \n",
       "4     Dragoons     1st   43.000000        4  1592        73        2.0   \n",
       "5     Dragoons     1st  234.000000        7  1006        37        2.0   \n",
       "6     Dragoons     2nd  523.000000        8   987       949        2.0   \n",
       "7     Dragoons     2nd   62.000000        3   849        48        2.0   \n",
       "8       Scouts     1st   48.333333        4   973        48        1.5   \n",
       "9       Scouts     1st   73.000000        7  1005       435        1.0   \n",
       "10      Scouts     2nd   37.000000        8  1099        63        2.0   \n",
       "11      Scouts     2nd   35.000000        9  1523       345        1.5   \n",
       "\n",
       "    armored  deserters      origin  \n",
       "0         1          4     Arizona  \n",
       "1         0         24  California  \n",
       "2         1         31       Texas  \n",
       "3         1          2     Florida  \n",
       "4         0          3       Maine  \n",
       "5         1          4        Iowa  \n",
       "6         0         24      Alaska  \n",
       "7         1         31  Washington  \n",
       "8         0          2      Oregon  \n",
       "9         0          3     Wyoming  \n",
       "10        1          2    Louisana  \n",
       "11        1          3     Georgia  "
      ]
     },
     "execution_count": 11,
     "metadata": {},
     "output_type": "execute_result"
    }
   ],
   "source": [
    "df[\"readiness\"] = df.groupby(\"regiment\")[\"readiness\"].transform(lambda val: val.fillna(val.mean()))\n",
    "df"
   ]
  },
  {
   "cell_type": "code",
   "execution_count": 12,
   "metadata": {},
   "outputs": [
    {
     "name": "stdout",
     "output_type": "stream",
     "text": [
      "<class 'pandas.core.frame.DataFrame'>\n",
      "RangeIndex: 12 entries, 0 to 11\n",
      "Data columns (total 10 columns):\n",
      " #   Column     Non-Null Count  Dtype  \n",
      "---  ------     --------------  -----  \n",
      " 0   regiment   12 non-null     object \n",
      " 1   company    12 non-null     object \n",
      " 2   deaths     12 non-null     float64\n",
      " 3   battles    12 non-null     int64  \n",
      " 4   size       12 non-null     int64  \n",
      " 5   veterans   12 non-null     int64  \n",
      " 6   readiness  12 non-null     float64\n",
      " 7   armored    12 non-null     int64  \n",
      " 8   deserters  12 non-null     int64  \n",
      " 9   origin     12 non-null     object \n",
      "dtypes: float64(2), int64(5), object(3)\n",
      "memory usage: 1.1+ KB\n"
     ]
    }
   ],
   "source": [
    "df.info()"
   ]
  },
  {
   "attachments": {},
   "cell_type": "markdown",
   "metadata": {},
   "source": [
    "### Step 5. Set the 'origin' colum as the index of the dataframe"
   ]
  },
  {
   "cell_type": "code",
   "execution_count": 13,
   "metadata": {},
   "outputs": [],
   "source": [
    "df.set_index(\"origin\",inplace=True)"
   ]
  },
  {
   "attachments": {},
   "cell_type": "markdown",
   "metadata": {},
   "source": [
    "### Step 6. Select the 'deaths', 'size' and 'deserters' columns from Maine and Alaska"
   ]
  },
  {
   "cell_type": "code",
   "execution_count": 14,
   "metadata": {},
   "outputs": [
    {
     "data": {
      "application/vnd.microsoft.datawrangler.viewer.v0+json": {
       "columns": [
        {
         "name": "origin",
         "rawType": "object",
         "type": "string"
        },
        {
         "name": "regiment",
         "rawType": "object",
         "type": "string"
        },
        {
         "name": "company",
         "rawType": "object",
         "type": "string"
        },
        {
         "name": "deaths",
         "rawType": "float64",
         "type": "float"
        },
        {
         "name": "battles",
         "rawType": "int64",
         "type": "integer"
        },
        {
         "name": "size",
         "rawType": "int64",
         "type": "integer"
        },
        {
         "name": "veterans",
         "rawType": "int64",
         "type": "integer"
        },
        {
         "name": "readiness",
         "rawType": "float64",
         "type": "float"
        },
        {
         "name": "armored",
         "rawType": "int64",
         "type": "integer"
        },
        {
         "name": "deserters",
         "rawType": "int64",
         "type": "integer"
        }
       ],
       "conversionMethod": "pd.DataFrame",
       "ref": "f872f09d-193b-43b0-8167-9d7bb9aa04e6",
       "rows": [
        [
         "Arizona",
         "Nighthawks",
         "1st",
         "523.0",
         "5",
         "1045",
         "1",
         "1.0",
         "1",
         "4"
        ],
        [
         "California",
         "Nighthawks",
         "1st",
         "52.0",
         "42",
         "957",
         "5",
         "2.0",
         "0",
         "24"
        ],
        [
         "Texas",
         "Nighthawks",
         "2nd",
         "25.0",
         "2",
         "1099",
         "62",
         "3.0",
         "1",
         "31"
        ],
        [
         "Florida",
         "Nighthawks",
         "2nd",
         "616.0",
         "2",
         "1400",
         "26",
         "2.0",
         "1",
         "2"
        ],
        [
         "Maine",
         "Dragoons",
         "1st",
         "43.0",
         "4",
         "1592",
         "73",
         "2.0",
         "0",
         "3"
        ]
       ],
       "shape": {
        "columns": 9,
        "rows": 5
       }
      },
      "text/html": [
       "<div>\n",
       "<style scoped>\n",
       "    .dataframe tbody tr th:only-of-type {\n",
       "        vertical-align: middle;\n",
       "    }\n",
       "\n",
       "    .dataframe tbody tr th {\n",
       "        vertical-align: top;\n",
       "    }\n",
       "\n",
       "    .dataframe thead th {\n",
       "        text-align: right;\n",
       "    }\n",
       "</style>\n",
       "<table border=\"1\" class=\"dataframe\">\n",
       "  <thead>\n",
       "    <tr style=\"text-align: right;\">\n",
       "      <th></th>\n",
       "      <th>regiment</th>\n",
       "      <th>company</th>\n",
       "      <th>deaths</th>\n",
       "      <th>battles</th>\n",
       "      <th>size</th>\n",
       "      <th>veterans</th>\n",
       "      <th>readiness</th>\n",
       "      <th>armored</th>\n",
       "      <th>deserters</th>\n",
       "    </tr>\n",
       "    <tr>\n",
       "      <th>origin</th>\n",
       "      <th></th>\n",
       "      <th></th>\n",
       "      <th></th>\n",
       "      <th></th>\n",
       "      <th></th>\n",
       "      <th></th>\n",
       "      <th></th>\n",
       "      <th></th>\n",
       "      <th></th>\n",
       "    </tr>\n",
       "  </thead>\n",
       "  <tbody>\n",
       "    <tr>\n",
       "      <th>Arizona</th>\n",
       "      <td>Nighthawks</td>\n",
       "      <td>1st</td>\n",
       "      <td>523.0</td>\n",
       "      <td>5</td>\n",
       "      <td>1045</td>\n",
       "      <td>1</td>\n",
       "      <td>1.0</td>\n",
       "      <td>1</td>\n",
       "      <td>4</td>\n",
       "    </tr>\n",
       "    <tr>\n",
       "      <th>California</th>\n",
       "      <td>Nighthawks</td>\n",
       "      <td>1st</td>\n",
       "      <td>52.0</td>\n",
       "      <td>42</td>\n",
       "      <td>957</td>\n",
       "      <td>5</td>\n",
       "      <td>2.0</td>\n",
       "      <td>0</td>\n",
       "      <td>24</td>\n",
       "    </tr>\n",
       "    <tr>\n",
       "      <th>Texas</th>\n",
       "      <td>Nighthawks</td>\n",
       "      <td>2nd</td>\n",
       "      <td>25.0</td>\n",
       "      <td>2</td>\n",
       "      <td>1099</td>\n",
       "      <td>62</td>\n",
       "      <td>3.0</td>\n",
       "      <td>1</td>\n",
       "      <td>31</td>\n",
       "    </tr>\n",
       "    <tr>\n",
       "      <th>Florida</th>\n",
       "      <td>Nighthawks</td>\n",
       "      <td>2nd</td>\n",
       "      <td>616.0</td>\n",
       "      <td>2</td>\n",
       "      <td>1400</td>\n",
       "      <td>26</td>\n",
       "      <td>2.0</td>\n",
       "      <td>1</td>\n",
       "      <td>2</td>\n",
       "    </tr>\n",
       "    <tr>\n",
       "      <th>Maine</th>\n",
       "      <td>Dragoons</td>\n",
       "      <td>1st</td>\n",
       "      <td>43.0</td>\n",
       "      <td>4</td>\n",
       "      <td>1592</td>\n",
       "      <td>73</td>\n",
       "      <td>2.0</td>\n",
       "      <td>0</td>\n",
       "      <td>3</td>\n",
       "    </tr>\n",
       "  </tbody>\n",
       "</table>\n",
       "</div>"
      ],
      "text/plain": [
       "              regiment company  deaths  battles  size  veterans  readiness  \\\n",
       "origin                                                                       \n",
       "Arizona     Nighthawks     1st   523.0        5  1045         1        1.0   \n",
       "California  Nighthawks     1st    52.0       42   957         5        2.0   \n",
       "Texas       Nighthawks     2nd    25.0        2  1099        62        3.0   \n",
       "Florida     Nighthawks     2nd   616.0        2  1400        26        2.0   \n",
       "Maine         Dragoons     1st    43.0        4  1592        73        2.0   \n",
       "\n",
       "            armored  deserters  \n",
       "origin                          \n",
       "Arizona           1          4  \n",
       "California        0         24  \n",
       "Texas             1         31  \n",
       "Florida           1          2  \n",
       "Maine             0          3  "
      ]
     },
     "execution_count": 14,
     "metadata": {},
     "output_type": "execute_result"
    }
   ],
   "source": [
    "df.head()"
   ]
  },
  {
   "cell_type": "code",
   "execution_count": 15,
   "metadata": {},
   "outputs": [
    {
     "data": {
      "application/vnd.microsoft.datawrangler.viewer.v0+json": {
       "columns": [
        {
         "name": "origin",
         "rawType": "object",
         "type": "string"
        },
        {
         "name": "deaths",
         "rawType": "float64",
         "type": "float"
        },
        {
         "name": "size",
         "rawType": "int64",
         "type": "integer"
        },
        {
         "name": "deserters",
         "rawType": "int64",
         "type": "integer"
        }
       ],
       "conversionMethod": "pd.DataFrame",
       "ref": "4571bdbd-d9a7-47c3-9410-968879979eb4",
       "rows": [
        [
         "Maine",
         "43.0",
         "1592",
         "3"
        ],
        [
         "Alaska",
         "523.0",
         "987",
         "24"
        ]
       ],
       "shape": {
        "columns": 3,
        "rows": 2
       }
      },
      "text/html": [
       "<div>\n",
       "<style scoped>\n",
       "    .dataframe tbody tr th:only-of-type {\n",
       "        vertical-align: middle;\n",
       "    }\n",
       "\n",
       "    .dataframe tbody tr th {\n",
       "        vertical-align: top;\n",
       "    }\n",
       "\n",
       "    .dataframe thead th {\n",
       "        text-align: right;\n",
       "    }\n",
       "</style>\n",
       "<table border=\"1\" class=\"dataframe\">\n",
       "  <thead>\n",
       "    <tr style=\"text-align: right;\">\n",
       "      <th></th>\n",
       "      <th>deaths</th>\n",
       "      <th>size</th>\n",
       "      <th>deserters</th>\n",
       "    </tr>\n",
       "    <tr>\n",
       "      <th>origin</th>\n",
       "      <th></th>\n",
       "      <th></th>\n",
       "      <th></th>\n",
       "    </tr>\n",
       "  </thead>\n",
       "  <tbody>\n",
       "    <tr>\n",
       "      <th>Maine</th>\n",
       "      <td>43.0</td>\n",
       "      <td>1592</td>\n",
       "      <td>3</td>\n",
       "    </tr>\n",
       "    <tr>\n",
       "      <th>Alaska</th>\n",
       "      <td>523.0</td>\n",
       "      <td>987</td>\n",
       "      <td>24</td>\n",
       "    </tr>\n",
       "  </tbody>\n",
       "</table>\n",
       "</div>"
      ],
      "text/plain": [
       "        deaths  size  deserters\n",
       "origin                         \n",
       "Maine     43.0  1592          3\n",
       "Alaska   523.0   987         24"
      ]
     },
     "execution_count": 15,
     "metadata": {},
     "output_type": "execute_result"
    }
   ],
   "source": [
    "df.loc[[\"Maine\", \"Alaska\"],[\"deaths\", \"size\", \"deserters\"]]"
   ]
  },
  {
   "attachments": {},
   "cell_type": "markdown",
   "metadata": {},
   "source": [
    "### Step 7. Select the rows 3 to 7 and the columns 3 to 6"
   ]
  },
  {
   "cell_type": "code",
   "execution_count": 31,
   "metadata": {},
   "outputs": [
    {
     "data": {
      "application/vnd.microsoft.datawrangler.viewer.v0+json": {
       "columns": [
        {
         "name": "origin",
         "rawType": "object",
         "type": "string"
        },
        {
         "name": "deaths",
         "rawType": "float64",
         "type": "float"
        },
        {
         "name": "battles",
         "rawType": "int64",
         "type": "integer"
        },
        {
         "name": "size",
         "rawType": "int64",
         "type": "integer"
        },
        {
         "name": "veterans",
         "rawType": "int64",
         "type": "integer"
        }
       ],
       "conversionMethod": "pd.DataFrame",
       "ref": "fdcc5b99-5a86-467c-b4eb-14ff39ab9f26",
       "rows": [
        [
         "Texas",
         "25.0",
         "2",
         "1099",
         "62"
        ],
        [
         "Florida",
         "616.0",
         "2",
         "1400",
         "26"
        ],
        [
         "Maine",
         "43.0",
         "4",
         "1592",
         "73"
        ],
        [
         "Iowa",
         "234.0",
         "7",
         "1006",
         "37"
        ],
        [
         "Alaska",
         "523.0",
         "8",
         "987",
         "949"
        ]
       ],
       "shape": {
        "columns": 4,
        "rows": 5
       }
      },
      "text/html": [
       "<div>\n",
       "<style scoped>\n",
       "    .dataframe tbody tr th:only-of-type {\n",
       "        vertical-align: middle;\n",
       "    }\n",
       "\n",
       "    .dataframe tbody tr th {\n",
       "        vertical-align: top;\n",
       "    }\n",
       "\n",
       "    .dataframe thead th {\n",
       "        text-align: right;\n",
       "    }\n",
       "</style>\n",
       "<table border=\"1\" class=\"dataframe\">\n",
       "  <thead>\n",
       "    <tr style=\"text-align: right;\">\n",
       "      <th></th>\n",
       "      <th>deaths</th>\n",
       "      <th>battles</th>\n",
       "      <th>size</th>\n",
       "      <th>veterans</th>\n",
       "    </tr>\n",
       "    <tr>\n",
       "      <th>origin</th>\n",
       "      <th></th>\n",
       "      <th></th>\n",
       "      <th></th>\n",
       "      <th></th>\n",
       "    </tr>\n",
       "  </thead>\n",
       "  <tbody>\n",
       "    <tr>\n",
       "      <th>Texas</th>\n",
       "      <td>25.0</td>\n",
       "      <td>2</td>\n",
       "      <td>1099</td>\n",
       "      <td>62</td>\n",
       "    </tr>\n",
       "    <tr>\n",
       "      <th>Florida</th>\n",
       "      <td>616.0</td>\n",
       "      <td>2</td>\n",
       "      <td>1400</td>\n",
       "      <td>26</td>\n",
       "    </tr>\n",
       "    <tr>\n",
       "      <th>Maine</th>\n",
       "      <td>43.0</td>\n",
       "      <td>4</td>\n",
       "      <td>1592</td>\n",
       "      <td>73</td>\n",
       "    </tr>\n",
       "    <tr>\n",
       "      <th>Iowa</th>\n",
       "      <td>234.0</td>\n",
       "      <td>7</td>\n",
       "      <td>1006</td>\n",
       "      <td>37</td>\n",
       "    </tr>\n",
       "    <tr>\n",
       "      <th>Alaska</th>\n",
       "      <td>523.0</td>\n",
       "      <td>8</td>\n",
       "      <td>987</td>\n",
       "      <td>949</td>\n",
       "    </tr>\n",
       "  </tbody>\n",
       "</table>\n",
       "</div>"
      ],
      "text/plain": [
       "         deaths  battles  size  veterans\n",
       "origin                                  \n",
       "Texas      25.0        2  1099        62\n",
       "Florida   616.0        2  1400        26\n",
       "Maine      43.0        4  1592        73\n",
       "Iowa      234.0        7  1006        37\n",
       "Alaska    523.0        8   987       949"
      ]
     },
     "execution_count": 31,
     "metadata": {},
     "output_type": "execute_result"
    }
   ],
   "source": [
    "df.iloc[2:7,2:6]"
   ]
  },
  {
   "attachments": {},
   "cell_type": "markdown",
   "metadata": {},
   "source": [
    "### Step 8. Select every row after the fourth row and all columns"
   ]
  },
  {
   "cell_type": "code",
   "execution_count": 32,
   "metadata": {},
   "outputs": [
    {
     "data": {
      "application/vnd.microsoft.datawrangler.viewer.v0+json": {
       "columns": [
        {
         "name": "origin",
         "rawType": "object",
         "type": "string"
        },
        {
         "name": "regiment",
         "rawType": "object",
         "type": "string"
        },
        {
         "name": "company",
         "rawType": "object",
         "type": "string"
        },
        {
         "name": "deaths",
         "rawType": "float64",
         "type": "float"
        },
        {
         "name": "battles",
         "rawType": "int64",
         "type": "integer"
        },
        {
         "name": "size",
         "rawType": "int64",
         "type": "integer"
        },
        {
         "name": "veterans",
         "rawType": "int64",
         "type": "integer"
        },
        {
         "name": "readiness",
         "rawType": "float64",
         "type": "float"
        },
        {
         "name": "armored",
         "rawType": "int64",
         "type": "integer"
        },
        {
         "name": "deserters",
         "rawType": "int64",
         "type": "integer"
        }
       ],
       "conversionMethod": "pd.DataFrame",
       "ref": "403a0f9c-f7d6-4d99-8a93-26832383d41b",
       "rows": [
        [
         "Florida",
         "Nighthawks",
         "2nd",
         "616.0",
         "2",
         "1400",
         "26",
         "2.0",
         "1",
         "2"
        ],
        [
         "Maine",
         "Dragoons",
         "1st",
         "43.0",
         "4",
         "1592",
         "73",
         "2.0",
         "0",
         "3"
        ],
        [
         "Iowa",
         "Dragoons",
         "1st",
         "234.0",
         "7",
         "1006",
         "37",
         "2.0",
         "1",
         "4"
        ],
        [
         "Alaska",
         "Dragoons",
         "2nd",
         "523.0",
         "8",
         "987",
         "949",
         "2.0",
         "0",
         "24"
        ],
        [
         "Washington",
         "Dragoons",
         "2nd",
         "62.0",
         "3",
         "849",
         "48",
         "2.0",
         "1",
         "31"
        ],
        [
         "Oregon",
         "Scouts",
         "1st",
         "48.333333333333336",
         "4",
         "973",
         "48",
         "1.5",
         "0",
         "2"
        ],
        [
         "Wyoming",
         "Scouts",
         "1st",
         "73.0",
         "7",
         "1005",
         "435",
         "1.0",
         "0",
         "3"
        ],
        [
         "Louisana",
         "Scouts",
         "2nd",
         "37.0",
         "8",
         "1099",
         "63",
         "2.0",
         "1",
         "2"
        ],
        [
         "Georgia",
         "Scouts",
         "2nd",
         "35.0",
         "9",
         "1523",
         "345",
         "1.5",
         "1",
         "3"
        ]
       ],
       "shape": {
        "columns": 9,
        "rows": 9
       }
      },
      "text/html": [
       "<div>\n",
       "<style scoped>\n",
       "    .dataframe tbody tr th:only-of-type {\n",
       "        vertical-align: middle;\n",
       "    }\n",
       "\n",
       "    .dataframe tbody tr th {\n",
       "        vertical-align: top;\n",
       "    }\n",
       "\n",
       "    .dataframe thead th {\n",
       "        text-align: right;\n",
       "    }\n",
       "</style>\n",
       "<table border=\"1\" class=\"dataframe\">\n",
       "  <thead>\n",
       "    <tr style=\"text-align: right;\">\n",
       "      <th></th>\n",
       "      <th>regiment</th>\n",
       "      <th>company</th>\n",
       "      <th>deaths</th>\n",
       "      <th>battles</th>\n",
       "      <th>size</th>\n",
       "      <th>veterans</th>\n",
       "      <th>readiness</th>\n",
       "      <th>armored</th>\n",
       "      <th>deserters</th>\n",
       "    </tr>\n",
       "    <tr>\n",
       "      <th>origin</th>\n",
       "      <th></th>\n",
       "      <th></th>\n",
       "      <th></th>\n",
       "      <th></th>\n",
       "      <th></th>\n",
       "      <th></th>\n",
       "      <th></th>\n",
       "      <th></th>\n",
       "      <th></th>\n",
       "    </tr>\n",
       "  </thead>\n",
       "  <tbody>\n",
       "    <tr>\n",
       "      <th>Florida</th>\n",
       "      <td>Nighthawks</td>\n",
       "      <td>2nd</td>\n",
       "      <td>616.000000</td>\n",
       "      <td>2</td>\n",
       "      <td>1400</td>\n",
       "      <td>26</td>\n",
       "      <td>2.0</td>\n",
       "      <td>1</td>\n",
       "      <td>2</td>\n",
       "    </tr>\n",
       "    <tr>\n",
       "      <th>Maine</th>\n",
       "      <td>Dragoons</td>\n",
       "      <td>1st</td>\n",
       "      <td>43.000000</td>\n",
       "      <td>4</td>\n",
       "      <td>1592</td>\n",
       "      <td>73</td>\n",
       "      <td>2.0</td>\n",
       "      <td>0</td>\n",
       "      <td>3</td>\n",
       "    </tr>\n",
       "    <tr>\n",
       "      <th>Iowa</th>\n",
       "      <td>Dragoons</td>\n",
       "      <td>1st</td>\n",
       "      <td>234.000000</td>\n",
       "      <td>7</td>\n",
       "      <td>1006</td>\n",
       "      <td>37</td>\n",
       "      <td>2.0</td>\n",
       "      <td>1</td>\n",
       "      <td>4</td>\n",
       "    </tr>\n",
       "    <tr>\n",
       "      <th>Alaska</th>\n",
       "      <td>Dragoons</td>\n",
       "      <td>2nd</td>\n",
       "      <td>523.000000</td>\n",
       "      <td>8</td>\n",
       "      <td>987</td>\n",
       "      <td>949</td>\n",
       "      <td>2.0</td>\n",
       "      <td>0</td>\n",
       "      <td>24</td>\n",
       "    </tr>\n",
       "    <tr>\n",
       "      <th>Washington</th>\n",
       "      <td>Dragoons</td>\n",
       "      <td>2nd</td>\n",
       "      <td>62.000000</td>\n",
       "      <td>3</td>\n",
       "      <td>849</td>\n",
       "      <td>48</td>\n",
       "      <td>2.0</td>\n",
       "      <td>1</td>\n",
       "      <td>31</td>\n",
       "    </tr>\n",
       "    <tr>\n",
       "      <th>Oregon</th>\n",
       "      <td>Scouts</td>\n",
       "      <td>1st</td>\n",
       "      <td>48.333333</td>\n",
       "      <td>4</td>\n",
       "      <td>973</td>\n",
       "      <td>48</td>\n",
       "      <td>1.5</td>\n",
       "      <td>0</td>\n",
       "      <td>2</td>\n",
       "    </tr>\n",
       "    <tr>\n",
       "      <th>Wyoming</th>\n",
       "      <td>Scouts</td>\n",
       "      <td>1st</td>\n",
       "      <td>73.000000</td>\n",
       "      <td>7</td>\n",
       "      <td>1005</td>\n",
       "      <td>435</td>\n",
       "      <td>1.0</td>\n",
       "      <td>0</td>\n",
       "      <td>3</td>\n",
       "    </tr>\n",
       "    <tr>\n",
       "      <th>Louisana</th>\n",
       "      <td>Scouts</td>\n",
       "      <td>2nd</td>\n",
       "      <td>37.000000</td>\n",
       "      <td>8</td>\n",
       "      <td>1099</td>\n",
       "      <td>63</td>\n",
       "      <td>2.0</td>\n",
       "      <td>1</td>\n",
       "      <td>2</td>\n",
       "    </tr>\n",
       "    <tr>\n",
       "      <th>Georgia</th>\n",
       "      <td>Scouts</td>\n",
       "      <td>2nd</td>\n",
       "      <td>35.000000</td>\n",
       "      <td>9</td>\n",
       "      <td>1523</td>\n",
       "      <td>345</td>\n",
       "      <td>1.5</td>\n",
       "      <td>1</td>\n",
       "      <td>3</td>\n",
       "    </tr>\n",
       "  </tbody>\n",
       "</table>\n",
       "</div>"
      ],
      "text/plain": [
       "              regiment company      deaths  battles  size  veterans  \\\n",
       "origin                                                                \n",
       "Florida     Nighthawks     2nd  616.000000        2  1400        26   \n",
       "Maine         Dragoons     1st   43.000000        4  1592        73   \n",
       "Iowa          Dragoons     1st  234.000000        7  1006        37   \n",
       "Alaska        Dragoons     2nd  523.000000        8   987       949   \n",
       "Washington    Dragoons     2nd   62.000000        3   849        48   \n",
       "Oregon          Scouts     1st   48.333333        4   973        48   \n",
       "Wyoming         Scouts     1st   73.000000        7  1005       435   \n",
       "Louisana        Scouts     2nd   37.000000        8  1099        63   \n",
       "Georgia         Scouts     2nd   35.000000        9  1523       345   \n",
       "\n",
       "            readiness  armored  deserters  \n",
       "origin                                     \n",
       "Florida           2.0        1          2  \n",
       "Maine             2.0        0          3  \n",
       "Iowa              2.0        1          4  \n",
       "Alaska            2.0        0         24  \n",
       "Washington        2.0        1         31  \n",
       "Oregon            1.5        0          2  \n",
       "Wyoming           1.0        0          3  \n",
       "Louisana          2.0        1          2  \n",
       "Georgia           1.5        1          3  "
      ]
     },
     "execution_count": 32,
     "metadata": {},
     "output_type": "execute_result"
    }
   ],
   "source": [
    "df.iloc[3:]"
   ]
  },
  {
   "attachments": {},
   "cell_type": "markdown",
   "metadata": {},
   "source": [
    "### Step 9. Select every row up to the 4th row and all columns"
   ]
  },
  {
   "cell_type": "code",
   "execution_count": 18,
   "metadata": {},
   "outputs": [
    {
     "data": {
      "application/vnd.microsoft.datawrangler.viewer.v0+json": {
       "columns": [
        {
         "name": "origin",
         "rawType": "object",
         "type": "string"
        },
        {
         "name": "regiment",
         "rawType": "object",
         "type": "string"
        },
        {
         "name": "company",
         "rawType": "object",
         "type": "string"
        },
        {
         "name": "deaths",
         "rawType": "float64",
         "type": "float"
        },
        {
         "name": "battles",
         "rawType": "int64",
         "type": "integer"
        },
        {
         "name": "size",
         "rawType": "int64",
         "type": "integer"
        },
        {
         "name": "veterans",
         "rawType": "int64",
         "type": "integer"
        },
        {
         "name": "readiness",
         "rawType": "float64",
         "type": "float"
        },
        {
         "name": "armored",
         "rawType": "int64",
         "type": "integer"
        },
        {
         "name": "deserters",
         "rawType": "int64",
         "type": "integer"
        }
       ],
       "conversionMethod": "pd.DataFrame",
       "ref": "335dd412-d1c0-4c94-97d8-9d65801016b7",
       "rows": [
        [
         "Arizona",
         "Nighthawks",
         "1st",
         "523.0",
         "5",
         "1045",
         "1",
         "1.0",
         "1",
         "4"
        ],
        [
         "California",
         "Nighthawks",
         "1st",
         "52.0",
         "42",
         "957",
         "5",
         "2.0",
         "0",
         "24"
        ],
        [
         "Texas",
         "Nighthawks",
         "2nd",
         "25.0",
         "2",
         "1099",
         "62",
         "3.0",
         "1",
         "31"
        ],
        [
         "Florida",
         "Nighthawks",
         "2nd",
         "616.0",
         "2",
         "1400",
         "26",
         "2.0",
         "1",
         "2"
        ]
       ],
       "shape": {
        "columns": 9,
        "rows": 4
       }
      },
      "text/html": [
       "<div>\n",
       "<style scoped>\n",
       "    .dataframe tbody tr th:only-of-type {\n",
       "        vertical-align: middle;\n",
       "    }\n",
       "\n",
       "    .dataframe tbody tr th {\n",
       "        vertical-align: top;\n",
       "    }\n",
       "\n",
       "    .dataframe thead th {\n",
       "        text-align: right;\n",
       "    }\n",
       "</style>\n",
       "<table border=\"1\" class=\"dataframe\">\n",
       "  <thead>\n",
       "    <tr style=\"text-align: right;\">\n",
       "      <th></th>\n",
       "      <th>regiment</th>\n",
       "      <th>company</th>\n",
       "      <th>deaths</th>\n",
       "      <th>battles</th>\n",
       "      <th>size</th>\n",
       "      <th>veterans</th>\n",
       "      <th>readiness</th>\n",
       "      <th>armored</th>\n",
       "      <th>deserters</th>\n",
       "    </tr>\n",
       "    <tr>\n",
       "      <th>origin</th>\n",
       "      <th></th>\n",
       "      <th></th>\n",
       "      <th></th>\n",
       "      <th></th>\n",
       "      <th></th>\n",
       "      <th></th>\n",
       "      <th></th>\n",
       "      <th></th>\n",
       "      <th></th>\n",
       "    </tr>\n",
       "  </thead>\n",
       "  <tbody>\n",
       "    <tr>\n",
       "      <th>Arizona</th>\n",
       "      <td>Nighthawks</td>\n",
       "      <td>1st</td>\n",
       "      <td>523.0</td>\n",
       "      <td>5</td>\n",
       "      <td>1045</td>\n",
       "      <td>1</td>\n",
       "      <td>1.0</td>\n",
       "      <td>1</td>\n",
       "      <td>4</td>\n",
       "    </tr>\n",
       "    <tr>\n",
       "      <th>California</th>\n",
       "      <td>Nighthawks</td>\n",
       "      <td>1st</td>\n",
       "      <td>52.0</td>\n",
       "      <td>42</td>\n",
       "      <td>957</td>\n",
       "      <td>5</td>\n",
       "      <td>2.0</td>\n",
       "      <td>0</td>\n",
       "      <td>24</td>\n",
       "    </tr>\n",
       "    <tr>\n",
       "      <th>Texas</th>\n",
       "      <td>Nighthawks</td>\n",
       "      <td>2nd</td>\n",
       "      <td>25.0</td>\n",
       "      <td>2</td>\n",
       "      <td>1099</td>\n",
       "      <td>62</td>\n",
       "      <td>3.0</td>\n",
       "      <td>1</td>\n",
       "      <td>31</td>\n",
       "    </tr>\n",
       "    <tr>\n",
       "      <th>Florida</th>\n",
       "      <td>Nighthawks</td>\n",
       "      <td>2nd</td>\n",
       "      <td>616.0</td>\n",
       "      <td>2</td>\n",
       "      <td>1400</td>\n",
       "      <td>26</td>\n",
       "      <td>2.0</td>\n",
       "      <td>1</td>\n",
       "      <td>2</td>\n",
       "    </tr>\n",
       "  </tbody>\n",
       "</table>\n",
       "</div>"
      ],
      "text/plain": [
       "              regiment company  deaths  battles  size  veterans  readiness  \\\n",
       "origin                                                                       \n",
       "Arizona     Nighthawks     1st   523.0        5  1045         1        1.0   \n",
       "California  Nighthawks     1st    52.0       42   957         5        2.0   \n",
       "Texas       Nighthawks     2nd    25.0        2  1099        62        3.0   \n",
       "Florida     Nighthawks     2nd   616.0        2  1400        26        2.0   \n",
       "\n",
       "            armored  deserters  \n",
       "origin                          \n",
       "Arizona           1          4  \n",
       "California        0         24  \n",
       "Texas             1         31  \n",
       "Florida           1          2  "
      ]
     },
     "execution_count": 18,
     "metadata": {},
     "output_type": "execute_result"
    }
   ],
   "source": [
    "df.iloc[:4]"
   ]
  },
  {
   "attachments": {},
   "cell_type": "markdown",
   "metadata": {},
   "source": [
    "### Step 10. Select the 3rd column up to the 7th column"
   ]
  },
  {
   "cell_type": "code",
   "execution_count": 19,
   "metadata": {},
   "outputs": [
    {
     "data": {
      "application/vnd.microsoft.datawrangler.viewer.v0+json": {
       "columns": [
        {
         "name": "origin",
         "rawType": "object",
         "type": "string"
        },
        {
         "name": "battles",
         "rawType": "int64",
         "type": "integer"
        },
        {
         "name": "size",
         "rawType": "int64",
         "type": "integer"
        },
        {
         "name": "veterans",
         "rawType": "int64",
         "type": "integer"
        },
        {
         "name": "readiness",
         "rawType": "float64",
         "type": "float"
        }
       ],
       "conversionMethod": "pd.DataFrame",
       "ref": "2da46031-c9cb-40aa-bc67-2e35d97fa168",
       "rows": [
        [
         "Arizona",
         "5",
         "1045",
         "1",
         "1.0"
        ],
        [
         "California",
         "42",
         "957",
         "5",
         "2.0"
        ],
        [
         "Texas",
         "2",
         "1099",
         "62",
         "3.0"
        ],
        [
         "Florida",
         "2",
         "1400",
         "26",
         "2.0"
        ],
        [
         "Maine",
         "4",
         "1592",
         "73",
         "2.0"
        ],
        [
         "Iowa",
         "7",
         "1006",
         "37",
         "2.0"
        ],
        [
         "Alaska",
         "8",
         "987",
         "949",
         "2.0"
        ],
        [
         "Washington",
         "3",
         "849",
         "48",
         "2.0"
        ],
        [
         "Oregon",
         "4",
         "973",
         "48",
         "1.5"
        ],
        [
         "Wyoming",
         "7",
         "1005",
         "435",
         "1.0"
        ],
        [
         "Louisana",
         "8",
         "1099",
         "63",
         "2.0"
        ],
        [
         "Georgia",
         "9",
         "1523",
         "345",
         "1.5"
        ]
       ],
       "shape": {
        "columns": 4,
        "rows": 12
       }
      },
      "text/html": [
       "<div>\n",
       "<style scoped>\n",
       "    .dataframe tbody tr th:only-of-type {\n",
       "        vertical-align: middle;\n",
       "    }\n",
       "\n",
       "    .dataframe tbody tr th {\n",
       "        vertical-align: top;\n",
       "    }\n",
       "\n",
       "    .dataframe thead th {\n",
       "        text-align: right;\n",
       "    }\n",
       "</style>\n",
       "<table border=\"1\" class=\"dataframe\">\n",
       "  <thead>\n",
       "    <tr style=\"text-align: right;\">\n",
       "      <th></th>\n",
       "      <th>battles</th>\n",
       "      <th>size</th>\n",
       "      <th>veterans</th>\n",
       "      <th>readiness</th>\n",
       "    </tr>\n",
       "    <tr>\n",
       "      <th>origin</th>\n",
       "      <th></th>\n",
       "      <th></th>\n",
       "      <th></th>\n",
       "      <th></th>\n",
       "    </tr>\n",
       "  </thead>\n",
       "  <tbody>\n",
       "    <tr>\n",
       "      <th>Arizona</th>\n",
       "      <td>5</td>\n",
       "      <td>1045</td>\n",
       "      <td>1</td>\n",
       "      <td>1.0</td>\n",
       "    </tr>\n",
       "    <tr>\n",
       "      <th>California</th>\n",
       "      <td>42</td>\n",
       "      <td>957</td>\n",
       "      <td>5</td>\n",
       "      <td>2.0</td>\n",
       "    </tr>\n",
       "    <tr>\n",
       "      <th>Texas</th>\n",
       "      <td>2</td>\n",
       "      <td>1099</td>\n",
       "      <td>62</td>\n",
       "      <td>3.0</td>\n",
       "    </tr>\n",
       "    <tr>\n",
       "      <th>Florida</th>\n",
       "      <td>2</td>\n",
       "      <td>1400</td>\n",
       "      <td>26</td>\n",
       "      <td>2.0</td>\n",
       "    </tr>\n",
       "    <tr>\n",
       "      <th>Maine</th>\n",
       "      <td>4</td>\n",
       "      <td>1592</td>\n",
       "      <td>73</td>\n",
       "      <td>2.0</td>\n",
       "    </tr>\n",
       "    <tr>\n",
       "      <th>Iowa</th>\n",
       "      <td>7</td>\n",
       "      <td>1006</td>\n",
       "      <td>37</td>\n",
       "      <td>2.0</td>\n",
       "    </tr>\n",
       "    <tr>\n",
       "      <th>Alaska</th>\n",
       "      <td>8</td>\n",
       "      <td>987</td>\n",
       "      <td>949</td>\n",
       "      <td>2.0</td>\n",
       "    </tr>\n",
       "    <tr>\n",
       "      <th>Washington</th>\n",
       "      <td>3</td>\n",
       "      <td>849</td>\n",
       "      <td>48</td>\n",
       "      <td>2.0</td>\n",
       "    </tr>\n",
       "    <tr>\n",
       "      <th>Oregon</th>\n",
       "      <td>4</td>\n",
       "      <td>973</td>\n",
       "      <td>48</td>\n",
       "      <td>1.5</td>\n",
       "    </tr>\n",
       "    <tr>\n",
       "      <th>Wyoming</th>\n",
       "      <td>7</td>\n",
       "      <td>1005</td>\n",
       "      <td>435</td>\n",
       "      <td>1.0</td>\n",
       "    </tr>\n",
       "    <tr>\n",
       "      <th>Louisana</th>\n",
       "      <td>8</td>\n",
       "      <td>1099</td>\n",
       "      <td>63</td>\n",
       "      <td>2.0</td>\n",
       "    </tr>\n",
       "    <tr>\n",
       "      <th>Georgia</th>\n",
       "      <td>9</td>\n",
       "      <td>1523</td>\n",
       "      <td>345</td>\n",
       "      <td>1.5</td>\n",
       "    </tr>\n",
       "  </tbody>\n",
       "</table>\n",
       "</div>"
      ],
      "text/plain": [
       "            battles  size  veterans  readiness\n",
       "origin                                        \n",
       "Arizona           5  1045         1        1.0\n",
       "California       42   957         5        2.0\n",
       "Texas             2  1099        62        3.0\n",
       "Florida           2  1400        26        2.0\n",
       "Maine             4  1592        73        2.0\n",
       "Iowa              7  1006        37        2.0\n",
       "Alaska            8   987       949        2.0\n",
       "Washington        3   849        48        2.0\n",
       "Oregon            4   973        48        1.5\n",
       "Wyoming           7  1005       435        1.0\n",
       "Louisana          8  1099        63        2.0\n",
       "Georgia           9  1523       345        1.5"
      ]
     },
     "execution_count": 19,
     "metadata": {},
     "output_type": "execute_result"
    }
   ],
   "source": [
    "df[df.columns[3:7]]"
   ]
  },
  {
   "attachments": {},
   "cell_type": "markdown",
   "metadata": {},
   "source": [
    "### Step 11. Select rows where df.deaths is greater than 50"
   ]
  },
  {
   "cell_type": "code",
   "execution_count": 35,
   "metadata": {},
   "outputs": [
    {
     "data": {
      "application/vnd.microsoft.datawrangler.viewer.v0+json": {
       "columns": [
        {
         "name": "origin",
         "rawType": "object",
         "type": "string"
        },
        {
         "name": "regiment",
         "rawType": "object",
         "type": "string"
        },
        {
         "name": "company",
         "rawType": "object",
         "type": "string"
        },
        {
         "name": "deaths",
         "rawType": "float64",
         "type": "float"
        },
        {
         "name": "battles",
         "rawType": "int64",
         "type": "integer"
        },
        {
         "name": "size",
         "rawType": "int64",
         "type": "integer"
        },
        {
         "name": "veterans",
         "rawType": "int64",
         "type": "integer"
        },
        {
         "name": "readiness",
         "rawType": "float64",
         "type": "float"
        },
        {
         "name": "armored",
         "rawType": "int64",
         "type": "integer"
        },
        {
         "name": "deserters",
         "rawType": "int64",
         "type": "integer"
        }
       ],
       "conversionMethod": "pd.DataFrame",
       "ref": "096f0ae2-3b0b-4399-b855-7191e0949b0f",
       "rows": [
        [
         "Arizona",
         "Nighthawks",
         "1st",
         "523.0",
         "5",
         "1045",
         "1",
         "1.0",
         "1",
         "4"
        ],
        [
         "California",
         "Nighthawks",
         "1st",
         "52.0",
         "42",
         "957",
         "5",
         "2.0",
         "0",
         "24"
        ],
        [
         "Florida",
         "Nighthawks",
         "2nd",
         "616.0",
         "2",
         "1400",
         "26",
         "2.0",
         "1",
         "2"
        ],
        [
         "Iowa",
         "Dragoons",
         "1st",
         "234.0",
         "7",
         "1006",
         "37",
         "2.0",
         "1",
         "4"
        ],
        [
         "Alaska",
         "Dragoons",
         "2nd",
         "523.0",
         "8",
         "987",
         "949",
         "2.0",
         "0",
         "24"
        ],
        [
         "Washington",
         "Dragoons",
         "2nd",
         "62.0",
         "3",
         "849",
         "48",
         "2.0",
         "1",
         "31"
        ],
        [
         "Wyoming",
         "Scouts",
         "1st",
         "73.0",
         "7",
         "1005",
         "435",
         "1.0",
         "0",
         "3"
        ]
       ],
       "shape": {
        "columns": 9,
        "rows": 7
       }
      },
      "text/html": [
       "<div>\n",
       "<style scoped>\n",
       "    .dataframe tbody tr th:only-of-type {\n",
       "        vertical-align: middle;\n",
       "    }\n",
       "\n",
       "    .dataframe tbody tr th {\n",
       "        vertical-align: top;\n",
       "    }\n",
       "\n",
       "    .dataframe thead th {\n",
       "        text-align: right;\n",
       "    }\n",
       "</style>\n",
       "<table border=\"1\" class=\"dataframe\">\n",
       "  <thead>\n",
       "    <tr style=\"text-align: right;\">\n",
       "      <th></th>\n",
       "      <th>regiment</th>\n",
       "      <th>company</th>\n",
       "      <th>deaths</th>\n",
       "      <th>battles</th>\n",
       "      <th>size</th>\n",
       "      <th>veterans</th>\n",
       "      <th>readiness</th>\n",
       "      <th>armored</th>\n",
       "      <th>deserters</th>\n",
       "    </tr>\n",
       "    <tr>\n",
       "      <th>origin</th>\n",
       "      <th></th>\n",
       "      <th></th>\n",
       "      <th></th>\n",
       "      <th></th>\n",
       "      <th></th>\n",
       "      <th></th>\n",
       "      <th></th>\n",
       "      <th></th>\n",
       "      <th></th>\n",
       "    </tr>\n",
       "  </thead>\n",
       "  <tbody>\n",
       "    <tr>\n",
       "      <th>Arizona</th>\n",
       "      <td>Nighthawks</td>\n",
       "      <td>1st</td>\n",
       "      <td>523.0</td>\n",
       "      <td>5</td>\n",
       "      <td>1045</td>\n",
       "      <td>1</td>\n",
       "      <td>1.0</td>\n",
       "      <td>1</td>\n",
       "      <td>4</td>\n",
       "    </tr>\n",
       "    <tr>\n",
       "      <th>California</th>\n",
       "      <td>Nighthawks</td>\n",
       "      <td>1st</td>\n",
       "      <td>52.0</td>\n",
       "      <td>42</td>\n",
       "      <td>957</td>\n",
       "      <td>5</td>\n",
       "      <td>2.0</td>\n",
       "      <td>0</td>\n",
       "      <td>24</td>\n",
       "    </tr>\n",
       "    <tr>\n",
       "      <th>Florida</th>\n",
       "      <td>Nighthawks</td>\n",
       "      <td>2nd</td>\n",
       "      <td>616.0</td>\n",
       "      <td>2</td>\n",
       "      <td>1400</td>\n",
       "      <td>26</td>\n",
       "      <td>2.0</td>\n",
       "      <td>1</td>\n",
       "      <td>2</td>\n",
       "    </tr>\n",
       "    <tr>\n",
       "      <th>Iowa</th>\n",
       "      <td>Dragoons</td>\n",
       "      <td>1st</td>\n",
       "      <td>234.0</td>\n",
       "      <td>7</td>\n",
       "      <td>1006</td>\n",
       "      <td>37</td>\n",
       "      <td>2.0</td>\n",
       "      <td>1</td>\n",
       "      <td>4</td>\n",
       "    </tr>\n",
       "    <tr>\n",
       "      <th>Alaska</th>\n",
       "      <td>Dragoons</td>\n",
       "      <td>2nd</td>\n",
       "      <td>523.0</td>\n",
       "      <td>8</td>\n",
       "      <td>987</td>\n",
       "      <td>949</td>\n",
       "      <td>2.0</td>\n",
       "      <td>0</td>\n",
       "      <td>24</td>\n",
       "    </tr>\n",
       "    <tr>\n",
       "      <th>Washington</th>\n",
       "      <td>Dragoons</td>\n",
       "      <td>2nd</td>\n",
       "      <td>62.0</td>\n",
       "      <td>3</td>\n",
       "      <td>849</td>\n",
       "      <td>48</td>\n",
       "      <td>2.0</td>\n",
       "      <td>1</td>\n",
       "      <td>31</td>\n",
       "    </tr>\n",
       "    <tr>\n",
       "      <th>Wyoming</th>\n",
       "      <td>Scouts</td>\n",
       "      <td>1st</td>\n",
       "      <td>73.0</td>\n",
       "      <td>7</td>\n",
       "      <td>1005</td>\n",
       "      <td>435</td>\n",
       "      <td>1.0</td>\n",
       "      <td>0</td>\n",
       "      <td>3</td>\n",
       "    </tr>\n",
       "  </tbody>\n",
       "</table>\n",
       "</div>"
      ],
      "text/plain": [
       "              regiment company  deaths  battles  size  veterans  readiness  \\\n",
       "origin                                                                       \n",
       "Arizona     Nighthawks     1st   523.0        5  1045         1        1.0   \n",
       "California  Nighthawks     1st    52.0       42   957         5        2.0   \n",
       "Florida     Nighthawks     2nd   616.0        2  1400        26        2.0   \n",
       "Iowa          Dragoons     1st   234.0        7  1006        37        2.0   \n",
       "Alaska        Dragoons     2nd   523.0        8   987       949        2.0   \n",
       "Washington    Dragoons     2nd    62.0        3   849        48        2.0   \n",
       "Wyoming         Scouts     1st    73.0        7  1005       435        1.0   \n",
       "\n",
       "            armored  deserters  \n",
       "origin                          \n",
       "Arizona           1          4  \n",
       "California        0         24  \n",
       "Florida           1          2  \n",
       "Iowa              1          4  \n",
       "Alaska            0         24  \n",
       "Washington        1         31  \n",
       "Wyoming           0          3  "
      ]
     },
     "execution_count": 35,
     "metadata": {},
     "output_type": "execute_result"
    }
   ],
   "source": [
    "df[df[\"deaths\"]>50]"
   ]
  },
  {
   "cell_type": "code",
   "execution_count": 34,
   "metadata": {},
   "outputs": [
    {
     "data": {
      "text/plain": [
       "Index(['Arizona', 'California', 'Florida', 'Iowa', 'Alaska', 'Washington',\n",
       "       'Wyoming'],\n",
       "      dtype='object', name='origin')"
      ]
     },
     "execution_count": 34,
     "metadata": {},
     "output_type": "execute_result"
    }
   ],
   "source": [
    "df[df[\"deaths\"]>50].index"
   ]
  },
  {
   "attachments": {},
   "cell_type": "markdown",
   "metadata": {},
   "source": [
    "### Step 12. Select rows where df.deaths is greater than 500 or less than 50"
   ]
  },
  {
   "cell_type": "code",
   "execution_count": 37,
   "metadata": {},
   "outputs": [
    {
     "data": {
      "application/vnd.microsoft.datawrangler.viewer.v0+json": {
       "columns": [
        {
         "name": "origin",
         "rawType": "object",
         "type": "string"
        },
        {
         "name": "regiment",
         "rawType": "object",
         "type": "string"
        },
        {
         "name": "company",
         "rawType": "object",
         "type": "string"
        },
        {
         "name": "deaths",
         "rawType": "float64",
         "type": "float"
        },
        {
         "name": "battles",
         "rawType": "int64",
         "type": "integer"
        },
        {
         "name": "size",
         "rawType": "int64",
         "type": "integer"
        },
        {
         "name": "veterans",
         "rawType": "int64",
         "type": "integer"
        },
        {
         "name": "readiness",
         "rawType": "float64",
         "type": "float"
        },
        {
         "name": "armored",
         "rawType": "int64",
         "type": "integer"
        },
        {
         "name": "deserters",
         "rawType": "int64",
         "type": "integer"
        }
       ],
       "conversionMethod": "pd.DataFrame",
       "ref": "606122b2-6e4e-4f3a-a178-f609fd7c8de3",
       "rows": [
        [
         "Arizona",
         "Nighthawks",
         "1st",
         "523.0",
         "5",
         "1045",
         "1",
         "1.0",
         "1",
         "4"
        ],
        [
         "Texas",
         "Nighthawks",
         "2nd",
         "25.0",
         "2",
         "1099",
         "62",
         "3.0",
         "1",
         "31"
        ],
        [
         "Florida",
         "Nighthawks",
         "2nd",
         "616.0",
         "2",
         "1400",
         "26",
         "2.0",
         "1",
         "2"
        ],
        [
         "Maine",
         "Dragoons",
         "1st",
         "43.0",
         "4",
         "1592",
         "73",
         "2.0",
         "0",
         "3"
        ],
        [
         "Alaska",
         "Dragoons",
         "2nd",
         "523.0",
         "8",
         "987",
         "949",
         "2.0",
         "0",
         "24"
        ],
        [
         "Oregon",
         "Scouts",
         "1st",
         "48.333333333333336",
         "4",
         "973",
         "48",
         "1.5",
         "0",
         "2"
        ],
        [
         "Louisana",
         "Scouts",
         "2nd",
         "37.0",
         "8",
         "1099",
         "63",
         "2.0",
         "1",
         "2"
        ],
        [
         "Georgia",
         "Scouts",
         "2nd",
         "35.0",
         "9",
         "1523",
         "345",
         "1.5",
         "1",
         "3"
        ]
       ],
       "shape": {
        "columns": 9,
        "rows": 8
       }
      },
      "text/html": [
       "<div>\n",
       "<style scoped>\n",
       "    .dataframe tbody tr th:only-of-type {\n",
       "        vertical-align: middle;\n",
       "    }\n",
       "\n",
       "    .dataframe tbody tr th {\n",
       "        vertical-align: top;\n",
       "    }\n",
       "\n",
       "    .dataframe thead th {\n",
       "        text-align: right;\n",
       "    }\n",
       "</style>\n",
       "<table border=\"1\" class=\"dataframe\">\n",
       "  <thead>\n",
       "    <tr style=\"text-align: right;\">\n",
       "      <th></th>\n",
       "      <th>regiment</th>\n",
       "      <th>company</th>\n",
       "      <th>deaths</th>\n",
       "      <th>battles</th>\n",
       "      <th>size</th>\n",
       "      <th>veterans</th>\n",
       "      <th>readiness</th>\n",
       "      <th>armored</th>\n",
       "      <th>deserters</th>\n",
       "    </tr>\n",
       "    <tr>\n",
       "      <th>origin</th>\n",
       "      <th></th>\n",
       "      <th></th>\n",
       "      <th></th>\n",
       "      <th></th>\n",
       "      <th></th>\n",
       "      <th></th>\n",
       "      <th></th>\n",
       "      <th></th>\n",
       "      <th></th>\n",
       "    </tr>\n",
       "  </thead>\n",
       "  <tbody>\n",
       "    <tr>\n",
       "      <th>Arizona</th>\n",
       "      <td>Nighthawks</td>\n",
       "      <td>1st</td>\n",
       "      <td>523.000000</td>\n",
       "      <td>5</td>\n",
       "      <td>1045</td>\n",
       "      <td>1</td>\n",
       "      <td>1.0</td>\n",
       "      <td>1</td>\n",
       "      <td>4</td>\n",
       "    </tr>\n",
       "    <tr>\n",
       "      <th>Texas</th>\n",
       "      <td>Nighthawks</td>\n",
       "      <td>2nd</td>\n",
       "      <td>25.000000</td>\n",
       "      <td>2</td>\n",
       "      <td>1099</td>\n",
       "      <td>62</td>\n",
       "      <td>3.0</td>\n",
       "      <td>1</td>\n",
       "      <td>31</td>\n",
       "    </tr>\n",
       "    <tr>\n",
       "      <th>Florida</th>\n",
       "      <td>Nighthawks</td>\n",
       "      <td>2nd</td>\n",
       "      <td>616.000000</td>\n",
       "      <td>2</td>\n",
       "      <td>1400</td>\n",
       "      <td>26</td>\n",
       "      <td>2.0</td>\n",
       "      <td>1</td>\n",
       "      <td>2</td>\n",
       "    </tr>\n",
       "    <tr>\n",
       "      <th>Maine</th>\n",
       "      <td>Dragoons</td>\n",
       "      <td>1st</td>\n",
       "      <td>43.000000</td>\n",
       "      <td>4</td>\n",
       "      <td>1592</td>\n",
       "      <td>73</td>\n",
       "      <td>2.0</td>\n",
       "      <td>0</td>\n",
       "      <td>3</td>\n",
       "    </tr>\n",
       "    <tr>\n",
       "      <th>Alaska</th>\n",
       "      <td>Dragoons</td>\n",
       "      <td>2nd</td>\n",
       "      <td>523.000000</td>\n",
       "      <td>8</td>\n",
       "      <td>987</td>\n",
       "      <td>949</td>\n",
       "      <td>2.0</td>\n",
       "      <td>0</td>\n",
       "      <td>24</td>\n",
       "    </tr>\n",
       "    <tr>\n",
       "      <th>Oregon</th>\n",
       "      <td>Scouts</td>\n",
       "      <td>1st</td>\n",
       "      <td>48.333333</td>\n",
       "      <td>4</td>\n",
       "      <td>973</td>\n",
       "      <td>48</td>\n",
       "      <td>1.5</td>\n",
       "      <td>0</td>\n",
       "      <td>2</td>\n",
       "    </tr>\n",
       "    <tr>\n",
       "      <th>Louisana</th>\n",
       "      <td>Scouts</td>\n",
       "      <td>2nd</td>\n",
       "      <td>37.000000</td>\n",
       "      <td>8</td>\n",
       "      <td>1099</td>\n",
       "      <td>63</td>\n",
       "      <td>2.0</td>\n",
       "      <td>1</td>\n",
       "      <td>2</td>\n",
       "    </tr>\n",
       "    <tr>\n",
       "      <th>Georgia</th>\n",
       "      <td>Scouts</td>\n",
       "      <td>2nd</td>\n",
       "      <td>35.000000</td>\n",
       "      <td>9</td>\n",
       "      <td>1523</td>\n",
       "      <td>345</td>\n",
       "      <td>1.5</td>\n",
       "      <td>1</td>\n",
       "      <td>3</td>\n",
       "    </tr>\n",
       "  </tbody>\n",
       "</table>\n",
       "</div>"
      ],
      "text/plain": [
       "            regiment company      deaths  battles  size  veterans  readiness  \\\n",
       "origin                                                                         \n",
       "Arizona   Nighthawks     1st  523.000000        5  1045         1        1.0   \n",
       "Texas     Nighthawks     2nd   25.000000        2  1099        62        3.0   \n",
       "Florida   Nighthawks     2nd  616.000000        2  1400        26        2.0   \n",
       "Maine       Dragoons     1st   43.000000        4  1592        73        2.0   \n",
       "Alaska      Dragoons     2nd  523.000000        8   987       949        2.0   \n",
       "Oregon        Scouts     1st   48.333333        4   973        48        1.5   \n",
       "Louisana      Scouts     2nd   37.000000        8  1099        63        2.0   \n",
       "Georgia       Scouts     2nd   35.000000        9  1523       345        1.5   \n",
       "\n",
       "          armored  deserters  \n",
       "origin                        \n",
       "Arizona         1          4  \n",
       "Texas           1         31  \n",
       "Florida         1          2  \n",
       "Maine           0          3  \n",
       "Alaska          0         24  \n",
       "Oregon          0          2  \n",
       "Louisana        1          2  \n",
       "Georgia         1          3  "
      ]
     },
     "execution_count": 37,
     "metadata": {},
     "output_type": "execute_result"
    }
   ],
   "source": [
    "df[(df[\"deaths\"]<50) | (df[\"deaths\"] > 500)]"
   ]
  },
  {
   "cell_type": "code",
   "execution_count": 38,
   "metadata": {},
   "outputs": [
    {
     "data": {
      "text/plain": [
       "Index(['Arizona', 'Texas', 'Florida', 'Maine', 'Alaska', 'Oregon', 'Louisana',\n",
       "       'Georgia'],\n",
       "      dtype='object', name='origin')"
      ]
     },
     "execution_count": 38,
     "metadata": {},
     "output_type": "execute_result"
    }
   ],
   "source": [
    "df[(df[\"deaths\"]<50) | (df[\"deaths\"] > 500)].index"
   ]
  },
  {
   "attachments": {},
   "cell_type": "markdown",
   "metadata": {},
   "source": [
    "### Step 13. Select all the regiments not named \"Dragoons\""
   ]
  },
  {
   "cell_type": "code",
   "execution_count": 39,
   "metadata": {},
   "outputs": [
    {
     "data": {
      "text/plain": [
       "origin\n",
       "Arizona       Nighthawks\n",
       "California    Nighthawks\n",
       "Texas         Nighthawks\n",
       "Florida       Nighthawks\n",
       "Oregon            Scouts\n",
       "Wyoming           Scouts\n",
       "Louisana          Scouts\n",
       "Georgia           Scouts\n",
       "Name: regiment, dtype: object"
      ]
     },
     "execution_count": 39,
     "metadata": {},
     "output_type": "execute_result"
    }
   ],
   "source": [
    "df.regiment[df[\"regiment\"] != \"Dragoons\"]"
   ]
  },
  {
   "attachments": {},
   "cell_type": "markdown",
   "metadata": {},
   "source": [
    "### Step 14. Select the rows called Texas and Arizona"
   ]
  },
  {
   "cell_type": "code",
   "execution_count": 40,
   "metadata": {},
   "outputs": [
    {
     "data": {
      "application/vnd.microsoft.datawrangler.viewer.v0+json": {
       "columns": [
        {
         "name": "origin",
         "rawType": "object",
         "type": "string"
        },
        {
         "name": "regiment",
         "rawType": "object",
         "type": "string"
        },
        {
         "name": "company",
         "rawType": "object",
         "type": "string"
        },
        {
         "name": "deaths",
         "rawType": "float64",
         "type": "float"
        },
        {
         "name": "battles",
         "rawType": "int64",
         "type": "integer"
        },
        {
         "name": "size",
         "rawType": "int64",
         "type": "integer"
        },
        {
         "name": "veterans",
         "rawType": "int64",
         "type": "integer"
        },
        {
         "name": "readiness",
         "rawType": "float64",
         "type": "float"
        },
        {
         "name": "armored",
         "rawType": "int64",
         "type": "integer"
        },
        {
         "name": "deserters",
         "rawType": "int64",
         "type": "integer"
        }
       ],
       "conversionMethod": "pd.DataFrame",
       "ref": "57d59cab-07d6-4e76-bc13-fad6f0fa2772",
       "rows": [
        [
         "Texas",
         "Nighthawks",
         "2nd",
         "25.0",
         "2",
         "1099",
         "62",
         "3.0",
         "1",
         "31"
        ],
        [
         "Arizona",
         "Nighthawks",
         "1st",
         "523.0",
         "5",
         "1045",
         "1",
         "1.0",
         "1",
         "4"
        ]
       ],
       "shape": {
        "columns": 9,
        "rows": 2
       }
      },
      "text/html": [
       "<div>\n",
       "<style scoped>\n",
       "    .dataframe tbody tr th:only-of-type {\n",
       "        vertical-align: middle;\n",
       "    }\n",
       "\n",
       "    .dataframe tbody tr th {\n",
       "        vertical-align: top;\n",
       "    }\n",
       "\n",
       "    .dataframe thead th {\n",
       "        text-align: right;\n",
       "    }\n",
       "</style>\n",
       "<table border=\"1\" class=\"dataframe\">\n",
       "  <thead>\n",
       "    <tr style=\"text-align: right;\">\n",
       "      <th></th>\n",
       "      <th>regiment</th>\n",
       "      <th>company</th>\n",
       "      <th>deaths</th>\n",
       "      <th>battles</th>\n",
       "      <th>size</th>\n",
       "      <th>veterans</th>\n",
       "      <th>readiness</th>\n",
       "      <th>armored</th>\n",
       "      <th>deserters</th>\n",
       "    </tr>\n",
       "    <tr>\n",
       "      <th>origin</th>\n",
       "      <th></th>\n",
       "      <th></th>\n",
       "      <th></th>\n",
       "      <th></th>\n",
       "      <th></th>\n",
       "      <th></th>\n",
       "      <th></th>\n",
       "      <th></th>\n",
       "      <th></th>\n",
       "    </tr>\n",
       "  </thead>\n",
       "  <tbody>\n",
       "    <tr>\n",
       "      <th>Texas</th>\n",
       "      <td>Nighthawks</td>\n",
       "      <td>2nd</td>\n",
       "      <td>25.0</td>\n",
       "      <td>2</td>\n",
       "      <td>1099</td>\n",
       "      <td>62</td>\n",
       "      <td>3.0</td>\n",
       "      <td>1</td>\n",
       "      <td>31</td>\n",
       "    </tr>\n",
       "    <tr>\n",
       "      <th>Arizona</th>\n",
       "      <td>Nighthawks</td>\n",
       "      <td>1st</td>\n",
       "      <td>523.0</td>\n",
       "      <td>5</td>\n",
       "      <td>1045</td>\n",
       "      <td>1</td>\n",
       "      <td>1.0</td>\n",
       "      <td>1</td>\n",
       "      <td>4</td>\n",
       "    </tr>\n",
       "  </tbody>\n",
       "</table>\n",
       "</div>"
      ],
      "text/plain": [
       "           regiment company  deaths  battles  size  veterans  readiness  \\\n",
       "origin                                                                    \n",
       "Texas    Nighthawks     2nd    25.0        2  1099        62        3.0   \n",
       "Arizona  Nighthawks     1st   523.0        5  1045         1        1.0   \n",
       "\n",
       "         armored  deserters  \n",
       "origin                       \n",
       "Texas          1         31  \n",
       "Arizona        1          4  "
      ]
     },
     "execution_count": 40,
     "metadata": {},
     "output_type": "execute_result"
    }
   ],
   "source": [
    "df.loc[[\"Texas\",\"Arizona\"]]"
   ]
  },
  {
   "attachments": {},
   "cell_type": "markdown",
   "metadata": {},
   "source": [
    "### Step 15. Select the third cell in the row named Arizona"
   ]
  },
  {
   "cell_type": "code",
   "execution_count": 41,
   "metadata": {},
   "outputs": [
    {
     "data": {
      "text/plain": [
       "np.float64(523.0)"
      ]
     },
     "execution_count": 41,
     "metadata": {},
     "output_type": "execute_result"
    }
   ],
   "source": [
    "df.loc[\"Arizona\"].iloc[2]"
   ]
  },
  {
   "attachments": {},
   "cell_type": "markdown",
   "metadata": {},
   "source": [
    "### Step 16. Select the third cell down in the column named deaths"
   ]
  },
  {
   "cell_type": "code",
   "execution_count": 42,
   "metadata": {},
   "outputs": [
    {
     "data": {
      "text/plain": [
       "np.float64(25.0)"
      ]
     },
     "execution_count": 42,
     "metadata": {},
     "output_type": "execute_result"
    }
   ],
   "source": [
    "df[\"deaths\"].iloc[2]"
   ]
  }
 ],
 "metadata": {
  "kernelspec": {
   "display_name": "Python 3",
   "language": "python",
   "name": "python3"
  },
  "language_info": {
   "codemirror_mode": {
    "name": "ipython",
    "version": 3
   },
   "file_extension": ".py",
   "mimetype": "text/x-python",
   "name": "python",
   "nbconvert_exporter": "python",
   "pygments_lexer": "ipython3",
   "version": "3.11.9"
  }
 },
 "nbformat": 4,
 "nbformat_minor": 4
}
