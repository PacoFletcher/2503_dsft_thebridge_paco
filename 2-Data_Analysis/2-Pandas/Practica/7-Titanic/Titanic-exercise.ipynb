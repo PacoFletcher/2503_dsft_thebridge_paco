{
 "cells": [
  {
   "attachments": {},
   "cell_type": "markdown",
   "metadata": {},
   "source": [
    "   #                                                  Titanic Exercise \n",
    "\n",
    "   ![titanic](https://userscontent2.emaze.com/images/a5f68f37-6349-4065-a1fc-921cbe7401b2/958230111417e36d6b3c67ffd7bc3494.jpeg)\n",
    "   #### Practise Pandas"
   ]
  },
  {
   "attachments": {},
   "cell_type": "markdown",
   "metadata": {},
   "source": [
    "First of all, import the needed libraries. "
   ]
  },
  {
   "cell_type": "code",
   "execution_count": 4,
   "metadata": {},
   "outputs": [],
   "source": [
    "import numpy as np\n",
    "import pandas as pd"
   ]
  },
  {
   "cell_type": "code",
   "execution_count": 9,
   "metadata": {},
   "outputs": [
    {
     "data": {
      "application/vnd.microsoft.datawrangler.viewer.v0+json": {
       "columns": [
        {
         "name": "index",
         "rawType": "int64",
         "type": "integer"
        },
        {
         "name": "pclass",
         "rawType": "int64",
         "type": "integer"
        },
        {
         "name": "survived",
         "rawType": "int64",
         "type": "integer"
        },
        {
         "name": "name",
         "rawType": "object",
         "type": "string"
        },
        {
         "name": "sex",
         "rawType": "object",
         "type": "string"
        },
        {
         "name": "age",
         "rawType": "float64",
         "type": "float"
        },
        {
         "name": "sibsp",
         "rawType": "int64",
         "type": "integer"
        },
        {
         "name": "parch",
         "rawType": "int64",
         "type": "integer"
        },
        {
         "name": "ticket",
         "rawType": "object",
         "type": "string"
        },
        {
         "name": "fare",
         "rawType": "float64",
         "type": "float"
        },
        {
         "name": "cabin",
         "rawType": "object",
         "type": "unknown"
        },
        {
         "name": "embarked",
         "rawType": "object",
         "type": "unknown"
        },
        {
         "name": "boat",
         "rawType": "object",
         "type": "unknown"
        },
        {
         "name": "body",
         "rawType": "float64",
         "type": "float"
        },
        {
         "name": "home.dest",
         "rawType": "object",
         "type": "unknown"
        }
       ],
       "conversionMethod": "pd.DataFrame",
       "ref": "46a8ce1c-05b6-4544-9e35-c682205fd70e",
       "rows": [
        [
         "0",
         "1",
         "1",
         "Allen, Miss. Elisabeth Walton",
         "female",
         "29.0",
         "0",
         "0",
         "24160",
         "211.3375",
         "B5",
         "S",
         "2",
         null,
         "St Louis, MO"
        ],
        [
         "1",
         "1",
         "1",
         "Allison, Master. Hudson Trevor",
         "male",
         "0.92",
         "1",
         "2",
         "113781",
         "151.55",
         "C22 C26",
         "S",
         "11",
         null,
         "Montreal, PQ / Chesterville, ON"
        ],
        [
         "2",
         "1",
         "0",
         "Allison, Miss. Helen Loraine",
         "female",
         "2.0",
         "1",
         "2",
         "113781",
         "151.55",
         "C22 C26",
         "S",
         null,
         null,
         "Montreal, PQ / Chesterville, ON"
        ],
        [
         "3",
         "1",
         "0",
         "Allison, Mr. Hudson Joshua Creighton",
         "male",
         "30.0",
         "1",
         "2",
         "113781",
         "151.55",
         "C22 C26",
         "S",
         null,
         "135.0",
         "Montreal, PQ / Chesterville, ON"
        ],
        [
         "4",
         "1",
         "0",
         "Allison, Mrs. Hudson J C (Bessie Waldo Daniels)",
         "female",
         "25.0",
         "1",
         "2",
         "113781",
         "151.55",
         "C22 C26",
         "S",
         null,
         null,
         "Montreal, PQ / Chesterville, ON"
        ],
        [
         "5",
         "1",
         "1",
         "Anderson, Mr. Harry",
         "male",
         "48.0",
         "0",
         "0",
         "19952",
         "26.55",
         "E12",
         "S",
         "3",
         null,
         "New York, NY"
        ],
        [
         "6",
         "1",
         "1",
         "Andrews, Miss. Kornelia Theodosia",
         "female",
         "63.0",
         "1",
         "0",
         "13502",
         "77.9583",
         "D7",
         "S",
         "10",
         null,
         "Hudson, NY"
        ],
        [
         "7",
         "1",
         "0",
         "Andrews, Mr. Thomas Jr",
         "male",
         "39.0",
         "0",
         "0",
         "112050",
         "0.0",
         "A36",
         "S",
         null,
         null,
         "Belfast, NI"
        ],
        [
         "8",
         "1",
         "1",
         "Appleton, Mrs. Edward Dale (Charlotte Lamson)",
         "female",
         "53.0",
         "2",
         "0",
         "11769",
         "51.4792",
         "C101",
         "S",
         "D",
         null,
         "Bayside, Queens, NY"
        ],
        [
         "9",
         "1",
         "0",
         "Artagaveytia, Mr. Ramon",
         "male",
         "71.0",
         "0",
         "0",
         "PC 17609",
         "49.5042",
         null,
         "C",
         null,
         "22.0",
         "Montevideo, Uruguay"
        ],
        [
         "10",
         "1",
         "0",
         "Astor, Col. John Jacob",
         "male",
         "47.0",
         "1",
         "0",
         "PC 17757",
         "227.525",
         "C62 C64",
         "C",
         null,
         "124.0",
         "New York, NY"
        ],
        [
         "11",
         "1",
         "1",
         "Astor, Mrs. John Jacob (Madeleine Talmadge Force)",
         "female",
         "18.0",
         "1",
         "0",
         "PC 17757",
         "227.525",
         "C62 C64",
         "C",
         "4",
         null,
         "New York, NY"
        ],
        [
         "12",
         "1",
         "1",
         "Aubart, Mme. Leontine Pauline",
         "female",
         "24.0",
         "0",
         "0",
         "PC 17477",
         "69.3",
         "B35",
         "C",
         "9",
         null,
         "Paris, France"
        ],
        [
         "13",
         "1",
         "1",
         "Barber, Miss. Ellen \"Nellie\"",
         "female",
         "26.0",
         "0",
         "0",
         "19877",
         "78.85",
         null,
         "S",
         "6",
         null,
         null
        ],
        [
         "14",
         "1",
         "1",
         "Barkworth, Mr. Algernon Henry Wilson",
         "male",
         "80.0",
         "0",
         "0",
         "27042",
         "30.0",
         "A23",
         "S",
         "B",
         null,
         "Hessle, Yorks"
        ],
        [
         "15",
         "1",
         "0",
         "Baumann, Mr. John D",
         "male",
         null,
         "0",
         "0",
         "PC 17318",
         "25.925",
         null,
         "S",
         null,
         null,
         "New York, NY"
        ],
        [
         "16",
         "1",
         "0",
         "Baxter, Mr. Quigg Edmond",
         "male",
         "24.0",
         "0",
         "1",
         "PC 17558",
         "247.5208",
         "B58 B60",
         "C",
         null,
         null,
         "Montreal, PQ"
        ],
        [
         "17",
         "1",
         "1",
         "Baxter, Mrs. James (Helene DeLaudeniere Chaput)",
         "female",
         "50.0",
         "0",
         "1",
         "PC 17558",
         "247.5208",
         "B58 B60",
         "C",
         "6",
         null,
         "Montreal, PQ"
        ],
        [
         "18",
         "1",
         "1",
         "Bazzani, Miss. Albina",
         "female",
         "32.0",
         "0",
         "0",
         "11813",
         "76.2917",
         "D15",
         "C",
         "8",
         null,
         null
        ],
        [
         "19",
         "1",
         "0",
         "Beattie, Mr. Thomson",
         "male",
         "36.0",
         "0",
         "0",
         "13050",
         "75.2417",
         "C6",
         "C",
         "A",
         null,
         "Winnipeg, MN"
        ],
        [
         "20",
         "1",
         "1",
         "Beckwith, Mr. Richard Leonard",
         "male",
         "37.0",
         "1",
         "1",
         "11751",
         "52.5542",
         "D35",
         "S",
         "5",
         null,
         "New York, NY"
        ],
        [
         "21",
         "1",
         "1",
         "Beckwith, Mrs. Richard Leonard (Sallie Monypeny)",
         "female",
         "47.0",
         "1",
         "1",
         "11751",
         "52.5542",
         "D35",
         "S",
         "5",
         null,
         "New York, NY"
        ],
        [
         "22",
         "1",
         "1",
         "Behr, Mr. Karl Howell",
         "male",
         "26.0",
         "0",
         "0",
         "111369",
         "30.0",
         "C148",
         "C",
         "5",
         null,
         "New York, NY"
        ],
        [
         "23",
         "1",
         "1",
         "Bidois, Miss. Rosalie",
         "female",
         "42.0",
         "0",
         "0",
         "PC 17757",
         "227.525",
         null,
         "C",
         "4",
         null,
         null
        ],
        [
         "24",
         "1",
         "1",
         "Bird, Miss. Ellen",
         "female",
         "29.0",
         "0",
         "0",
         "PC 17483",
         "221.7792",
         "C97",
         "S",
         "8",
         null,
         null
        ],
        [
         "25",
         "1",
         "0",
         "Birnbaum, Mr. Jakob",
         "male",
         "25.0",
         "0",
         "0",
         "13905",
         "26.0",
         null,
         "C",
         null,
         "148.0",
         "San Francisco, CA"
        ],
        [
         "26",
         "1",
         "1",
         "Bishop, Mr. Dickinson H",
         "male",
         "25.0",
         "1",
         "0",
         "11967",
         "91.0792",
         "B49",
         "C",
         "7",
         null,
         "Dowagiac, MI"
        ],
        [
         "27",
         "1",
         "1",
         "Bishop, Mrs. Dickinson H (Helen Walton)",
         "female",
         "19.0",
         "1",
         "0",
         "11967",
         "91.0792",
         "B49",
         "C",
         "7",
         null,
         "Dowagiac, MI"
        ],
        [
         "28",
         "1",
         "1",
         "Bissette, Miss. Amelia",
         "female",
         "35.0",
         "0",
         "0",
         "PC 17760",
         "135.6333",
         "C99",
         "S",
         "8",
         null,
         null
        ],
        [
         "29",
         "1",
         "1",
         "Bjornstrom-Steffansson, Mr. Mauritz Hakan",
         "male",
         "28.0",
         "0",
         "0",
         "110564",
         "26.55",
         "C52",
         "S",
         "D",
         null,
         "Stockholm, Sweden / Washington, DC"
        ],
        [
         "30",
         "1",
         "0",
         "Blackwell, Mr. Stephen Weart",
         "male",
         "45.0",
         "0",
         "0",
         "113784",
         "35.5",
         "T",
         "S",
         null,
         null,
         "Trenton, NJ"
        ],
        [
         "31",
         "1",
         "1",
         "Blank, Mr. Henry",
         "male",
         "40.0",
         "0",
         "0",
         "112277",
         "31.0",
         "A31",
         "C",
         "7",
         null,
         "Glen Ridge, NJ"
        ],
        [
         "32",
         "1",
         "1",
         "Bonnell, Miss. Caroline",
         "female",
         "30.0",
         "0",
         "0",
         "36928",
         "164.8667",
         "C7",
         "S",
         "8",
         null,
         "Youngstown, OH"
        ],
        [
         "33",
         "1",
         "1",
         "Bonnell, Miss. Elizabeth",
         "female",
         "58.0",
         "0",
         "0",
         "113783",
         "26.55",
         "C103",
         "S",
         "8",
         null,
         "Birkdale, England Cleveland, Ohio"
        ],
        [
         "34",
         "1",
         "0",
         "Borebank, Mr. John James",
         "male",
         "42.0",
         "0",
         "0",
         "110489",
         "26.55",
         "D22",
         "S",
         null,
         null,
         "London / Winnipeg, MB"
        ],
        [
         "35",
         "1",
         "1",
         "Bowen, Miss. Grace Scott",
         "female",
         "45.0",
         "0",
         "0",
         "PC 17608",
         "262.375",
         null,
         "C",
         "4",
         null,
         "Cooperstown, NY"
        ],
        [
         "36",
         "1",
         "1",
         "Bowerman, Miss. Elsie Edith",
         "female",
         "22.0",
         "0",
         "1",
         "113505",
         "55.0",
         "E33",
         "S",
         "6",
         null,
         "St Leonards-on-Sea, England Ohio"
        ],
        [
         "37",
         "1",
         "1",
         "Bradley, Mr. George (\"George Arthur Brayton\")",
         "male",
         null,
         "0",
         "0",
         "111427",
         "26.55",
         null,
         "S",
         "9",
         null,
         "Los Angeles, CA"
        ],
        [
         "38",
         "1",
         "0",
         "Brady, Mr. John Bertram",
         "male",
         "41.0",
         "0",
         "0",
         "113054",
         "30.5",
         "A21",
         "S",
         null,
         null,
         "Pomeroy, WA"
        ],
        [
         "39",
         "1",
         "0",
         "Brandeis, Mr. Emil",
         "male",
         "48.0",
         "0",
         "0",
         "PC 17591",
         "50.4958",
         "B10",
         "C",
         null,
         "208.0",
         "Omaha, NE"
        ],
        [
         "40",
         "1",
         "0",
         "Brewe, Dr. Arthur Jackson",
         "male",
         null,
         "0",
         "0",
         "112379",
         "39.6",
         null,
         "C",
         null,
         null,
         "Philadelphia, PA"
        ],
        [
         "41",
         "1",
         "1",
         "Brown, Mrs. James Joseph (Margaret Tobin)",
         "female",
         "44.0",
         "0",
         "0",
         "PC 17610",
         "27.7208",
         "B4",
         "C",
         "6",
         null,
         "Denver, CO"
        ],
        [
         "42",
         "1",
         "1",
         "Brown, Mrs. John Murray (Caroline Lane Lamson)",
         "female",
         "59.0",
         "2",
         "0",
         "11769",
         "51.4792",
         "C101",
         "S",
         "D",
         null,
         "Belmont, MA"
        ],
        [
         "43",
         "1",
         "1",
         "Bucknell, Mrs. William Robert (Emma Eliza Ward)",
         "female",
         "60.0",
         "0",
         "0",
         "11813",
         "76.2917",
         "D15",
         "C",
         "8",
         null,
         "Philadelphia, PA"
        ],
        [
         "44",
         "1",
         "1",
         "Burns, Miss. Elizabeth Margaret",
         "female",
         "41.0",
         "0",
         "0",
         "16966",
         "134.5",
         "E40",
         "C",
         "3",
         null,
         null
        ],
        [
         "45",
         "1",
         "0",
         "Butt, Major. Archibald Willingham",
         "male",
         "45.0",
         "0",
         "0",
         "113050",
         "26.55",
         "B38",
         "S",
         null,
         null,
         "Washington, DC"
        ],
        [
         "46",
         "1",
         "0",
         "Cairns, Mr. Alexander",
         "male",
         null,
         "0",
         "0",
         "113798",
         "31.0",
         null,
         "S",
         null,
         null,
         null
        ],
        [
         "47",
         "1",
         "1",
         "Calderhead, Mr. Edward Pennington",
         "male",
         "42.0",
         "0",
         "0",
         "PC 17476",
         "26.2875",
         "E24",
         "S",
         "5",
         null,
         "New York, NY"
        ],
        [
         "48",
         "1",
         "1",
         "Candee, Mrs. Edward (Helen Churchill Hungerford)",
         "female",
         "53.0",
         "0",
         "0",
         "PC 17606",
         "27.4458",
         null,
         "C",
         "6",
         null,
         "Washington, DC"
        ],
        [
         "49",
         "1",
         "1",
         "Cardeza, Mr. Thomas Drake Martinez",
         "male",
         "36.0",
         "0",
         "1",
         "PC 17755",
         "512.3292",
         "B51 B53 B55",
         "C",
         "3",
         null,
         "Austria-Hungary / Germantown, Philadelphia, PA"
        ]
       ],
       "shape": {
        "columns": 14,
        "rows": 1309
       }
      },
      "text/html": [
       "<div>\n",
       "<style scoped>\n",
       "    .dataframe tbody tr th:only-of-type {\n",
       "        vertical-align: middle;\n",
       "    }\n",
       "\n",
       "    .dataframe tbody tr th {\n",
       "        vertical-align: top;\n",
       "    }\n",
       "\n",
       "    .dataframe thead th {\n",
       "        text-align: right;\n",
       "    }\n",
       "</style>\n",
       "<table border=\"1\" class=\"dataframe\">\n",
       "  <thead>\n",
       "    <tr style=\"text-align: right;\">\n",
       "      <th></th>\n",
       "      <th>pclass</th>\n",
       "      <th>survived</th>\n",
       "      <th>name</th>\n",
       "      <th>sex</th>\n",
       "      <th>age</th>\n",
       "      <th>sibsp</th>\n",
       "      <th>parch</th>\n",
       "      <th>ticket</th>\n",
       "      <th>fare</th>\n",
       "      <th>cabin</th>\n",
       "      <th>embarked</th>\n",
       "      <th>boat</th>\n",
       "      <th>body</th>\n",
       "      <th>home.dest</th>\n",
       "    </tr>\n",
       "  </thead>\n",
       "  <tbody>\n",
       "    <tr>\n",
       "      <th>0</th>\n",
       "      <td>1</td>\n",
       "      <td>1</td>\n",
       "      <td>Allen, Miss. Elisabeth Walton</td>\n",
       "      <td>female</td>\n",
       "      <td>29.00</td>\n",
       "      <td>0</td>\n",
       "      <td>0</td>\n",
       "      <td>24160</td>\n",
       "      <td>211.3375</td>\n",
       "      <td>B5</td>\n",
       "      <td>S</td>\n",
       "      <td>2</td>\n",
       "      <td>NaN</td>\n",
       "      <td>St Louis, MO</td>\n",
       "    </tr>\n",
       "    <tr>\n",
       "      <th>1</th>\n",
       "      <td>1</td>\n",
       "      <td>1</td>\n",
       "      <td>Allison, Master. Hudson Trevor</td>\n",
       "      <td>male</td>\n",
       "      <td>0.92</td>\n",
       "      <td>1</td>\n",
       "      <td>2</td>\n",
       "      <td>113781</td>\n",
       "      <td>151.5500</td>\n",
       "      <td>C22 C26</td>\n",
       "      <td>S</td>\n",
       "      <td>11</td>\n",
       "      <td>NaN</td>\n",
       "      <td>Montreal, PQ / Chesterville, ON</td>\n",
       "    </tr>\n",
       "    <tr>\n",
       "      <th>2</th>\n",
       "      <td>1</td>\n",
       "      <td>0</td>\n",
       "      <td>Allison, Miss. Helen Loraine</td>\n",
       "      <td>female</td>\n",
       "      <td>2.00</td>\n",
       "      <td>1</td>\n",
       "      <td>2</td>\n",
       "      <td>113781</td>\n",
       "      <td>151.5500</td>\n",
       "      <td>C22 C26</td>\n",
       "      <td>S</td>\n",
       "      <td>NaN</td>\n",
       "      <td>NaN</td>\n",
       "      <td>Montreal, PQ / Chesterville, ON</td>\n",
       "    </tr>\n",
       "    <tr>\n",
       "      <th>3</th>\n",
       "      <td>1</td>\n",
       "      <td>0</td>\n",
       "      <td>Allison, Mr. Hudson Joshua Creighton</td>\n",
       "      <td>male</td>\n",
       "      <td>30.00</td>\n",
       "      <td>1</td>\n",
       "      <td>2</td>\n",
       "      <td>113781</td>\n",
       "      <td>151.5500</td>\n",
       "      <td>C22 C26</td>\n",
       "      <td>S</td>\n",
       "      <td>NaN</td>\n",
       "      <td>135.0</td>\n",
       "      <td>Montreal, PQ / Chesterville, ON</td>\n",
       "    </tr>\n",
       "    <tr>\n",
       "      <th>4</th>\n",
       "      <td>1</td>\n",
       "      <td>0</td>\n",
       "      <td>Allison, Mrs. Hudson J C (Bessie Waldo Daniels)</td>\n",
       "      <td>female</td>\n",
       "      <td>25.00</td>\n",
       "      <td>1</td>\n",
       "      <td>2</td>\n",
       "      <td>113781</td>\n",
       "      <td>151.5500</td>\n",
       "      <td>C22 C26</td>\n",
       "      <td>S</td>\n",
       "      <td>NaN</td>\n",
       "      <td>NaN</td>\n",
       "      <td>Montreal, PQ / Chesterville, ON</td>\n",
       "    </tr>\n",
       "    <tr>\n",
       "      <th>...</th>\n",
       "      <td>...</td>\n",
       "      <td>...</td>\n",
       "      <td>...</td>\n",
       "      <td>...</td>\n",
       "      <td>...</td>\n",
       "      <td>...</td>\n",
       "      <td>...</td>\n",
       "      <td>...</td>\n",
       "      <td>...</td>\n",
       "      <td>...</td>\n",
       "      <td>...</td>\n",
       "      <td>...</td>\n",
       "      <td>...</td>\n",
       "      <td>...</td>\n",
       "    </tr>\n",
       "    <tr>\n",
       "      <th>1304</th>\n",
       "      <td>3</td>\n",
       "      <td>0</td>\n",
       "      <td>Zabour, Miss. Hileni</td>\n",
       "      <td>female</td>\n",
       "      <td>14.50</td>\n",
       "      <td>1</td>\n",
       "      <td>0</td>\n",
       "      <td>2665</td>\n",
       "      <td>14.4542</td>\n",
       "      <td>NaN</td>\n",
       "      <td>C</td>\n",
       "      <td>NaN</td>\n",
       "      <td>328.0</td>\n",
       "      <td>NaN</td>\n",
       "    </tr>\n",
       "    <tr>\n",
       "      <th>1305</th>\n",
       "      <td>3</td>\n",
       "      <td>0</td>\n",
       "      <td>Zabour, Miss. Thamine</td>\n",
       "      <td>female</td>\n",
       "      <td>NaN</td>\n",
       "      <td>1</td>\n",
       "      <td>0</td>\n",
       "      <td>2665</td>\n",
       "      <td>14.4542</td>\n",
       "      <td>NaN</td>\n",
       "      <td>C</td>\n",
       "      <td>NaN</td>\n",
       "      <td>NaN</td>\n",
       "      <td>NaN</td>\n",
       "    </tr>\n",
       "    <tr>\n",
       "      <th>1306</th>\n",
       "      <td>3</td>\n",
       "      <td>0</td>\n",
       "      <td>Zakarian, Mr. Mapriededer</td>\n",
       "      <td>male</td>\n",
       "      <td>26.50</td>\n",
       "      <td>0</td>\n",
       "      <td>0</td>\n",
       "      <td>2656</td>\n",
       "      <td>7.2250</td>\n",
       "      <td>NaN</td>\n",
       "      <td>C</td>\n",
       "      <td>NaN</td>\n",
       "      <td>304.0</td>\n",
       "      <td>NaN</td>\n",
       "    </tr>\n",
       "    <tr>\n",
       "      <th>1307</th>\n",
       "      <td>3</td>\n",
       "      <td>0</td>\n",
       "      <td>Zakarian, Mr. Ortin</td>\n",
       "      <td>male</td>\n",
       "      <td>27.00</td>\n",
       "      <td>0</td>\n",
       "      <td>0</td>\n",
       "      <td>2670</td>\n",
       "      <td>7.2250</td>\n",
       "      <td>NaN</td>\n",
       "      <td>C</td>\n",
       "      <td>NaN</td>\n",
       "      <td>NaN</td>\n",
       "      <td>NaN</td>\n",
       "    </tr>\n",
       "    <tr>\n",
       "      <th>1308</th>\n",
       "      <td>3</td>\n",
       "      <td>0</td>\n",
       "      <td>Zimmerman, Mr. Leo</td>\n",
       "      <td>male</td>\n",
       "      <td>29.00</td>\n",
       "      <td>0</td>\n",
       "      <td>0</td>\n",
       "      <td>315082</td>\n",
       "      <td>7.8750</td>\n",
       "      <td>NaN</td>\n",
       "      <td>S</td>\n",
       "      <td>NaN</td>\n",
       "      <td>NaN</td>\n",
       "      <td>NaN</td>\n",
       "    </tr>\n",
       "  </tbody>\n",
       "</table>\n",
       "<p>1309 rows × 14 columns</p>\n",
       "</div>"
      ],
      "text/plain": [
       "      pclass  survived                                             name  \\\n",
       "0          1         1                    Allen, Miss. Elisabeth Walton   \n",
       "1          1         1                   Allison, Master. Hudson Trevor   \n",
       "2          1         0                     Allison, Miss. Helen Loraine   \n",
       "3          1         0             Allison, Mr. Hudson Joshua Creighton   \n",
       "4          1         0  Allison, Mrs. Hudson J C (Bessie Waldo Daniels)   \n",
       "...      ...       ...                                              ...   \n",
       "1304       3         0                             Zabour, Miss. Hileni   \n",
       "1305       3         0                            Zabour, Miss. Thamine   \n",
       "1306       3         0                        Zakarian, Mr. Mapriededer   \n",
       "1307       3         0                              Zakarian, Mr. Ortin   \n",
       "1308       3         0                               Zimmerman, Mr. Leo   \n",
       "\n",
       "         sex    age  sibsp  parch  ticket      fare    cabin embarked boat  \\\n",
       "0     female  29.00      0      0   24160  211.3375       B5        S    2   \n",
       "1       male   0.92      1      2  113781  151.5500  C22 C26        S   11   \n",
       "2     female   2.00      1      2  113781  151.5500  C22 C26        S  NaN   \n",
       "3       male  30.00      1      2  113781  151.5500  C22 C26        S  NaN   \n",
       "4     female  25.00      1      2  113781  151.5500  C22 C26        S  NaN   \n",
       "...      ...    ...    ...    ...     ...       ...      ...      ...  ...   \n",
       "1304  female  14.50      1      0    2665   14.4542      NaN        C  NaN   \n",
       "1305  female    NaN      1      0    2665   14.4542      NaN        C  NaN   \n",
       "1306    male  26.50      0      0    2656    7.2250      NaN        C  NaN   \n",
       "1307    male  27.00      0      0    2670    7.2250      NaN        C  NaN   \n",
       "1308    male  29.00      0      0  315082    7.8750      NaN        S  NaN   \n",
       "\n",
       "       body                        home.dest  \n",
       "0       NaN                     St Louis, MO  \n",
       "1       NaN  Montreal, PQ / Chesterville, ON  \n",
       "2       NaN  Montreal, PQ / Chesterville, ON  \n",
       "3     135.0  Montreal, PQ / Chesterville, ON  \n",
       "4       NaN  Montreal, PQ / Chesterville, ON  \n",
       "...     ...                              ...  \n",
       "1304  328.0                              NaN  \n",
       "1305    NaN                              NaN  \n",
       "1306  304.0                              NaN  \n",
       "1307    NaN                              NaN  \n",
       "1308    NaN                              NaN  \n",
       "\n",
       "[1309 rows x 14 columns]"
      ]
     },
     "execution_count": 9,
     "metadata": {},
     "output_type": "execute_result"
    }
   ],
   "source": [
    "titanic = pd.read_csv(\"./data/titanic.csv\")\n",
    "titanic"
   ]
  },
  {
   "attachments": {},
   "cell_type": "markdown",
   "metadata": {},
   "source": [
    "1. Read in filename and call the variable `titanic`\n",
    "    - Explore the `titanic` dataset using `info`, `dtypes` & `describe`\n",
    " "
   ]
  },
  {
   "attachments": {},
   "cell_type": "markdown",
   "metadata": {},
   "source": [
    "2. Create a separate dataframe with the columns `['name', 'sex', 'age']`, call it `people`\n",
    "\n",
    "It can be done two ways, do it both!"
   ]
  },
  {
   "attachments": {},
   "cell_type": "markdown",
   "metadata": {},
   "source": [
    "3. Print the output of `people` showing the first three rows and the last four rows, using `append`,`tail` and `head`"
   ]
  },
  {
   "attachments": {},
   "cell_type": "markdown",
   "metadata": {},
   "source": [
    "4. Slice the row from 3 to 9, call it `s_titanic`"
   ]
  },
  {
   "attachments": {},
   "cell_type": "markdown",
   "metadata": {},
   "source": [
    "5. Slice the row from 40 to 63 in reverse order, call it `s_titanic_rev`"
   ]
  },
  {
   "attachments": {},
   "cell_type": "markdown",
   "metadata": {},
   "source": [
    "6. Slice the columns from the starting column to `'parch'`, call it `left_columns`"
   ]
  },
  {
   "attachments": {},
   "cell_type": "markdown",
   "metadata": {},
   "source": [
    "7. Slice the columns from `'name'` to `'age'`, call it `middle_columns`"
   ]
  },
  {
   "attachments": {},
   "cell_type": "markdown",
   "metadata": {},
   "source": [
    "8. Slice the columns from `'ticket'` to the end, call it `right_columns`"
   ]
  },
  {
   "attachments": {},
   "cell_type": "markdown",
   "metadata": {},
   "source": [
    "9. What is the name of the oldest person who died in the Titanic? Was he or she travelling alone or had any family travelling with them?  \n",
    "\n"
   ]
  },
  {
   "attachments": {},
   "cell_type": "markdown",
   "metadata": {},
   "source": [
    "In order to give an answer to the second question you should find out which columns give you that info. Usually part of your job as a Data Scientist will be get to know the dataset which you are working with. In this case the columns which give you that info are the following: \n",
    "        - 'sibsp' Number of Siblings/Spouses Aboard\n",
    "        - 'parch' Number of Parents/Children Aboard"
   ]
  },
  {
   "attachments": {},
   "cell_type": "markdown",
   "metadata": {},
   "source": [
    "10. Create the list of 5 random numbers of rows from 0 to the lenght of the dataframe, call it `rows`\n",
    "\n",
    "ex. `rows = [3,7,99,52,48]` use `random` library\n",
    "\n"
   ]
  },
  {
   "attachments": {},
   "cell_type": "markdown",
   "metadata": {},
   "source": [
    "This list of numbers are random, could be different.\n"
   ]
  },
  {
   "attachments": {},
   "cell_type": "markdown",
   "metadata": {},
   "source": [
    "11. Create the list of three column labels, call it `cols`\n"
   ]
  },
  {
   "attachments": {},
   "cell_type": "markdown",
   "metadata": {},
   "source": [
    "12. Use both lists `rows` and `cols` to create a new dataframe"
   ]
  },
  {
   "attachments": {},
   "cell_type": "markdown",
   "metadata": {},
   "source": [
    "13. Create a boolean array with the condition of being a woman or a man, using the `sex` column, where **female** is True. Call it `array_fe`"
   ]
  },
  {
   "attachments": {},
   "cell_type": "markdown",
   "metadata": {},
   "source": [
    "14. Rename the column `\"sex\"` to `\"gender\"` and filter the `titanic` dataframe with the boolean array, call it `woman_titanic`"
   ]
  },
  {
   "attachments": {},
   "cell_type": "markdown",
   "metadata": {},
   "source": [
    "15. How many woman were younger than 18? Call the variable `minor_wo`"
   ]
  },
  {
   "attachments": {},
   "cell_type": "markdown",
   "metadata": {},
   "source": [
    "16. How many woman that were less than 18 actually died? Call the variable `dead_wo`"
   ]
  },
  {
   "attachments": {},
   "cell_type": "markdown",
   "metadata": {},
   "source": [
    "17. Drop rows with *Nan* in `titanic` with `how='any'` and print the shape\n",
    "\n"
   ]
  },
  {
   "attachments": {},
   "cell_type": "markdown",
   "metadata": {},
   "source": [
    "18. Drop rows with *Nan* in `titanic` with `how='all'` and print the shape\n"
   ]
  },
  {
   "attachments": {},
   "cell_type": "markdown",
   "metadata": {},
   "source": [
    "Check in [here](https://pandas.pydata.org/pandas-docs/stable/reference/api/pandas.DataFrame.dropna.html) why the shapes are different."
   ]
  },
  {
   "attachments": {},
   "cell_type": "markdown",
   "metadata": {},
   "source": [
    "19. Drop columns in `titanic` with more than 1000 missing values and print the columns remaining"
   ]
  },
  {
   "attachments": {},
   "cell_type": "markdown",
   "metadata": {},
   "source": [
    "20. Calculate the ratio of missing values at the `boat` column. "
   ]
  },
  {
   "attachments": {},
   "cell_type": "markdown",
   "metadata": {},
   "source": [
    "21.  Group `titanic` by `'pclass'` and aggregate by the columns `age` & `fare`, by `max` and `median` and assign it to `by_class`\n"
   ]
  },
  {
   "attachments": {},
   "cell_type": "markdown",
   "metadata": {},
   "source": [
    "22. Print the maximum age in each class from `by_class`"
   ]
  },
  {
   "attachments": {},
   "cell_type": "markdown",
   "metadata": {},
   "source": [
    "23. Print the median fare in each class from `by_class`"
   ]
  },
  {
   "attachments": {},
   "cell_type": "markdown",
   "metadata": {},
   "source": [
    "24. Using [`.pivot_table()`](https://pandas.pydata.org/pandas-docs/stable/reference/api/pandas.pivot_table.html) to count how many women or men survived by class, call it `counted`.\n",
    "\n",
    "Don't panic and read the documentation!\n",
    "\n",
    "\n"
   ]
  },
  {
   "attachments": {},
   "cell_type": "markdown",
   "metadata": {},
   "source": [
    "25. Add a new column with the sum of survived men and women, call it `counted['total']` \n"
   ]
  },
  {
   "attachments": {},
   "cell_type": "markdown",
   "metadata": {},
   "source": [
    "26. Sort `counted` by the `'total'` column. In which class the people survived the most?"
   ]
  },
  {
   "attachments": {},
   "cell_type": "markdown",
   "metadata": {},
   "source": [
    "27. Please, show only the rows using a mask with the following conditions: \n",
    "    - They are woman\n",
    "    - From third class\n",
    "    - Younger than 30\n",
    "    - They survived\n",
    "    \n",
    "    ¿How many rows fulfill the condition?"
   ]
  },
  {
   "attachments": {},
   "cell_type": "markdown",
   "metadata": {},
   "source": [
    "28. Now, show only the rows using `.loc` with the following conditions: \n",
    "    - They are man\n",
    "    - From first class\n",
    "    - Older than 50\n",
    "    - They died\n",
    "    \n",
    "    ¿How many rows fulfill the condition?"
   ]
  },
  {
   "attachments": {},
   "cell_type": "markdown",
   "metadata": {},
   "source": [
    "29. Print the uniques values at the column `'name'`"
   ]
  },
  {
   "attachments": {},
   "cell_type": "markdown",
   "metadata": {},
   "source": [
    "30. Find if was there any `name` repeated at the Titanic?\n",
    "\n",
    "Hint: There were two people with the same name, who?"
   ]
  },
  {
   "attachments": {},
   "cell_type": "markdown",
   "metadata": {},
   "source": [
    "31. Using `matplotlib` find the appropriate visualization to show the distribution of the column `'age'`"
   ]
  },
  {
   "attachments": {},
   "cell_type": "markdown",
   "metadata": {},
   "source": [
    "32. Using `matplotlib` find the appropriate plot to visualize the column `'gender'`"
   ]
  },
  {
   "attachments": {},
   "cell_type": "markdown",
   "metadata": {},
   "source": [
    "32b. What if you also plot the column `'gender'` using the function [`countplot`](https://seaborn.pydata.org/generated/seaborn.countplot.html) from the library [`seaborn`](https://seaborn.pydata.org/)?\n",
    "\n",
    "Remember you have never used `seaborn` before, therefore you should install it before importing it."
   ]
  },
  {
   "attachments": {},
   "cell_type": "markdown",
   "metadata": {},
   "source": [
    "33. Using the function [`catplot`](https://seaborn.pydata.org/generated/seaborn.catplot.html) from the library `seaborn`, find out if the hypothesis _\"Women are more likely to survive shipwrecks\"_ is true or not.\n"
   ]
  },
  {
   "attachments": {},
   "cell_type": "markdown",
   "metadata": {},
   "source": [
    "34. Using [`kdeplot`](\"https://seaborn.pydata.org/generated/seaborn.kdeplot.html\") from `seaborn` represent those who not survived distributed by age.<>\n",
    "\n",
    "Hint: First you should \"filter\" the `titanic` dataset where the column \"survived\" is 0, indexing the column `\"age\"` only.\n",
    "\n",
    "Arguments you should pass to the function: \n",
    "\n",
    "    - color = \"red\"\n",
    "    - label = \"Not Survived\"\n",
    "    - shade = True\n",
    "    \n",
    "You should get something like this: "
   ]
  },
  {
   "attachments": {},
   "cell_type": "markdown",
   "metadata": {},
   "source": [
    "![kdeplot](./img/kdeplotsur.png)"
   ]
  }
 ],
 "metadata": {
  "kernelspec": {
   "display_name": "Python 3",
   "language": "python",
   "name": "python3"
  },
  "language_info": {
   "codemirror_mode": {
    "name": "ipython",
    "version": 3
   },
   "file_extension": ".py",
   "mimetype": "text/x-python",
   "name": "python",
   "nbconvert_exporter": "python",
   "pygments_lexer": "ipython3",
   "version": "3.11.9"
  }
 },
 "nbformat": 4,
 "nbformat_minor": 4
}
